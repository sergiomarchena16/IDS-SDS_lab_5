{
 "cells": [
  {
   "cell_type": "markdown",
   "id": "b437ac80",
   "metadata": {},
   "source": [
    "# Lab 5. Packages analysis - IDS\n",
    "Sergio Marchena - 16387\n",
    "\n",
    "\n",
    "2022"
   ]
  },
  {
   "cell_type": "markdown",
   "id": "fa6989d6",
   "metadata": {},
   "source": [
    "## parte 1 - análisis de paquetes "
   ]
  },
  {
   "cell_type": "markdown",
   "id": "38ad3a86",
   "metadata": {},
   "source": [
    "1. Capture 100 paquetes con la herramienta scapy, imprima el tipo de datos, la longitud y el contenido del pcap "
   ]
  },
  {
   "cell_type": "code",
   "execution_count": null,
   "id": "fe45f56b",
   "metadata": {},
   "outputs": [],
   "source": []
  }
 ],
 "metadata": {
  "kernelspec": {
   "display_name": "Python 3 (ipykernel)",
   "language": "python",
   "name": "python3"
  },
  "language_info": {
   "codemirror_mode": {
    "name": "ipython",
    "version": 3
   },
   "file_extension": ".py",
   "mimetype": "text/x-python",
   "name": "python",
   "nbconvert_exporter": "python",
   "pygments_lexer": "ipython3",
   "version": "3.10.2"
  }
 },
 "nbformat": 4,
 "nbformat_minor": 5
}
