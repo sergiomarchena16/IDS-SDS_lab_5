{
  "nbformat": 4,
  "nbformat_minor": 0,
  "metadata": {
    "colab": {
      "name": "lab5_ids.ipynb",
      "provenance": [],
      "collapsed_sections": [
        "Addrm6Rf3Gc3",
        "cMIWAPbU3QnC",
        "43R63Qvx8Bse",
        "_FlYUlh49SEB",
        "PFwkLb9T9mRA",
        "eJewqhXtCmAB",
        "v519vskHEDrw",
        "ehTbi270GEEf",
        "xyWyXDyZGW7f",
        "3cxrGTJCI4tE"
      ]
    },
    "kernelspec": {
      "name": "python3",
      "display_name": "Python 3"
    },
    "language_info": {
      "name": "python"
    }
  },
  "cells": [
    {
      "cell_type": "markdown",
      "source": [
        "# Lab 5 - analisis de paquetes en la red IDS\n",
        "Sergio Marchena -16387\n",
        "\n",
        "2022"
      ],
      "metadata": {
        "id": "CmnunOQX2tig"
      }
    },
    {
      "cell_type": "code",
      "execution_count": 1,
      "metadata": {
        "colab": {
          "base_uri": "https://localhost:8080/"
        },
        "id": "U_tt4LXC2bM4",
        "outputId": "ac80404a-ab5e-4560-9330-6eaaa4cf846e"
      },
      "outputs": [
        {
          "output_type": "stream",
          "name": "stdout",
          "text": [
            "Collecting scapy\n",
            "  Downloading scapy-2.4.5.tar.gz (1.1 MB)\n",
            "\u001b[?25l\r\u001b[K     |▎                               | 10 kB 14.1 MB/s eta 0:00:01\r\u001b[K     |▋                               | 20 kB 18.1 MB/s eta 0:00:01\r\u001b[K     |▉                               | 30 kB 4.7 MB/s eta 0:00:01\r\u001b[K     |█▏                              | 40 kB 5.9 MB/s eta 0:00:01\r\u001b[K     |█▌                              | 51 kB 6.4 MB/s eta 0:00:01\r\u001b[K     |█▊                              | 61 kB 7.5 MB/s eta 0:00:01\r\u001b[K     |██                              | 71 kB 7.3 MB/s eta 0:00:01\r\u001b[K     |██▍                             | 81 kB 6.5 MB/s eta 0:00:01\r\u001b[K     |██▋                             | 92 kB 7.2 MB/s eta 0:00:01\r\u001b[K     |███                             | 102 kB 5.0 MB/s eta 0:00:01\r\u001b[K     |███▎                            | 112 kB 5.0 MB/s eta 0:00:01\r\u001b[K     |███▌                            | 122 kB 5.0 MB/s eta 0:00:01\r\u001b[K     |███▉                            | 133 kB 5.0 MB/s eta 0:00:01\r\u001b[K     |████▏                           | 143 kB 5.0 MB/s eta 0:00:01\r\u001b[K     |████▍                           | 153 kB 5.0 MB/s eta 0:00:01\r\u001b[K     |████▊                           | 163 kB 5.0 MB/s eta 0:00:01\r\u001b[K     |█████                           | 174 kB 5.0 MB/s eta 0:00:01\r\u001b[K     |█████▎                          | 184 kB 5.0 MB/s eta 0:00:01\r\u001b[K     |█████▋                          | 194 kB 5.0 MB/s eta 0:00:01\r\u001b[K     |██████                          | 204 kB 5.0 MB/s eta 0:00:01\r\u001b[K     |██████▏                         | 215 kB 5.0 MB/s eta 0:00:01\r\u001b[K     |██████▌                         | 225 kB 5.0 MB/s eta 0:00:01\r\u001b[K     |██████▉                         | 235 kB 5.0 MB/s eta 0:00:01\r\u001b[K     |███████                         | 245 kB 5.0 MB/s eta 0:00:01\r\u001b[K     |███████▍                        | 256 kB 5.0 MB/s eta 0:00:01\r\u001b[K     |███████▋                        | 266 kB 5.0 MB/s eta 0:00:01\r\u001b[K     |████████                        | 276 kB 5.0 MB/s eta 0:00:01\r\u001b[K     |████████▎                       | 286 kB 5.0 MB/s eta 0:00:01\r\u001b[K     |████████▌                       | 296 kB 5.0 MB/s eta 0:00:01\r\u001b[K     |████████▉                       | 307 kB 5.0 MB/s eta 0:00:01\r\u001b[K     |█████████▏                      | 317 kB 5.0 MB/s eta 0:00:01\r\u001b[K     |█████████▍                      | 327 kB 5.0 MB/s eta 0:00:01\r\u001b[K     |█████████▊                      | 337 kB 5.0 MB/s eta 0:00:01\r\u001b[K     |██████████                      | 348 kB 5.0 MB/s eta 0:00:01\r\u001b[K     |██████████▎                     | 358 kB 5.0 MB/s eta 0:00:01\r\u001b[K     |██████████▋                     | 368 kB 5.0 MB/s eta 0:00:01\r\u001b[K     |███████████                     | 378 kB 5.0 MB/s eta 0:00:01\r\u001b[K     |███████████▏                    | 389 kB 5.0 MB/s eta 0:00:01\r\u001b[K     |███████████▌                    | 399 kB 5.0 MB/s eta 0:00:01\r\u001b[K     |███████████▉                    | 409 kB 5.0 MB/s eta 0:00:01\r\u001b[K     |████████████                    | 419 kB 5.0 MB/s eta 0:00:01\r\u001b[K     |████████████▍                   | 430 kB 5.0 MB/s eta 0:00:01\r\u001b[K     |████████████▊                   | 440 kB 5.0 MB/s eta 0:00:01\r\u001b[K     |█████████████                   | 450 kB 5.0 MB/s eta 0:00:01\r\u001b[K     |█████████████▎                  | 460 kB 5.0 MB/s eta 0:00:01\r\u001b[K     |█████████████▋                  | 471 kB 5.0 MB/s eta 0:00:01\r\u001b[K     |█████████████▉                  | 481 kB 5.0 MB/s eta 0:00:01\r\u001b[K     |██████████████▏                 | 491 kB 5.0 MB/s eta 0:00:01\r\u001b[K     |██████████████▍                 | 501 kB 5.0 MB/s eta 0:00:01\r\u001b[K     |██████████████▊                 | 512 kB 5.0 MB/s eta 0:00:01\r\u001b[K     |███████████████                 | 522 kB 5.0 MB/s eta 0:00:01\r\u001b[K     |███████████████▎                | 532 kB 5.0 MB/s eta 0:00:01\r\u001b[K     |███████████████▋                | 542 kB 5.0 MB/s eta 0:00:01\r\u001b[K     |████████████████                | 552 kB 5.0 MB/s eta 0:00:01\r\u001b[K     |████████████████▏               | 563 kB 5.0 MB/s eta 0:00:01\r\u001b[K     |████████████████▌               | 573 kB 5.0 MB/s eta 0:00:01\r\u001b[K     |████████████████▉               | 583 kB 5.0 MB/s eta 0:00:01\r\u001b[K     |█████████████████               | 593 kB 5.0 MB/s eta 0:00:01\r\u001b[K     |█████████████████▍              | 604 kB 5.0 MB/s eta 0:00:01\r\u001b[K     |█████████████████▊              | 614 kB 5.0 MB/s eta 0:00:01\r\u001b[K     |██████████████████              | 624 kB 5.0 MB/s eta 0:00:01\r\u001b[K     |██████████████████▎             | 634 kB 5.0 MB/s eta 0:00:01\r\u001b[K     |██████████████████▋             | 645 kB 5.0 MB/s eta 0:00:01\r\u001b[K     |██████████████████▉             | 655 kB 5.0 MB/s eta 0:00:01\r\u001b[K     |███████████████████▏            | 665 kB 5.0 MB/s eta 0:00:01\r\u001b[K     |███████████████████▌            | 675 kB 5.0 MB/s eta 0:00:01\r\u001b[K     |███████████████████▊            | 686 kB 5.0 MB/s eta 0:00:01\r\u001b[K     |████████████████████            | 696 kB 5.0 MB/s eta 0:00:01\r\u001b[K     |████████████████████▍           | 706 kB 5.0 MB/s eta 0:00:01\r\u001b[K     |████████████████████▋           | 716 kB 5.0 MB/s eta 0:00:01\r\u001b[K     |█████████████████████           | 727 kB 5.0 MB/s eta 0:00:01\r\u001b[K     |█████████████████████▏          | 737 kB 5.0 MB/s eta 0:00:01\r\u001b[K     |█████████████████████▌          | 747 kB 5.0 MB/s eta 0:00:01\r\u001b[K     |█████████████████████▉          | 757 kB 5.0 MB/s eta 0:00:01\r\u001b[K     |██████████████████████          | 768 kB 5.0 MB/s eta 0:00:01\r\u001b[K     |██████████████████████▍         | 778 kB 5.0 MB/s eta 0:00:01\r\u001b[K     |██████████████████████▊         | 788 kB 5.0 MB/s eta 0:00:01\r\u001b[K     |███████████████████████         | 798 kB 5.0 MB/s eta 0:00:01\r\u001b[K     |███████████████████████▎        | 808 kB 5.0 MB/s eta 0:00:01\r\u001b[K     |███████████████████████▋        | 819 kB 5.0 MB/s eta 0:00:01\r\u001b[K     |███████████████████████▉        | 829 kB 5.0 MB/s eta 0:00:01\r\u001b[K     |████████████████████████▏       | 839 kB 5.0 MB/s eta 0:00:01\r\u001b[K     |████████████████████████▌       | 849 kB 5.0 MB/s eta 0:00:01\r\u001b[K     |████████████████████████▊       | 860 kB 5.0 MB/s eta 0:00:01\r\u001b[K     |█████████████████████████       | 870 kB 5.0 MB/s eta 0:00:01\r\u001b[K     |█████████████████████████▍      | 880 kB 5.0 MB/s eta 0:00:01\r\u001b[K     |█████████████████████████▋      | 890 kB 5.0 MB/s eta 0:00:01\r\u001b[K     |██████████████████████████      | 901 kB 5.0 MB/s eta 0:00:01\r\u001b[K     |██████████████████████████▎     | 911 kB 5.0 MB/s eta 0:00:01\r\u001b[K     |██████████████████████████▌     | 921 kB 5.0 MB/s eta 0:00:01\r\u001b[K     |██████████████████████████▉     | 931 kB 5.0 MB/s eta 0:00:01\r\u001b[K     |███████████████████████████▏    | 942 kB 5.0 MB/s eta 0:00:01\r\u001b[K     |███████████████████████████▍    | 952 kB 5.0 MB/s eta 0:00:01\r\u001b[K     |███████████████████████████▊    | 962 kB 5.0 MB/s eta 0:00:01\r\u001b[K     |████████████████████████████    | 972 kB 5.0 MB/s eta 0:00:01\r\u001b[K     |████████████████████████████▎   | 983 kB 5.0 MB/s eta 0:00:01\r\u001b[K     |████████████████████████████▋   | 993 kB 5.0 MB/s eta 0:00:01\r\u001b[K     |████████████████████████████▉   | 1.0 MB 5.0 MB/s eta 0:00:01\r\u001b[K     |█████████████████████████████▏  | 1.0 MB 5.0 MB/s eta 0:00:01\r\u001b[K     |█████████████████████████████▌  | 1.0 MB 5.0 MB/s eta 0:00:01\r\u001b[K     |█████████████████████████████▊  | 1.0 MB 5.0 MB/s eta 0:00:01\r\u001b[K     |██████████████████████████████  | 1.0 MB 5.0 MB/s eta 0:00:01\r\u001b[K     |██████████████████████████████▍ | 1.1 MB 5.0 MB/s eta 0:00:01\r\u001b[K     |██████████████████████████████▋ | 1.1 MB 5.0 MB/s eta 0:00:01\r\u001b[K     |███████████████████████████████ | 1.1 MB 5.0 MB/s eta 0:00:01\r\u001b[K     |███████████████████████████████▎| 1.1 MB 5.0 MB/s eta 0:00:01\r\u001b[K     |███████████████████████████████▌| 1.1 MB 5.0 MB/s eta 0:00:01\r\u001b[K     |███████████████████████████████▉| 1.1 MB 5.0 MB/s eta 0:00:01\r\u001b[K     |████████████████████████████████| 1.1 MB 5.0 MB/s \n",
            "\u001b[?25hBuilding wheels for collected packages: scapy\n",
            "  Building wheel for scapy (setup.py) ... \u001b[?25l\u001b[?25hdone\n",
            "  Created wheel for scapy: filename=scapy-2.4.5-py2.py3-none-any.whl size=1261555 sha256=a95b8da4c3dd56e91ad1b9f2e9218fe200755195dc9a1cf9bc650a3f0bedd6ab\n",
            "  Stored in directory: /root/.cache/pip/wheels/b9/6e/c0/0157e466a5e02d3ff28fc7587dff329b4a967a23b3f9b11385\n",
            "Successfully built scapy\n",
            "Installing collected packages: scapy\n",
            "Successfully installed scapy-2.4.5\n"
          ]
        }
      ],
      "source": [
        "pip install scapy"
      ]
    },
    {
      "cell_type": "code",
      "source": [
        "#pip install hvplot"
      ],
      "metadata": {
        "id": "IgUbRKwMq9HF"
      },
      "execution_count": 2,
      "outputs": []
    },
    {
      "cell_type": "code",
      "source": [
        "from scapy.all import * # Packet manipulation\n",
        "import pandas as pd \n",
        "import numpy as np\n",
        "import binascii # Binary to Ascii \n",
        "import seaborn as sns\n",
        "#import hvplot.pandas\n",
        "#import holoviews as hv\n",
        "#hv.extension('bokeh')"
      ],
      "metadata": {
        "id": "HtJ1Dp_n2dsx"
      },
      "execution_count": 3,
      "outputs": []
    },
    {
      "cell_type": "markdown",
      "source": [
        "## 1. Capture 100 paquetes con la herramienta scapy, imprima el tipo de datos, la longitud y el  contenido del pcap."
      ],
      "metadata": {
        "id": "Addrm6Rf3Gc3"
      }
    },
    {
      "cell_type": "code",
      "source": [
        "num_of_packets_to_sniff = 10\n",
        "pcap = sniff(count=num_of_packets_to_sniff)\n",
        "\n",
        "print(type(pcap))\n",
        "print(len(pcap))\n",
        "print(pcap)"
      ],
      "metadata": {
        "colab": {
          "base_uri": "https://localhost:8080/"
        },
        "id": "u_15qQHB2i7x",
        "outputId": "3462fe4c-25d8-42e8-f65b-cee93a69e25c"
      },
      "execution_count": 101,
      "outputs": [
        {
          "output_type": "stream",
          "name": "stdout",
          "text": [
            "<class 'scapy.plist.PacketList'>\n",
            "10\n",
            "<Sniffed: TCP:10 UDP:0 ICMP:0 Other:0>\n"
          ]
        }
      ]
    },
    {
      "cell_type": "markdown",
      "source": [
        "## 2. Añada al pcap de 100 paquetes el archivo analisis_paquetes.pcap "
      ],
      "metadata": {
        "id": "cMIWAPbU3QnC"
      }
    },
    {
      "cell_type": "code",
      "source": [
        "# ?\n",
        "f = rdpcap(\"/content/drive/MyDrive/UVG /2022/SECURITY DATA SCIENCE/LAb5/analisis_paquetes.pcap\")\n",
        "nuevo_PCAP = pcap + f\n",
        "\n",
        "nuevo_PCAP"
      ],
      "metadata": {
        "colab": {
          "base_uri": "https://localhost:8080/"
        },
        "id": "UKjBj0S65X5-",
        "outputId": "39116055-27fe-4d36-d108-71fbef4a9e3c"
      },
      "execution_count": 102,
      "outputs": [
        {
          "output_type": "execute_result",
          "data": {
            "text/plain": [
              "<Sniffed+analisis_paquetes.pcap: TCP:10 UDP:62 ICMP:0 Other:0>"
            ]
          },
          "metadata": {},
          "execution_count": 102
        }
      ]
    },
    {
      "cell_type": "markdown",
      "source": [
        "## 3. Convierta el pcap a un DataFrame."
      ],
      "metadata": {
        "id": "43R63Qvx8Bse"
      }
    },
    {
      "cell_type": "code",
      "source": [
        "from scapy.layers.l2 import Ether\n",
        "from scapy.layers.inet import IP,TCP, UDP"
      ],
      "metadata": {
        "id": "PLMO77Pd81xf"
      },
      "execution_count": 103,
      "outputs": []
    },
    {
      "cell_type": "code",
      "source": [
        "# Obtenemos los campos de IP/TCP/UDP que seran las columnas de nuestro DF\n",
        "ip_fields = [field.name for field in IP().fields_desc]\n",
        "tcp_fields = [field.name for field in TCP().fields_desc]\n",
        "udp_fields = [field.name for field in UDP().fields_desc]\n",
        "\n",
        "#Concatenamos todos los campos\n",
        "dataframe_fields = ip_fields + ['time'] + tcp_fields + ['payload','payload_raw','payload_hex']\n",
        "\n",
        "# Creamos un DF en blanco con los campos como columnas\n",
        "df = pd.DataFrame(columns=dataframe_fields)\n",
        "for packet in nuevo_PCAP[IP]:\n",
        "    # Obtenemos los valores de los campos de cada fila\n",
        "    field_values = []\n",
        "    # A;adimos todos los valores de los campos de IP al df\n",
        "    for field in ip_fields:\n",
        "        if field == 'options':\n",
        "            # Obtenemos el numero de opciones del IP Header\n",
        "            field_values.append(len(packet[IP].fields[field]))\n",
        "        else:\n",
        "            field_values.append(packet[IP].fields[field])\n",
        "    \n",
        "    field_values.append(packet.time)\n",
        "    \n",
        "    layer_type = type(packet[IP].payload)\n",
        "    for field in tcp_fields:\n",
        "        try:\n",
        "            if field == 'options':\n",
        "                field_values.append(len(packet[layer_type].fields[field]))\n",
        "            else:\n",
        "                field_values.append(packet[layer_type].fields[field])\n",
        "        except:\n",
        "            field_values.append(None)\n",
        "    \n",
        "    # Agregamos el payload\n",
        "    field_values.append(len(packet[layer_type].payload))\n",
        "    field_values.append(packet[layer_type].payload.original)\n",
        "    field_values.append(binascii.hexlify(packet[layer_type].payload.original))\n",
        "    # Agregamos la fila al df\n",
        "    df_append = pd.DataFrame([field_values], columns=dataframe_fields)\n",
        "    df = pd.concat([df, df_append], axis=0)\n",
        "\n",
        "# Reset Index\n",
        "df = df.reset_index()\n",
        "# Drop old index column\n",
        "df = df.drop(columns=\"index\")\n",
        "\n",
        "df"
      ],
      "metadata": {
        "colab": {
          "base_uri": "https://localhost:8080/",
          "height": 517
        },
        "id": "9jCbziz88AW_",
        "outputId": "78648890-ba06-4b87-f4a8-403909622a8f"
      },
      "execution_count": 104,
      "outputs": [
        {
          "output_type": "execute_result",
          "data": {
            "text/plain": [
              "   version ihl tos  len     id flags frag  ttl proto chksum  ... dataofs  \\\n",
              "0        4   5   0  450  25647    DF    0   64     6  31947  ...       8   \n",
              "1        4   5   0   52   6196    DF    0   64     6  51796  ...       8   \n",
              "2        4   5   0  772   6197    DF    0   64     6  51075  ...       8   \n",
              "3        4   5   0   52  25648    DF    0   64     6  32344  ...       8   \n",
              "4        4   5   0  554  25649    DF    0   64     6  31841  ...       8   \n",
              "..     ...  ..  ..  ...    ...   ...  ...  ...   ...    ...  ...     ...   \n",
              "67       4   5  32   84   8744          0  122    17  64011  ...    None   \n",
              "68       4   5   0  969      1          0   64    17  21214  ...    None   \n",
              "69       4   5  32   84   9344          0  122    17  63411  ...    None   \n",
              "70       4   5   0  588      1          0   64    17  21595  ...    None   \n",
              "71       4   5  32   84  10094          0  122    17  62661  ...    None   \n",
              "\n",
              "   reserved flags window chksum urgptr options payload  \\\n",
              "0         0    PA    501  23024      0       3     398   \n",
              "1         0     A    501  22626      0       3       0   \n",
              "2         0    PA    501  23346      0       3     720   \n",
              "3         0     A    501  22626      0       3       0   \n",
              "4         0    PA    501  23128      0       3     502   \n",
              "..      ...   ...    ...    ...    ...     ...     ...   \n",
              "67     None  None   None  65088   None    None      56   \n",
              "68     None  None   None    671   None    None     941   \n",
              "69     None  None   None  65089   None    None      56   \n",
              "70     None  None   None  54406   None    None     560   \n",
              "71     None  None   None  65090   None    None      56   \n",
              "\n",
              "                                          payload_raw  \\\n",
              "0   b'GET /socket.io/?EIO=3&sid=70SBRrm1txUmLPK3AA...   \n",
              "1                                                 b''   \n",
              "2   b'HTTP/1.1 200 OK\\r\\nContent-Type: text/plain;...   \n",
              "3                                                 b''   \n",
              "4   b'POST /socket.io/?EIO=3&sid=70SBRrm1txUmLPK3A...   \n",
              "..                                                ...   \n",
              "67  b'\\x00\\x0c\\x81\\x80\\x00\\x01\\x00\\x01\\x00\\x00\\x00...   \n",
              "68  b'\\x00\\x0c\\x01\\x00\\x00\\x01\\x00\\x00\\x00\\x00\\x00...   \n",
              "69  b'\\x00\\x0c\\x81\\x80\\x00\\x01\\x00\\x01\\x00\\x00\\x00...   \n",
              "70  b'\\x00\\x0c\\x01\\x00\\x00\\x01\\x00\\x00\\x00\\x00\\x00...   \n",
              "71  b'\\x00\\x0c\\x81\\x80\\x00\\x01\\x00\\x01\\x00\\x00\\x00...   \n",
              "\n",
              "                                          payload_hex  \n",
              "0   b'474554202f736f636b65742e696f2f3f45494f3d3326...  \n",
              "1                                                 b''  \n",
              "2   b'485454502f312e3120323030204f4b0d0a436f6e7465...  \n",
              "3                                                 b''  \n",
              "4   b'504f5354202f736f636b65742e696f2f3f45494f3d33...  \n",
              "..                                                ...  \n",
              "67  b'000c8180000100010000000006676f6f676c6503636f...  \n",
              "68  b'000c0100000100000000000006676f6f676c6503636f...  \n",
              "69  b'000c8180000100010000000006676f6f676c6503636f...  \n",
              "70  b'000c0100000100000000000006676f6f676c6503636f...  \n",
              "71  b'000c8180000100010000000006676f6f676c6503636f...  \n",
              "\n",
              "[72 rows x 28 columns]"
            ],
            "text/html": [
              "\n",
              "  <div id=\"df-a34ccdcf-1428-4b4e-bdaa-e5c133f0d8e0\">\n",
              "    <div class=\"colab-df-container\">\n",
              "      <div>\n",
              "<style scoped>\n",
              "    .dataframe tbody tr th:only-of-type {\n",
              "        vertical-align: middle;\n",
              "    }\n",
              "\n",
              "    .dataframe tbody tr th {\n",
              "        vertical-align: top;\n",
              "    }\n",
              "\n",
              "    .dataframe thead th {\n",
              "        text-align: right;\n",
              "    }\n",
              "</style>\n",
              "<table border=\"1\" class=\"dataframe\">\n",
              "  <thead>\n",
              "    <tr style=\"text-align: right;\">\n",
              "      <th></th>\n",
              "      <th>version</th>\n",
              "      <th>ihl</th>\n",
              "      <th>tos</th>\n",
              "      <th>len</th>\n",
              "      <th>id</th>\n",
              "      <th>flags</th>\n",
              "      <th>frag</th>\n",
              "      <th>ttl</th>\n",
              "      <th>proto</th>\n",
              "      <th>chksum</th>\n",
              "      <th>...</th>\n",
              "      <th>dataofs</th>\n",
              "      <th>reserved</th>\n",
              "      <th>flags</th>\n",
              "      <th>window</th>\n",
              "      <th>chksum</th>\n",
              "      <th>urgptr</th>\n",
              "      <th>options</th>\n",
              "      <th>payload</th>\n",
              "      <th>payload_raw</th>\n",
              "      <th>payload_hex</th>\n",
              "    </tr>\n",
              "  </thead>\n",
              "  <tbody>\n",
              "    <tr>\n",
              "      <th>0</th>\n",
              "      <td>4</td>\n",
              "      <td>5</td>\n",
              "      <td>0</td>\n",
              "      <td>450</td>\n",
              "      <td>25647</td>\n",
              "      <td>DF</td>\n",
              "      <td>0</td>\n",
              "      <td>64</td>\n",
              "      <td>6</td>\n",
              "      <td>31947</td>\n",
              "      <td>...</td>\n",
              "      <td>8</td>\n",
              "      <td>0</td>\n",
              "      <td>PA</td>\n",
              "      <td>501</td>\n",
              "      <td>23024</td>\n",
              "      <td>0</td>\n",
              "      <td>3</td>\n",
              "      <td>398</td>\n",
              "      <td>b'GET /socket.io/?EIO=3&amp;sid=70SBRrm1txUmLPK3AA...</td>\n",
              "      <td>b'474554202f736f636b65742e696f2f3f45494f3d3326...</td>\n",
              "    </tr>\n",
              "    <tr>\n",
              "      <th>1</th>\n",
              "      <td>4</td>\n",
              "      <td>5</td>\n",
              "      <td>0</td>\n",
              "      <td>52</td>\n",
              "      <td>6196</td>\n",
              "      <td>DF</td>\n",
              "      <td>0</td>\n",
              "      <td>64</td>\n",
              "      <td>6</td>\n",
              "      <td>51796</td>\n",
              "      <td>...</td>\n",
              "      <td>8</td>\n",
              "      <td>0</td>\n",
              "      <td>A</td>\n",
              "      <td>501</td>\n",
              "      <td>22626</td>\n",
              "      <td>0</td>\n",
              "      <td>3</td>\n",
              "      <td>0</td>\n",
              "      <td>b''</td>\n",
              "      <td>b''</td>\n",
              "    </tr>\n",
              "    <tr>\n",
              "      <th>2</th>\n",
              "      <td>4</td>\n",
              "      <td>5</td>\n",
              "      <td>0</td>\n",
              "      <td>772</td>\n",
              "      <td>6197</td>\n",
              "      <td>DF</td>\n",
              "      <td>0</td>\n",
              "      <td>64</td>\n",
              "      <td>6</td>\n",
              "      <td>51075</td>\n",
              "      <td>...</td>\n",
              "      <td>8</td>\n",
              "      <td>0</td>\n",
              "      <td>PA</td>\n",
              "      <td>501</td>\n",
              "      <td>23346</td>\n",
              "      <td>0</td>\n",
              "      <td>3</td>\n",
              "      <td>720</td>\n",
              "      <td>b'HTTP/1.1 200 OK\\r\\nContent-Type: text/plain;...</td>\n",
              "      <td>b'485454502f312e3120323030204f4b0d0a436f6e7465...</td>\n",
              "    </tr>\n",
              "    <tr>\n",
              "      <th>3</th>\n",
              "      <td>4</td>\n",
              "      <td>5</td>\n",
              "      <td>0</td>\n",
              "      <td>52</td>\n",
              "      <td>25648</td>\n",
              "      <td>DF</td>\n",
              "      <td>0</td>\n",
              "      <td>64</td>\n",
              "      <td>6</td>\n",
              "      <td>32344</td>\n",
              "      <td>...</td>\n",
              "      <td>8</td>\n",
              "      <td>0</td>\n",
              "      <td>A</td>\n",
              "      <td>501</td>\n",
              "      <td>22626</td>\n",
              "      <td>0</td>\n",
              "      <td>3</td>\n",
              "      <td>0</td>\n",
              "      <td>b''</td>\n",
              "      <td>b''</td>\n",
              "    </tr>\n",
              "    <tr>\n",
              "      <th>4</th>\n",
              "      <td>4</td>\n",
              "      <td>5</td>\n",
              "      <td>0</td>\n",
              "      <td>554</td>\n",
              "      <td>25649</td>\n",
              "      <td>DF</td>\n",
              "      <td>0</td>\n",
              "      <td>64</td>\n",
              "      <td>6</td>\n",
              "      <td>31841</td>\n",
              "      <td>...</td>\n",
              "      <td>8</td>\n",
              "      <td>0</td>\n",
              "      <td>PA</td>\n",
              "      <td>501</td>\n",
              "      <td>23128</td>\n",
              "      <td>0</td>\n",
              "      <td>3</td>\n",
              "      <td>502</td>\n",
              "      <td>b'POST /socket.io/?EIO=3&amp;sid=70SBRrm1txUmLPK3A...</td>\n",
              "      <td>b'504f5354202f736f636b65742e696f2f3f45494f3d33...</td>\n",
              "    </tr>\n",
              "    <tr>\n",
              "      <th>...</th>\n",
              "      <td>...</td>\n",
              "      <td>...</td>\n",
              "      <td>...</td>\n",
              "      <td>...</td>\n",
              "      <td>...</td>\n",
              "      <td>...</td>\n",
              "      <td>...</td>\n",
              "      <td>...</td>\n",
              "      <td>...</td>\n",
              "      <td>...</td>\n",
              "      <td>...</td>\n",
              "      <td>...</td>\n",
              "      <td>...</td>\n",
              "      <td>...</td>\n",
              "      <td>...</td>\n",
              "      <td>...</td>\n",
              "      <td>...</td>\n",
              "      <td>...</td>\n",
              "      <td>...</td>\n",
              "      <td>...</td>\n",
              "      <td>...</td>\n",
              "    </tr>\n",
              "    <tr>\n",
              "      <th>67</th>\n",
              "      <td>4</td>\n",
              "      <td>5</td>\n",
              "      <td>32</td>\n",
              "      <td>84</td>\n",
              "      <td>8744</td>\n",
              "      <td></td>\n",
              "      <td>0</td>\n",
              "      <td>122</td>\n",
              "      <td>17</td>\n",
              "      <td>64011</td>\n",
              "      <td>...</td>\n",
              "      <td>None</td>\n",
              "      <td>None</td>\n",
              "      <td>None</td>\n",
              "      <td>None</td>\n",
              "      <td>65088</td>\n",
              "      <td>None</td>\n",
              "      <td>None</td>\n",
              "      <td>56</td>\n",
              "      <td>b'\\x00\\x0c\\x81\\x80\\x00\\x01\\x00\\x01\\x00\\x00\\x00...</td>\n",
              "      <td>b'000c8180000100010000000006676f6f676c6503636f...</td>\n",
              "    </tr>\n",
              "    <tr>\n",
              "      <th>68</th>\n",
              "      <td>4</td>\n",
              "      <td>5</td>\n",
              "      <td>0</td>\n",
              "      <td>969</td>\n",
              "      <td>1</td>\n",
              "      <td></td>\n",
              "      <td>0</td>\n",
              "      <td>64</td>\n",
              "      <td>17</td>\n",
              "      <td>21214</td>\n",
              "      <td>...</td>\n",
              "      <td>None</td>\n",
              "      <td>None</td>\n",
              "      <td>None</td>\n",
              "      <td>None</td>\n",
              "      <td>671</td>\n",
              "      <td>None</td>\n",
              "      <td>None</td>\n",
              "      <td>941</td>\n",
              "      <td>b'\\x00\\x0c\\x01\\x00\\x00\\x01\\x00\\x00\\x00\\x00\\x00...</td>\n",
              "      <td>b'000c0100000100000000000006676f6f676c6503636f...</td>\n",
              "    </tr>\n",
              "    <tr>\n",
              "      <th>69</th>\n",
              "      <td>4</td>\n",
              "      <td>5</td>\n",
              "      <td>32</td>\n",
              "      <td>84</td>\n",
              "      <td>9344</td>\n",
              "      <td></td>\n",
              "      <td>0</td>\n",
              "      <td>122</td>\n",
              "      <td>17</td>\n",
              "      <td>63411</td>\n",
              "      <td>...</td>\n",
              "      <td>None</td>\n",
              "      <td>None</td>\n",
              "      <td>None</td>\n",
              "      <td>None</td>\n",
              "      <td>65089</td>\n",
              "      <td>None</td>\n",
              "      <td>None</td>\n",
              "      <td>56</td>\n",
              "      <td>b'\\x00\\x0c\\x81\\x80\\x00\\x01\\x00\\x01\\x00\\x00\\x00...</td>\n",
              "      <td>b'000c8180000100010000000006676f6f676c6503636f...</td>\n",
              "    </tr>\n",
              "    <tr>\n",
              "      <th>70</th>\n",
              "      <td>4</td>\n",
              "      <td>5</td>\n",
              "      <td>0</td>\n",
              "      <td>588</td>\n",
              "      <td>1</td>\n",
              "      <td></td>\n",
              "      <td>0</td>\n",
              "      <td>64</td>\n",
              "      <td>17</td>\n",
              "      <td>21595</td>\n",
              "      <td>...</td>\n",
              "      <td>None</td>\n",
              "      <td>None</td>\n",
              "      <td>None</td>\n",
              "      <td>None</td>\n",
              "      <td>54406</td>\n",
              "      <td>None</td>\n",
              "      <td>None</td>\n",
              "      <td>560</td>\n",
              "      <td>b'\\x00\\x0c\\x01\\x00\\x00\\x01\\x00\\x00\\x00\\x00\\x00...</td>\n",
              "      <td>b'000c0100000100000000000006676f6f676c6503636f...</td>\n",
              "    </tr>\n",
              "    <tr>\n",
              "      <th>71</th>\n",
              "      <td>4</td>\n",
              "      <td>5</td>\n",
              "      <td>32</td>\n",
              "      <td>84</td>\n",
              "      <td>10094</td>\n",
              "      <td></td>\n",
              "      <td>0</td>\n",
              "      <td>122</td>\n",
              "      <td>17</td>\n",
              "      <td>62661</td>\n",
              "      <td>...</td>\n",
              "      <td>None</td>\n",
              "      <td>None</td>\n",
              "      <td>None</td>\n",
              "      <td>None</td>\n",
              "      <td>65090</td>\n",
              "      <td>None</td>\n",
              "      <td>None</td>\n",
              "      <td>56</td>\n",
              "      <td>b'\\x00\\x0c\\x81\\x80\\x00\\x01\\x00\\x01\\x00\\x00\\x00...</td>\n",
              "      <td>b'000c8180000100010000000006676f6f676c6503636f...</td>\n",
              "    </tr>\n",
              "  </tbody>\n",
              "</table>\n",
              "<p>72 rows × 28 columns</p>\n",
              "</div>\n",
              "      <button class=\"colab-df-convert\" onclick=\"convertToInteractive('df-a34ccdcf-1428-4b4e-bdaa-e5c133f0d8e0')\"\n",
              "              title=\"Convert this dataframe to an interactive table.\"\n",
              "              style=\"display:none;\">\n",
              "        \n",
              "  <svg xmlns=\"http://www.w3.org/2000/svg\" height=\"24px\"viewBox=\"0 0 24 24\"\n",
              "       width=\"24px\">\n",
              "    <path d=\"M0 0h24v24H0V0z\" fill=\"none\"/>\n",
              "    <path d=\"M18.56 5.44l.94 2.06.94-2.06 2.06-.94-2.06-.94-.94-2.06-.94 2.06-2.06.94zm-11 1L8.5 8.5l.94-2.06 2.06-.94-2.06-.94L8.5 2.5l-.94 2.06-2.06.94zm10 10l.94 2.06.94-2.06 2.06-.94-2.06-.94-.94-2.06-.94 2.06-2.06.94z\"/><path d=\"M17.41 7.96l-1.37-1.37c-.4-.4-.92-.59-1.43-.59-.52 0-1.04.2-1.43.59L10.3 9.45l-7.72 7.72c-.78.78-.78 2.05 0 2.83L4 21.41c.39.39.9.59 1.41.59.51 0 1.02-.2 1.41-.59l7.78-7.78 2.81-2.81c.8-.78.8-2.07 0-2.86zM5.41 20L4 18.59l7.72-7.72 1.47 1.35L5.41 20z\"/>\n",
              "  </svg>\n",
              "      </button>\n",
              "      \n",
              "  <style>\n",
              "    .colab-df-container {\n",
              "      display:flex;\n",
              "      flex-wrap:wrap;\n",
              "      gap: 12px;\n",
              "    }\n",
              "\n",
              "    .colab-df-convert {\n",
              "      background-color: #E8F0FE;\n",
              "      border: none;\n",
              "      border-radius: 50%;\n",
              "      cursor: pointer;\n",
              "      display: none;\n",
              "      fill: #1967D2;\n",
              "      height: 32px;\n",
              "      padding: 0 0 0 0;\n",
              "      width: 32px;\n",
              "    }\n",
              "\n",
              "    .colab-df-convert:hover {\n",
              "      background-color: #E2EBFA;\n",
              "      box-shadow: 0px 1px 2px rgba(60, 64, 67, 0.3), 0px 1px 3px 1px rgba(60, 64, 67, 0.15);\n",
              "      fill: #174EA6;\n",
              "    }\n",
              "\n",
              "    [theme=dark] .colab-df-convert {\n",
              "      background-color: #3B4455;\n",
              "      fill: #D2E3FC;\n",
              "    }\n",
              "\n",
              "    [theme=dark] .colab-df-convert:hover {\n",
              "      background-color: #434B5C;\n",
              "      box-shadow: 0px 1px 3px 1px rgba(0, 0, 0, 0.15);\n",
              "      filter: drop-shadow(0px 1px 2px rgba(0, 0, 0, 0.3));\n",
              "      fill: #FFFFFF;\n",
              "    }\n",
              "  </style>\n",
              "\n",
              "      <script>\n",
              "        const buttonEl =\n",
              "          document.querySelector('#df-a34ccdcf-1428-4b4e-bdaa-e5c133f0d8e0 button.colab-df-convert');\n",
              "        buttonEl.style.display =\n",
              "          google.colab.kernel.accessAllowed ? 'block' : 'none';\n",
              "\n",
              "        async function convertToInteractive(key) {\n",
              "          const element = document.querySelector('#df-a34ccdcf-1428-4b4e-bdaa-e5c133f0d8e0');\n",
              "          const dataTable =\n",
              "            await google.colab.kernel.invokeFunction('convertToInteractive',\n",
              "                                                     [key], {});\n",
              "          if (!dataTable) return;\n",
              "\n",
              "          const docLinkHtml = 'Like what you see? Visit the ' +\n",
              "            '<a target=\"_blank\" href=https://colab.research.google.com/notebooks/data_table.ipynb>data table notebook</a>'\n",
              "            + ' to learn more about interactive tables.';\n",
              "          element.innerHTML = '';\n",
              "          dataTable['output_type'] = 'display_data';\n",
              "          await google.colab.output.renderOutput(dataTable, element);\n",
              "          const docLink = document.createElement('div');\n",
              "          docLink.innerHTML = docLinkHtml;\n",
              "          element.appendChild(docLink);\n",
              "        }\n",
              "      </script>\n",
              "    </div>\n",
              "  </div>\n",
              "  "
            ]
          },
          "metadata": {},
          "execution_count": 104
        }
      ]
    },
    {
      "cell_type": "markdown",
      "source": [
        "## 4. Muestre los valores de las columnas: Src Addres, Dst Address, Src Port y Dst Port "
      ],
      "metadata": {
        "id": "_FlYUlh49SEB"
      }
    },
    {
      "cell_type": "code",
      "source": [
        "df[['src','dst','sport','dport']]"
      ],
      "metadata": {
        "colab": {
          "base_uri": "https://localhost:8080/",
          "height": 419
        },
        "id": "j2ibLGg683-m",
        "outputId": "f1e7b112-c0e6-46a1-cff4-f69f42c2ad16"
      },
      "execution_count": 105,
      "outputs": [
        {
          "output_type": "execute_result",
          "data": {
            "text/plain": [
              "            src          dst  sport  dport\n",
              "0    172.28.0.1   172.28.0.2  56206   8080\n",
              "1    172.28.0.2   172.28.0.1   8080  56206\n",
              "2    172.28.0.2   172.28.0.1   8080  56206\n",
              "3    172.28.0.1   172.28.0.2  56206   8080\n",
              "4    172.28.0.1   172.28.0.2  56206   8080\n",
              "..          ...          ...    ...    ...\n",
              "67  84.54.22.33   10.1.10.53     53     53\n",
              "68   10.1.10.53  84.54.22.33     53     53\n",
              "69  84.54.22.33   10.1.10.53     53     53\n",
              "70   10.1.10.53  84.54.22.33     53     53\n",
              "71  84.54.22.33   10.1.10.53     53     53\n",
              "\n",
              "[72 rows x 4 columns]"
            ],
            "text/html": [
              "\n",
              "  <div id=\"df-09469acc-506b-4c6b-9365-232588060e97\">\n",
              "    <div class=\"colab-df-container\">\n",
              "      <div>\n",
              "<style scoped>\n",
              "    .dataframe tbody tr th:only-of-type {\n",
              "        vertical-align: middle;\n",
              "    }\n",
              "\n",
              "    .dataframe tbody tr th {\n",
              "        vertical-align: top;\n",
              "    }\n",
              "\n",
              "    .dataframe thead th {\n",
              "        text-align: right;\n",
              "    }\n",
              "</style>\n",
              "<table border=\"1\" class=\"dataframe\">\n",
              "  <thead>\n",
              "    <tr style=\"text-align: right;\">\n",
              "      <th></th>\n",
              "      <th>src</th>\n",
              "      <th>dst</th>\n",
              "      <th>sport</th>\n",
              "      <th>dport</th>\n",
              "    </tr>\n",
              "  </thead>\n",
              "  <tbody>\n",
              "    <tr>\n",
              "      <th>0</th>\n",
              "      <td>172.28.0.1</td>\n",
              "      <td>172.28.0.2</td>\n",
              "      <td>56206</td>\n",
              "      <td>8080</td>\n",
              "    </tr>\n",
              "    <tr>\n",
              "      <th>1</th>\n",
              "      <td>172.28.0.2</td>\n",
              "      <td>172.28.0.1</td>\n",
              "      <td>8080</td>\n",
              "      <td>56206</td>\n",
              "    </tr>\n",
              "    <tr>\n",
              "      <th>2</th>\n",
              "      <td>172.28.0.2</td>\n",
              "      <td>172.28.0.1</td>\n",
              "      <td>8080</td>\n",
              "      <td>56206</td>\n",
              "    </tr>\n",
              "    <tr>\n",
              "      <th>3</th>\n",
              "      <td>172.28.0.1</td>\n",
              "      <td>172.28.0.2</td>\n",
              "      <td>56206</td>\n",
              "      <td>8080</td>\n",
              "    </tr>\n",
              "    <tr>\n",
              "      <th>4</th>\n",
              "      <td>172.28.0.1</td>\n",
              "      <td>172.28.0.2</td>\n",
              "      <td>56206</td>\n",
              "      <td>8080</td>\n",
              "    </tr>\n",
              "    <tr>\n",
              "      <th>...</th>\n",
              "      <td>...</td>\n",
              "      <td>...</td>\n",
              "      <td>...</td>\n",
              "      <td>...</td>\n",
              "    </tr>\n",
              "    <tr>\n",
              "      <th>67</th>\n",
              "      <td>84.54.22.33</td>\n",
              "      <td>10.1.10.53</td>\n",
              "      <td>53</td>\n",
              "      <td>53</td>\n",
              "    </tr>\n",
              "    <tr>\n",
              "      <th>68</th>\n",
              "      <td>10.1.10.53</td>\n",
              "      <td>84.54.22.33</td>\n",
              "      <td>53</td>\n",
              "      <td>53</td>\n",
              "    </tr>\n",
              "    <tr>\n",
              "      <th>69</th>\n",
              "      <td>84.54.22.33</td>\n",
              "      <td>10.1.10.53</td>\n",
              "      <td>53</td>\n",
              "      <td>53</td>\n",
              "    </tr>\n",
              "    <tr>\n",
              "      <th>70</th>\n",
              "      <td>10.1.10.53</td>\n",
              "      <td>84.54.22.33</td>\n",
              "      <td>53</td>\n",
              "      <td>53</td>\n",
              "    </tr>\n",
              "    <tr>\n",
              "      <th>71</th>\n",
              "      <td>84.54.22.33</td>\n",
              "      <td>10.1.10.53</td>\n",
              "      <td>53</td>\n",
              "      <td>53</td>\n",
              "    </tr>\n",
              "  </tbody>\n",
              "</table>\n",
              "<p>72 rows × 4 columns</p>\n",
              "</div>\n",
              "      <button class=\"colab-df-convert\" onclick=\"convertToInteractive('df-09469acc-506b-4c6b-9365-232588060e97')\"\n",
              "              title=\"Convert this dataframe to an interactive table.\"\n",
              "              style=\"display:none;\">\n",
              "        \n",
              "  <svg xmlns=\"http://www.w3.org/2000/svg\" height=\"24px\"viewBox=\"0 0 24 24\"\n",
              "       width=\"24px\">\n",
              "    <path d=\"M0 0h24v24H0V0z\" fill=\"none\"/>\n",
              "    <path d=\"M18.56 5.44l.94 2.06.94-2.06 2.06-.94-2.06-.94-.94-2.06-.94 2.06-2.06.94zm-11 1L8.5 8.5l.94-2.06 2.06-.94-2.06-.94L8.5 2.5l-.94 2.06-2.06.94zm10 10l.94 2.06.94-2.06 2.06-.94-2.06-.94-.94-2.06-.94 2.06-2.06.94z\"/><path d=\"M17.41 7.96l-1.37-1.37c-.4-.4-.92-.59-1.43-.59-.52 0-1.04.2-1.43.59L10.3 9.45l-7.72 7.72c-.78.78-.78 2.05 0 2.83L4 21.41c.39.39.9.59 1.41.59.51 0 1.02-.2 1.41-.59l7.78-7.78 2.81-2.81c.8-.78.8-2.07 0-2.86zM5.41 20L4 18.59l7.72-7.72 1.47 1.35L5.41 20z\"/>\n",
              "  </svg>\n",
              "      </button>\n",
              "      \n",
              "  <style>\n",
              "    .colab-df-container {\n",
              "      display:flex;\n",
              "      flex-wrap:wrap;\n",
              "      gap: 12px;\n",
              "    }\n",
              "\n",
              "    .colab-df-convert {\n",
              "      background-color: #E8F0FE;\n",
              "      border: none;\n",
              "      border-radius: 50%;\n",
              "      cursor: pointer;\n",
              "      display: none;\n",
              "      fill: #1967D2;\n",
              "      height: 32px;\n",
              "      padding: 0 0 0 0;\n",
              "      width: 32px;\n",
              "    }\n",
              "\n",
              "    .colab-df-convert:hover {\n",
              "      background-color: #E2EBFA;\n",
              "      box-shadow: 0px 1px 2px rgba(60, 64, 67, 0.3), 0px 1px 3px 1px rgba(60, 64, 67, 0.15);\n",
              "      fill: #174EA6;\n",
              "    }\n",
              "\n",
              "    [theme=dark] .colab-df-convert {\n",
              "      background-color: #3B4455;\n",
              "      fill: #D2E3FC;\n",
              "    }\n",
              "\n",
              "    [theme=dark] .colab-df-convert:hover {\n",
              "      background-color: #434B5C;\n",
              "      box-shadow: 0px 1px 3px 1px rgba(0, 0, 0, 0.15);\n",
              "      filter: drop-shadow(0px 1px 2px rgba(0, 0, 0, 0.3));\n",
              "      fill: #FFFFFF;\n",
              "    }\n",
              "  </style>\n",
              "\n",
              "      <script>\n",
              "        const buttonEl =\n",
              "          document.querySelector('#df-09469acc-506b-4c6b-9365-232588060e97 button.colab-df-convert');\n",
              "        buttonEl.style.display =\n",
              "          google.colab.kernel.accessAllowed ? 'block' : 'none';\n",
              "\n",
              "        async function convertToInteractive(key) {\n",
              "          const element = document.querySelector('#df-09469acc-506b-4c6b-9365-232588060e97');\n",
              "          const dataTable =\n",
              "            await google.colab.kernel.invokeFunction('convertToInteractive',\n",
              "                                                     [key], {});\n",
              "          if (!dataTable) return;\n",
              "\n",
              "          const docLinkHtml = 'Like what you see? Visit the ' +\n",
              "            '<a target=\"_blank\" href=https://colab.research.google.com/notebooks/data_table.ipynb>data table notebook</a>'\n",
              "            + ' to learn more about interactive tables.';\n",
              "          element.innerHTML = '';\n",
              "          dataTable['output_type'] = 'display_data';\n",
              "          await google.colab.output.renderOutput(dataTable, element);\n",
              "          const docLink = document.createElement('div');\n",
              "          docLink.innerHTML = docLinkHtml;\n",
              "          element.appendChild(docLink);\n",
              "        }\n",
              "      </script>\n",
              "    </div>\n",
              "  </div>\n",
              "  "
            ]
          },
          "metadata": {},
          "execution_count": 105
        }
      ]
    },
    {
      "cell_type": "markdown",
      "source": [
        "## 5. Estadísticas "
      ],
      "metadata": {
        "id": "UsKibqVr9iRV"
      }
    },
    {
      "cell_type": "markdown",
      "source": [
        "### a. Muestre cual es la IP origen que más aparece "
      ],
      "metadata": {
        "id": "PFwkLb9T9mRA"
      }
    },
    {
      "cell_type": "code",
      "source": [
        "print('\\tIP \\tVeces')\n",
        "df['src'].value_counts()"
      ],
      "metadata": {
        "colab": {
          "base_uri": "https://localhost:8080/"
        },
        "id": "mdPM18DC9gpj",
        "outputId": "e02c12b0-4f9f-4548-d4d3-89bd9cd7d840"
      },
      "execution_count": 106,
      "outputs": [
        {
          "output_type": "stream",
          "name": "stdout",
          "text": [
            "\tIP \tVeces\n"
          ]
        },
        {
          "output_type": "execute_result",
          "data": {
            "text/plain": [
              "10.1.10.53     31\n",
              "84.54.22.33    29\n",
              "172.28.0.1      5\n",
              "172.28.0.2      5\n",
              "75.75.75.75     2\n",
              "Name: src, dtype: int64"
            ]
          },
          "metadata": {},
          "execution_count": 106
        }
      ]
    },
    {
      "cell_type": "markdown",
      "source": [
        "### b. Muestre cual es la IP destino que más aparece "
      ],
      "metadata": {
        "id": "eJewqhXtCmAB"
      }
    },
    {
      "cell_type": "code",
      "source": [
        "print('\\tIP \\tVeces')\n",
        "df['dst'].value_counts()"
      ],
      "metadata": {
        "colab": {
          "base_uri": "https://localhost:8080/"
        },
        "id": "IbVo0JtY91rf",
        "outputId": "31ba038e-e08b-430a-aa07-4bdaa5db7c7c"
      },
      "execution_count": 107,
      "outputs": [
        {
          "output_type": "stream",
          "name": "stdout",
          "text": [
            "\tIP \tVeces\n"
          ]
        },
        {
          "output_type": "execute_result",
          "data": {
            "text/plain": [
              "10.1.10.53     31\n",
              "84.54.22.33    29\n",
              "172.28.0.2      5\n",
              "172.28.0.1      5\n",
              "75.75.75.75     2\n",
              "Name: dst, dtype: int64"
            ]
          },
          "metadata": {},
          "execution_count": 107
        }
      ]
    },
    {
      "cell_type": "markdown",
      "source": [
        "### c. ¿A qué IPs se comunica la IP del inciso a? "
      ],
      "metadata": {
        "id": "v519vskHEDrw"
      }
    },
    {
      "cell_type": "code",
      "source": [
        "df[['src','dst']][df['src'] == '10.1.10.53'].value_counts()"
      ],
      "metadata": {
        "colab": {
          "base_uri": "https://localhost:8080/"
        },
        "id": "VLsJN_4PIRLG",
        "outputId": "0e821e88-09fb-4d97-9ea0-e36c50446e97"
      },
      "execution_count": 108,
      "outputs": [
        {
          "output_type": "execute_result",
          "data": {
            "text/plain": [
              "src         dst        \n",
              "10.1.10.53  84.54.22.33    29\n",
              "            75.75.75.75     2\n",
              "dtype: int64"
            ]
          },
          "metadata": {},
          "execution_count": 108
        }
      ]
    },
    {
      "cell_type": "markdown",
      "source": [
        "### d. ¿A qué puertos destino se comunica la IP del inciso a? "
      ],
      "metadata": {
        "id": "ehTbi270GEEf"
      }
    },
    {
      "cell_type": "code",
      "source": [
        "print('Puerto  Veces')\n",
        "df['dport'][df['src'] == '10.1.10.53'].value_counts()"
      ],
      "metadata": {
        "colab": {
          "base_uri": "https://localhost:8080/"
        },
        "id": "S9OA7qT5EUF9",
        "outputId": "6333a70e-8aef-449d-adb9-53f907920a09"
      },
      "execution_count": 109,
      "outputs": [
        {
          "output_type": "stream",
          "name": "stdout",
          "text": [
            "Puerto  Veces\n"
          ]
        },
        {
          "output_type": "execute_result",
          "data": {
            "text/plain": [
              "53    31\n",
              "Name: dport, dtype: int64"
            ]
          },
          "metadata": {},
          "execution_count": 109
        }
      ]
    },
    {
      "cell_type": "markdown",
      "source": [
        "### e. ¿A qué puertos origen se comunica la IP del inciso a? "
      ],
      "metadata": {
        "id": "xyWyXDyZGW7f"
      }
    },
    {
      "cell_type": "code",
      "source": [
        "print('Puerto  Veces')\n",
        "df['sport'][df['src'] == '10.1.10.53'].value_counts()"
      ],
      "metadata": {
        "colab": {
          "base_uri": "https://localhost:8080/"
        },
        "id": "i2vpaIB1GQ6R",
        "outputId": "8752e2b4-57a9-458e-d822-2c5671d5b6f6"
      },
      "execution_count": 110,
      "outputs": [
        {
          "output_type": "stream",
          "name": "stdout",
          "text": [
            "Puerto  Veces\n"
          ]
        },
        {
          "output_type": "execute_result",
          "data": {
            "text/plain": [
              "53       29\n",
              "15812     1\n",
              "23903     1\n",
              "Name: sport, dtype: int64"
            ]
          },
          "metadata": {},
          "execution_count": 110
        }
      ]
    },
    {
      "cell_type": "markdown",
      "source": [
        "### f. ¿Para que se utiliza el puerto que más aparece en el inciso  d y e? "
      ],
      "metadata": {
        "id": "3cxrGTJCI4tE"
      }
    },
    {
      "cell_type": "code",
      "source": [
        "# 53"
      ],
      "metadata": {
        "id": "hvz4U86uGneS"
      },
      "execution_count": 14,
      "outputs": []
    },
    {
      "cell_type": "markdown",
      "source": [
        "Se usa para resolucion de DNS.\n",
        "\n",
        "DNS utiliza el puerto 53, que casi siempre está abierto en los sistemas, firewalls y clientes para transmitir consultas de DNS. En lugar del TCP, estas consultas utilizan el Protocolo UDP debido a su baja latencia, ancho de banda y uso de recursos en comparación con las consultas equivalentes a TCP. UDP no tiene capacidades de control de flujo o error, ni tiene ninguna verificación de integridad para garantizar que los datos lleguen intactos."
      ],
      "metadata": {
        "id": "gm_umuv5JBkC"
      }
    },
    {
      "cell_type": "markdown",
      "source": [
        "## 6. Gráficas "
      ],
      "metadata": {
        "id": "ifW5ugxIKL4M"
      }
    },
    {
      "cell_type": "markdown",
      "source": [
        "### a. Muestre una gráfica 2D, en el eje Y las IPs origen, y en el eje X la suma de los payloads enviados de dichas direcciones. "
      ],
      "metadata": {
        "id": "-VZkvFlfwlAL"
      }
    },
    {
      "cell_type": "code",
      "source": [
        "graph1 = df[['src','payload']]\n",
        "graph1 = graph1.groupby('src').sum()\n",
        "graph1 = graph1.reset_index()\n",
        "#####\n",
        "plt.scatter(x=graph1.payload, y=graph1.src, color='blue')\n",
        "plt.title(\"Payloads por IPs origen\")\n",
        "plt.xlabel(\"Suma de los payloads\")\n",
        "plt.ylabel(\"IPs origen\")\n",
        "plt.show()"
      ],
      "metadata": {
        "id": "QynHVlBaJ4Wd",
        "colab": {
          "base_uri": "https://localhost:8080/",
          "height": 295
        },
        "outputId": "1b001503-2152-4a53-e3a3-221c48be45b7"
      },
      "execution_count": 111,
      "outputs": [
        {
          "output_type": "display_data",
          "data": {
            "text/plain": [
              "<Figure size 432x288 with 1 Axes>"
            ],
            "image/png": "[encoded data removed]"
          },
          "metadata": {
            "needs_background": "light"
          }
        }
      ]
    },
    {
      "cell_type": "markdown",
      "source": [
        "### b. Muestre una gráfica 2D, en el eje Y las IPs destino, y en el eje X la suma de los payloads recibidos en dichas direcciones. "
      ],
      "metadata": {
        "id": "KhazVt72ww1Z"
      }
    },
    {
      "cell_type": "code",
      "source": [
        "graph1 = df[['dst','payload']]\n",
        "graph1 = graph1.groupby('dst').sum()\n",
        "graph1 = graph1.reset_index()\n",
        "#####\n",
        "plt.scatter(x=graph1.payload, y=graph1.dst, color='red')\n",
        "plt.title(\"Payloads por IPs destino\")\n",
        "plt.xlabel(\"Suma de los payloads\")\n",
        "plt.ylabel(\"IPs destino\")\n",
        "plt.show()"
      ],
      "metadata": {
        "colab": {
          "base_uri": "https://localhost:8080/",
          "height": 295
        },
        "id": "mq5ux5I7mYFx",
        "outputId": "c34d8f50-010a-495c-b062-85cb4004ff60"
      },
      "execution_count": 112,
      "outputs": [
        {
          "output_type": "display_data",
          "data": {
            "text/plain": [
              "<Figure size 432x288 with 1 Axes>"
            ],
            "image/png": "[encoded data removed]"
          },
          "metadata": {
            "needs_background": "light"
          }
        }
      ]
    },
    {
      "cell_type": "markdown",
      "source": [
        "### c. Muestre una gráfica 2D, en el eje Y los puertos origen, y en el eje X la suma de los payloads enviados de dichos puertos. "
      ],
      "metadata": {
        "id": "Ch-P_EfaxHvC"
      }
    },
    {
      "cell_type": "code",
      "source": [
        "graph1 = df[['sport','payload']]\n",
        "graph1 = graph1.groupby('sport').sum()\n",
        "graph1 = graph1.reset_index()\n",
        "#####\n",
        "plt.scatter(x=graph1.payload, y=graph1.sport, color='purple')\n",
        "plt.title(\"Payloads por Puertos origen\")\n",
        "plt.xlabel(\"Suma de los payloads\")\n",
        "plt.ylabel(\"Puertos origen\")\n",
        "plt.show()"
      ],
      "metadata": {
        "colab": {
          "base_uri": "https://localhost:8080/",
          "height": 295
        },
        "id": "EVfXgoBWrcaw",
        "outputId": "7296a9c2-b488-4b37-f6f7-88d5f41ef139"
      },
      "execution_count": 113,
      "outputs": [
        {
          "output_type": "display_data",
          "data": {
            "text/plain": [
              "<Figure size 432x288 with 1 Axes>"
            ],
            "image/png": "[encoded data removed]"
          },
          "metadata": {
            "needs_background": "light"
          }
        }
      ]
    },
    {
      "cell_type": "markdown",
      "source": [
        "### d. Muestre una gráfica 2D, en el eje Y los puertos destino, y en el eje X la suma de los payloads recibidos en dichos puertos. "
      ],
      "metadata": {
        "id": "bufI6p_1zd8C"
      }
    },
    {
      "cell_type": "code",
      "source": [
        "graph1 = df[['dport','payload']]\n",
        "graph1 = graph1.groupby('dport').sum()\n",
        "graph1 = graph1.reset_index()\n",
        "#####\n",
        "plt.scatter(x=graph1.payload, y=graph1.dport, color='green')\n",
        "plt.title(\"Payloads por Puertos destino\")\n",
        "plt.xlabel(\"Suma de los payloads\")\n",
        "plt.ylabel(\"Puertos destino\")\n",
        "plt.show()"
      ],
      "metadata": {
        "colab": {
          "base_uri": "https://localhost:8080/",
          "height": 295
        },
        "id": "7L-jrTpbnzji",
        "outputId": "85d6222c-b5d2-43b1-a0fa-e98b5083b292"
      },
      "execution_count": 114,
      "outputs": [
        {
          "output_type": "display_data",
          "data": {
            "text/plain": [
              "<Figure size 432x288 with 1 Axes>"
            ],
            "image/png": "[encoded data removed]"
          },
          "metadata": {
            "needs_background": "light"
          }
        }
      ]
    },
    {
      "cell_type": "markdown",
      "source": [
        "## 7. Investigación del payload "
      ],
      "metadata": {
        "id": "lJoO0oiGz1r2"
      }
    },
    {
      "cell_type": "markdown",
      "source": [
        "### a. Cree un nuevo DF que incluya únicamente la conversación de la dirección IP origen más frecuente "
      ],
      "metadata": {
        "id": "VGL0loTqz9X3"
      }
    },
    {
      "cell_type": "code",
      "source": [
        "freq_ip = df['src'].mode()\n",
        "freq_ip_df = df[df['src'] == freq_ip[0]]\n",
        "freq_ip_df = freq_ip_df.reset_index(drop=True)\n",
        "freq_ip_df.head()"
      ],
      "metadata": {
        "colab": {
          "base_uri": "https://localhost:8080/",
          "height": 297
        },
        "id": "rd-1r9LL0LeU",
        "outputId": "ed2e00b1-e3d9-4a3a-a771-d75dedfb28e0"
      },
      "execution_count": 115,
      "outputs": [
        {
          "output_type": "execute_result",
          "data": {
            "text/plain": [
              "  version ihl tos   len id flags frag ttl proto chksum  ... dataofs reserved  \\\n",
              "0       4   5   0   961  1          0  64    17  21222  ...    None     None   \n",
              "1       4   5   0   975  1          0  64    17  21208  ...    None     None   \n",
              "2       4   5   0  1012  1          0  64    17  21171  ...    None     None   \n",
              "3       4   5   0   998  1          0  64    17  21185  ...    None     None   \n",
              "4       4   5   0  1003  1          0  64    17  21180  ...    None     None   \n",
              "\n",
              "  flags window chksum urgptr options payload  \\\n",
              "0  None   None  62990   None    None     933   \n",
              "1  None   None  36378   None    None     947   \n",
              "2  None   None  63846   None    None     984   \n",
              "3  None   None  65315   None    None     970   \n",
              "4  None   None  38088   None    None     975   \n",
              "\n",
              "                                         payload_raw  \\\n",
              "0  b'\\x00\\x0c\\x01\\x00\\x00\\x01\\x00\\x00\\x00\\x00\\x00...   \n",
              "1  b'\\x00\\x0c\\x01\\x00\\x00\\x01\\x00\\x00\\x00\\x00\\x00...   \n",
              "2  b'\\x00\\x0c\\x01\\x00\\x00\\x01\\x00\\x00\\x00\\x00\\x00...   \n",
              "3  b'\\x00\\x0c\\x01\\x00\\x00\\x01\\x00\\x00\\x00\\x00\\x00...   \n",
              "4  b'\\x00\\x0c\\x01\\x00\\x00\\x01\\x00\\x00\\x00\\x00\\x00...   \n",
              "\n",
              "                                         payload_hex  \n",
              "0  b'000c0100000100000000000006676f6f676c6503636f...  \n",
              "1  b'000c0100000100000000000006676f6f676c6503636f...  \n",
              "2  b'000c0100000100000000000006676f6f676c6503636f...  \n",
              "3  b'000c0100000100000000000006676f6f676c6503636f...  \n",
              "4  b'000c0100000100000000000006676f6f676c6503636f...  \n",
              "\n",
              "[5 rows x 28 columns]"
            ],
            "text/html": [
              "\n",
              "  <div id=\"df-db673a40-316d-4cfe-8cd6-2e750346b831\">\n",
              "    <div class=\"colab-df-container\">\n",
              "      <div>\n",
              "<style scoped>\n",
              "    .dataframe tbody tr th:only-of-type {\n",
              "        vertical-align: middle;\n",
              "    }\n",
              "\n",
              "    .dataframe tbody tr th {\n",
              "        vertical-align: top;\n",
              "    }\n",
              "\n",
              "    .dataframe thead th {\n",
              "        text-align: right;\n",
              "    }\n",
              "</style>\n",
              "<table border=\"1\" class=\"dataframe\">\n",
              "  <thead>\n",
              "    <tr style=\"text-align: right;\">\n",
              "      <th></th>\n",
              "      <th>version</th>\n",
              "      <th>ihl</th>\n",
              "      <th>tos</th>\n",
              "      <th>len</th>\n",
              "      <th>id</th>\n",
              "      <th>flags</th>\n",
              "      <th>frag</th>\n",
              "      <th>ttl</th>\n",
              "      <th>proto</th>\n",
              "      <th>chksum</th>\n",
              "      <th>...</th>\n",
              "      <th>dataofs</th>\n",
              "      <th>reserved</th>\n",
              "      <th>flags</th>\n",
              "      <th>window</th>\n",
              "      <th>chksum</th>\n",
              "      <th>urgptr</th>\n",
              "      <th>options</th>\n",
              "      <th>payload</th>\n",
              "      <th>payload_raw</th>\n",
              "      <th>payload_hex</th>\n",
              "    </tr>\n",
              "  </thead>\n",
              "  <tbody>\n",
              "    <tr>\n",
              "      <th>0</th>\n",
              "      <td>4</td>\n",
              "      <td>5</td>\n",
              "      <td>0</td>\n",
              "      <td>961</td>\n",
              "      <td>1</td>\n",
              "      <td></td>\n",
              "      <td>0</td>\n",
              "      <td>64</td>\n",
              "      <td>17</td>\n",
              "      <td>21222</td>\n",
              "      <td>...</td>\n",
              "      <td>None</td>\n",
              "      <td>None</td>\n",
              "      <td>None</td>\n",
              "      <td>None</td>\n",
              "      <td>62990</td>\n",
              "      <td>None</td>\n",
              "      <td>None</td>\n",
              "      <td>933</td>\n",
              "      <td>b'\\x00\\x0c\\x01\\x00\\x00\\x01\\x00\\x00\\x00\\x00\\x00...</td>\n",
              "      <td>b'000c0100000100000000000006676f6f676c6503636f...</td>\n",
              "    </tr>\n",
              "    <tr>\n",
              "      <th>1</th>\n",
              "      <td>4</td>\n",
              "      <td>5</td>\n",
              "      <td>0</td>\n",
              "      <td>975</td>\n",
              "      <td>1</td>\n",
              "      <td></td>\n",
              "      <td>0</td>\n",
              "      <td>64</td>\n",
              "      <td>17</td>\n",
              "      <td>21208</td>\n",
              "      <td>...</td>\n",
              "      <td>None</td>\n",
              "      <td>None</td>\n",
              "      <td>None</td>\n",
              "      <td>None</td>\n",
              "      <td>36378</td>\n",
              "      <td>None</td>\n",
              "      <td>None</td>\n",
              "      <td>947</td>\n",
              "      <td>b'\\x00\\x0c\\x01\\x00\\x00\\x01\\x00\\x00\\x00\\x00\\x00...</td>\n",
              "      <td>b'000c0100000100000000000006676f6f676c6503636f...</td>\n",
              "    </tr>\n",
              "    <tr>\n",
              "      <th>2</th>\n",
              "      <td>4</td>\n",
              "      <td>5</td>\n",
              "      <td>0</td>\n",
              "      <td>1012</td>\n",
              "      <td>1</td>\n",
              "      <td></td>\n",
              "      <td>0</td>\n",
              "      <td>64</td>\n",
              "      <td>17</td>\n",
              "      <td>21171</td>\n",
              "      <td>...</td>\n",
              "      <td>None</td>\n",
              "      <td>None</td>\n",
              "      <td>None</td>\n",
              "      <td>None</td>\n",
              "      <td>63846</td>\n",
              "      <td>None</td>\n",
              "      <td>None</td>\n",
              "      <td>984</td>\n",
              "      <td>b'\\x00\\x0c\\x01\\x00\\x00\\x01\\x00\\x00\\x00\\x00\\x00...</td>\n",
              "      <td>b'000c0100000100000000000006676f6f676c6503636f...</td>\n",
              "    </tr>\n",
              "    <tr>\n",
              "      <th>3</th>\n",
              "      <td>4</td>\n",
              "      <td>5</td>\n",
              "      <td>0</td>\n",
              "      <td>998</td>\n",
              "      <td>1</td>\n",
              "      <td></td>\n",
              "      <td>0</td>\n",
              "      <td>64</td>\n",
              "      <td>17</td>\n",
              "      <td>21185</td>\n",
              "      <td>...</td>\n",
              "      <td>None</td>\n",
              "      <td>None</td>\n",
              "      <td>None</td>\n",
              "      <td>None</td>\n",
              "      <td>65315</td>\n",
              "      <td>None</td>\n",
              "      <td>None</td>\n",
              "      <td>970</td>\n",
              "      <td>b'\\x00\\x0c\\x01\\x00\\x00\\x01\\x00\\x00\\x00\\x00\\x00...</td>\n",
              "      <td>b'000c0100000100000000000006676f6f676c6503636f...</td>\n",
              "    </tr>\n",
              "    <tr>\n",
              "      <th>4</th>\n",
              "      <td>4</td>\n",
              "      <td>5</td>\n",
              "      <td>0</td>\n",
              "      <td>1003</td>\n",
              "      <td>1</td>\n",
              "      <td></td>\n",
              "      <td>0</td>\n",
              "      <td>64</td>\n",
              "      <td>17</td>\n",
              "      <td>21180</td>\n",
              "      <td>...</td>\n",
              "      <td>None</td>\n",
              "      <td>None</td>\n",
              "      <td>None</td>\n",
              "      <td>None</td>\n",
              "      <td>38088</td>\n",
              "      <td>None</td>\n",
              "      <td>None</td>\n",
              "      <td>975</td>\n",
              "      <td>b'\\x00\\x0c\\x01\\x00\\x00\\x01\\x00\\x00\\x00\\x00\\x00...</td>\n",
              "      <td>b'000c0100000100000000000006676f6f676c6503636f...</td>\n",
              "    </tr>\n",
              "  </tbody>\n",
              "</table>\n",
              "<p>5 rows × 28 columns</p>\n",
              "</div>\n",
              "      <button class=\"colab-df-convert\" onclick=\"convertToInteractive('df-db673a40-316d-4cfe-8cd6-2e750346b831')\"\n",
              "              title=\"Convert this dataframe to an interactive table.\"\n",
              "              style=\"display:none;\">\n",
              "        \n",
              "  <svg xmlns=\"http://www.w3.org/2000/svg\" height=\"24px\"viewBox=\"0 0 24 24\"\n",
              "       width=\"24px\">\n",
              "    <path d=\"M0 0h24v24H0V0z\" fill=\"none\"/>\n",
              "    <path d=\"M18.56 5.44l.94 2.06.94-2.06 2.06-.94-2.06-.94-.94-2.06-.94 2.06-2.06.94zm-11 1L8.5 8.5l.94-2.06 2.06-.94-2.06-.94L8.5 2.5l-.94 2.06-2.06.94zm10 10l.94 2.06.94-2.06 2.06-.94-2.06-.94-.94-2.06-.94 2.06-2.06.94z\"/><path d=\"M17.41 7.96l-1.37-1.37c-.4-.4-.92-.59-1.43-.59-.52 0-1.04.2-1.43.59L10.3 9.45l-7.72 7.72c-.78.78-.78 2.05 0 2.83L4 21.41c.39.39.9.59 1.41.59.51 0 1.02-.2 1.41-.59l7.78-7.78 2.81-2.81c.8-.78.8-2.07 0-2.86zM5.41 20L4 18.59l7.72-7.72 1.47 1.35L5.41 20z\"/>\n",
              "  </svg>\n",
              "      </button>\n",
              "      \n",
              "  <style>\n",
              "    .colab-df-container {\n",
              "      display:flex;\n",
              "      flex-wrap:wrap;\n",
              "      gap: 12px;\n",
              "    }\n",
              "\n",
              "    .colab-df-convert {\n",
              "      background-color: #E8F0FE;\n",
              "      border: none;\n",
              "      border-radius: 50%;\n",
              "      cursor: pointer;\n",
              "      display: none;\n",
              "      fill: #1967D2;\n",
              "      height: 32px;\n",
              "      padding: 0 0 0 0;\n",
              "      width: 32px;\n",
              "    }\n",
              "\n",
              "    .colab-df-convert:hover {\n",
              "      background-color: #E2EBFA;\n",
              "      box-shadow: 0px 1px 2px rgba(60, 64, 67, 0.3), 0px 1px 3px 1px rgba(60, 64, 67, 0.15);\n",
              "      fill: #174EA6;\n",
              "    }\n",
              "\n",
              "    [theme=dark] .colab-df-convert {\n",
              "      background-color: #3B4455;\n",
              "      fill: #D2E3FC;\n",
              "    }\n",
              "\n",
              "    [theme=dark] .colab-df-convert:hover {\n",
              "      background-color: #434B5C;\n",
              "      box-shadow: 0px 1px 3px 1px rgba(0, 0, 0, 0.15);\n",
              "      filter: drop-shadow(0px 1px 2px rgba(0, 0, 0, 0.3));\n",
              "      fill: #FFFFFF;\n",
              "    }\n",
              "  </style>\n",
              "\n",
              "      <script>\n",
              "        const buttonEl =\n",
              "          document.querySelector('#df-db673a40-316d-4cfe-8cd6-2e750346b831 button.colab-df-convert');\n",
              "        buttonEl.style.display =\n",
              "          google.colab.kernel.accessAllowed ? 'block' : 'none';\n",
              "\n",
              "        async function convertToInteractive(key) {\n",
              "          const element = document.querySelector('#df-db673a40-316d-4cfe-8cd6-2e750346b831');\n",
              "          const dataTable =\n",
              "            await google.colab.kernel.invokeFunction('convertToInteractive',\n",
              "                                                     [key], {});\n",
              "          if (!dataTable) return;\n",
              "\n",
              "          const docLinkHtml = 'Like what you see? Visit the ' +\n",
              "            '<a target=\"_blank\" href=https://colab.research.google.com/notebooks/data_table.ipynb>data table notebook</a>'\n",
              "            + ' to learn more about interactive tables.';\n",
              "          element.innerHTML = '';\n",
              "          dataTable['output_type'] = 'display_data';\n",
              "          await google.colab.output.renderOutput(dataTable, element);\n",
              "          const docLink = document.createElement('div');\n",
              "          docLink.innerHTML = docLinkHtml;\n",
              "          element.appendChild(docLink);\n",
              "        }\n",
              "      </script>\n",
              "    </div>\n",
              "  </div>\n",
              "  "
            ]
          },
          "metadata": {},
          "execution_count": 115
        }
      ]
    },
    {
      "cell_type": "markdown",
      "source": [
        "### b. Obtenga un nuevo DF con las columnas Src Address, Dst Address y agrúpelas por payload "
      ],
      "metadata": {
        "id": "CafrAELa2E31"
      }
    },
    {
      "cell_type": "code",
      "source": [
        "weird_df = freq_ip_df[['src', 'dst', 'payload', 'payload_raw']]\n",
        "weird_df.head()"
      ],
      "metadata": {
        "colab": {
          "base_uri": "https://localhost:8080/",
          "height": 204
        },
        "id": "oqoooknc0ebA",
        "outputId": "74e56acf-bab6-44c6-b99d-bd4b81affcb1"
      },
      "execution_count": 131,
      "outputs": [
        {
          "output_type": "execute_result",
          "data": {
            "text/plain": [
              "          src          dst payload  \\\n",
              "0  10.1.10.53  84.54.22.33     933   \n",
              "1  10.1.10.53  84.54.22.33     947   \n",
              "2  10.1.10.53  84.54.22.33     984   \n",
              "3  10.1.10.53  84.54.22.33     970   \n",
              "4  10.1.10.53  84.54.22.33     975   \n",
              "\n",
              "                                         payload_raw  \n",
              "0  b'\\x00\\x0c\\x01\\x00\\x00\\x01\\x00\\x00\\x00\\x00\\x00...  \n",
              "1  b'\\x00\\x0c\\x01\\x00\\x00\\x01\\x00\\x00\\x00\\x00\\x00...  \n",
              "2  b'\\x00\\x0c\\x01\\x00\\x00\\x01\\x00\\x00\\x00\\x00\\x00...  \n",
              "3  b'\\x00\\x0c\\x01\\x00\\x00\\x01\\x00\\x00\\x00\\x00\\x00...  \n",
              "4  b'\\x00\\x0c\\x01\\x00\\x00\\x01\\x00\\x00\\x00\\x00\\x00...  "
            ],
            "text/html": [
              "\n",
              "  <div id=\"df-8d101d48-5d44-4668-abe5-7e14ed4e31bc\">\n",
              "    <div class=\"colab-df-container\">\n",
              "      <div>\n",
              "<style scoped>\n",
              "    .dataframe tbody tr th:only-of-type {\n",
              "        vertical-align: middle;\n",
              "    }\n",
              "\n",
              "    .dataframe tbody tr th {\n",
              "        vertical-align: top;\n",
              "    }\n",
              "\n",
              "    .dataframe thead th {\n",
              "        text-align: right;\n",
              "    }\n",
              "</style>\n",
              "<table border=\"1\" class=\"dataframe\">\n",
              "  <thead>\n",
              "    <tr style=\"text-align: right;\">\n",
              "      <th></th>\n",
              "      <th>src</th>\n",
              "      <th>dst</th>\n",
              "      <th>payload</th>\n",
              "      <th>payload_raw</th>\n",
              "    </tr>\n",
              "  </thead>\n",
              "  <tbody>\n",
              "    <tr>\n",
              "      <th>0</th>\n",
              "      <td>10.1.10.53</td>\n",
              "      <td>84.54.22.33</td>\n",
              "      <td>933</td>\n",
              "      <td>b'\\x00\\x0c\\x01\\x00\\x00\\x01\\x00\\x00\\x00\\x00\\x00...</td>\n",
              "    </tr>\n",
              "    <tr>\n",
              "      <th>1</th>\n",
              "      <td>10.1.10.53</td>\n",
              "      <td>84.54.22.33</td>\n",
              "      <td>947</td>\n",
              "      <td>b'\\x00\\x0c\\x01\\x00\\x00\\x01\\x00\\x00\\x00\\x00\\x00...</td>\n",
              "    </tr>\n",
              "    <tr>\n",
              "      <th>2</th>\n",
              "      <td>10.1.10.53</td>\n",
              "      <td>84.54.22.33</td>\n",
              "      <td>984</td>\n",
              "      <td>b'\\x00\\x0c\\x01\\x00\\x00\\x01\\x00\\x00\\x00\\x00\\x00...</td>\n",
              "    </tr>\n",
              "    <tr>\n",
              "      <th>3</th>\n",
              "      <td>10.1.10.53</td>\n",
              "      <td>84.54.22.33</td>\n",
              "      <td>970</td>\n",
              "      <td>b'\\x00\\x0c\\x01\\x00\\x00\\x01\\x00\\x00\\x00\\x00\\x00...</td>\n",
              "    </tr>\n",
              "    <tr>\n",
              "      <th>4</th>\n",
              "      <td>10.1.10.53</td>\n",
              "      <td>84.54.22.33</td>\n",
              "      <td>975</td>\n",
              "      <td>b'\\x00\\x0c\\x01\\x00\\x00\\x01\\x00\\x00\\x00\\x00\\x00...</td>\n",
              "    </tr>\n",
              "  </tbody>\n",
              "</table>\n",
              "</div>\n",
              "      <button class=\"colab-df-convert\" onclick=\"convertToInteractive('df-8d101d48-5d44-4668-abe5-7e14ed4e31bc')\"\n",
              "              title=\"Convert this dataframe to an interactive table.\"\n",
              "              style=\"display:none;\">\n",
              "        \n",
              "  <svg xmlns=\"http://www.w3.org/2000/svg\" height=\"24px\"viewBox=\"0 0 24 24\"\n",
              "       width=\"24px\">\n",
              "    <path d=\"M0 0h24v24H0V0z\" fill=\"none\"/>\n",
              "    <path d=\"M18.56 5.44l.94 2.06.94-2.06 2.06-.94-2.06-.94-.94-2.06-.94 2.06-2.06.94zm-11 1L8.5 8.5l.94-2.06 2.06-.94-2.06-.94L8.5 2.5l-.94 2.06-2.06.94zm10 10l.94 2.06.94-2.06 2.06-.94-2.06-.94-.94-2.06-.94 2.06-2.06.94z\"/><path d=\"M17.41 7.96l-1.37-1.37c-.4-.4-.92-.59-1.43-.59-.52 0-1.04.2-1.43.59L10.3 9.45l-7.72 7.72c-.78.78-.78 2.05 0 2.83L4 21.41c.39.39.9.59 1.41.59.51 0 1.02-.2 1.41-.59l7.78-7.78 2.81-2.81c.8-.78.8-2.07 0-2.86zM5.41 20L4 18.59l7.72-7.72 1.47 1.35L5.41 20z\"/>\n",
              "  </svg>\n",
              "      </button>\n",
              "      \n",
              "  <style>\n",
              "    .colab-df-container {\n",
              "      display:flex;\n",
              "      flex-wrap:wrap;\n",
              "      gap: 12px;\n",
              "    }\n",
              "\n",
              "    .colab-df-convert {\n",
              "      background-color: #E8F0FE;\n",
              "      border: none;\n",
              "      border-radius: 50%;\n",
              "      cursor: pointer;\n",
              "      display: none;\n",
              "      fill: #1967D2;\n",
              "      height: 32px;\n",
              "      padding: 0 0 0 0;\n",
              "      width: 32px;\n",
              "    }\n",
              "\n",
              "    .colab-df-convert:hover {\n",
              "      background-color: #E2EBFA;\n",
              "      box-shadow: 0px 1px 2px rgba(60, 64, 67, 0.3), 0px 1px 3px 1px rgba(60, 64, 67, 0.15);\n",
              "      fill: #174EA6;\n",
              "    }\n",
              "\n",
              "    [theme=dark] .colab-df-convert {\n",
              "      background-color: #3B4455;\n",
              "      fill: #D2E3FC;\n",
              "    }\n",
              "\n",
              "    [theme=dark] .colab-df-convert:hover {\n",
              "      background-color: #434B5C;\n",
              "      box-shadow: 0px 1px 3px 1px rgba(0, 0, 0, 0.15);\n",
              "      filter: drop-shadow(0px 1px 2px rgba(0, 0, 0, 0.3));\n",
              "      fill: #FFFFFF;\n",
              "    }\n",
              "  </style>\n",
              "\n",
              "      <script>\n",
              "        const buttonEl =\n",
              "          document.querySelector('#df-8d101d48-5d44-4668-abe5-7e14ed4e31bc button.colab-df-convert');\n",
              "        buttonEl.style.display =\n",
              "          google.colab.kernel.accessAllowed ? 'block' : 'none';\n",
              "\n",
              "        async function convertToInteractive(key) {\n",
              "          const element = document.querySelector('#df-8d101d48-5d44-4668-abe5-7e14ed4e31bc');\n",
              "          const dataTable =\n",
              "            await google.colab.kernel.invokeFunction('convertToInteractive',\n",
              "                                                     [key], {});\n",
              "          if (!dataTable) return;\n",
              "\n",
              "          const docLinkHtml = 'Like what you see? Visit the ' +\n",
              "            '<a target=\"_blank\" href=https://colab.research.google.com/notebooks/data_table.ipynb>data table notebook</a>'\n",
              "            + ' to learn more about interactive tables.';\n",
              "          element.innerHTML = '';\n",
              "          dataTable['output_type'] = 'display_data';\n",
              "          await google.colab.output.renderOutput(dataTable, element);\n",
              "          const docLink = document.createElement('div');\n",
              "          docLink.innerHTML = docLinkHtml;\n",
              "          element.appendChild(docLink);\n",
              "        }\n",
              "      </script>\n",
              "    </div>\n",
              "  </div>\n",
              "  "
            ]
          },
          "metadata": {},
          "execution_count": 131
        }
      ]
    },
    {
      "cell_type": "code",
      "source": [
        "hm = weird_df.groupby('payload')"
      ],
      "metadata": {
        "id": "gBygbTjP0zlT"
      },
      "execution_count": 132,
      "outputs": []
    },
    {
      "cell_type": "markdown",
      "source": [
        "### c. Obtenga la IP que más ha intercambiado bytes con la IP más frecuente.  Esta IP es sospechosa por la cantidad de bytes intercambiados, entre todas las direcciones.  "
      ],
      "metadata": {
        "id": "_MAYOPgS60_X"
      }
    },
    {
      "cell_type": "code",
      "source": [
        "frequent_address_groupby = weird_df[['src','dst','payload']].groupby(\"dst\")['payload'].sum()"
      ],
      "metadata": {
        "id": "4oRP5oW95jH_"
      },
      "execution_count": 133,
      "outputs": []
    },
    {
      "cell_type": "code",
      "source": [
        "frequent_address_groupby"
      ],
      "metadata": {
        "colab": {
          "base_uri": "https://localhost:8080/"
        },
        "id": "6mJFkFCxJmg6",
        "outputId": "048c7b52-6c7f-406e-8ba7-ffab1b0a9284"
      },
      "execution_count": 134,
      "outputs": [
        {
          "output_type": "execute_result",
          "data": {
            "text/plain": [
              "dst\n",
              "75.75.75.75       74\n",
              "84.54.22.33    27979\n",
              "Name: payload, dtype: object"
            ]
          },
          "metadata": {},
          "execution_count": 134
        }
      ]
    },
    {
      "cell_type": "markdown",
      "source": [
        "### d. Cree un nuevo DF con la conversación entre la IP más frecuenta y la IP sospechosa. "
      ],
      "metadata": {
        "id": "Qief821I7IcB"
      }
    },
    {
      "cell_type": "code",
      "source": [
        "suspicious_df = weird_df[weird_df['dst']=='84.54.22.33']\n",
        "suspicious_df"
      ],
      "metadata": {
        "colab": {
          "base_uri": "https://localhost:8080/",
          "height": 961
        },
        "id": "cQNxkTl9676S",
        "outputId": "20a9b0ea-c0ce-44e8-ace0-1d203402a5ce"
      },
      "execution_count": 136,
      "outputs": [
        {
          "output_type": "execute_result",
          "data": {
            "text/plain": [
              "           src          dst payload  \\\n",
              "0   10.1.10.53  84.54.22.33     933   \n",
              "1   10.1.10.53  84.54.22.33     947   \n",
              "2   10.1.10.53  84.54.22.33     984   \n",
              "3   10.1.10.53  84.54.22.33     970   \n",
              "4   10.1.10.53  84.54.22.33     975   \n",
              "5   10.1.10.53  84.54.22.33    1017   \n",
              "6   10.1.10.53  84.54.22.33     980   \n",
              "7   10.1.10.53  84.54.22.33     951   \n",
              "8   10.1.10.53  84.54.22.33     931   \n",
              "9   10.1.10.53  84.54.22.33     964   \n",
              "10  10.1.10.53  84.54.22.33    1023   \n",
              "13  10.1.10.53  84.54.22.33     978   \n",
              "14  10.1.10.53  84.54.22.33     958   \n",
              "15  10.1.10.53  84.54.22.33     976   \n",
              "16  10.1.10.53  84.54.22.33    1009   \n",
              "17  10.1.10.53  84.54.22.33     976   \n",
              "18  10.1.10.53  84.54.22.33    1011   \n",
              "19  10.1.10.53  84.54.22.33    1009   \n",
              "20  10.1.10.53  84.54.22.33    1007   \n",
              "21  10.1.10.53  84.54.22.33     982   \n",
              "22  10.1.10.53  84.54.22.33     978   \n",
              "23  10.1.10.53  84.54.22.33     978   \n",
              "24  10.1.10.53  84.54.22.33     985   \n",
              "25  10.1.10.53  84.54.22.33     991   \n",
              "26  10.1.10.53  84.54.22.33     977   \n",
              "27  10.1.10.53  84.54.22.33     989   \n",
              "28  10.1.10.53  84.54.22.33     999   \n",
              "29  10.1.10.53  84.54.22.33     941   \n",
              "30  10.1.10.53  84.54.22.33     560   \n",
              "\n",
              "                                          payload_raw  \n",
              "0   b'\\x00\\x0c\\x01\\x00\\x00\\x01\\x00\\x00\\x00\\x00\\x00...  \n",
              "1   b'\\x00\\x0c\\x01\\x00\\x00\\x01\\x00\\x00\\x00\\x00\\x00...  \n",
              "2   b'\\x00\\x0c\\x01\\x00\\x00\\x01\\x00\\x00\\x00\\x00\\x00...  \n",
              "3   b'\\x00\\x0c\\x01\\x00\\x00\\x01\\x00\\x00\\x00\\x00\\x00...  \n",
              "4   b'\\x00\\x0c\\x01\\x00\\x00\\x01\\x00\\x00\\x00\\x00\\x00...  \n",
              "5   b'\\x00\\x0c\\x01\\x00\\x00\\x01\\x00\\x00\\x00\\x00\\x00...  \n",
              "6   b'\\x00\\x0c\\x01\\x00\\x00\\x01\\x00\\x00\\x00\\x00\\x00...  \n",
              "7   b'\\x00\\x0c\\x01\\x00\\x00\\x01\\x00\\x00\\x00\\x00\\x00...  \n",
              "8   b'\\x00\\x0c\\x01\\x00\\x00\\x01\\x00\\x00\\x00\\x00\\x00...  \n",
              "9   b'\\x00\\x0c\\x01\\x00\\x00\\x01\\x00\\x00\\x00\\x00\\x00...  \n",
              "10  b'\\x00\\x0c\\x01\\x00\\x00\\x01\\x00\\x00\\x00\\x00\\x00...  \n",
              "13  b'\\x00\\x0c\\x01\\x00\\x00\\x01\\x00\\x00\\x00\\x00\\x00...  \n",
              "14  b'\\x00\\x0c\\x01\\x00\\x00\\x01\\x00\\x00\\x00\\x00\\x00...  \n",
              "15  b'\\x00\\x0c\\x01\\x00\\x00\\x01\\x00\\x00\\x00\\x00\\x00...  \n",
              "16  b'\\x00\\x0c\\x01\\x00\\x00\\x01\\x00\\x00\\x00\\x00\\x00...  \n",
              "17  b'\\x00\\x0c\\x01\\x00\\x00\\x01\\x00\\x00\\x00\\x00\\x00...  \n",
              "18  b'\\x00\\x0c\\x01\\x00\\x00\\x01\\x00\\x00\\x00\\x00\\x00...  \n",
              "19  b\"\\x00\\x0c\\x01\\x00\\x00\\x01\\x00\\x00\\x00\\x00\\x00...  \n",
              "20  b'\\x00\\x0c\\x01\\x00\\x00\\x01\\x00\\x00\\x00\\x00\\x00...  \n",
              "21  b'\\x00\\x0c\\x01\\x00\\x00\\x01\\x00\\x00\\x00\\x00\\x00...  \n",
              "22  b'\\x00\\x0c\\x01\\x00\\x00\\x01\\x00\\x00\\x00\\x00\\x00...  \n",
              "23  b'\\x00\\x0c\\x01\\x00\\x00\\x01\\x00\\x00\\x00\\x00\\x00...  \n",
              "24  b'\\x00\\x0c\\x01\\x00\\x00\\x01\\x00\\x00\\x00\\x00\\x00...  \n",
              "25  b'\\x00\\x0c\\x01\\x00\\x00\\x01\\x00\\x00\\x00\\x00\\x00...  \n",
              "26  b'\\x00\\x0c\\x01\\x00\\x00\\x01\\x00\\x00\\x00\\x00\\x00...  \n",
              "27  b'\\x00\\x0c\\x01\\x00\\x00\\x01\\x00\\x00\\x00\\x00\\x00...  \n",
              "28  b'\\x00\\x0c\\x01\\x00\\x00\\x01\\x00\\x00\\x00\\x00\\x00...  \n",
              "29  b'\\x00\\x0c\\x01\\x00\\x00\\x01\\x00\\x00\\x00\\x00\\x00...  \n",
              "30  b'\\x00\\x0c\\x01\\x00\\x00\\x01\\x00\\x00\\x00\\x00\\x00...  "
            ],
            "text/html": [
              "\n",
              "  <div id=\"df-84733236-be7a-44cf-9ccb-237bdabfb233\">\n",
              "    <div class=\"colab-df-container\">\n",
              "      <div>\n",
              "<style scoped>\n",
              "    .dataframe tbody tr th:only-of-type {\n",
              "        vertical-align: middle;\n",
              "    }\n",
              "\n",
              "    .dataframe tbody tr th {\n",
              "        vertical-align: top;\n",
              "    }\n",
              "\n",
              "    .dataframe thead th {\n",
              "        text-align: right;\n",
              "    }\n",
              "</style>\n",
              "<table border=\"1\" class=\"dataframe\">\n",
              "  <thead>\n",
              "    <tr style=\"text-align: right;\">\n",
              "      <th></th>\n",
              "      <th>src</th>\n",
              "      <th>dst</th>\n",
              "      <th>payload</th>\n",
              "      <th>payload_raw</th>\n",
              "    </tr>\n",
              "  </thead>\n",
              "  <tbody>\n",
              "    <tr>\n",
              "      <th>0</th>\n",
              "      <td>10.1.10.53</td>\n",
              "      <td>84.54.22.33</td>\n",
              "      <td>933</td>\n",
              "      <td>b'\\x00\\x0c\\x01\\x00\\x00\\x01\\x00\\x00\\x00\\x00\\x00...</td>\n",
              "    </tr>\n",
              "    <tr>\n",
              "      <th>1</th>\n",
              "      <td>10.1.10.53</td>\n",
              "      <td>84.54.22.33</td>\n",
              "      <td>947</td>\n",
              "      <td>b'\\x00\\x0c\\x01\\x00\\x00\\x01\\x00\\x00\\x00\\x00\\x00...</td>\n",
              "    </tr>\n",
              "    <tr>\n",
              "      <th>2</th>\n",
              "      <td>10.1.10.53</td>\n",
              "      <td>84.54.22.33</td>\n",
              "      <td>984</td>\n",
              "      <td>b'\\x00\\x0c\\x01\\x00\\x00\\x01\\x00\\x00\\x00\\x00\\x00...</td>\n",
              "    </tr>\n",
              "    <tr>\n",
              "      <th>3</th>\n",
              "      <td>10.1.10.53</td>\n",
              "      <td>84.54.22.33</td>\n",
              "      <td>970</td>\n",
              "      <td>b'\\x00\\x0c\\x01\\x00\\x00\\x01\\x00\\x00\\x00\\x00\\x00...</td>\n",
              "    </tr>\n",
              "    <tr>\n",
              "      <th>4</th>\n",
              "      <td>10.1.10.53</td>\n",
              "      <td>84.54.22.33</td>\n",
              "      <td>975</td>\n",
              "      <td>b'\\x00\\x0c\\x01\\x00\\x00\\x01\\x00\\x00\\x00\\x00\\x00...</td>\n",
              "    </tr>\n",
              "    <tr>\n",
              "      <th>5</th>\n",
              "      <td>10.1.10.53</td>\n",
              "      <td>84.54.22.33</td>\n",
              "      <td>1017</td>\n",
              "      <td>b'\\x00\\x0c\\x01\\x00\\x00\\x01\\x00\\x00\\x00\\x00\\x00...</td>\n",
              "    </tr>\n",
              "    <tr>\n",
              "      <th>6</th>\n",
              "      <td>10.1.10.53</td>\n",
              "      <td>84.54.22.33</td>\n",
              "      <td>980</td>\n",
              "      <td>b'\\x00\\x0c\\x01\\x00\\x00\\x01\\x00\\x00\\x00\\x00\\x00...</td>\n",
              "    </tr>\n",
              "    <tr>\n",
              "      <th>7</th>\n",
              "      <td>10.1.10.53</td>\n",
              "      <td>84.54.22.33</td>\n",
              "      <td>951</td>\n",
              "      <td>b'\\x00\\x0c\\x01\\x00\\x00\\x01\\x00\\x00\\x00\\x00\\x00...</td>\n",
              "    </tr>\n",
              "    <tr>\n",
              "      <th>8</th>\n",
              "      <td>10.1.10.53</td>\n",
              "      <td>84.54.22.33</td>\n",
              "      <td>931</td>\n",
              "      <td>b'\\x00\\x0c\\x01\\x00\\x00\\x01\\x00\\x00\\x00\\x00\\x00...</td>\n",
              "    </tr>\n",
              "    <tr>\n",
              "      <th>9</th>\n",
              "      <td>10.1.10.53</td>\n",
              "      <td>84.54.22.33</td>\n",
              "      <td>964</td>\n",
              "      <td>b'\\x00\\x0c\\x01\\x00\\x00\\x01\\x00\\x00\\x00\\x00\\x00...</td>\n",
              "    </tr>\n",
              "    <tr>\n",
              "      <th>10</th>\n",
              "      <td>10.1.10.53</td>\n",
              "      <td>84.54.22.33</td>\n",
              "      <td>1023</td>\n",
              "      <td>b'\\x00\\x0c\\x01\\x00\\x00\\x01\\x00\\x00\\x00\\x00\\x00...</td>\n",
              "    </tr>\n",
              "    <tr>\n",
              "      <th>13</th>\n",
              "      <td>10.1.10.53</td>\n",
              "      <td>84.54.22.33</td>\n",
              "      <td>978</td>\n",
              "      <td>b'\\x00\\x0c\\x01\\x00\\x00\\x01\\x00\\x00\\x00\\x00\\x00...</td>\n",
              "    </tr>\n",
              "    <tr>\n",
              "      <th>14</th>\n",
              "      <td>10.1.10.53</td>\n",
              "      <td>84.54.22.33</td>\n",
              "      <td>958</td>\n",
              "      <td>b'\\x00\\x0c\\x01\\x00\\x00\\x01\\x00\\x00\\x00\\x00\\x00...</td>\n",
              "    </tr>\n",
              "    <tr>\n",
              "      <th>15</th>\n",
              "      <td>10.1.10.53</td>\n",
              "      <td>84.54.22.33</td>\n",
              "      <td>976</td>\n",
              "      <td>b'\\x00\\x0c\\x01\\x00\\x00\\x01\\x00\\x00\\x00\\x00\\x00...</td>\n",
              "    </tr>\n",
              "    <tr>\n",
              "      <th>16</th>\n",
              "      <td>10.1.10.53</td>\n",
              "      <td>84.54.22.33</td>\n",
              "      <td>1009</td>\n",
              "      <td>b'\\x00\\x0c\\x01\\x00\\x00\\x01\\x00\\x00\\x00\\x00\\x00...</td>\n",
              "    </tr>\n",
              "    <tr>\n",
              "      <th>17</th>\n",
              "      <td>10.1.10.53</td>\n",
              "      <td>84.54.22.33</td>\n",
              "      <td>976</td>\n",
              "      <td>b'\\x00\\x0c\\x01\\x00\\x00\\x01\\x00\\x00\\x00\\x00\\x00...</td>\n",
              "    </tr>\n",
              "    <tr>\n",
              "      <th>18</th>\n",
              "      <td>10.1.10.53</td>\n",
              "      <td>84.54.22.33</td>\n",
              "      <td>1011</td>\n",
              "      <td>b'\\x00\\x0c\\x01\\x00\\x00\\x01\\x00\\x00\\x00\\x00\\x00...</td>\n",
              "    </tr>\n",
              "    <tr>\n",
              "      <th>19</th>\n",
              "      <td>10.1.10.53</td>\n",
              "      <td>84.54.22.33</td>\n",
              "      <td>1009</td>\n",
              "      <td>b\"\\x00\\x0c\\x01\\x00\\x00\\x01\\x00\\x00\\x00\\x00\\x00...</td>\n",
              "    </tr>\n",
              "    <tr>\n",
              "      <th>20</th>\n",
              "      <td>10.1.10.53</td>\n",
              "      <td>84.54.22.33</td>\n",
              "      <td>1007</td>\n",
              "      <td>b'\\x00\\x0c\\x01\\x00\\x00\\x01\\x00\\x00\\x00\\x00\\x00...</td>\n",
              "    </tr>\n",
              "    <tr>\n",
              "      <th>21</th>\n",
              "      <td>10.1.10.53</td>\n",
              "      <td>84.54.22.33</td>\n",
              "      <td>982</td>\n",
              "      <td>b'\\x00\\x0c\\x01\\x00\\x00\\x01\\x00\\x00\\x00\\x00\\x00...</td>\n",
              "    </tr>\n",
              "    <tr>\n",
              "      <th>22</th>\n",
              "      <td>10.1.10.53</td>\n",
              "      <td>84.54.22.33</td>\n",
              "      <td>978</td>\n",
              "      <td>b'\\x00\\x0c\\x01\\x00\\x00\\x01\\x00\\x00\\x00\\x00\\x00...</td>\n",
              "    </tr>\n",
              "    <tr>\n",
              "      <th>23</th>\n",
              "      <td>10.1.10.53</td>\n",
              "      <td>84.54.22.33</td>\n",
              "      <td>978</td>\n",
              "      <td>b'\\x00\\x0c\\x01\\x00\\x00\\x01\\x00\\x00\\x00\\x00\\x00...</td>\n",
              "    </tr>\n",
              "    <tr>\n",
              "      <th>24</th>\n",
              "      <td>10.1.10.53</td>\n",
              "      <td>84.54.22.33</td>\n",
              "      <td>985</td>\n",
              "      <td>b'\\x00\\x0c\\x01\\x00\\x00\\x01\\x00\\x00\\x00\\x00\\x00...</td>\n",
              "    </tr>\n",
              "    <tr>\n",
              "      <th>25</th>\n",
              "      <td>10.1.10.53</td>\n",
              "      <td>84.54.22.33</td>\n",
              "      <td>991</td>\n",
              "      <td>b'\\x00\\x0c\\x01\\x00\\x00\\x01\\x00\\x00\\x00\\x00\\x00...</td>\n",
              "    </tr>\n",
              "    <tr>\n",
              "      <th>26</th>\n",
              "      <td>10.1.10.53</td>\n",
              "      <td>84.54.22.33</td>\n",
              "      <td>977</td>\n",
              "      <td>b'\\x00\\x0c\\x01\\x00\\x00\\x01\\x00\\x00\\x00\\x00\\x00...</td>\n",
              "    </tr>\n",
              "    <tr>\n",
              "      <th>27</th>\n",
              "      <td>10.1.10.53</td>\n",
              "      <td>84.54.22.33</td>\n",
              "      <td>989</td>\n",
              "      <td>b'\\x00\\x0c\\x01\\x00\\x00\\x01\\x00\\x00\\x00\\x00\\x00...</td>\n",
              "    </tr>\n",
              "    <tr>\n",
              "      <th>28</th>\n",
              "      <td>10.1.10.53</td>\n",
              "      <td>84.54.22.33</td>\n",
              "      <td>999</td>\n",
              "      <td>b'\\x00\\x0c\\x01\\x00\\x00\\x01\\x00\\x00\\x00\\x00\\x00...</td>\n",
              "    </tr>\n",
              "    <tr>\n",
              "      <th>29</th>\n",
              "      <td>10.1.10.53</td>\n",
              "      <td>84.54.22.33</td>\n",
              "      <td>941</td>\n",
              "      <td>b'\\x00\\x0c\\x01\\x00\\x00\\x01\\x00\\x00\\x00\\x00\\x00...</td>\n",
              "    </tr>\n",
              "    <tr>\n",
              "      <th>30</th>\n",
              "      <td>10.1.10.53</td>\n",
              "      <td>84.54.22.33</td>\n",
              "      <td>560</td>\n",
              "      <td>b'\\x00\\x0c\\x01\\x00\\x00\\x01\\x00\\x00\\x00\\x00\\x00...</td>\n",
              "    </tr>\n",
              "  </tbody>\n",
              "</table>\n",
              "</div>\n",
              "      <button class=\"colab-df-convert\" onclick=\"convertToInteractive('df-84733236-be7a-44cf-9ccb-237bdabfb233')\"\n",
              "              title=\"Convert this dataframe to an interactive table.\"\n",
              "              style=\"display:none;\">\n",
              "        \n",
              "  <svg xmlns=\"http://www.w3.org/2000/svg\" height=\"24px\"viewBox=\"0 0 24 24\"\n",
              "       width=\"24px\">\n",
              "    <path d=\"M0 0h24v24H0V0z\" fill=\"none\"/>\n",
              "    <path d=\"M18.56 5.44l.94 2.06.94-2.06 2.06-.94-2.06-.94-.94-2.06-.94 2.06-2.06.94zm-11 1L8.5 8.5l.94-2.06 2.06-.94-2.06-.94L8.5 2.5l-.94 2.06-2.06.94zm10 10l.94 2.06.94-2.06 2.06-.94-2.06-.94-.94-2.06-.94 2.06-2.06.94z\"/><path d=\"M17.41 7.96l-1.37-1.37c-.4-.4-.92-.59-1.43-.59-.52 0-1.04.2-1.43.59L10.3 9.45l-7.72 7.72c-.78.78-.78 2.05 0 2.83L4 21.41c.39.39.9.59 1.41.59.51 0 1.02-.2 1.41-.59l7.78-7.78 2.81-2.81c.8-.78.8-2.07 0-2.86zM5.41 20L4 18.59l7.72-7.72 1.47 1.35L5.41 20z\"/>\n",
              "  </svg>\n",
              "      </button>\n",
              "      \n",
              "  <style>\n",
              "    .colab-df-container {\n",
              "      display:flex;\n",
              "      flex-wrap:wrap;\n",
              "      gap: 12px;\n",
              "    }\n",
              "\n",
              "    .colab-df-convert {\n",
              "      background-color: #E8F0FE;\n",
              "      border: none;\n",
              "      border-radius: 50%;\n",
              "      cursor: pointer;\n",
              "      display: none;\n",
              "      fill: #1967D2;\n",
              "      height: 32px;\n",
              "      padding: 0 0 0 0;\n",
              "      width: 32px;\n",
              "    }\n",
              "\n",
              "    .colab-df-convert:hover {\n",
              "      background-color: #E2EBFA;\n",
              "      box-shadow: 0px 1px 2px rgba(60, 64, 67, 0.3), 0px 1px 3px 1px rgba(60, 64, 67, 0.15);\n",
              "      fill: #174EA6;\n",
              "    }\n",
              "\n",
              "    [theme=dark] .colab-df-convert {\n",
              "      background-color: #3B4455;\n",
              "      fill: #D2E3FC;\n",
              "    }\n",
              "\n",
              "    [theme=dark] .colab-df-convert:hover {\n",
              "      background-color: #434B5C;\n",
              "      box-shadow: 0px 1px 3px 1px rgba(0, 0, 0, 0.15);\n",
              "      filter: drop-shadow(0px 1px 2px rgba(0, 0, 0, 0.3));\n",
              "      fill: #FFFFFF;\n",
              "    }\n",
              "  </style>\n",
              "\n",
              "      <script>\n",
              "        const buttonEl =\n",
              "          document.querySelector('#df-84733236-be7a-44cf-9ccb-237bdabfb233 button.colab-df-convert');\n",
              "        buttonEl.style.display =\n",
              "          google.colab.kernel.accessAllowed ? 'block' : 'none';\n",
              "\n",
              "        async function convertToInteractive(key) {\n",
              "          const element = document.querySelector('#df-84733236-be7a-44cf-9ccb-237bdabfb233');\n",
              "          const dataTable =\n",
              "            await google.colab.kernel.invokeFunction('convertToInteractive',\n",
              "                                                     [key], {});\n",
              "          if (!dataTable) return;\n",
              "\n",
              "          const docLinkHtml = 'Like what you see? Visit the ' +\n",
              "            '<a target=\"_blank\" href=https://colab.research.google.com/notebooks/data_table.ipynb>data table notebook</a>'\n",
              "            + ' to learn more about interactive tables.';\n",
              "          element.innerHTML = '';\n",
              "          dataTable['output_type'] = 'display_data';\n",
              "          await google.colab.output.renderOutput(dataTable, element);\n",
              "          const docLink = document.createElement('div');\n",
              "          docLink.innerHTML = docLinkHtml;\n",
              "          element.appendChild(docLink);\n",
              "        }\n",
              "      </script>\n",
              "    </div>\n",
              "  </div>\n",
              "  "
            ]
          },
          "metadata": {},
          "execution_count": 136
        }
      ]
    },
    {
      "cell_type": "markdown",
      "source": [
        "### e. Obtenga los payloads del DF del inciso d, y añada cada uno en un array. "
      ],
      "metadata": {
        "id": "mXFfDhEs7VTA"
      }
    },
    {
      "cell_type": "code",
      "source": [
        "suspicius_array = suspicious_df.iloc[:,3:].values"
      ],
      "metadata": {
        "id": "tcp59oSE7Ngv"
      },
      "execution_count": 143,
      "outputs": []
    },
    {
      "cell_type": "markdown",
      "source": [
        "### f. Muestre el contenido del array"
      ],
      "metadata": {
        "id": "8DvoDRrE7ZRs"
      }
    },
    {
      "cell_type": "code",
      "source": [
        "suspicius_array"
      ],
      "metadata": {
        "id": "GGIzoTz17aG2",
        "colab": {
          "base_uri": "https://localhost:8080/"
        },
        "outputId": "200fbb1f-e295-4917-e96f-ed25482b8316"
      },
      "execution_count": 144,
      "outputs": [
        {
          "output_type": "execute_result",
          "data": {
            "text/plain": [
              "array([[b'\\x00\\x0c\\x01\\x00\\x00\\x01\\x00\\x00\\x00\\x00\\x00\\x00\\x06google\\x03com\\x00\\x00\\x1c\\x00\\x01\\xef\\xbf\\xbdPNG\\r\\n\\x1a\\n\\x00\\x00\\x00\\rIHDR\\x00\\x00\\x01b\\x00\\x00\\x00\\xef\\xbf\\xbd\\x08\\x06\\x00\\x00\\x00(\\xef\\xbf\\xbdTR\\x00\\x00:\\xef\\xbf\\xbdIDATx\\xef\\xbf\\xbd\\xef\\xbf\\xbd\\t|T\\xef\\xbf\\xbd\\xef\\xbf\\xbd\\xef\\xbf\\xbd\\xef\\xbf\\xbd\\xef\\xbf\\xbd;K\\x12\\x08;\\x08\\xef\\xbf\\xbd\\nE\\xef\\xbf\\xbd\\xef\\xbf\\xbd$\\x19\\xef\\xbf\\xbd\\xef\\xbf\\xbdZi\\xdf\\xaa-\\xef\\xbf\\xbd;N2\\xef\\xbf\\xbd\\xef\\xbf\\xbdV\\xef\\xbf\\xbdV\\xef\\xbf\\xbda\\xef\\xbf\\xbdZ\\x11!\\xef\\xbf\\xbd\\xef\\xbf\\xbd\\x01\\xdc\\xbbik[\\xef\\xbf\\xbd.ok\\xef\\xbf\\xbde\\xef\\xbf\\xbd\\x01\\\\\\xef\\xbf\\xbd\\xef\\xbf\\xbd]\\xef\\xbf\\xbd-\\xef\\xbf\\xbd\\xef\\xbf\\xbd\\xef\\xbf\\xbdd\\xef\\xbf\\xbd\\x08\\xef\\xbf\\xbd\\x08\\xef\\xbf\\xbd\\xef\\xbf\\xbdg\\xef\\xbf\\xbd\\xef\\xbf\\xbd\\xef\\xbf\\xbd<\\xef\\xbf\\xbd\\xef\\xbf\\xbdL\\x12\\xef\\xbf\\xbd$3wf\\xef\\xbf\\xbd\\xef\\xbf\\xbd\\x02<_\\r\\xef\\xbf\\xbdY\\xef\\xbf\\xbdr\\xef\\xbf\\xbd\\xef\\xbf\\xbdy\\xef\\xbf\\xbd\\xef\\xbf\\xbd\\xef\\xbf\\xbd\\x1c\\r\\x18\\xef\\xbf\\xbd8c\\xef\\xbf\\xbdew\\r\\x1e\\xef\\xbf\\xbd\\xef\\xbf\\xbd\\xef\\xbf\\xbd\\xef\\xbf\\xbd\\x13\\xef\\xbf\\xbdiaK\\xef\\xbf\\xbd\\xef\\xbf\\xbd\\xef\\xbf\\xbd\\xef\\xbf\\xbdu}\\xc5\\xb2w\\xef\\xbf\\xbdd\\xef\\xbf\\xbd\\xef\\xbf\\xbd\\x15\\xef\\xbf\\xbd\"`\\x06:\\x13\\xef\\xbf\\xbd\\x0b\\xef\\xbf\\xbd\\x0c\\x16\\xef\\xbf\\xbd\\x12\\xef\\xbf\\xbd&\\xef\\xbf\\xbd9\\xc6\\x90\\xef\\xbf\\xbd\\x00\\xef\\xbf\\xbd\\xef\\xbf\\xbd\\xef\\xbf\\xbd\\x08\\x111\\xd2\\x8cQHP*\\xef\\xbf\\xbd@\\x04O4\\xef\\xbf\\xbd\\xef\\xbf\\xbd\\xef\\xbf\\xbd7<y\\xef\\xbf\\xbd\\x0e.9\\xef\\xbf\\xbd\\xef\\xbf\\xbd\\xef\\xbf\\xbda2@a\\xef\\xbf\\xbd\\xef\\xbf\\xbd&\"\\xef\\xbf\\xbd\\x13\\x11\\xef\\xbf\\xbdc\\xef\\xbf\\xbdkO\\xef\\xbf\\xbds@\\xef\\xbf\\xbd9\\xef\\xbf\\xbdi\\xef\\xbf\\xbd4X\\xef\\xbf\\xbdx\\xef\\xbf\\xbdK\\xef\\xbf\\xbda!f\\xef\\xbf\\xbd\\xef\\xbf\\xbd0w\\xef\\xbf\\xbd\\xef\\xbf\\xbd3dx\\x1d\"\\xef\\xbf\\xbd\\xef\\xbf\\xbd\\xef\\xbf\\xbdC(\\xef\\xbf\\xbd}\\xef\\xbf\\xbd0|q\\xef\\xbf\\xbd*\\xef\\xbf\\xbd\\xef\\xbf\\xbd\\x0b\\xef\\xbf\\xbda!f\\xef\\xbf\\xbd4\\xef\\xbf\\xbd\\xef\\xbf\\xbd.\\xef\\xbf\\xbdsKg\\x10\\x11]=9N\\xd4\\x82\\x06\\xef\\xbf\\xbd\\xef\\xbf\\xbdu\\xef\\xbf\\xbd\\xef\\xbf\\xbd\\xef\\xbf\\xbdK_\\xef\\xbf\\xbde\\x06*\\xef\\xbf\\xbd\\xef\\xbf\\xbd\\xef\\xbf\\xbd\\x19Px\\xef\\xbf\\xbd\\xef\\xbf\\xbd%\\xef\\xbf\\xbd\\xef\\xbf\\xbd\\x03\\xef\\xbf\\xbd3\\xef\\xbf\\xbd\\xef\\xbf\\xbd\\x1e\"E?\\x0f\\xef\\xbf\\xbd\\xef\\xbf\\xbd\\xef\\xbf\\xbd+H\\xef\\xbf\\xbd]Q\\xef\\xbf\\xbdk\\xef\\xbf\\xbd\\xef\\xbf\\xbd\\xef\\xbf\\xbd\\xef\\xbf\\xbd8\\xef\\xbf\\xbd\"\\xef\\xbf\\xbd\\x1d\\x114v\\xef\\xbf\\xbd2\\x10\\xef\\xbf\\xbd\\xef\\xbf\\xbd\\xef\\xbf\\xbd\\xe5\\x92\\xaf\\xcc\\xb8|\\xef\\xbf\\xbdx.\\\\\\xef\\xbf\\xbd-b\\xef\\xbf\\xbdI\\xef\\xbf\\xbdB\\xef\\xbf\\xbd\\xef\\xbf\\xbd\\xef\\xbf\\xbd@\\xef\\xbf\\xbdL\\xef\\xbf\\xbd\\xef\\xbf\\xbdCJ]XWQ\\xef\\xbf\\xbd\\xef\\xbf\\xbd\\xef\\xbf\\xbd\\xef\\xbf\\xbduQ\\xef\\xbf\\xbdkQ\\x13\\x7f\\xef\\xbf\\xbdN\\xef\\xbf\\xbd1\\x00\\xef\\xbf\\xbd\\xef\\xbf\\xbd\\xef\\xbf\\xbd2\\x17\\xef\\xbf\\xbd03\\x10\\xef\\xbf\\xbd\\\\\\x04\\xef\\xbf\\xbd@!\\xef\\xbf\\xbdH\\xef\\xbf\\xbdBJqG\\'+\\xef\\xbf\\xbdR\\xef\\xbf\\xbdU\\\\[\\xef\\xbf\\xbd\\xef\\xbf\\xbd\\xef\\xbf\\xbd\\xef\\xbf\\xbdGXC;\\xef\\xbf\\xbd\\xef\\xbf\\xbd\\xd4\\x8e\\xef\\xbf\\xbdq\\xef\\xbf\\xbd!\\x04\\xef\\xbf\\xbdr\\xef\\xbf\\xbds=\\xef\\xbf\\xbd\\x02r\\xd4\\xb4\\x0b\\xef\\xbf\\xbd\\xef\\xbf\\xbd\\xef\\xbf\\xbd_S\\xef\\xbf\\xbd%\\xef\\xbf\\xbdph\\xef\\xbf\\xbda\\x12Y\\x05\\x02\\xef\\xbf\\xbd\\xef\\xbf\\xbd\\xef\\xbf\\xbd\\xef\\xbf\\xbdc\\xef\\xbf\\xbd\\xef\\xbf\\xbd\\xef\\xbf\\xbdP\\xef\\xbf\\xbd9\\xef\\xbf\\xbd'],\n",
              "       [b'\\x00\\x0c\\x01\\x00\\x00\\x01\\x00\\x00\\x00\\x00\\x00\\x00\\x06google\\x03com\\x00\\x00\\x1c\\x00\\x01:\\xef\\xbf\\xbdle:\\xc7\\xa9\\xef\\xbf\\xbd\\xef\\xbf\\xbd\\xef\\xbf\\xbd\\x0c\\xef\\xbf\\xbd\\xef\\xbf\\xbd\\xef\\xbf\\xbd:|\\x11\\xef\\xbf\\xbdX\\xef\\xbf\\xbd\\xef\\xbf\\xbdq.e\\xef\\xbf\\xbd\\xef\\xbf\\xbd\\xef\\xbf\\xbda\\x120\\xef\\xbf\\xbdJ}4\\n9$vz\\xef\\xbf\\xbdR\\xef\\xbf\\xbduO/\\xef\\xbf\\xbd\\xef\\xbf\\xbd;\\xc7\\xab]\\xef\\xbf\\xbd\\xef\\xbf\\xbdM\"\\xef\\xbf\\xbdrT\\xd3\\xa3H1i\\xef\\xbf\\xbd\\xef\\xbf\\xbd\\xcb\\xa5\\xcd\\xb0\\x103L<k\\xef\\xbf\\xbd\\x01_\\x07R\\x1d,\\xef\\xbf\\xbd\\xef\\xbf\\xbdF\\xef\\xbf\\xbd\\xef\\xbf\\xbd\\xe4\\x98\\xa10]\\x1e\\xef\\xbf\\xbd\\xef\\xbf\\xbd\\xef\\xbf\\xbd\\x1eSY\\xef\\xbf\\xbd\\xef\\xbf\\xbd\\x0b\\x0fqi3,\\xef\\xbf\\xbd\\x0c\\x13\\x07D\\xef\\xbf\\xbd\\xef\\xbf\\xbd\\xef\\xbf\\xbd\\x0b\\xef\\xbf\\xbd\\xef\\xbf\\xbd\\x19c{O\\xef\\xbf\\xbd\\xef\\xbf\\xbdn\\xef\\xbf\\xbdQK\\xef\\xbf\\xbd\\n\\xef\\xbf\\xbdZ\\xef\\xbf\\xbd\\x00p)\\xef\\xbf\\xbd63\\xef\\xbf\\xbd\\xef\\xbf\\xbd\\\\\\x13\\'-\\xef\\xbf\\xbd\\xef\\xbf\\xbdU\\x0cy\\x12\\xef\\xbf\\xbdc\\x115\\xef\\xbf\\xbdV\\xef\\xbf\\xbd\\x00\\xef\\xbf\\xbd\\xea\\xaf\\xab!\\xef\\xbf\\xbd)\\x1d\\xef\\xbf\\xbd\\xef\\xbf\\xbd\\x10}\\xef\\xbf\\xbd\\xef\\xbf\\xbd\\xef\\xbf\\xbd*\\x05\\x15R\\xef\\xbf\\xbd\\xef\\xbf\\xbdG\\xef\\xbf\\xbdX\\xef\\xbf\\xbd\\xef\\xbf\\xbd\\xef\\xbf\\xbdY\\xef\\xbf\\xbdS.\\xef\\xbf\\xbdkpv\\xef\\xbf\\xbd\\xef\\xbf\\xbd\\x08H\\x1e8\\xef\\xbf\\xbd\\x10z\\xef\\xbf\\xbd\\xef\\xbf\\xbd\\x7f\\xef\\xbf\\xbdm\\xef\\xbf\\xbda!>\\t\\xef\\xbf\\xbd/\\xef\\xbf\\xbd/\\xef\\xbf\\xbd\\x02\\xef\\xbf\\xbdF\\x14\\x02\\xef\\xbf\\xbd@\\x00B\\xef\\xbf\\xbd\\xef\\xbf\\xbd^\\xef\\xbf\\xbd\\xef\\xbf\\xbd\\xef\\xbf\\xbdy\\xef\\xbf\\xbd\\xef\\xbf\\xbd\\x10\\x1d.\\xef\\xbf\\xbd\\xef\\xbf\\xbd\\xef\\xbf\\xbd1\\x1d\\x06\\xd8\\x95\\x11K\\x1b\\xef\\xbf\\xbd\\xef\\xbf\\xbd\\xef\\xbf\\xbd\\xef\\xbf\\xbdb\\xef\\xbf\\xbd\\xef\\xbf\\xbd\\xef\\xbf\\xbd;\\xef\\xbf\\xbd\\xef\\xbf\\xbd\\x08\\xef\\xbf\\xbd\\xef\\xbf\\xbd=N\\xef\\xbf\\xbd\\xef\\xbf\\xbd 7\\'\\'k\\x1f\\x02\\xef\\xbf\\xbd\\xef\\xbf\\xbdu\\x0c\\x19\\xef\\xbf\\xbd\\x02\\xef\\xbf\\xbdO\\xef\\xbf\\xbd\\xef\\xbf\\xbd\\xef\\xbf\\xbda\\xef\\xbf\\xbd\\\\\\x16d\\x16b\\xef\\xbf\\xbd$a\\xef\\xbf\\xbd\\x15\\xef\\xbf\\xbdFd\\xef\\xbf\\xbd\\xef\\xbf\\xbd\\xef\\xbf\\xbd\\x16\\xef\\xbf\\xbd3Z\\xef\\xbf\\xbd\\xef\\xbf\\xbd\\x1e\\x13(!\\xc4\\xb9\\xef\\xbf\\xbd\\xef\\xbf\\xbd\\xef\\xbf\\xbdWj\\x03\\xef\\xbf\\xbd_S=^\\xef\\xbf\\xbdW?\\xef\\xbf\\xbd%\\xef\\xbf\\xbd\\xef\\xbf\\xbd\\x00\\xef\\xbf\\xbdR\\xef\\xbf\\xbd\\xef\\xbf\\xbdK \\x10\\xef\\xbf\\xbd\\xef\\xbf\\xbd{mV8\\x14B<\\xef\\xbf\\xbd\\xef\\xbf\\xbd\\xef\\xbf\\xbd,x=#\\x16\\xef\\xbf\\xbdi\\xef\\xbf\\xbd%dL\\xef\\xbf\\xbd\\xef\\xbf\\xbd\\xef\\xbf\\xbd\\xef\\xbf\\xbd\\x08\\xef\\xbf\\xbd\\xef\\xbf\\xbd=k\\xef\\xbf\\xbd\\xef\\xbf\\xbd]\\xef\\xbf\\xbd\\xef\\xbf\\xbd\\xef\\xbf\\xbd\\xc6\\x96\\xef\\xbf\\xbd\\xef\\xbf\\xbd\\rO\\xef\\xbf\\xbd\\xef\\xbf\\xbdI\\xef\\xbf\\xbd\\xef\\xbf\\xbd\\xef\\xbf\\xbd\\x1d2\\xef\\xbf\\xbd5h\\x1d\\xef\\xbf\\xbd\\xda\\xae%\\xea\\x80\\x8c\\xef\\xbf\\xbd\\x1d\\xef\\xbf\\xbd\\xef\\xbf\\xbd\\xef\\xbf\\xbd)\\xef\\xbf\\xbd_\\x0fV\\x18\\xef\\xbf\\xbdr+=9\\xef\\xbf\\xbd\\x18\\xef\\xbf\\xbdID\\xef\\xbf\\xbd\\xef\\xbf\\xbd\\xef\\xbf\\xbd:\\x02L\\xef\\xbf\\xbdc\\xef\\xbf\\xbd\\xef\\xbf\\xbd\\x0e\\xef\\xbf\\xbd\\xef\\xbf\\xbdR\\xef\\xbf\\xbd7\\x1dc\\xef\\xbf\\xbd-\\xef\\xbf\\xbd]D\\xef\\xbf\\xbd]\\x08qw\\xef\\xbf\\xbd\\xef\\xbf\\xbd\\xef\\xbf\\xbdp\\xef\\xbf\\xbdd}\\xef\\xbf\\xbdM(##\\xef\\xbf\\xbd\\xda\\xbf{\\xcb\\xa2L\\xef\\xbf\\xbds\\xef\\xbf\\xbd\\'\\xef\\xbf\\xbd2\\x01\\x1c\\x15^K\\xef\\xbf\\xbd;{r\\xef\\xbf\\xbdQ2w\\xef\\xbf\\xbd\\x10p;\\n\\xef\\xbf\\xbd^\\xef\\xbf\\xbd\\xef\\xbf\\xbd\\xef\\xbf\\xbd~z\\xef\\xbf\\xbd\\xef\\xbf\\xbdPv.\\xef\\xbf\\xbd\\xef\\xbf\\xbd\\xef\\xbf\\xbd\\x00\\x05~\\xef\\xbf\\xbd\\xef\\xbf\\xbd'],\n",
              "       [b'\\x00\\x0c\\x01\\x00\\x00\\x01\\x00\\x00\\x00\\x00\\x00\\x00\\x06google\\x03com\\x00\\x00\\x1c\\x00\\x01\\xef\\xbf\\xbd\\xef\\xbf\\xbd^n\\xef\\xbf\\xbd\\'\\'\\xef\\xbf\\xbd\\xef\\xbf\\xbd\\xef\\xbf\\xbd$\\xef\\xbf\\xbd\\xef\\xbf\\xbd\\xef\\xbf\\xbd\\xef\\xbf\\xbd\\xef\\xbf\\xbdR\\xef\\xbf\\xbd\\xef\\xbf\\xbd\\xef\\xbf\\xbd\\x17\\xef\\xbf\\xbd>Epou\\xef\\xbf\\xbd\\xef\\xbf\\xbd$\\xef\\xbf\\xbd\\xef\\xbf\\xbdM\\xef\\xbf\\xbd\\xef\\xbf\\xbd\\x1c\\xef\\xbf\\xbd\\xef\\xbf\\xbd\\x0e\\xef\\xbf\\xbdtB\\r\\xef\\xbf\\xbd\\xd4\\xbag\\xef\\xbf\\xbdm\\xef\\xbf\\xbd\\xef\\xbf\\xbd>8w\\xe8\\x84\\xaa\\xef\\xbf\\xbd\\xef\\xbf\\xbd5\\xef\\xbf\\xbd\\xef\\xbf\\xbd\\xef\\xbf\\xbd<\\xef\\xbf\\xbd>\\xef\\xbf\\xbd\\x19\\xef\\xbf\\xbd\\xef\\xbf\\xbdl\\x0e<p\\xef\\xbf\\xbd\\xef\\xbf\\xbd\\xc7\\x98\\xef\\xbf\\xbd\\xef\\xbf\\xbd\\xef\\xbf\\xbdw8\\xef\\xbf\\xbd\\xef\\xbf\\xbd@\\xd4\\xae\\xef\\xbf\\xbd`Y\\xef\\xbf\\xbd\\xef\\xbf\\xbd\\x15\\xef\\xbf\\xbdoR\\xef\\xbf\\xbdH\\xef\\xbf\\xbd\\xef\\xbf\\xbdhD\\xef\\xbf\\xbd(\\xef\\xbf\\xbd;\\xef\\xbf\\xbd8*~o\\x14`Y\\xef\\xbf\\xbdm\\xef\\xbf\\xbd\\x15\\xef\\xbf\\xbd?\\xef\\xbf\\xbd\\x16\\xcb\\xa1\\t\\xef\\xbf\\xbd\\x04DJ\\xef\\xbf\\xbd1PD\\xef\\xbf\\xbd\\x143O\\xef\\xbf\\xbd\\x16UU\\x18\\xef\\xbf\\xbdw\\xef\\xbf\\xbdx.\\x05C\\xef\\xbf\\xbd\\xef\\xbf\\xbdH\\xef\\xbf\\xbdt\\xef\\xbf\\xbd\\xef\\xbf\\xbd\\x1a7=\\xef\\xbf\\xbd\\xe8\\xa1\\x88\\x11\\xef\\xbf\\xbd\\x1b\\xef\\xbf\\xbd_\\x1f06e\\xef\\xbf\\xbd0\\x1d\\xef\\xbf\\xbd_P4\\x13r\\xef\\xbf\\xbd9,6\\xef\\xbf\\xbd\\x18\\rc\\xef\\xbf\\xbd\\x06\\xef\\xbf\\xbdE\\xef\\xbf\\xbd<\\xef\\xbf\\xbdS\\xc2\\xa1\\xef\\xbf\\xbd\\xef\\xbf\\xbd\\x08\\xc3\\x8f\\x1eNY$\\x04\\xef\\xbf\\xbd\\x08\\x00X\\xef\\xbf\\xbd94\\xef\\xbf\\xbd\\xef\\xbf\\xbdp\\xd6\\xb0\\xef\\xbf\\xbd\\xef\\xbf\\xbd\\xef\\xbf\\xbd\\xef\\xbf\\xbd\\x15\\x17+\\xc2\\xa6\\xef\\xbf\\xbd\\xef\\xbf\\xbd\\xef\\xbf\\xbd0\\xef\\xbf\\xbdS\\x0cU\\xef\\xbf\\xbdj\\xef\\xbf\\xbd{A\\x7f\\xef\\xbf\\xbd\\x08\"z\\xef\\xbf\\xbdC\\xef\\xbf\\xbd\\x02P\\xef\\xbf\\xbd{\\x17\\xef\\xbf\\xbd\\xef\\xbf\\xbde\\xef\\xbf\\xbd\\x161s\\xef\\xbf\\xbd\\xef\\xbf\\xbd\\x02\\xef\\xbf\\xbd\\xef\\xbf\\xbd\\xef\\xbf\\xbd\\xef\\xbf\\xbd\\xef\\xbf\\xbd\\xef\\xbf\\xbd`\\xef\\xbf\\xbd\\xef\\xbf\\xbd\\xef\\xbf\\xbd\\x07\\xc2\\xb5M\\xef\\xbf\\xbdp\\xef\\xbf\\xbd\\xef\\xbf\\xbda\\xef\\xbf\\xbdS\\xef\\xbf\\xbd\\xef\\xbf\\xbd;\\xef\\xbf\\xbd \\x04\\x10\\xda\\xb0i\\xef\\xbf\\xbd\\x07\\x03!i|S\\xc8\\xbc(\\xef\\xbf\\xbd\\xef\\xbf\\xbd\\xef\\xbf\\xbd\\xef\\xbf\\xbd\\x1e\\xef\\xbf\\xbd\\xef\\xbf\\xbdh\\x02\\x18y>\\x00Tp\\xef\\xbf\\xbde!fN(%\\xef\\xbf\\xbd\\xef\\xbf\\xbd\\x1d\\x7f\\xef\\xbf\\xbdtw\\xef\\xbf\\xbd\\xef\\xbf\\xbd\\xef\\xbf\\xbdr\\xce\\x98\\xef\\xbf\\xbd\\xef\\xbf\\xbdG\\xef\\xbf\\xbd\\xef\\xbf\\xbd\\xef\\xbf\\xbdI\\xef\\xbf\\xbd\\xef\\xbf\\xbd5\\xef\\xbf\\xbd\\xef\\xbf\\xbd%\\xef\\xbf\\xbd\\xef\\xbf\\xbd\\xef\\xbf\\xbd\\xef\\xbf\\xbdN\\x008g\\xef\\xbf\\xbd\\x19`M\\xd6\\xb7\\xef\\xbf\\xbd&|+\\xef\\xbf\\xbd\\xef\\xbf\\xbd\"\\xef\\xbf\\xbd\\xef\\xbf\\xbd\\xef\\xbf\\xbd\\xef\\xbf\\xbd\\xef\\xbf\\xbd\\xef\\xbf\\xbd9\\xef\\xbf\\xbdr\\x03\\xd1\\xb1\\t\\'(\\xef\\xbf\\xbd\\xef\\xbf\\xbdq\\xef\\xbf\\xbd\\x103\\'\\xef\\xbf\\xbd\\x0e\\x13\\xef\\xbf\\xbd@y,\\xef\\xbf\\xbd\\xef\\xbf\\xbd{R\\xef\\xbf\\xbd\\x06\\xef\\xbf\\xbd\\x00\\xef\\xbf\\xbd\\x01D\\xef\\xbf\\xbd\\xef\\xbf\\xbd\\xef\\xbf\\xbd1J\\t\\xef\\xbf\\xbd\\xef\\xbf\\xbd\\x1f\\xef\\xbf\\xbd;4|\\xef\\xbf\\xbd\\xef\\xbf\\xbd\\xef\\xbf\\xbd\\x0f~\\xef\\xbf\\xbd\\x03N\\xd9\\xba\\xef\\xbf\\xbdh\\xef\\xbf\\xbd\\xef\\xbf\\xbd\\xeb\\x90\\xae\\\\\\xef\\xbf\\xbd\\x16\\xef\\xbf\\xbdp\\xef\\xbf\\xbd\\xef\\xbf\\xbd\\xef\\xbf\\xbd;\\xef\\xbf\\xbdI\\xef\\xbf\\xbd]\\xef\\xbf\\xbd\\x00\\xe8\\x80\\xb8S\\xef\\xbf\\xbd\\xef\\xbf\\xbdx\\xef\\xbf\\xbdj;?\"\\x0e\\x19~\\n\\xef\\xbf\\xbd\\xc5\\xb3\\xef\\xbf\\xbd\\x18\\x16b\\xe6\\x84\\xa7PL\\xef\\xbf\\xbd\\xef\\xbf\\xbd@\\xef\\xbf\\xbd\\x1a\\xef\\xbf\\xbd\\x1dA\\xef\\xbf\\xbd\\xef\\xbf\\xbdB\\xef\\xbf\\xbd\\xef\\xbf\\xbd6\\xef\\xbf\\xbd\\x12\\xef\\xbf\\xbd\\x1fph\\xef\\xbf\\xbd\\xef\\xbf\\xbd\\x16\\xef\\xbf\\xbd\\xef\\xbf\\xbd\\xef\\xbf\\xbd\\xef\\xbf\\xbds\\xef\\xbf\\xbdPAv\\xef\\xbf\\xbd\\xef\\xbf\\xbdO\\xef\\xbf\\xbd'],\n",
              "       [b'\\x00\\x0c\\x01\\x00\\x00\\x01\\x00\\x00\\x00\\x00\\x00\\x00\\x06google\\x03com\\x00\\x00\\x1c\\x00\\x01\\xe4\\x8e\\x91Bj_\\xef\\xbf\\xbda\\r\\xef\\xbf\\xbd\\xef\\xbf\\xbd\\xef\\xbf\\xbd\\x04\\xef\\xbf\\xbd\\xef\\xbf\\xbd\\x10DJ\\xef\\xbf\\xbd\\xef\\xbf\\xbd\\x14\\xef\\xbf\\xbd\\x12\\xef\\xbf\\xbd\\xef\\xbf\\xbdB\\xef\\xbf\\xbd\\x05\\x1dB\\r&\\xef\\xbf\\xbd@\\xef\\xbf\\xbd\\xd6\\x9e\\t\\xef\\xbf\\xbdD\\xef\\xbf\\xbdo\\x01\\xef\\xbf\\xbdgc\\xef\\xbf\\xbdr\\xef\\xbf\\xbd\\xef\\xbf\\xbd1\\xef\\xbf\\xbd\\x12 \\xef\\xbf\\xbd\\nA\\x04\\x1a\\xef\\xbf\\xbda\\xef\\xbf\\xbd4F\\xef\\xbf\\xbdG\\xef\\xbf\\xbd\\xef\\xbf\\xbd\\xef\\xbf\\xbd\\xef\\xbf\\xbd\\xef\\xbf\\xbd\\x103\\xef\\xbf\\xbd\\xef\\xbf\\xbd\\xef\\xbf\\xbdK\\xef\\xbf\\xbd\\xef\\xbf\\xbd\\xef\\xbf\\xbd&\\x1c]\\xef\\xbf\\xbd\\x10\\xef\\xbf\\xbd\\xef\\xbf\\xbd\\x0c7\\x03D]\\xef\\xbf\\xbd.\\xef\\xbf\\xbd\\xef\\xbf\\xbd\\x0c\\xef\\xbf\\xbd\\x01tx(\\xef\\xbf\\xbd`\\xef\\xbf\\xbd\\xef\\xbf\\xbd\\xef\\xbf\\xbd\\xef\\xbf\\xbdY]\\xef\\xbf\\xbd\\xef\\xbf\\xbd\\xef\\xbf\\xbd-k\\xef\\xbf\\xbdq-\\x02u\\x10\\xef\\xbf\\xbd`@Ow\\xef\\xbf\\xbd\\xef\\xbf\\xbd\\x1f\\x0b\\xef\\xbf\\xbd->W:\\x1d\\xef\\xbf\\xbd\\xef\\xbf\\xbd\\xe8\\xaa\\x98y\\xef\\xbf\\xbd\\xef\\xbf\\xbd\\xef\\xbf\\xbd\\xef\\xbf\\xbdV\\xef\\xbf\\xbd\\xef\\xbf\\xbdq\\xef\\xbf\\xbdf\\t\\xef\\xbf\\xbd\\xef\\xbf\\xbd\\xef\\xbf\\xbd>\\xef\\xbf\\xbd\\xef\\xbf\\xbd\\x0e|\\xef\\xbf\\xbd[\\x03\\xc3\\xa1\\t\\xef\\xbf\\xbd_h>\\xef\\xbf\\xbd\\xef\\xbf\\xbd@\\xef\\xbf\\xbd*\\n\\xef\\xbf\\xbdW\\xef\\xbf\\xbduZ\\xef\\xbf\\xbd\\xef\\xbf\\xbd\\xef\\xbf\\xbd\\xef\\xbf\\xbd\\xc9\\xbc\\xef\\xbf\\xbd\\xef\\xbf\\xbd\\xd5\\xb8\\xef\\xbf\\xbd?\\xef\\xbf\\xbdz\\xef\\xbf\\xbd\\xef\\xbf\\xbd\\xef\\xbf\\xbd\\x08\\xef\\xbf\\xbd!\\xef\\xbf\\xbd5)hz\\xef\\xbf\\xbd\\xef\\xbf\\xbdN-\\xef\\xbf\\xbdg\\xef\\xbf\\xbd@\\xef\\xbf\\xbd\\xef\\xbf\\xbd6\\xef\\xbf\\xbd-;j\\xef\\xbf\\xbd50l\\x113\\xef\\xbf\\xbd\\xc2\\xa6\\xef\\xbf\\xbd\\x1fm\\xef\\xbf\\xbd\\xef\\xbf\\xbd\\xef\\xbf\\xbd\\xef\\xbf\\xbd\\x10\\xef\\xbf\\xbd.\\xef\\xbf\\xbdR\\xef\\xbf\\xbdt\\xef\\xbf\\xbd|\\xef\\xbf\\xbd_\\xef\\xbf\\xbd\\xef\\xbf\\xbd\\x08v\\xef\\xbf\\xbdX\\xef\\xbf\\xbd\\x04D\\x13:\\xef\\xbf\\xbd\\x18\\xef\\xbf\\xbdj\\xef\\xbf\\xbd\\xcf\\xb4\\xef\\xbf\\xbd\\xef\\xbf\\xbd\\xef\\xbf\\xbd\\x14x\\x10\\x10r\\xef\\xbf\\xbdZ&B\\xef\\xbf\\xbd^\\xef\\xbf\\xbd+\\xef\\xbf\\xbd\\xef\\xbf\\xbd)$1\\x1e\\xef\\xbf\\xbd\\x18\\x15\\xef\\xbf\\xbd\\xef\\xbf\\xbd\\xef\\xbf\\xbdP\\xef\\xbf\\xbde\\xef\\xbf\\xbd\\x7f9\\x10\\xef\\xbf\\xbd\"3,\\xef\\xbf\\xbd\\xef\\xbf\\xbdI\\xef\\xbf\\xbd\\xef\\xbf\\xbd\\x10\\xef\\xbf\\xbd8\\xef\\xbf\\xbdE\\xef\\xbf\\xbd#\\x1c\\xdb\\xa4\\x13(:Sn\\x1c\"\\xef\\xbf\\xbd\\xef\\xbf\\xbdQ\\xef\\xbf\\xbd\\xef\\xbf\\xbdf>B\\xef\\xbf\\xbd#\\xef\\xbf\\xbd\\xef\\xbf\\xbd\\xef\\xbf\\xbd\\xef\\xbf\\xbd\\xef\\xbf\\xbdW\\xef\\xbf\\xbd\\x08\\x13\\xef\\xbf\\xbdjQ\\xef\\xbf\\xbd\\xef\\xbf\\xbd[\\x01\\xc3\\xa1\\t\\xef\\xbf\\xbd_yo\\xef\\xbf\\xbd\\xef\\xbf\\xbd9\\xef\\xbf\\xbd\\xef\\xbf\\xbd\\xef\\xbf\\xbdm\"lD\\xef\\xbf\\xbd)\\xef\\xbf\\xbd.\\xef\\xbf\\xbd\\x0f\\x18\\xef\\xbf\\xbd\\xef\\xbf\\xbd\\x150,\\xef\\xbf\\xbdL\\xef\\xbf\\xbdS\\xef\\xbf\\xbd\\xef\\xbf\\xbd\\xef\\xbf\\xbd\\xcd\\xa6Is\\xef\\xbf\\xbd\\xef\\xbf\\xbd<9D\\xef\\xbf\\xbd\\xef\\xbf\\xbd!\\x08\\x15V\\xef\\xbf\\xbd,\\x7f\\xef\\xbf\\xbdk\\xef\\xbf\\xbd\\xef\\xbf\\xbd\\x14\\x1c\\xef\\xbf\\xbd`zL\\xef\\xbf\\xbd\\x12a\\xef\\xbf\\xbd,\\xef\\x92\\xafH!oA\\xef\\xbf\\xbdS\\x01hP\\'\\xef\\xbf\\xbd~L\\xef\\xbf\\xbdB\\xef\\xbf\\xbd\\x01\\xef\\xbf\\xbd\\xef\\xbf\\xbd\\xef\\xbf\\xbd\\xef\\xbf\\xbd\\xef\\xbf\\xbd\\xef\\xbf\\xbd\\xef\\xbf\\xbdk\\xef\\xbf\\xbd#\\xef\\xbf\\xbd\\x19V\\xef\\xbf\\xbdX]\\xef\\xbf\\xbd\\xef\\xbf\\xbd\\x12\\xef\\xbf\\xbd8\\xef\\xbf\\xbdB\\xef\\xbf\\xbd\\x0c`A^\\x16\\x11\\xef\\xbf\\xbdy\\x1b<\\xef\\xbf\\xbd\\xef\\xbf\\xbdw\\x10a\\xef\\xbf\\xbd@\\xef\\xbf\\xbd\\x07\\x05\\xef\\xbf\\xbdT\\xef\\xbf\\xbd\\n\\xef\\xbf\\xbdZ\\xef\\xbf\\xbdM\\xef\\xbf\\xbd/\\xef\\xbf\\xbd\\xef\\xbf\\xbd\\x04\\xef\\xbf\\xbd0\\x0c\\x0b1\\xef\\xbf\\xbd0\\x0c\\x0b1\\xef\\xbf\\xbd0\\x0c\\xd3\\x8fp'],\n",
              "       [b'\\x00\\x0c\\x01\\x00\\x00\\x01\\x00\\x00\\x00\\x00\\x00\\x00\\x06google\\x03com\\x00\\x00\\x1c\\x00\\x01\\xef\\xbf\\xbd\\xef\\xbf\\xbd\\xef\\xbf\\xbd\\xcb\\xb4\\xef\\xbf\\xbd\\x16\\xef\\xbf\\xbd\\xef\\xbf\\xbdrj\\xef\\xbf\\xbdGBWO\\xef\\xbf\\xbd\\xef\\xbf\\xbd\\x18\\xdd\\xa2i\\xef\\xbf\\xbd\\xef\\xbf\\xbd0\\xef\\xbf\\xbd\\x18\\x01\\xef\\xbf\\xbd\\xef\\xbf\\xbd\\xef\\xbf\\xbd\\xef\\xbf\\xbd\\xef\\xbf\\xbd\\x13e\"3\\x1cY\\r\\rP\\xef\\xbf\\xbd\\xef\\xbf\\xbd\\xef\\xbf\\xbd^nQ\\x0c\\x0b1\\xef\\xbf\\xbd\\x16\\x13/\\\\8$\\'\\xcb\\xbd\\xef\\xbf\\xbd\\xef\\xbf\\xbd\\xef\\xbf\\xbd!\\xef\\xbf\\xbd<~\\xef\\xbf\\xbdK\"\\xef\\xbf\\xbdd\\x00\\xef\\xbf\\xbd\\xef\\xbf\\xbd\\x19\\xef\\xbf\\xbd\\xef\\xbf\\xbd\\xef\\xbf\\xbd\\xef\\xbf\\xbdb\\xef\\xbf\\xbd\\xef\\xbf\\xbd\\xef\\xbf\\xbd\\xef\\xbf\\xbd\\t\\x1b\\xef\\xbf\\xbd6\\xef\\xbf\\xbdp\\xef\\xbf\\xbdb\\x12\\xef\\xbf\\xbd\\xef\\xbf\\xbd\\t\\xef\\xbf\\xbd\\x0bC\\xef\\xbf\\xbd\\xef\\xbf\\xbd\\x17EE\\xef\\xbf\\xbd\\xc9\\x80Q\\xef\\xbf\\xbd \\xef\\xbf\\xbd\\rOrA0,\\xef\\xbf\\xbdLZ(\\x12[\\xef\\xbf\\xbd\\x142\\xef\\xbf\\xbdv.\\x02\\xef\\xbf\\xbd\\xef\\xbf\\xbd\\xef\\xbf\\xbdI\\xef\\xbf\\xbd\\xef\\xbf\\xbd\\xef\\xbf\\xbd+\"z\\xef\\xbf\\xbdK\"\\x03\\xef\\xbf\\xbd\\xef\\xbf\\xbd\\xef\\xbf\\xbd\\xef\\xbf\\xbd\\xef\\xbf\\xbd\\x15\\xef\\xbf\\xbd\\xef\\xbf\\xbdqI0vp\\xef\\xbf\\xbd\\xef\\xbf\\xbd\\xef\\xbf\\xbd\\xef\\xbf\\xbdP\\x07\\xef\\xbf\\xbd\\xc6\\xa4\\x19\\xef\\xbf\\xbd\\xef\\xbf\\xbd3\\xef\\xbf\\xbd\\xef\\xbf\\xbd\\xef\\xbf\\xbd\\x06\\x01\\xef\\xbf\\xbd\\xef\\xbf\\xbd\\xef\\xbf\\xbd;\\xef\\xbf\\xbd\\xe8\\x96\\xb0\\x11\\x11\\xef\\xbf\\xbd\\xef\\xbf\\xbd\\xef\\xbf\\xbd$\\xef\\xbf\\xbd_\\xef\\xbf\\xbd\\x12nS\\xef\\xbf\\xbd\\xef\\xbf\\xbd\\xef\\xbf\\xbd(\\xef\\xbf\\xbd\\x0b4\\xef\\xbf\\xbd\\xef\\xbf\\xbd\\\\\\x13X\\xef\\xbf\\xbd17\\'\\xef\\xbf\\xbd\\xef\\xbf\\xbd\\xef\\xbf\\xbd\\xef\\xbf\\xbd6\\xef\\xbf\\xbd\\xef\\xbf\\xbdr\\xef\\xbf\\xbd.\\x00\\xd8\\x95\\xef\\xbf\\xbdC\\xef\\xbf\\xbdg\\xef\\xbf\\xbd~\\\\\\xef\\xbf\\xbd\\x06\"\\xef\\xbf\\xbd\\xef\\xbf\\xbdu\\x7f.\\xef\\xbf\\xbd\\xcc\\xb5\\xef\\xbf\\xbd\\xef\\xbf\\xbd%\\x1c\\xef\\xbf\\xbd`\\x18\\xef\\xbf\\xbda!f\\x18\\xef\\xbf\\xbd9\\xef\\xbf\\xbd\\xef\\xbf\\xbd\\xef\\xbf\\xbd\\x04\\xef\\xbf\\xbdY\\xef\\xbf\\xbd^\\xef\\xbf\\xbd\\x07y2\\xef\\xbf\\xbd\\xef\\xbf\\xbd\\xef\\xbf\\xbd\\xef\\xbf\\xbd\\xef\\xbf\\xbd\\xcf\\x80\\xef\\xbf\\xbd\\x00\"\\xcf\\xab;c_\\xef\\xbf\\xbd\\xda\\xbc\\xef\\xbf\\xbd\\xd6\\xae}\\xef\\xbf\\xbd\\x04\\x00\\xef\\xbf\\xbd\\nfX\\xef\\xbf\\xbd\\xef\\xbf\\xbd\\x01Ka\\xef\\xbf\\xbd~\\x13J\\xef\\xbf\\xbd\\x0e\\x00\\x14\\x08\\xe1\\x90\\xb1k8\\xef\\xbf\\xbd\\xef\\xbf\\xbd\\x03\\xef\\xbf\\xbdu|\\xef\\xbf\\xbd+F\\xef\\xbf\\xbd\\xef\\xbf\\xbdlM\\xef\\xbf\\xbd\\xc5\\xbeFSN\\x03\\xef\\xbf\\xbdYe\\xef\\xbf\\xbdD\\xef\\xbf\\xbd,\\xef\\xbf\\xbd\\xef\\xbf\\xbd\\xef\\xbf\\xbd\\xef\\xbf\\xbd\\'\\xef\\xbf\\xbd\\xef\\xbf\\xbd\\xef\\xbf\\xbd5\\xef\\xbf\\xbdd\\x12\\x0eM0\\xef\\xbf\\xbd\\x10\\xef\\xbf\\xbd\\xef\\xbf\\xbd\\x0b\\xef\\xbf\\xbd\\xef\\xbf\\xbd\\x05\\x02\\x0f\\x02JRfTxc\\x7f\\xef\\xbf\\xbdY\\xef\\xbf\\xbd\\x03\\xef\\xbf\\xbd\\x04\\xef\\xbf\\xbd\\x00Q\\xef\\xbf\\xbdk\\'\\x05\\xef\\xbf\\xbd\\xef\\xbf\\xbd\\xef\\xbf\\xbd\\x08^\\xef\\xbf\\xbdv\\xef\\xbf\\xbd\\xef\\xbf\\xbd\\xef\\xbf\\xbd|\\xef\\xbf\\xbdk\\xef\\xbf\\xbda!f\\x06\\xef\\xbf\\xbd\\x08\\xef\\xbf\\xbd\\xef\\xbf\\xbdW\\xef\\xbf\\xbd\\xc4\\xafC\\xef\\xbf\\xbd\\xef\\xbf\\xbdu)\\xef\\xbf\\xbd\\x1f\\xef\\xbf\\xbd\\x00\\xef\\xbf\\xbd\\xef\\xbf\\xbdo\\x7f\\x04\\xef\\xbf\\xbd)_3\"\\x12)r9\\x1c\\xef\\xbf\\xbd\\x15\\xef\\xbf\\xbd\\xef\\xbf\\xbd\\xef\\xbf\\xbd\\xc7\\xb5\\xcf\\xb0\\x103\\xef\\xbf\\xbd\\xef\\xbf\\xbd\\xef\\xbf\\xbd\\xef\\xbf\\xbd\\xef\\xbf\\xbd~\\xef\\xbf\\xbdxn\\xef\\xbf\\xbd\\x0cQM\\xef\\xbf\\xbd<o\\xef\\xbf\\xbd\\xef\\xbf\\xbd\\xef\\xbf\\xbd\\x10)\\'\\xef\\xbf\\xbd\\xef\\xbf\\xbd#\\xef\\xbf\\xbdZ\\xef\\xbf\\xbdx\\xef\\xbf\\xbd\\xef\\xbf\\xbd+\\xef\\xbf\\xbd\\x19\\xcb\\xad\\xef\\xbf\\xbd\\xef\\xbf\\xbd\\x04\\x1c#f\\xef\\xbf\\xbdE^\\xef\\xbf\\xbd\\xd7\\x89R,\\xef\\xbf\\xbd\\xef\\xbf\\xbd\\xef\\xbf\\xbd\"Z\\x07\\xef\\xbf\\xbd\\xef\\xbf\\xbd\\xef\\xbf\\xbd\\xef\\xbf\\xbd\\x1d\\x162\\x10\\xef\\xbf\\xbdW\\xef\\xbf\\xbd\\x10G'],\n",
              "       [b'\\x00\\x0c\\x01\\x00\\x00\\x01\\x00\\x00\\x00\\x00\\x00\\x00\\x06google\\x03com\\x00\\x00\\x1c\\x00\\x01w\\xef\\xbf\\xbd \\xef\\xbf\\xbd\\x02R\\xef\\xbf\\xbd\\x19\\x00\\xef\\xbf\\xbd^\\x7f\\xef\\xbf\\xbd\\xc3\\xb4\\xef\\xbf\\xbd\\x16\\xef\\xbf\\xbd\\x01 \\x1c\\xef\\xbf\\xbd\\xef\\xbf\\xbd\\xef\\xbf\\xbd\\x14\\xef\\xbf\\xbd7PA\\xef\\xbf\\xbd\\xef\\xbf\\xbdu\\xef\\xbf\\xbd\\x00\\x01\\xef\\xbf\\xbdA\\xef\\xbf\\xbd\\x1b\\x100\\'&\\xef\\xbf\\xbdA\\xef\\xbf\\xbdN\\xef\\xbf\\xbd_\\x00\\xef\\xbf\\xbdln\\r\\x0c\\x0b1\\xef\\xbf\\xbd/8\\xef\\xbf\\xbd\\xef\\xbf\\xbd\\x1dG\\xef\\xbf\\xbd\\xef\\xbf\\xbd\\xef\\xbf\\xbd\\xef\\xbf\\xbd\\x1b_\\xef\\xbf\\xbd\\xef\\xbf\\xbd\\xef\\xbf\\xbd)\\xef\\xbf\\xbd\\xef\\xbf\\xbd\\xef\\xbf\\xbd\\xef\\xbf\\xbdA9\\xef\\xbf\\xbd\\xef\\xbf\\xbd\\xef\\xbf\\xbd\\xef\\xbf\\xbd\\x04\\xef\\xbf\\xbd4\\xef\\xbf\\xbdc\\x00\\xef\\xbf\\xbd\\xef\\xbf\\xbd\\xef\\xbf\\xbd\\xef\\xbf\\xbd\\xef\\xbf\\xbd\\xef\\xbf\\xbd\\xd0\\xbe\\x15+\\xef\\xbf\\xbd\\x04\\xef\\xbf\\xbd\\\\\\xef\\xbf\\xbd7~\\x17\\xef\\xbf\\xbd\\x7f\\x04\\xef\\xbf\\xbd\\xef\\xbf\\xbdV\\xef\\xbf\\xbd\\xef\\xbf\\xbdk@lM\\x0b\\x1a\\xef\\xbf\\xbd\\xef\\xbf\\xbd\\xef\\xbf\\xbd\\xef\\xbf\\xbd\\xcd\\x9e4w\\xd1\\xa8M\\xef\\xbf\\xbd\\xdf\\xb7\\xef\\xbf\\xbd[\\x04\\xc3\\xa1\\t\\xef\\xbf\\xbd\\xef\\xbf\\xbd]zI_\"\\xef\\xbf\\xbd\\x0e\\xd3\\xb9\\xef\\xbf\\xbdM\\xef\\xbf\\xbd-\\xef\\xbf\\xbd>\\xef\\xbf\\xbd\\xef\\xbf\\xbd\\x07\\xef\\xbf\\xbd\\x13\\xd1\\x81\\xef\\xbf\\xbd\\xc7\\x90\\xef\\xbf\\xbdL\\xef\\xbf\\xbd\\xef\\xbf\\xbd\\xef\\xbf\\xbd\\xef\\xbf\\xbds\\x07\\xef\\xbf\\xbd@\\x01wu\\xef\\xbf\\xbd\\xda\\x89\\xef\\xbf\\xbd\\x12~<\\x10\\xef\\xbf\\xbd\\x08\\xef\\xbf\\xbdO\\x1d\\x06\\x1e\\xef\\xbf\\xbd +\\xef\\xbf\\xbd\\xef\\xbf\\xbd\\x161\\xef\\xbf\\xbdB\\xef\\xbf\\xbd\\xef\\xbf\\xbd\\xef\\xbf\\xbd\\x12\\xef\\xbf\\xbd\\xef\\xbf\\xbd;?\\xef\\xbf\\xbd[\\xef\\xbf\\xbd\\xef\\xbf\\xbd\\xef\\xbf\\xbd\\xef\\xbf\\xbdb\\x11\\\\\\xef\\xbf\\xbd\\xef\\xbf\\xbd\\x05R\\xef\\xbf\\xbd\\xef\\xbf\\xbd\\xef\\xbf\\xbd\\xef\\xbf\\xbd/\\xef\\xbf\\xbd\\xef\\xbf\\xbd\\x17\\xef\\xbf\\xbd\\xef\\xbf\\xbd5\\xef\\xbf\\xbdc\\xef\\xbf\\xbd/Ph\\xef\\xbf\\xbd\\xef\\xbf\\xbd\\x04Ev\\xef\\xbf\\xbdQ&TB\\xef\\xbf\\xbd-\\x13\\xef\\xbf\\xbd\\xef\\xbf\\xbd\\xef\\xbf\\xbd\\xef\\xbf\\xbd\\xef\\xbf\\xbd\\xef\\xbf\\xbd\\xef\\xbf\\xbd\\x103\\xef\\xbf\\xbd\\r5\\x15\\xef\\xbf\\xbds\\xef\\xbf\\xbd)\\xef\\xbf\\xbd\\x10\\xe2\\x9c\\x99W\\xef\\xbf\\xbd\\x13\\xef\\xbf\\xbd\\xef\\xbf\\xbd:\"\\xef\\xbf\\xbd\\x13(>\\xef\\xbf\\xbda\\xef\\xbf\\xbd0C5\\xc9\\x92\\xef\\xbf\\xbd\\x13B\\xef\\xbf\\xbdyxB8\\xef\\xbf\\xbdf\\x19\\x16b\\xef\\xbf\\xbdx\\xef\\xbf\\xbd,\\xef\\xbf\\xbdz\\xef\\xbf\\xbd\\xef\\xbf\\xbdQ\\xef\\xbf\\xbd\\xef\\xbf\\xbd\\xef\\xbf\\xbd\\xef\\xbf\\xbd\\xef\\xbf\\xbdf\\xef\\xbf\\xbd\\xef\\xbf\\xbd\\xef\\xbf\\xbdd\\xef\\xbf\\xbd\\xef\\xbf\\xbdY\\xef\\xbf\\xbd.\\xef\\xbf\\xbd\\x109_\\xef\\xbf\\xbd\\n4\\xef\\xbf\\xbdW\\xef\\xbf\\xbdz\\x18\\x16b\\xe6\\xa4\\xa0\\xef\\xbf\\xbd\\xc2\\xb8\\xef\\xbf\\xbd\\xef\\xbf\\xbd\\xef\\xbf\\xbdn\\xef\\xbf\\xbd\\xef\\xbf\\xbd:\\x1d\\xef\\xbf\\xbd\\xef\\xbf\\xbd\\xef\\xbf\\xbd\\xef\\xbf\\xbdW,\\x1a\\xd1\\x9b\\xef\\xbf\\xbd\\x1c\\xdf\\x91\\xef\\xbf\\xbdm\\xef\\xbf\\xbd\\xef\\xbf\\xbd/6\\xef\\xbf\\xbd\\xef\\xbf\\xbd\\xef\\xbf\\xbd\\xde\\xacz\\xef\\xbf\\xbd\\xef\\xbf\\xbd\\xef\\xbf\\xbd\\xef\\xbf\\xbd\\x0c\\x0b1s\\xef\\xbf\\xbdX\\xef\\xbf\\xbd&\\xef\\xbf\\xbd\\xef\\xbf\\xbdbc\\xef\\xbf\\xbd\\xef\\xbf\\xbd*\\xef\\xbf\\xbd\\xef\\xbf\\xbdl\\xef\\xbf\\xbds\\xef\\xbf\\xbd\\xef\\xbf\\xbdW\\xef\\xbf\\xbd\\xef\\xbf\\xbd\\xef\\xbf\\xbd8i~Q\\xef\\xbf\\xbdu\\xef\\xbf\\xbd\\xef\\xbf\\xbd\\x03v\\\\x\\xef\\xbf\\xbd\\xef\\xbf\\xbd\\xef\\xbf\\xbdW\\xef\\xbf\\xbd\\xef\\xbf\\xbd\\xef\\xbf\\xbdr\\xef\\xbf\\xbd0\\xef\\xbf\\xbd\\tO_c\\xef\\xbf\\xbd\\xef\\xbf\\xbdZ\\xef\\xbf\\xbd\\xef\\xbf\\xbd7\\xef\\xbf\\xbd}K\\xef\\xbf\\xbd\\xef\\xbf\\xbdP\\xef\\xbf\\xbd\\x1fb\\xef\\xbf\\xbd\\x18\\xef\\xbf\\xbd\\xef\\xbf\\xbd\\xef\\xbf\\xbd\\xef\\xbf\\xbd\\xef\\xbf\\xbdg~\\xef\\xbf\\xbdy\\xef\\xbf\\xbd\\n}\\xef\\xbf\\xbdV\\xef\\xbf\\xbdW\\x03\\xef\\xbf\\xbd@\\xef\\xbf\\xbd7\\xef\\xbf\\xbd\\xef\\xbf\\xbdz\\xef\\xbf\\xbd\\xef\\xbf\\xbd\\xef\\xbf\\xbd3\\xef\\xbf\\xbdn\\xef\\xbf\\xbd\\x10r:)\\xef\\xbf\\xbd!\\x1c\\xef\\xbf\\xbd\\xef\\xbf\\xbd\\xef\\xbf\\xbd\\xef\\xbf\\xbd\\x07\\xef\\xbf\\xbd\\\\\\xef\\xbf\\xbd\\x11\\xef\\xbf\\xbd\\xef\\xbf\\xbd\\xef\\xbf\\xbd9)\\xef\\xbf\\xbd\\xef\\xbf\\xbd/{`'],\n",
              "       [b'\\x00\\x0c\\x01\\x00\\x00\\x01\\x00\\x00\\x00\\x00\\x00\\x00\\x06google\\x03com\\x00\\x00\\x1c\\x00\\x01VQ\\xef\\xbf\\xbd\\xef\\xbf\\xbd\\xef\\xbf\\xbd\\xef\\xbf\\xbd\\xef\\xbf\\xbd\\xef\\xbf\\xbd\\xef\\xbf\\xbdG-U\\xef\\xbf\\xbd|\\xef\\xbf\\xbdp\\xef\\xbf\\xbd\\xef\\xbf\\xbd`^\\x0b\\xef\\xbf\\xbd\\xef\\xbf\\xbd\\xef\\xbf\\xbd)\\xef\\xbf\\xbd\\x1aA\\xef\\xbf\\xbd\":\\xef\\xbf\\xbd\\xef\\xbf\\xbd\\xef\\xbf\\xbd\\x01\\xef\\xbf\\xbd\\xef\\xbf\\xbd\\xef\\xbf\\xbdI\"\\xef\\xbf\\xbd\\xef\\xbf\\xbd/\\x06\\x01C\\x05\\xef\\xbf\\xbdp\\x12p\\xef\\xbf\\xbd\\x00\\xef\\xbf\\xbd\\x05\\x00\\xef\\xbf\\xbd\\xd0\\x81N\\xef\\xbf\\xbd\\x080QgKx\\xd7\\x81\\xef\\xbf\\xbdp\\xef\\xbf\\xbd\\x07\\xef\\xbf\\xbd\\xef\\xbf\\xbd{\\xef\\xbf\\xbdk\\xef\\xbf\\xbda!fN^\\xcb\\xb8\\xef\\xbf\\xbd\\xef\\xbf\\xbdG3\\xef\\xbf\\xbd%;\\x1c\\xef\\xbf\\xbd|\"6\\tP\\xef\\xbf\\xbd`\\xef\\xbf\\xbd-\\xef\\xbf\\xbd\\xef\\xbf\\xbd-\\x11f\\x03\\xef\\xbf\\xbdM2\\xef\\xbf\\xbd\\x11l\\xef\\xbf\\xbd6\\xd6\\xa5!;\\xef\\xbf\\xbd\\xef\\xbf\\xbdZ\\xef\\xbf\\xbd\\xef\\xbf\\xbd\\xef\\xbf\\xbd{\\xef\\xbf\\xbd\\xef\\xbf\\xbdv\\xef\\xbf\\xbdfG@\\xef\\xbf\\xbd\\xef\\xbf\\xbd\\xef\\xbf\\xbd\\xef\\xbf\\xbd\\xef\\xbf\\xbd\\xef\\xbf\\xbd/\\xef\\xbf\\xbdP\\x06\"-\\xef\\xbf\\xbd\\x1a\\xef\\xbf\\xbd\\xef\\xbf\\xbd1\\x1c#f\\xef\\xbf\\xbd)?jC\\xef\\xbf\\xbd\\xef\\xbf\\xbd;.\\xef\\xbf\\xbdH\\xef\\xbf\\xbd\\xef\\xbf\\xbd\\xef\\xbf\\xbd\\xef\\xbf\\xbd?\\xef\\xbf\\xbd\\xef\\xbf\\xbd\\xef\\xbf\\xbd\\xef\\xbf\\xbd)\\xef\\xbf\\xbd\\xef\\xbf\\xbdI\\xe1\\xac\\x89u/\\xef\\xbf\\xbd:%\\xef\\xbf\\xbd\\xef\\xbf\\xbd\\xef\\xbf\\xbd,uMp\\xef\\xbf\\xbd1\\x1c\\x02\\xe9\\x8b\\xb0\\x19\\n\\xef\\xbf\\xbdD\\xef\\xbf\\xbd\\x10\\xef\\xbf\\xbd\\x06\\xd3\\xa2\\xef\\xbf\\xbd\\xef\\xbf\\xbd50,\\xef\\xbf\\xbdL\\xef\\xbf\\xbdph_\\xef\\xbf\\xbdo\\xda\\xa7\\xef\\xbf\\xbdE\\xef\\xbf\\xbd\\xef\\xbf\\xbd,\\xef\\xbf\\xbd\\xef\\xbf\\xbd\\x1ek\\xef\\xbf\\xbd_\\xef\\xbf\\xbd\\xef\\xbf\\xbdU\\xef\\xbf\\xbd_z\\xef\\xbf\\xbdiZ\\xef\\xbf\\xbd\\x10\\xef\\xbf\\xbd\\xef\\xbf\\xbd]\\xef\\xbf\\xbd\\xef\\xbf\\xbd\\xef\\xbf\\xbdt\\xef\\xbf\\xbd\\x00\\xef\\xbf\\xbd\\xef\\xbf\\xbd\\xef\\xbf\\xbdC\\xef\\xbf\\xbd\\xef\\xbf\\xbd\\xef\\xbf\\xbdVW\\xef\\xbf\\xbd\\xef\\xbf\\xbd\\xef\\xbf\\xbd\\xef\\xbf\\xbdq\\xea\\x9f\\xbe\\xef\\xbf\\xbd\\xef\\xbf\\xbdRfM\\xef\\xbf\\xbd=+\\xef\\xbf\\xbd\\xef\\xbf\\xbdV\\xef\\xbf\\xbd\\xef\\xbf\\xbd\\xef\\xbf\\xbdEn\\r\\x0c\\x0b1\\xef\\xbf\\xbd/l~\\xe1\\x81\\x83\\xef\\xbf\\xbd\\x1d\\xef\\xbf\\xbd\\x0c\\xef\\xbf\\xbd\\xef\\xbf\\xbd\\xd9\\x8d\\xcd\\xa1Q5\\xef\\xbf\\xbd\\xef\\xbf\\xbdO\\xef\\xbf\\xbd\\xef\\xbf\\xbd\\xef\\xbf\\xbd5\\xef\\xbf\\xbd\\xef\\xbf\\xbd\\xef\\xbf\\xbd\\x07\\xef\\xbf\\xbd\\xef\\xbf\\xbd\\xef\\xbf\\xbd\\xef\\xbf\\xbd!8\\xef\\xbf\\xbdTt\\xef\\xbf\\xbd\"z\\xef\\xbf\\xbd\\x08\\x1a\\xef\\xbf\\xbd\\x17^PD\\xef\\xbf\\xbd\\xef\\xbf\\xbd\\x08\\xef\\xbf\\xbd\\xef\\xbf\\xbdRE\\xef\\xbf\\xbd\\xef\\xbf\\xbd\\xef\\xbf\\xbd\\x0e\\xef\\xbf\\xbd\\xef\\xbf\\xbd3j\\xef\\xbf\\xbd4v\\xef\\xbf\\xbd\\xef\\xbf\\xbd\\x1a\\xef\\xbf\\xbd\\xef\\xbf\\xbd\\xef\\xbf\\xbd\\x05\\xef\\xbf\\xbd\\xef\\xbf\\xbd\\xef\\xbf\\xbd\\x0b\\xef\\xbf\\xbd\\xef\\xbf\\xbd Xa\\xef\\xbf\\xbd\\xef\\xbf\\xbd\\xef\\xbf\\xbdd\\x02\\xef\\xbf\\xbd\\x113\\xef\\xbf\\xbdg\\xef\\xbf\\xbda\\xef\\xbf\\xbd\\x01\\xef\\xbf\\xbd\\xef\\xbf\\xbd\\xef\\xbf\\xbda\\xef\\xbf\\xbdV\\x1b\\xef\\xbf\\xbd\\x00\\xef\\xbf\\xbd\\xef\\xbf\\xbd\\x1f\\x18s\\xd1\\x9d9c\\xef\\xbf\\xbd\\xef\\xbf\\xbdG\\x0b-y{\\xef\\xbf\\xbd\\x0e\\xef\\xbf\\xbd\\xef\\xbf\\xbd\\xef\\xbf\\xbd\\x7fp[o\\xef\\xbf\\xbd\\xef\\xbf\\xbd\\xef\\xbf\\xbd\\n\\xde\\xa1\\xef\\xbf\\xbda!fN2v\\xef\\xbf\\xbd\\xef\\xbf\\xbd\\xef\\xbf\\xbd]\\x00\\x1fpI0\\x1c\\xef\\xbf\\xbd`\\x18\\xef\\xbf\\xbdaX\\xef\\xbf\\xbd\\x19\\xef\\xbf\\xbdaX\\xef\\xbf\\xbd\\x19\\xef\\xbf\\xbda\\x18\\x16b\\xef\\xbf\\xbda\\x18\\x16b\\xef\\xbf\\xbda\\x18\\xef\\xbf\\xbd\\xef\\xbf\\xbd\\xef\\xbf\\xbda\\x18\\xef\\xbf\\xbd\\xef\\xbf\\xbd\\xef\\xbf\\xbda\\x18\\xef\\xbf\\xbda!f\\x18\\xef\\xbf\\xbda!f\\x18\\xef\\xbf\\xbdaX\\xef\\xbf\\xbd\\x19\\xef\\xbf\\xbdaX\\xef\\xbf\\xbd\\x19\\xef\\xbf\\xbda\\x18\\x16b\\xef\\xbf\\xbda\\x18\\x16b\\xef\\xbf\\xbda'],\n",
              "       [b'\\x00\\x0c\\x01\\x00\\x00\\x01\\x00\\x00\\x00\\x00\\x00\\x00\\x06google\\x03com\\x00\\x00\\x1c\\x00\\x01\\x18\\xef\\xbf\\xbdGp\\xef\\xbf\\xbd\\xef\\xbf\\xbd\\x13\\xef\\xbf\\xbd\\x19W\\xef\\xbf\\xbd\\xef\\xbf\\xbdq8\\xef\\xbf\\xbdr@\\xef\\xbf\\xbdJ\\xef\\xbf\\xbd\\xef\\xbf\\xbdS=\\xef\\xbf\\xbd$\\xef\\xbf\\xbdQ\\xef\\xbf\\xbd\\xef\\xbf\\xbd3\\xef\\xbf\\xbd\\xef\\xbf\\xbd3\\xef\\xbf\\xbd~\\x1b D\\x02z\\xef\\xbf\\xbd\\xc5\\x82\\x0b\\xef\\xbf\\xbd\\x03\\xc6\\x91L\\x1du\\xef\\xbf\\xbdU\\xef\\xbf\\xbdD\\xef\\xbf\\xbdJ\\xef\\xbf\\xbd8\\xef\\xbf\\xbd?\\xef\\xbf\\xbd\\t\\xef\\xbf\\xbd>ihl\\xef\\xbf\\xbd\\xef\\xbf\\xbd\\xef\\xbf\\xbdg\\x1eLi\\xef\\xbf\\xbd~\\x02\\\\^\\xef\\xbf\\xbd+\\xef\\xbf\\xbd#\\xef\\xbf\\xbd\\xdb\\x87,\\xef\\xbf\\xbd\\x1e\\xef\\xbf\\xbd\\xef\\xbf\\xbdA\\xef\\xbf\\xbd{\\xef\\xbf\\xbd\\xef\\xbf\\xbd\\xef\\xbf\\xbd\\xef\\xbf\\xbd0\\xef\\xbf\\xbd\\xef\\xbf\\xbd\\xef\\xbf\\xbd\\n!\\xd0\\x97\\xef\\xbf\\xbd\\xef\\xbf\\xbdy\\xef\\xbf\\xbd2Ws\\xef\\xbf\\xbdn\\xef\\xbf\\xbd\\x1c\\xef\\xbf\\xbd\\x13\\x08\\xef\\xbf\\xbd\\xef\\xbf\\xbd~\\xef\\xbf\\xbd\\xef\\xbf\\xbd\\xef\\xbf\\xbdY\\x1a\\x1e\\xef\\xbf\\xbd<\\xef\\xbf\\xbd\\x05\\xef\\xbf\\xbdF\\xef\\xbf\\xbd\\xef\\xbf\\xbd\\xef\\xbf\\xbd\\xef\\xbf\\xbd4w\\xef\\xbf\\xbd\\xef\\xbf\\xbd\\xef\\xbf\\xbd\\xef\\x93\\xb2\\xef\\xbf\\xbd\\xef\\xbf\\xbd\\xef\\xbf\\xbd\\x08\\xef\\xbf\\xbd\\r\\x1a<\\xef\\xbf\\xbdcH\\xef\\xbf\\xbd\\xef\\xbf\\xbdp&\\x02\\xef\\xbf\\xbd\\xef\\xbf\\xbd\\xd0\\x8d\\xef\\xbf\\xbd\\xef\\xbf\\xbd\\x0b\\xef\\xbf\\xbd\\xc5\\xa5\\x13k*\\xca\\x97s\\x0f\\xef\\xbf\\xbd\\xef\\xbf\\xbd\\x043\\x00@\\xef\\xbf\\xbd9\\xef\\xbf\\xbd:\\xef\\xbf\\xbdl\\xef\\xbf\\xbd8H\\xef\\xbf\\xbd\\x10\\xef\\xbf\\xbdi\\xef\\xbf\\xbd\\xef\\xbf\\xbd>6 \\x11Q\\xef\\xbf\\xbd\\xef\\xbf\\xbd\\x0253#\\r\\\\\\x0e\\x1f\\x1c\\xef\\xbf\\xbd1\\xef\\xbf\\xbd\\xf1\\x9e\\xa2\\xb7\\xef\\xbf\\xbdj\\xef\\xbf\\xbdc\\xef\\xbf\\xbd:.^\\xcd\\xad\\xef\\xbf\\xbd-bf\\xef\\xbf\\xbd(1\\xef\\xbf\\xbd\\xef\\xbf\\xbd\\x15+\\x1c>\\x10o\\xef\\xbf\\xbd\\xcd\\xb5\\xef\\xbf\\xbd\\x07\\x0ez|\\xef\\xbf\\xbdAD\\x1c\\xd2\\x9f\\xef\\xbf\\xbdD\\xef\\xbf\\xbd@*\\xef\\xbf\\xbd\\xef\\xbf\\xbd\\xd3\\xbc\\xef\\xbf\\xbd\\x7f\\x17>\\xef\\xbf\\xbd\\xef\\xbf\\xbd\\xef\\xbf\\xbd\\xef\\xbf\\xbd\\x03d\\x03y\\x07\\xef\\xbf\\xbdF\\xef\\xbf\\xbdJY\\xef\\xbf\\xbdxe\\xef\\xbf\\xbdu\\xef\\xbf\\xbd\\xef\\xbf\\xbd<b\\xef\\xbf\\xbd\\xde\\x8c\\xef\\xbf\\xbd\\xef\\xbf\\xbd4\\x03\\x1e\\xc8\\x8d\\xef\\xbf\\xbd\\xef\\xbf\\xbd\\xef\\xbf\\xbd\\x19\\xef\\xbf\\xbd\\xef\\xbf\\xbd\\xef\\xbf\\xbd\\xef\\xbf\\xbdEp}\\xef\\xbf\\xbd\\xef\\xbf\\xbd\\x1a)|~\\x168_D\\xef\\xbf\\xbdQ\\xef\\xbf\\xbd`8\\x1e\\xef\\xbf\\xbdE\\n\\xef\\xbf\\xbdq\\xef\\xbf\\xbd\\x18r#L\\xef\\xbf\\xbd\\xef\\xbf\\xbd\\xef\\xbf\\xbd\\xef\\xbf\\xbd\\x05B-\\xef\\xbf\\xbd\\xef\\xbf\\xbd\\xef\\xbf\\xbd\\tE\\xef\\xbf\\xbdR\\x0b\\xef\\xbf\\xbd\\xef\\xbf\\xbd?Kvm\\xef\\xbf\\xbd\\xef\\xbf\\xbd0\\xef\\xbf\\xbd\\xef\\xbf\\xbd\\xef\\xbf\\xbd2\\xef\\xbf\\xbd3\\x1e_\\xef\\xbf\\xbdAD\\xef\\xbf\\xbd=fy\\xef\\xbf\\xbd+U;\\xef\\xbf\\xbdpdG\\xd7\\xba]\\xef\\xbf\\xbd_\\x01\\x04\\xef\\xbf\\xbd\\xef\\xbf\\xbdy\\x1f\\xef\\xbf\\xbdjD\\xef\\xbf\\xbd\\xef\\xbf\\xbd\\xef\\xbf\\xbd\\xef\\xbf\\xbd\\x13\\x0e\\xef\\xbf\\xbd\\xef\\xbf\\xbdjW.[= +s\\xef\\xbf\\xbd\\xef\\xbf\\xbd\\xc5\\xaf\\xef\\xbf\\xbd\\xef\\xbf\\xbd\\xef\\xbf\\xbdg>nE\\xef\\xbf\\xbd\\xef\\xbf\\xbdb\\x06\\xef\\xbf\\xbd\\xef\\xbf\\xbd\\xef\\xbf\\xbd\\xef\\xbf\\xbd(\\xef\\xbf\\xbd\\x1e\\xef\\xbf\\xbd\\x1613 #\\x15H\\xef\\xbf\\xbd\\xef\\xbf\\xbd\\xef\\xbf\\xbd<\\xde\\xae;\\xef\\xbf\\xbd\\x03\\xef\\xbf\\xbd<c\\xef\\xbf\\xbd\\x08\"\\xef\\xbf\\xbdz-<@\\xef\\xbf\\xbd\\xef\\xbf\\xbd\\xef\\xbf\\xbd\\x15ah\\xdd\\x8c5\\xef\\xbf\\xbde\\xdc\\xb8O`\\xef\\xbf\\xbda\\x1d3`D\\xef\\xbf\\xbd\\xef\\xbf\\xbd\\ny\\xef\\xbf\\xbdhS/\\xef\\xbf\\xbd\\xef\\xbf\\xbd*\\xef\\xbf\\xbd\\xef\\xbf\\xbd\\x19.h\\xef\\xbf\\xbd-b\\xef\\xbf\\xbd\\x17\\xef\\xbf\\xbd\\xef\\xbf\\xbd\\x13%\\xef\\xbf\\xbdT\\x1f'],\n",
              "       [b'\\x00\\x0c\\x01\\x00\\x00\\x01\\x00\\x00\\x00\\x00\\x00\\x00\\x06google\\x03com\\x00\\x00\\x1c\\x00\\x01\\xef\\xbf\\xbd\\xef\\xbf\\xbd\\x1e\\x00\\xce\\x9ar\\xef\\xbf\\xbd>\\xce\\x99m\\xef\\xbf\\xbd\\xef\\xbf\\xbd\\xef\\xbf\\xbd\\xef\\xbf\\xbd\\r\\x00\\xef\\xbf\\xbdn\\xef\\xbf\\xbd\\x0c\\xef\\xbf\\xbd!E\\xef\\xbf\\xbd\\xef\\xbf\\xbd$\\xef\\xbf\\xbd[&\\xef\\xbf\\xbd%3\\x0c\\x0b1\\xef\\xbf\\xbd\\tl\\xef\\xbf\\xbdd\\xef\\xbf\\xbd\\xef\\xbf\\xbd\\x1e\\xef\\xbf\\xbdw\\xef\\xbf\\xbd\\xef\\xbf\\xbd\\x19c;\\x00\\xef\\xbf\\xbdl\\xef\\xbf\\xbda\\xef\\xbf\\xbd\\xef\\xbf\\xbd\\n\\xef\\xbf\\xbd \\xef\\xbf\\xbdY\\x1d\\x014s\\xef\\xbf\\xbd\\xef\\xbf\\xbd8ph\\xef\\xbf\\xbd\\xef\\xbf\\xbd\\xef\\xbf\\xbdNV\\xef\\xbf\\xbdd.\\xef\\xbf\\xbd\\x13r\\xef\\xbf\\xbd\\x1d\\xef\\xbf\\xbd\\xef\\xbf\\xbd7\\xef\\xbf\\xbd\\xef\\xbf\\xbd\\xef\\xbf\\xbdLX\\xef\\xbf\\xbd\\xef\\xbf\\xbd\\x01\\xef\\xbf\\xbd\\x02x%\\xef\\xbf\\xbdw)\\xef\\xbf\\xbd\\xef\\xbf\\xbdIs\\xef\\xbf\\xbd\\\\.\\xef\\xbf\\xbd\\x13\\xef\\xbf\\xbd\\xef\\xbf\\xbd+\\x16MF\\xef\\xbf\\xbd\\x0e\\xde\\xab\\xef\\xbf\\xbd\\xef\\xbf\\xbdK\\\\2,\\xef\\xbf\\xbd\\xef\\xbf\\xbd\\x00\\xef\\xbf\\xbd\\xef\\xbf\\xbd{\\xef\\xbf\\xbd\\xef\\xbf\\xbd\\xef\\xbf\\xbd*\\x0b\\x06\\x0f\\xef\\xbf\\xbd\\x7fq\\xc9\\x9c8H\\xef\\xbf\\xbd\\xef\\xbf\\xbd\\xef\\xbf\\xbd\\x14\\xef\\xbf\\xbd\\x18\\xef\\xbf\\xbd\\x00T\\xef\\xbf\\xbd\\xef\\xbf\\xbd\\xef\\xbf\\xbd\\xef\\xbf\\xbd\\xef\\xbf\\xbda!f\\x06\\x08{\\xef\\xbf\\xbd<v\\xef\\xbf\\xbd\\x14\\xef\\xbf\\xbd\\xd0\\xa1R\\x11=\\xef\\xbf\\xbdE\\xef\\xbf\\xbd\\x12.\\xef\\xbf\\xbd\\xef\\xbf\\xbd\\xc2\\xa2\\xef\\xbf\\xbd\\xdf\\xa0\\xef\\xbf\\xbd3\\x10(f\\xef\\xbf\\xbd\\xef\\xbf\\xbd\\xef\\xbf\\xbda\\xef\\xbf\\xbd\\xef\\xbf\\xbda.\\xef\\xbf\\xbd\\x13\\x07^\\xef\\xbf\\xbdq\\x020\\xef\\xbf\\xbd\\xef\\xbf\\xbd\\x1dp\\xef\\xbf\\xbd\\xef\\xbf\\xbdP\\xe7\\xa5\\xbcD\\xef\\xbf\\xbd\\xef\\xbf\\xbdG\\xd6\\x9e\\xef\\xbf\\xbd\\xef\\xbf\\xbd\\x13x\\xef\\xbf\\xbdg\\x0c\\x1cgL\\xef\\xbf\\xbdD\\x1f9h\\x10\\xef\\xbf\\xbdB\\xef\\xbf\\xbd\\x0b:w\\xd9\\xbd\\xef\\xbf\\xbd\\xd5\\xb0\\xef\\xbf\\xbdk\\xef\\xbf\\xbd\\x03\\\\J,\\xef\\xbf\\xbd\\xef\\xbf\\xbd\\x00#\\xdf\\xa7?$\\x01\\xee\\x88\\xb7\\x0c\\xef\\xbf\\xbd\"\\xef\\xbf\\xbd\\xef\\xbf\\xbd\\x16z.\\x1c\\xef\\xbf\\xbd{\\xef\\xbf\\xbd\\xef\\xbf\\xbd\\x066\\xef\\xbf\\xbd,k\\xef\\xbf\\xbd\\xef\\xbf\\xbd\\xef\\xbf\\xbdF!d\\tD\\xef\\xbf\\xbd<S\\xef\\xbf\\xbd\\xef\\xbf\\xbd4\\xef\\xbf\\xbduKM\\xef\\xbf\\xbd\\xef\\xbf\\xbd\\xc7\\xb9\\xef\\xbf\\xbdX\\xef\\xbf\\xbd\\xef\\xbf\\xbd\\x01\\xef\\xbf\\xbd\\xef\\xbf\\xbd\\xef\\xbf\\xbdt5Jqe\\xc2\\xaa\\xef\\xbf\\xbd\\xef\\xbf\\xbd\\x1e\\xef\\xbf\\xbd\\x10\\xef\\xbf\\xbd\\xef\\xbf\\xbd\\r\\x14E)z\\xef\\xbf\\xbd\\xef\\xbf\\xbd\\xc2\\xb8\\xef\\xbf\\xbd\\x0b\\xef\\xbf\\xbd\\xef\\xbf\\xbdCr\\x11\\xef\\xbf\\xbd8\\xef\\xbf\\xbdX\\xef\\xbf\\xbd\\xef\\xbf\\xbd\\xef\\xbf\\xbd\\xef\\xbf\\xbds&D\\x0cdN\\x10s\\x02i3\\x11)\\xef\\xbf\\xbd\\xef\\xbf\\xbd\\xef\\xbf\\xbd\\x15\\xef\\xbf\\xbd]\\\\\\x1al\\x113\\xef\\xbf\\xbd\\t\\xef\\xbf\\xbd\\xef\\xbf\\xbdJ\\n\\xef\\xbf\\xbd\\x03\\x1fE\\x14\\xef\\xbf\\xbdq\\x05\\x1f\\xef\\xbf\\xbdXD\\xcf\\x86\\xef\\xbf\\xbd\\xef\\xbf\\xbd\\xef\\xbf\\xbd\\xef\\xbf\\xbd?\\xef\\xbf\\xbd\\xef\\xbf\\xbd}.\\r\\x16b\\xef\\xbf\\xbd8d\\xef\\xbf\\xbdU%\\xef\\xbf\\xbd9\\x1d\\xef\\xbf\\xbd!\\x14pv\\xef\\xbf\\xbd\\x0c\\x19\\xef\\xbf\\xbd\\xef\\xbf\\xbd\\xef\\xbf\\xbd\\x07\\xef\\xbf\\xbd7\\xef\\xbf\\xbd\\x1aC\\xef\\xbf\\xbd+\\xef\\xbf\\xbdj\\xef\\xbf\\xbd~]\\xef\\xbf\\xbd\\xef\\xbf\\xbd:.\\x13\\xef\\xbf\\xbda\\x18\\xef\\xbf\\xbd\\xef\\xbf\\xbdex\\x1e1\\xef\\xbf\\xbd0\\x0c\\x0b1\\xef\\xbf\\xbd0\\x0c\\x0b1\\xef\\xbf\\xbd0\\x0c\\xef\\xbf\\xbdB\\xef\\xbf\\xbd0\\x0c\\xef\\xbf\\xbdB\\xef\\xbf\\xbd0\\x0c\\xc3\\xb0\\x103\\x0c\\xc3\\xb0\\x103\\x0c\\xef\\xbf\\xbd0,\\xef\\xbf\\xbd\\x0c\\xef\\xbf\\xbd0,\\xef\\xbf\\xbd\\x0c\\xef\\xbf\\xbd0\\x0c\\x0b1\\xef\\xbf\\xbd0\\x0c\\x0b1\\xef\\xbf\\xbd0\\x0c\\xef\\xbf\\xbd'],\n",
              "       [b'\\x00\\x0c\\x01\\x00\\x00\\x01\\x00\\x00\\x00\\x00\\x00\\x00\\x06google\\x03com\\x00\\x00\\x1c\\x00\\x01B\\xef\\xbf\\xbd0\\x0c\\xef\\xbf\\xbdB\\xef\\xbf\\xbd0\\x0c\\xc3\\xb0\\x103\\x0c\\xc3\\xb0\\x103\\x0c\\xef\\xbf\\xbd0,\\xef\\xbf\\xbd\\x0c\\xef\\xbf\\xbd0,\\xef\\xbf\\xbd\\x0c\\xef\\xbf\\xbd0\\x0c\\x0b1\\xef\\xbf\\xbd0\\x0c\\x0b1\\xef\\xbf\\xbd0\\x0c\\xef\\xbf\\xbdB\\xef\\xbf\\xbd0\\x0c\\xef\\xbf\\xbdB\\xef\\xbf\\xbd0\\x0c\\xc3\\xb0\\x103\\x0c\\xc3\\xb0\\x103\\x0c\\xef\\xbf\\xbd0\\xef\\xbf\\xbd\\xef\\xbf\\xbd\\xef\\xbf\\xbd\\xef\\xbf\\xbdGu1\\xcb\\xa7\\xef\\xbf\\xbd\\x11$\\xef\\xbf\\xbd,\\xef\\xbf\\xbd\\xef\\xbf\\xbd\\x06\\x14#\\x00h\\x10\\x10\\x1c\\x06\\xef\\xbf\\xbd\\x16 h\\x04\\x01\\xef\\xbf\\xbdX&\\xd4\\x83&\\xef\\xbf\\xbd\\xef\\xbf\\xbd\\xc6\\xac\\xef\\xbf\\xbd\\x00\\xef\\xbf\\xbd\\xef\\xbf\\xbdu\\xef\\xbf\\xbd\\x17p\\xef\\xbf\\xbd\\xef\\xbf\\xbd\\xef\\xbf\\xbd\"\\x14x\\x1b\"\\xef\\xbf\\xbdd\\xef\\xbf\\xbd%\\x00\\xef\\xbf\\xbd\\x00\\x07\\xef\\xbf\\xbd@ \\xef\\xbf\\xbd\\x16\"\\xef\\xbf\\xbdfYj}K\\xef\\xbf\\xbd\\xef\\xbf\\xbd\\xef\\xbf\\xbd\\xef\\xbf\\xbd\\xef\\xbf\\xbd<\\xef\\xbf\\xbd\\xef\\xbf\\xbd\\xef\\xbf\\xbdk\\xef\\xbf\\xbd\\xef\\xbf\\xbd3\\xef\\xbf\\xbd\\xef\\xbf\\xbd3S\\xef\\xbf\\xbd\\x1c^D\\xef\\xbf\\xbd\\xef\\xbf\\xbd\\xef\\xbf\\xbd\\xef\\xbf\\xbd\\x08\\xef\\xbf\\xbd\\xef\\xbf\\xbd\\xef\\xbf\\xbd\\x08H! \\xef\\xbf\\xbd\\xef\\xbf\\xbd\\x14\\xef\\xbf\\xbdm\\xef\\xbf\\xbd\\n\\xef\\xbf\\xbd\\x05\\xef\\xbf\\xbd\\xef\\xbf\\xbdqq\\r,\\n\\xef\\xbf\\xbd\\xef\\xbf\\xbd\\x1f!\\xef\\xbf\\xbd\\xef\\xbf\\xbd\\x04}\\xef\\xbf\\xbdy\\xef\\xbf\\xbd\\xef\\xbf\\xbd>\\xef\\xbf\\xbd\\xef\\xbf\\xbd\\x1f=\\xd4\\xb3\\xef\\xbf\\xbdx\\xef\\xbf\\xbd\\xef\\xbf\\xbd7\\xef\\xbf\\xbdo\\x00\\xef\\xbf\\xbd\\xd4\\x9do\\x13\\x00666\\xef\\xbf\\xbd\\xef\\xbf\\xbdd\\x1f\\xef\\xbf\\xbd\\xef\\xbf\\xbd-\\xef\\xbf\\xbd\\xef\\xbf\\xbd\\xef\\xbf\\xbd\\x16D\\xef\\xbf\\xbd]D\\x04\"\\x05DD\\x18\\xef\\xbf\\xbd%\\xef\\xbf\\xbd\\xef\\xbf\\xbd\\xef\\xbf\\xbd\\xef\\xbf\\xbdE\\xef\\xbf\\xbd\\x17\\x00(@\\xef\\xbf\\xbd\\xef\\xbf\\xbd\\xef\\xbf\\xbd\\n\\xef\\xbf\\xbd\\x19P\\xef\\xbf\\xbd\\n(\\xef\\xbf\\xbd\\x7f\\xd5\\xb0i\\xef\\xbf\\xbd\\xef\\xbf\\xbd&\\xce\\x85\\xef\\xbf\\xbd\\xef\\xbf\\xbd7\\xef\\xbf\\xbd\\xef\\xbf\\xbd\\xef\\xbf\\xbdD\\xef\\xbf\\xbd<\\xef\\xbf\\xbd\\xef\\xbf\\xbd9Z\\xef\\xbf\\xbd\\xef\\xbf\\xbd\\xef\\xbf\\xbd\\x11P\\x08P\\xef\\xbf\\xbd\\xef\\xbf\\xbd\\xef\\xbf\\xbd\\xef\\xbf\\xbd]\\xef\\xbf\\xbd\\xef\\xbf\\xbd\\x11K\\xef\\xbf\\xbd\\xef\\xbf\\xbdX 6\\xef\\xbf\\xbd\\x07\\xef\\xbf\\xbd\\x10w\\xef\\xbf\\xbd\\xcc\\x93\\xef\\xbf\\xbd]|\\xef\\xbf\\xbd\\x10\\xef\\xbf\\xbdB!\\xc5\\x82H[&e\\xd9\\xb6y\\x142R?-\\x00\\xef\\xbf\\xbdp\\x08\\xef\\xbf\\xbd[ml\\xef\\xbf\\xbdR\\xef\\xbf\\xbd\\xef\\xbf\\xbdA\\xef\\xbf\\xbd\\xef\\xbf\\xbd\\xef\\xbf\\xbdC\\xef\\xbf\\xbd\\xef\\xbf\\xbd\\xef\\xbf\\xbd\\xd8\\xb4\\xef\\xbf\\xbd\\xef\\xbf\\xbdWW,-\\xef\\xbf\\xbd\\xef\\xbf\\xbdYf\\xef\\xbf\\xbd\\xef\\xbf\\xbd8\\'\\xef\\x8c\\x902\\xef\\xbf\\xbd\\xef\\xbf\\xbd>\\x04\\xef\\xbf\\xbd\\xef\\xbf\\xbd\\xef\\xbf\\xbd\\t\\xef\\xbf\\xbd8\\xef\\xbf\\xbdX\\xef\\xbf\\xbd\\xef\\xbf\\xbdDx\\x10Q\\xef\\xbf\\xbdJGD\\x12\\xef\\xbf\\xbdJ\\xef\\xbf\\xbd$T\\xef\\xbf\\xbd\\xef\\xbf\\xbdU~\\xef\\xbf\\xbd\\xef\\xbf\\xbd,\\xef\\xbf\\xbd=\\xef\\xbf\\xbd\\xef\\xbf\\xbd,\"\\xef\\xbf\\xbdD\\n~P]i\\xef\\xbf\\xbd/\\xef\\xbf\\xbd\\xef\\xbf\\xbd\\x0c\\x08\\xef\\xbf\\xbd\\xef\\xbf\\xbd\\xef\\xbf\\xbd!\\xef\\xbf\\xbd\\xef\\xbf\\xbd\\x02\\xef\\xbf\\xbd\\x01u\\xef\\xbf\\xbd\\xef\\xbf\\xbd\"\\xc6\\x8aR\\xef\\xbf\\xbd\\xc3\\x96\\xef\\xbf\\xbd\\n[\\xef\\xbf\\xbd\\xef\\xbf\\xbd\\xc7\\x8c\\xef\\xbf\\xbd\\x7f0\\xde\\x953\\xef\\xbf\\xbd\\xef\\xbf\\xbdD\\xef\\xbf\\xbd\\x18\\xef\\xbf\\xbd%\\x00\\xef\\xbf\\xbd\\x17\\xef\\xbf\\xbd\\x1b#\\xef\\xbf\\xbd[\\xef\\xbf\\xbd-\\xef\\xbf\\xbd\\xef\\xbf\\xbdn\\xef\\xbf\\xbd\\x181\\x16\\xef\\xbf\\xbd/\\xef\\xbf\\xbdC\\xef\\xbf\\xbd\\xef\\xbf\\xbd\\xef\\xbf\\xbd\\x000\\xef\\xbf\\xbd\\xef\\xbf\\xbd\\x02r\\xd4\\x8a\\xef\\xbf\\xbd\\xef\\xbf\\xbd7\\xef\\xbf\\xbd\\xef\\xbf\\xbd&\\xef\\xbf\\xbd\\xef\\xbf\\xbd\\xef\\xbf\\xbd\\x1eP\"\\xef\\xbf\\xbdd'],\n",
              "       [b'\\x00\\x0c\\x01\\x00\\x00\\x01\\x00\\x00\\x00\\x00\\x00\\x00\\x06google\\x03com\\x00\\x00\\x1c\\x00\\x01\\xef\\xbf\\xbd\\xef\\xbf\\xbd\\xef\\xbf\\xbd<>}\\xef\\xbf\\xbd\\xef\\xbf\\xbd\\xef\\xbf\\xbd%\\xef\\xbf\\xbd\\xef\\xbf\\xbdR\\xef\\xbf\\xbdA\\x08\\xef\\xbf\\xbd\\xef\\xbf\\xbdt\\xef\\xbf\\xbd\\xef\\xbf\\xbd\\xef\\xbf\\xbd\\\\\\x07@c\\xef\\xbf\\xbd-\\xef\\xbf\\xbdG\\xef\\xbf\\xbd9\\xef\\xbf\\xbdu9\\xef\\xbf\\xbd\\xef\\xbf\\xbd\\xef\\xbf\\xbdE%wq\\xef\\xbf\\xbd\\xef\\xbf\\xbd\\x0f\\x0e\\xef\\xbf\\xbd\\xef\\xbf\\xbdo\\xef\\xbf\\xbd\\xef\\xbf\\xbdc\\xef\\xbf\\xbd.\\xef\\xbf\\xbd8\\xef\\xbf\\xbd\\xef\\xbf\\xbd\\xef\\xbf\\xbdg\\xef\\xbf\\xbd\\xef\\xbf\\xbd\\xef\\xbf\\xbd\\n!\\xef\\xbf\\xbd\\xef\\xbf\\xbd.\\xef\\xbf\\xbd|\\xef\\xbf\\xbd\\xef\\xbf\\xbd\\xef\\xbf\\xbd\\x04\\xef\\xbf\\xbdp\\xef\\xbf\\xbd&:\\xef\\xbf\\xbdb=\\x16\\x0f\\x14c\\xef\\xbf\\xbd\\xef\\xbf\\xbdd\\xef\\xbf\\xbd<\\xef\\xbf\\xbd\\xef\\xbf\\xbdW\\xef\\xbf\\xbd\\x08\\x1b\\xe5\\x96\\x8eM\\x1e\\xef\\xbf\\xbd\\xef\\xbf\\xbdR\\xde\\x97\\xef\\xbf\\xbd\\xef\\xbf\\xbd\\\\2\\xe9\\xa0\\x8bB\\xef\\xbf\\xbd\\xef\\xbf\\xbd\\xef\\xbf\\xbd\\xef\\xbf\\xbd\\xef\\xbf\\xbd^\"+#m>r\\x0cR\\x16\\x08)\\x1f(,\\xef\\xbf\\xbd\\xef\\xbf\\xbd\\x1d9\\x07\\xef\\xbf\\xbds\\x1f\\xef\\xbf\\xbd\\r\\xef\\xbf\\xbd\\xef\\xbf\\xbdR\\xef\\xbf\\xbd\\'\\x18~\\xef\\xbf\\xbd\\xef\\xbf\\xbd\\x07\\xef\\xbf\\xbd\\xef\\xbf\\xbd^(:\\xef\\xbf\\xbd\\xd1\\xa5\\xef\\xbf\\xbdQ\\xef\\xbf\\xbd\\x19\\xef\\xbf\\xbdv:\"\\xef\\xbf\\xbd\\xef\\xbf\\xbdg\\xef\\xbf\\xbd\\xef\\xbf\\xbd\\xef\\xbf\\xbdtX\"\\xef\\xbf\\xbdYZG\\xef\\xbf\\xbd\\xef\\xbf\\xbd\\xef\\xbf\\xbd\\xef\\xbf\\xbdp\\xc7\\xa4\\xef\\xbf\\xbd\\x0br\\xef\\xbf\\xbd+\\xef\\xbf\\xbdF\\xef\\xbf\\xbd\\xef\\xbf\\xbdj\\x05\\xe2\\xb9\\xbdg\\xef\\xbf\\xbd\\xef\\xbf\\xbd\\x1cO1\\xef\\xbf\\xbd\\xef\\xbf\\xbd%\\xdd\\x87\\xde\\x8d\\xef\\xbf\\xbd\\xef\\xbf\\xbd\"LI\\xef\\xbf\\xbd\\xef\\xbf\\xbd$\\xef\\xbf\\xbd\\x07\\xef\\xbf\\xbd%\\xef\\xbf\\xbd.b]3!\\xef\\xbf\\xbdE\\xef\\xbf\\xbdk*\\x1d\\x06\\xef\\xbf\\xbd=\\x04\\xef\\xbf\\xbd@@\\xef\\xbf\\xbd\\x14\\xef\\xbf\\xbd\\xef\\xbf\\xbd}\\xef\\xbf\\xbd5\\xef\\xbf\\xbd`\\xef\\xbf\\xbd\\xef\\xbf\\xbd\\xef\\xbf\\xbd\\xef\\xbf\\xbd\\xef\\xbf\\xbd)\\xef\\xbf\\xbd\\xef\\xbf\\xbd\\xc9\\x9cd\\x11\\xef\\xbf\\xbd\\xef\\xbf\\xbd\\x14=\\xd5\\xab\\x162\\xef\\xbf\\xbdc\\xc8\\xb0\\xef\\xbf\\xbd\\x07g\\x15\\xef\\xbf\\xbd\\xef\\xbf\\xbd\\xef\\xbf\\xbdK&\\x11\\xef\\xbf\\xbdb\\xef\\xbf\\xbd\\xef\\xbf\\xbd\\x02\\xef\\xbf\\xbd\\xef\\xbf\\xbd\\xef\\xbf\\xbd\\xef\\xbf\\xbd<@3\\x11\\xef\\xbf\\xbdTD;\\xef\\xbf\\xbd\\xef\\xbf\\xbd%u\\xef\\xbf\\xbdL\\xef\\xbf\\xbd.,.}\\xef\\xbf\\xbdK\\xef\\xbf\\xbd\\xef\\xbf\\xbd\\\\}\\xef\\xbf\\xbd\\xef\\xbf\\xbdm1\\xef\\xbf\\xbd\\xef\\xbf\\xbdEj\\xef\\xbf\\xbd\\xef\\xbf\\xbd\\x15\\xef\\xbf\\xbd]\\xef\\xbf\\xbd\\xef\\xbf\\xbd\\xef\\xbf\\xbd\\xef\\xbf\\xbd\\xef\\xbf\\xbd\\xef\\xbf\\xbd\\xef\\xbf\\xbd\\r\\xcd\\xa1\\xef\\xbf\\xbdL\\xef\\xbf\\xbd:\\xdf\\xb4\\xef\\xbf\\xbdb\\xef\\xbf\\xbd\\xef\\xbf\\xbd;\\xef\\xbf\\xbd\\xef\\xbf\\xbd1\\xef\\xbf\\xbdv\\xef\\xbf\\xbd\\x10\\xef\\xbf\\xbdVR\\xef\\xbf\\xbd\\xef\\xbf\\xbd\"kq\\xef\\xbf\\xbd\\xef\\xbf\\xbd\\xef\\xbf\\xbd\\x03\\xef\\xbf\\xbd\\xc7\\xa77\\x03\\xef\\xbf\\xbd\\xef\\xbf\\xbd\\xef\\xbf\\xbd5\\xef\\xbf\\xbd0)\\xef\\xbf\\xbd\\xef\\xbf\\xbd\\xef\\xbf\\xbd\\xef\\xbf\\xbd\\x1a~\\xef\\xbf\\xbd\\xef\\xbf\\xbd\\x1f\\x0f7\\xc4\\xbe3v\\xef\\xbf\\xbd\\xef\\xbf\\xbd\\xef\\xbf\\xbdC\\xef\\xbf\\xbd\\x1c}j\\xef\\xbf\\xbd&\\xef\\xbf\\xbdB\\xef\\xbf\\xbdy\\xef\\xbf\\xbd/\\x00BA\\x7f\\xef\\xbf\\xbd\\xef\\xbf\\xbd$\\xef\\xbf\\xbd\\xef\\xbf\\xbd\\xef\\xbf\\xbd\\x10XjSI\\xef\\xbf\\xbd\\xef\\xbf\\xbd\\xef\\xbf\\xbd\\xef\\xbf\\xbdS\\xef\\xbf\\xbd\\\\t\\xef\\xbf\\xbd{\\xef\\xbf\\xbdP\\xef\\xbf\\xbdi\\x02\\xef\\xbf\\xbd\\xe7\\x84\\x80\\xef\\xbf\\xbdB\\xef\\xbf\\xbd\\xef\\xbf\\xbd\\xef\\xbf\\xbd\\xef\\xbf\\xbd\\xcf\\xb1\\xef\\xbf\\xbd\\x1eQ\\xef\\xbf\\xbd~\\xef\\xbf\\xbdq\\xef\\xbf\\xbd\\xef\\xbf\\xbd\\xef\\xbf\\xbd\\x03\\x07\\xef\\xbf\\xbdk\\xc6\\xb1\\xef\\xbf\\xbd\\xef\\xbf\\xbdK/\\xef\\xbf\\xbd4\\xef\\xbf\\xbd)R*\\x15\\xef\\xbf\\xbdc\\xef\\xbf\\xbd\\xef\\xbf\\xbd\\xef\\xbf\\xbd\\xef\\xbf\\xbd\\xef\\xbf\\xbd\\xef\\xbf\\xbd\\xef\\xbf\\xbdU\\xef\\xbf\\xbd\\xef\\xbf\\xbd\\xd2\\x87\\x08\\xef\\xbf\\xbd\"\\xef\\xbf\\xbd\\xef\\xbf\\xbd\\x14\\xef\\xbf\\xbd\\x18\\xef\\xbf\\xbd\\xef\\xbf\\xbd\\xef\\xbf\\xbd~\\x16\\xef\\xbf\\xbd\\xef\\xbf\\xbdC3\\xef\\xbf\\xbd'],\n",
              "       [b'\\x00\\x0c\\x01\\x00\\x00\\x01\\x00\\x00\\x00\\x00\\x00\\x00\\x06google\\x03com\\x00\\x00\\x1c\\x00\\x01~\\xef\\xbf\\xbd\\xef\\xbf\\xbd\\xef\\xbf\\xbd \\xef\\xbf\\xbd3\\xef\\xbf\\xbd\\xef\\xbf\\xbd+\\xef\\xbf\\xbd\\x1e\\xef\\xbf\\xbd\\xef\\xbf\\xbd(\\xef\\xbf\\xbd5s\\xef\\xbf\\xbd\\xef\\xbf\\xbd\\xef\\xbf\\xbd\"\\xef\\xbf\\xbdD\\xef\\xbf\\xbdMsbm`\\xef\\xbf\\xbd\\x07\\xef\\xbf\\xbd\\xef\\xbf\\xbdE\\xef\\xbf\\xbdv\\xcc\\x98\\xef\\xbf\\xbd\\xef\\xbf\\xbd\\\\D\\xef\\xbf\\xbd\\x15HE\\xef\\xbf\\xbd\\xef\\xbf\\xbd\\xef\\xbf\\xbdoLM\\xef\\xbf\\xbd\\xef\\xbf\\xbd\\xef\\xbf\\xbd\\xef\\xbf\\xbd\\xef\\xbf\\xbd7\\xef\\xbf\\xbdX\\x0b\\xef\\xbf\\xbdM\\xef\\xbf\\xbd\\xef\\xbf\\xbd\\xef\\xbf\\xbdsC\\xef\\xbf\\xbd\\xef\\xbf\\xbd:H\\xef\\xbf\\xbd\\xef\\xbf\\xbdY\\xef\\xbf\\xbd\\x1a\\xef\\xbf\\xbdW\\x02\\xef\\xbf\\xbd\\xef\\xbf\\xbdb\\xef\\xbf\\xbd(C\\xef\\xbf\\xbd|v\\xef\\xbf\\xbd\\x03\\x1av\\x01l\\xef\\xbf\\xbd\\xd6\\x9f\\xef\\xbf\\xbd\\xef\\xbf\\xbd\\xef\\xbf\\xbd:\\xef\\xbf\\xbd\\x12}dN\\x0e\\x19\\xef\\xbf\\xbdx\\xef\\xbf\\xbd\\xef\\xbf\\xbd\\xef\\xbf\\xbds\\xef\\xbf\\xbd\\xef\\xbf\\xbd1JR4D\\xef\\xbf\\xbd\\xef\\xbf\\xbdN\\xef\\xbf\\xbdp\\xef\\xbf\\xbd\\xef\\xbf\\xbd\\xef\\xbf\\xbd/\\xef\\xbf\\xbd\\x18\\xc7\\x92\\xef\\xbf\\xbd\\xd5\\x9dB\\xef\\xbf\\xbdjeYd7\\xef\\xbf\\xbd\\x11\\xef\\xbf\\xbdIJ\\xef\\xbf\\xbd\\xef\\xbf\\xbd:\\tp;U\\x15\\xef\\xbf\\xbd\\x1f\\x00\\xef\\xbf\\xbd\\xef\\xbf\\xbd\\xef\\xbf\\xbd\\xef\\xbf\\xbd\\x1b\\x01\\xef\\xbf\\xbdv\\xc7\\x8a\\xef\\xbf\\xbd\\xef\\xbf\\xbd3\\xef\\xbf\\xbd\\xef\\xbf\\xbd\\xef\\xbf\\xbdA\\xef\\xbf\\xbdq\\\\\\x03\\xef\\xbf\\xbdG\\xef\\xbf\\xbd\\x15\\xef\\xbf\\xbd&\\xef\\xbf\\xbd@g:\\x0f\\\\Q\\xef\\xbf\\xbdo\\x02\\xef\\xbf\\xbd\\xef\\xbf\\xbd}u\\xef\\xbf\\xbd\\x04]\\x07\\xef\\xbf\\xbdhhBsh_KfaY\\xef\\xbf\\xbd57\\xef\\xbf\\xbd\\xef\\xbf\\xbdlz\\xef\\xbf\\xbd\\xef\\xbf\\xbdC\\xef\\xbf\\xbd\\xef\\xbf\\xbd\\xef\\xbf\\xbd%\\xef\\xbf\\xbd\\x181i\\xef\\xbf\\xbd)\\x1a7\\xef\\xbf\\xbd\\xef\\xbf\\xbd\\xef\\xbf\\xbd\\xef\\xbf\\xbd\\xef\\xbf\\xbd\\xde\\xaa\\n\\xef\\xbf\\xbd-\\xef\\xbf\\xbd\\x0f\\xef\\xbf\\xbd!\\xef\\xbf\\xbd\\xef\\xbf\\xbddn\\xef\\xbf\\xbd@\\xd4\\x86\\xef\\xbf\\xbdt\\xef\\xbf\\xbd\\xef\\xbf\\xbdK\\xef\\xbf\\xbd#\\x1a\\xef\\xbf\\xbd[#m\\xef\\xbf\\xbd\\xd6\\xbb@\\x04\\xef\\xbf\\xbd%T\\xef\\xbf\\xbdH\\xef\\xbf\\xbd;\\xef\\xbf\\xbd\\xef\\xbf\\xbd\\xef\\xbf\\xbd\\x7fO\\x04\\xef\\xbf\\xbdMV\\x1f\\x088\\xef\\xbf\\xbd\\xef\\xbf\\xbd[\\xef\\xbf\\xbdm\\xef\\xbf\\xbd\\xef\\xbf\\xbd^\\x0cK\\xef\\xbf\\xbd\\xef\\xbf\\xbd7\\xef\\xbf\\xbd\\x13a\":b#p\\xef\\xbf\\xbd\\xef\\xbf\\xbd\\xef\\xbf\\xbd\\xdc\\x9c\\xdd\\xaf\\xef\\xbf\\xbd\\x1d\\xef\\xbf\\xbd\\xef\\xbf\\xbd\\xef\\xbf\\xbd\\xef\\xbf\\xbdI\\xef\\xbf\\xbd\\xef\\xbf\\xbd\\xef\\xbf\\xbd\\xce\\xa6t\\x12\\xef\\xbf\\xbd)\\xd1\\x81\\xef\\xbf\\xbd\\xef\\xbf\\xbd\\xc3\\x87ps\\xef\\xbf\\xbd\\x19\\xef\\xbf\\xbd\\x7f\\xef\\xbf\\xbd\\xc9\\xbe\\xef\\xbf\\xbd\\nc\\x10)\\xef\\xbf\\xbdi\\xef\\xbf\\xbd\\nFyN\\xef\\xbf\\xbd\\xef\\xbf\\xbd\\xef\\xbf\\xbd\\x02.\\xef\\xbf\\xbdVf_rs\\xef\\xbf\\xbdC\\xef\\xbf\\xbd\\x1eJb\\xef\\xbf\\xbd\\xef\\xbf\\xbd2\\xef\\xbf\\xbd\\xef\\xbf\\xbdk\\xef\\xbf\\xbd\\xef\\xbf\\xbdw]\\xef\\xbf\\xbd\\xc7\\xad\\xef\\xbf\\xbd0\\xef\\xbf\\xbd\\xef\\xbf\\xbd\\xef\\xbf\\xbd\\xef\\xbf\\xbd/i}H|\\xef\\xbf\\xbdk\\xef\\xbf\\xbd\\x17\\x1dJ!\\xef\\xbf\\xbdW\\xef\\xbf\\xbd\\x16\\xef\\xbf\\xbd\\xef\\xbf\\xbd\\xef\\xbf\\xbd\\xef\\xbf\\xbd\\xcd\\xb8\\xef\\xbf\\xbd\\xef\\xbf\\xbd\\xef\\xbf\\xbdS\\xef\\xbf\\xbd\\xef\\xbf\\xbd\\xef\\xbf\\xbdB\\x0c\\x08\\xef\\xbf\\xbd%\\xef\\xbf\\xbd\\\\Z\\xef\\xbf\\xbdmuE\\xef\\xbf\\xbd\\xef\\xbf\\xbd\\x11\\xef\\xbf\\xbd.^\\x13\\x17Bc!\\xef\\xbf\\xbd\\x10\\xef\\xbf\\xbd\\n\\xef\\xbf\\xbdvE\\xef\\xbf\\xbdL2GHJ\\xc7\\xb3\\\\Zm\\xef\\xbf\\xbd1\\xef\\xbf\\xbd?%u[\\xef\\xbf\\xbd\\xef\\xbf\\xbd\\xef\\xbf\\xbd*\\xef\\xbf\\xbd\\x1fH\\xef\\xbf\\xbd\\xef\\xbf\\xbdU\\x15\\xef\\xbf\\xbd\\xef\\xbf\\xbd\\x10Q\\xef\\xbf\\xbd\\xef\\xbf\\xbde,\\xef\\xbf\\xbd\\xef\\xbf\\xbd^\\xef\\xbf\\xbdh2\\xef\\xbf\\xbdD\\xef\\xbf\\xbd\\xef\\xbf\\xbd-\\xef\\xbf\\xbd6\\xc6\\x99\\xef\\xbf\\xbd\\xef\\xbf\\xbd'],\n",
              "       [b'\\x00\\x0c\\x01\\x00\\x00\\x01\\x00\\x00\\x00\\x00\\x00\\x00\\x06google\\x03com\\x00\\x00\\x1c\\x00\\x01\\xef\\xbf\\xbd\\xef\\xbf\\xbd\\xef\\xbf\\xbd\\xef\\xbf\\xbdp\\xef\\xbf\\xbdQ!e\\xef\\xbf\\xbd\\x1e\\x12\\xef\\xbf\\xbd%\\\\\\xd8\\xaf^Z\\xdb\\x95 \\xef\\xbf\\xbd=\\x02\"L{\\xef\\xbf\\xbd\\t\\x11\\xef\\xbf\\xbd\\x12\\x11\\x17ti\\xef\\xbf\\xbd\\x0e\\xef\\xbf\\xbdGB|\\xef\\xbf\\xbd\\xef\\xbf\\xbd\\xef\\xbf\\xbd,7\\xef\\xbf\\xbd\\x07\\xef\\xbf\\xbdp6K\\xef\\xbf\\xbd\\xef\\xbf\\xbd\\xef\\xbf\\xbd[\\xef\\xbf\\xbd\\xea\\x8e\\xb8\\x0e\\xef\\xbf\\xbd\\x1a\\xef\\xbf\\xbd\\xef\\xbf\\xbd\\x02\\x1as\\xd1\\x9d9\\xef\\xbf\\xbdr\\xef\\xbf\\xbd@6\\xef\\xbf\\xbd\\xef\\xbf\\xbdLT\\xef\\xbf\\xbdVc\\xef\\xbf\\xbds\\xef\\xbf\\xbd\\xef\\xbf\\xbd\\x1f(\\xef\\xbf\\xbd\\xef\\xbf\\xbd\\xef\\xbf\\xbd\\x0fW\\x16\\xef\\xbf\\xbd`\\xef\\xbf\\xbd@\\xef\\xbf\\xbdMl\\xef\\xbf\\xbdi\\xef\\xbf\\xbd\\xef\\xbf\\xbd,Z\\xef\\xbf\\xbd\\xd9\\xba\\xef\\xbf\\xbd\\xef\\xbf\\xbdo\\xef\\xbf\\xbd\\xef\\xbf\\xbd\\\\\\xef\\xbf\\xbd\\xef\\xbf\\xbd\\xef\\xbf\\xbdCE\\x16dG\\xef\\xbf\\xbd\\x01A\\xef\\xbf\\xbd\\xd4\\x81pcm\\xef\\xbf\\xbd\\xef\\xbf\\xbd\\xef\\xbf\\xbd\\xef\\xbf\\xbda\\xef\\xbf\\xbd\\xef\\xbf\\xbd\\x05.5(\\xef\\xbf\\xbd\\xef\\xbf\\xbd4e\\xef\\xbf\\xbd\\xef\\xbf\\xbd}\\xef\\xbf\\xbd==\\xef\\xbf\\xbdK\\xef\\xbf\\xbdr\\xef\\xbf\\xbd]\\xef\\xbf\\xbd\\xef\\xbf\\xbd\\\\\\xd2\\xbd\\x7f\\xef\\xbf\\xbd\\xef\\xbf\\xbd\\xef\\xbf\\xbd\\xef\\xbf\\xbd5Fs\\xc7\\xa6\\xef\\xbf\\xbd\\xef\\xbf\\xbdA\\xef\\xbf\\xbd\\xef\\xbf\\xbd\\xef\\xbf\\xbd1&\\x15\\xef\\xbf\\xbd\\xef\\xbf\\xbd\\xef\\xbf\\xbdM\\xef\\xbf\\xbd=\\xef\\xbf\\xbdR\\xef\\xbf\\xbd\\xef\\xbf\\xbd\\xef\\xbf\\xbdX\\xef\\xbf\\xbd\\xef\\xbf\\xbd_(r\\xef\\xbf\\xbd\\xef\\xbf\\xbdK\\x01\\xef\\xbf\\xbd8-\\xef\\xbf\\xbd\\xef\\xbf\\xbd\\xef\\xbf\\xbd\\xef\\xbf\\xbd\\x1c\\x18\\xef\\xbf\\xbd\\xef\\xbf\\xbdS\\xef\\xbf\\xbd\\xef\\xbf\\xbd\\xef\\xbf\\xbd\\xef\\xbf\\xbd\\xef\\xbf\\xbd\\x1bstm\\xef\\xbf\\xbd8\\x18\\xef\\xbf\\xbde\\xef\\xbf\\xbd.!52#\\xef\\xbf\\xbd\\xef\\xbf\\xbd\\xef\\xbf\\xbd\\x0f@/\\xcd\\x99\\xef\\xbf\\xbd\\xef\\xbf\\xbda\\xef\\xbf\\xbd\\xef\\xbf\\xbd\\xef\\xbf\\xbdY.\\x07\\xef\\xbf\\xbd\\xef\\xbf\\xbd05i\\x07\\x0e\\xef\\xbf\\xbd\\x07\\x1e;2 BNR|+\\xef\\xbf\\xbdRt\\xef\\xbf\\xbd\\x02\\xef\\xbf\\xbd>\\xef\\xbf\\xbd\\xef\\xbf\\xbd\\xef\\xbf\\xbdmK\\xef\\xbf\\xbd\\xef\\xbf\\xbd]\\xef\\xbf\\xbdt\\x04\\xef\\xbf\\xbd\\xda\\xa8\\xef\\xbf\\xbd\\'4\\xef\\xbf\\xbd\\x7fB\\xef\\xbf\\xbd\\xef\\xbf\\xbd\\x03\\x00F\\xdb\\x84&\\xef\\xbf\\xbd3\\xef\\xbf\\xbd\\xef\\xbf\\xbd\\x0b\\xef\\xbf\\xbd*\\xef\\xbf\\xbd\\xef\\xbf\\xbd\\xef\\xbf\\xbdp\\xef\\xbf\\xbdn\\xef\\xbf\\xbd\\xef\\xbf\\xbd\\xef\\xbf\\xbdK:$\\x16\"D\\xd3\\xa2!\\xef\\xbf\\xbdtK&h\\xef\\xbf\\xbdV\\t\\x003\\x00\\xef\\xbf\\xbd\\tmK\\xef\\xbf\\xbd\\x07E\\x0e9\\xef\\xbf\\xbdE\\xef\\xbf\\xbd\\\\P0_o&\\x05\\x7fi\\xef\\xbf\\xbd\\t\\xdf\\xac_c\\xef\\xbf\\xbd\\xef\\xbf\\xbda\\xef\\xbf\\xbd\\x17\\xef\\xbf\\xbd~Q\\n\\xef\\xbf\\xbdo\\x00\\x1c\\x0f\\x08\\x1a\\xef\\xbf\\xbd\\xef\\xbf\\xbdp4\\x07\\xef\\xbf\\xbd`\\xef\\xbf\\xbd<\\xef\\xbf\\xbd2\\x0bZ\\xef\\xbf\\xbd\\xef\\xbf\\xbd\\xef\\xbf\\xbd\\'\\xef\\xbf\\xbd\\xef\\xbf\\xbd\\xef\\xbf\\xbd\\xef\\xbf\\xbdk\\x1f\\x0f\\xef\\xbf\\xbd_\\xef\\xbf\\xbd3Tc\\xef\\xbf\\xbd\\xef\\xbf\\xbd\\xef\\xbf\\xbdA9\\xef\\xbf\\xbd\\x1f$\\\\\\xce\\xa9,\\xd0\\x84\\xef\\xbf\\xbd\\xef\\xbf\\xbd\\xef\\xbf\\xbd\\xef\\xbf\\xbdK\\xef\\xbf\\xbd,\\xef\\xbf\\xbd\\xdb\\xa4@\\x1d\\xef\\xbf\\xbdr\\xef\\xbf\\xbd@\\xef\\xbf\\xbd\\xc6\\x9e#\\xef\\xbf\\xbd@Db\\xef\\xbf\\xbd\\xef\\xbf\\xbd<\\xef\\xbf\\xbdu\\x0b\\x00\\xef\\xbf\\xbd\\x0f\\xef\\xbf\\xbd\\xef\\xbf\\xbdx\\xef\\xbf\\xbd*\\xef\\xbf\\xbd6\\xef\\xbf\\xbd\\xef\\xbf\\xbd9J\\xef\\xbf\\xbd>\\xef\\xbf\\xbd\\xef\\xbf\\xbdC\\x08i\\x14b\\xef\\xbf\\xbd\\xef\\xbf\\xbd\\xef\\xbf\\xbd\\xef\\xbf\\xbdzd\\x04\\x020\\xef\\xbf\\xbd7!j\\xef\\xbf\\xbd\\x05\\xef\\xbf\\xbd\\xef\\xbf\\xbdO\\xef\\xbf\\xbd\\x01nOv]\\xef\\xbf\\xbdE\\xef\\xbf\\xbd\\xef\\xbf\\xbdA\\xef\\xbf\\xbd\\xef\\xbf\\xbd\"'],\n",
              "       [b'\\x00\\x0c\\x01\\x00\\x00\\x01\\x00\\x00\\x00\\x00\\x00\\x00\\x06google\\x03com\\x00\\x00\\x1c\\x00\\x01\\xef\\xbf\\xbd@\\x08\\xef\\xbf\\xbd\\x10\"\\x1d\\xef\\xbf\\xbdZ\\xef\\xbf\\xbd\\x19]gL8\\xef\\xbf\\xbd\\x14|g+\\xef\\xbf\\xbd\\xef\\xbf\\xbd\\xd8\\x81\\x04\\xef\\xbf\\xbd>6LJm\\xef\\xbf\\xbd]\\xef\\xbf\\xbd\\xef\\xbf\\xbd\\xef\\xbf\\xbd\\xef\\xbf\\xbd\\xda\\xa8\\xef\\xbf\\xbd,7<\\xef\\xbf\\xbdew\\xef\\xbf\\xbd\\xef\\xbf\\xbd\\xef\\xbf\\xbdDn\\xef\\xbf\\xbd&eQB!\\xef\\xbf\\xbdz\\xef\\xbf\\xbdts\\xef\\xbf\\xbd\\x0c\\xef\\xbf\\xbd#\\xef\\xbf\\xbd\\nBu!\"\\xef\\xbf\\xbd\\x04\\xef\\xbf\\xbd\\xef\\xbf\\xbd\\xef\\xbf\\xbdv8\\xef\\xbf\\xbdh\\xef\\xbf\\xbdEu\\xef\\xbf\\xbd\\xef\\xbf\\xbd\\xef\\xbf\\xbd\\xef\\xbf\\xbd_\\\\\\xef\\xbf\\xbds\\xef\\xbf\\xbdb> \\r\\xef\\xbf\\xbd\\xef\\xbf\\xbd!j\\xef\\xbf\\xbd\\xef\\xbf\\xbd=9\"\\xef\\xbf\\xbd\\xef\\xbf\\xbd\\xef\\xbf\\xbd}*\"\\xef\\xbf\\xbdZ\\xef\\xbf\\xbd\\xef\\xbf\\xbd\\xef\\xbf\\xbd\\xef\\xbf\\xbdw)\\xef\\xbf\\xbd\\xef\\xbf\\xbd$\\x1f\\xef\\xbf\\xbd\\xef\\xbf\\xbd\\x17(\\xef\\xbf\\xbdh\\xef\\xbf\\xbd\\xef\\xbf\\xbd\\xdd\\x93v;\\xef\\xbf\\xbd\\r\\xef\\xbf\\xbd\\xef\\xbf\\xbd\\xef\\xbf\\xbd\\xef\\xbf\\xbd\\xef\\xbf\\xbdE\\xef\\xbf\\xbd\\xef\\xbf\\xbd+R\\xef\\xbf\\xbd\\xef\\xbf\\xbd\\x15\\xef\\xbf\\xbd~\\xef\\xbf\\xbd\\x06^\\xef\\xbf\\xbd\\x04\\xef\\xbf\\xbd\\x19\\xef\\xbf\\xbd\\\\\\n\\x1d\\rB\\xef\\xbf\\xbdy\\x7f\\xef\\xbf\\xbd\\x13\\xef\\xbf\\xbd\\xef\\xbf\\xbd\\x16\\x01D\\xef\\xbf\\xbd6~\\xef\\xbf\\xbd\\xef\\xbf\\xbd\\xef\\xbf\\xbd\\xef\\xbf\\xbd-\\xef\\xbf\\xbd\\xef\\xbf\\xbd&P\\xef\\xbf\\xbdd\\xef\\xbf\\xbd\\t1\\x11\\xef\\xbf\\xbdC\\xef\\xbf\\xbd|;\\xef\\xbf\\xbd\\xef\\xbf\\xbd!\\xef\\xbf\\xbd\\xef\\xbf\\xbdS.\\xef\\xbf\\xbd\\xef\\xbf\\xbd\\xef\\xbf\\xbdt\\xef\\xbf\\xbd\\xef\\xbf\\xbd\\x05\\xef\\xbf\\xbd\\xef\\xbf\\xbd\\xc4\\x9e\\\\\\xdc\\x8c\\xef\\xbf\\xbd\\xef\\xbf\\xbd\\xef\\xbf\\xbdq(\\xef\\xbf\\xbd2\\xef\\xbf\\xbd9\\xef\\xbf\\xbd+RP1\\xef\\xbf\\xbd\\xef\\xbf\\xbdC\\xef\\xbf\\xbd\\x06\\x00ID\\xef\\xbf\\xbdB\\xef\\xbf\\xbd/\\xef\\xbf\\xbd4\\xef\\xbf\\xbd\\xef\\xbf\\xbd/.\\xef\\xbf\\xbdI\\xdb\\xb4\\xef\\xbf\\xbdO\\xef\\xbf\\xbd\\ndaqI>\\xef\\xbf\\xbd\\xef\\xbf\\xbd\\xef\\xbf\\xbd\\xef\\xbf\\xbd\\xef\\xbf\\xbdh\\xef\\xbf\\xbd\\x14\\x01\\x12\\xef\\xbf\\xbd\\xef\\xbf\\xbdH\\xef\\xbf\\xbdr#\\xef\\xbf\\xbd\\\\\\xef\\xbf\\xbd\\xef\\xbf\\xbd~\\xef\\xbf\\xbd|\\xef\\xbf\\xbd\\xef\\xbf\\xbd\\xef\\xbf\\xbd\\x13K\\xef\\xbf\\xbd\\xef\\xbf\\xbd\\n\\xef\\xbf\\xbd\\xef\\xbf\\xbd\\xef\\xbf\\xbd\\xef\\xbf\\xbd\\x07\\xef\\xbf\\xbdx|\\xef\\xbf\\xbdi\\xef\\xbf\\xbd\\xef\\xbf\\xbd\\x04\\x11\\xef\\xbf\\xbdJ\\xef\\xbf\\xbd\\x05W\\xef\\xbf\\xbdz\\xef\\xbf\\xbd\\xef\\xbf\\xbd\\xef\\xbf\\xbd\\xef\\xbf\\xbd\\x10CI)\\xef\\xbf\\xbdNk\\xef\\xbf\\xbd\\xef\\xbf\\xbd~\\xc3\\xa8\\tI8\\xef\\xbf\\xbd\\xef\\xbf\\xbd\\x165\\x1e_\\xef\\xbf\\xbd;\\xef\\xbf\\xbd\\x16~\\xef\\xbf\\xbd>`|\\x18{\\xef\\xbf\\xbd\\xef\\xbf\\xbd\\x07\\xef\\xbf\\xbd\\xef\\xbf\\xbd\\xef\\xbf\\xbd\\xef\\xbf\\xbd\\xef\\xbf\\xbd\"\\x03B\\x17\\xef\\xbf\\xbd\\x0b\\xef\\xbf\\xbd\\xef\\xbf\\xbdiT\\xef\\xbf\\xbdET\\xef\\xbf\\xbdnO\\x1e\\x0b\\xef\\xbf\\xbd\\xef\\xbf\\xbd\\x10qj\\xef\\xbf\\xbd!:\\xef\\xbf\\xbd\\x00\\x11AH\\xef\\xbf\\xbd7\\xef\\xbf\\xbd\\xef\\xbf\\xbd\\xef\\xbf\\xbd/\\xd5\\xad,\\x7f1\\xda\\x8c]\\xef\\xbf\\xbd%Da;\\xef\\xbf\\xbdOY\\xef\\xbf\\xbd\\xef\\xbf\\xbd\\xef\\xbf\\xbd}-E\\x0fi\\x02u\\x1b\\xef\\xbf\\xbd\\xef\\xbf\\xbd\\x19W\\xef\\xbf\\xbd|n\\xef\\xbf\\xbdSK_?\\xef\\xbf\\xbd\\xef\\xbf\\xbd\\xef\\xbf\\xbd\\xef\\xbf\\xbd\\n\\xef\\xbf\\xbdo\\n\\xcd\\x99MN\\x15\\xef\\xbf\\xbdL\\xe7\\xb2\\x8a\\xef\\xbf\\xbd\\xef\\xbf\\xbdSh\\xef\\xbf\\xbd\\xef\\xbf\\xbd\\xef\\xbf\\xbd7\\xef\\xbf\\xbd\\x08\\xef\\xbf\\xbd8z\\xef\\xbf\\xbd\\x18\\xef\\xbf\\xbd}J)\\x7f:[L\\xef\\xbf\\xbd\\xef\\xbf\\xbdU4\\xef\\xbf\\xbdk\\xd5\\x95\\xef\\xbf\\xbd\\xef\\xbf\\xbd\\xef\\xbf\\xbdG\\xef\\xbf\\xbd\\xef\\xbf\\xbd\\xd5\\x87\\xef\\xbf\\xbd\\x04\\xef\\xbf\\xbdXj\\xef\\xbf\\xbd\\r\\xef\\xbf\\xbd\\xef\\xbf\\xbd\\xef\\xbf\\xbdo\\xef\\xbf\\xbdAk\\xef\\xbf\\xbd/\\xef\\xbf\\xbd)\\xef\\xbf\\xbd\\xef\\xbf\\xbd'],\n",
              "       [b'\\x00\\x0c\\x01\\x00\\x00\\x01\\x00\\x00\\x00\\x00\\x00\\x00\\x06google\\x03com\\x00\\x00\\x1c\\x00\\x01*\\x0b\\xef\\xbf\\xbd\\xcb\\xaa\\xef\\xbf\\xbdf\\xef\\xbf\\xbdu\\xef\\xbf\\xbd\\xef\\xbf\\xbd\\xef\\xbf\\xbd\\xef\\xbf\\xbd>\\xef\\xbf\\xbd\\x07g\\xef\\xbf\\xbd\\xef\\xbf\\xbd\\xef\\xbf\\xbd\\xef\\xbf\\xbd\\xef\\xbf\\xbd\\xef\\xbf\\xbd\\xef\\xbf\\xbd\\xef\\xbf\\xbd\\xef\\xbf\\xbd6\\x1dP`=/@\\\\\\xef\\xbf\\xbd\\xef\\xbf\\xbds\\xef\\xbf\\xbd\\xef\\xbf\\xbd\\xef\\xbf\\xbd\\xef\\xbf\\xbd\\x18\\xef\\xbf\\xbd\"Xi\\x1f\\xd7\\x8aV\\xef\\xbf\\xbd\\xef\\xbf\\xbd\\xef\\xbf\\xbd\\xef\\xbf\\xbd\\xef\\xbf\\xbd\\xef\\xbf\\xbdS\\xef\\xbf\\xbd?\\x03\\x00\\xef\\xbf\\xbd\\xef\\xbf\\xbd\\xef\\xbf\\xbd\\xef\\xbf\\xbd\\x12\\xef\\xbf\\xbd\\x0b\\xef\\xbf\\xbd;\\xef\\xbf\\xbd\\xef\\xbf\\xbd\\xef\\xbf\\xbd\"l\\x7f\\xef\\xbf\\xbd\\xef\\xbf\\xbd,\\xef\\xbf\\xbd4!~\\x07g\\xef\\xbf\\xbd;\\x10\\xef\\xbf\\xbd\\xef\\xbf\\xbdR=\\xef\\xbf\\xbd\\xef\\xbf\\xbdWV#\\xef\\xbf\\xbd\\xef\\xbf\\xbdF\\xef\\xbf\\xbdQ\\xef\\xbf\\xbdF\\x17G\\xef\\xbf\\xbd\\xef\\xbf\\xbd\\xef\\xbf\\xbd\\xef\\xbf\\xbd\\xef\\xbf\\xbd\\xef\\xbf\\xbd\\xef\\xbf\\xbd\\xef\\xbf\\xbd\\xef\\xbf\\xbd\\xd5\\x85>}g\\xef\\xbf\\xbd\\x06?\\xef\\xbf\\xbd\\t\\xef\\xbf\\xbd\\xef\\xbf\\xbd\\x05pN\\xef\\xbf\\xbd&\\xef\\xbf\\xbd\\xef\\xbf\\xbd>i\\xef\\xbf\\xbd\\xef\\xbf\\xbd\\xef\\xbf\\xbd)\\xef\\xbf\\xbd7K\\xef\\xbf\\xbd\\xef\\xbf\\xbdx CRZ\\xea\\x8e\\x84\\xef\\xbf\\xbd\\x1d\\x15\\xef\\xbf\\xbdfi\\xef\\xbf\\xbd\\xef\\xbf\\xbd\\xef\\xbf\\xbdX\\xef\\xbf\\xbdC\\xef\\xbf\\xbd\\xdb\\xb5C\\xef\\xbf\\xbd6\\xef\\xbf\\xbd0\\xef\\xbf\\xbd\\xef\\xbf\\xbd\\xef\\xbf\\xbd<8&\\xef\\xbf\\xbd\\xef\\xbf\\xbdE\\xef\\xbf\\xbd\\x1b\\xef\\xbf\\xbd~F)\\xef\\xbf\\xbd\\x04\\xcc\\x8a\\xef\\xbf\\xbd:.O\\xef\\xbf\\xbd\\xef\\xbf\\xbdF\\r\\xef\\xbf\\xbd_\\xef\\xbf\\xbd\\xef\\xbf\\xbd8d\\xef\\xbf\\xbd\\x16l\\xef\\xbf\\xbd\\xef\\xbf\\xbd\\xef\\xbf\\xbd\\xef\\xbf\\xbd\\x16_\\xef\\xbf\\xbdl\\xef\\xbf\\xbd\\x00b\\xef\\xbf\\xbd\\xef\\xbf\\xbd\\xef\\xbf\\xbd\\xef\\xbf\\xbdZ\\xef\\xbf\\xbd\\x14\\xef\\xbf\\xbd|\\xef\\xbf\\xbd\\xef\\xbf\\xbd\\xef\\xbf\\xbd.\\xef\\xbf\\xbdI\\xca\\x92\\xef\\xbf\\xbdu\\xef\\xbf\\xbd\\xef\\xbf\\xbd\\xd4\\x9e+\\xef\\xbf\\xbd\\xef\\xbf\\xbdi\\xcd\\x9e\\xef\\xbf\\xbd>o\\xef\\xbf\\xbd\\x17\\xef\\xbf\\xbd\\x1a\\xef\\xbf\\xbd\\x11\\x02\\x13\\xef\\xbf\\xbdp\\xef\\xbf\\xbd\\xef\\xbf\\xbd\\x11)\\x10H\\xef\\xbf\\xbd.\\xef\\xbf\\xbd\\xef\\xbf\\xbd\\xef\\xbf\\xbd\\xef\\xbf\\xbd\\xef\\xbf\\xbd\\xef\\xbf\\xbd}\\xef\\xbf\\xbd\\xef\\xbf\\xbd]\\xc2\\xa9\\xef\\xbf\\xbd+3\\xcb\\x82\\xef\\xbf\\xbd\\x16zK\\xef\\xbf\\xbd\\xef\\xbf\\xbd\\xef\\xbf\\xbd\\xef\\xbf\\xbd\\x18\"N\\xef\\xbf\\xbd6o\\xef\\xbf\\xbdY\\xef\\xbf\\xbd&\\xc4\\x9f\\xd0\\xa1\\xef\\xbf\\xbd%[\\xef\\xbf\\xbd\\xef\\xbf\\xbd6\\xef\\xbf\\xbd&b\\xef\\xbf\\xbd\\\\\\xef\\xbf\\xbd\\xef\\xbf\\xbd\\xef\\xbf\\xbd1o\\xef\\xbf\\xbdW{K\\xef\\xbf\\xbd#\\xef\\xbf\\xbd\\xef\\xbf\\xbd\\xd4\\x9c+RY\\x1d\\xef\\xbf\\xbdH\\xef\\xbf\\xbd\\x01(k\\xef\\xbf\\xbd\\x18\\xef\\xbf\\xbd>\\xef\\xbf\\xbdk,,\\xef\\xbf\\xbd\\xef\\xbf\\xbd\\x1b\\xef\\xbf\\xbd\\xef\\xbf\\xbd\\xc3\\xa6\\xef\\xbf\\xbdk\\xef\\xbf\\xbd\\xef\\xbf\\xbd|\\x02qL\\xef\\xbf\\xbd\\xef\\xbf\\xbd=\\xef\\xbf\\xbd\\xef\\xbf\\xbd\\xef\\xbf\\xbd|$\\xef\\xbf\\xbd\\x12\\xef\\xbf\\xbdY\\xef\\xbf\\xbdb\\xef\\xbf\\xbd\\xef\\xbf\\xbdCa\\x0b\\n8\\xef\\xbf\\xbdcY\\xef\\xbf\\xbdY\\x16R\\xef\\xbf\\xbd\\xef\\xbf\\xbdy%\\xef\\xbf\\xbd?\\xef\\xbf\\xbdF `\\x11Y)y\\'\\x11\\x0b+\\x7f^IAr\\xef\\xbf\\xbd\\xef\\xbf\\xbd-\\xc9\\xadf\\x01U\\xef\\xbf\\xbd\\xef\\xbf\\xbd<\\x12\\xef\\xbf\\xbd\\xef\\xbf\\xbd\\xef\\xbf\\xbd$G\\r\\xef\\xbf\\xbd\\xef\\xbf\\xbd\\xef\\xbf\\xbd\\xef\\xbf\\xbd\\xef\\xbf\\xbd\\xd3\\xbaXw@\\xdb\\x91\\xef\\xbf\\xbd\\xef\\xbf\\xbdRL\\xc8\\xa4U\\xef\\xbf\\xbd!\\xef\\xbf\\xbd\\x1b\\xef\\xbf\\xbd\"\\xef\\xbf\\xbd}^X\\xef\\xbf\\xbd\\xef\\xbf\\xbdSzh;\\xef\\xbf\\xbdH\\xef\\xbf\\xbdl\\xef\\xbf\\xbd\\xef\\xbf\\xbd\\xef\\xbf\\xbd/ \\xef\\xbf\\xbd\\xef\\xbf\\xbd0\\xef\\xbf\\xbdo5\\xef\\xbf\\xbd\\xef\\xbf\\xbd`AQ\\xef\\xbf\\xbdw\\xef\\xbf\\xbd\\xef\\xbf\\xbd\\xef\\xbf\\xbd\\xef\\xbf\\xbd\\xef\\xbf\\xbd+\\xef\\xbf\\xbd\\xef\\xbf\\xbd&\\xef\\xbf\\xbdl\\x0c-m\\xef\\xbf\\xbd}\\xc3\\x93\\xef\\xbf\\xbd\\xef\\xbf\\xbd?\\xef\\xbf\\xbd\\xef\\xbf\\xbdX\\xef\\xbf\\xbd\\xef\\xbf\\xbd5'],\n",
              "       [b'\\x00\\x0c\\x01\\x00\\x00\\x01\\x00\\x00\\x00\\x00\\x00\\x00\\x06google\\x03com\\x00\\x00\\x1c\\x00\\x01yS\\xef\\xbf\\xbd\\t\\xef\\xbf\\xbd\\xef\\xbf\\xbdO\\xef\\xbf\\xbd\\x08!\\xef\\xbf\\xbd\\xef\\xbf\\xbd\\xef\\xbf\\xbd4\\xef\\xbf\\xbd\\xe5\\x8c\\x8c\\xef\\xbf\\xbde\\x07\\n\\xef\\xbf\\xbd\\xef\\xbf\\xbd\\xef\\xbf\\xbd2)\\xc8\\xb3\\xef\\xbf\\xbdK\\xef\\xbf\\xbdS\\n\\xef\\xbf\\xbd`\\xd4\\x8d\\xef\\xbf\\xbdI\\x02\\x16D\\x14BL\\xef\\xbf\\xbd\\xef\\xbf\\xbd\\xef\\xbf\\xbd5\\xef\\xbf\\xbd\"\\xef\\xbf\\xbd\\xef\\xbf\\xbd\\xef\\xbf\\xbd\"VwF\\n3\\xef\\xbf\\xbd\\xd8\\x8bK\\xef\\xbf\\xbd~\\x11\\xef\\xbf\\xbd]{\\xef\\xbf\\xbd\\xef\\xbf\\xbdl\\xef\\xbf\\xbd\\xef\\xbf\\xbdD\\xef\\xbf\\xbd6~\\xef\\xbf\\xbds\\xc8\\x90\\xef\\xbf\\xbd\\x10p\\x18@\\xef\\xbf\\xbd\\x12\\xdf\\x90\\xef\\xbf\\xbd\\xef\\xbf\\xbd\\xef\\xbf\\xbdr\\xef\\xbf\\xbd\\xef\\xbf\\xbd\\xef\\xbf\\xbd\\xef\\xbf\\xbd\\x1f\\xef\\xbf\\xbdr\\xef\\xbf\\xbd`\\xef\\xbf\\xbdOR.GG\\xef\\xbf\\xbd\\xef\\xbf\\xbd\\xef\\xbf\\xbdB\\xef\\xbf\\xbd\\xef\\xbf\\xbd\\x0f\\x1e-\\xef\\xbf\\xbd|,v\\xef\\xbf\\xbd\\x10!M\\xef\\xbf\\xbdw*\\xef\\xbf\\xbd!#\\xef\\xbf\\xbd\\xef\\xbf\\xbd\\xef\\xbf\\xbd0\\xef\\xbf\\xbd \\xef\\xbf\\xbd\\xef\\xbf\\xbdc\\xef\\xbf\\xbdlyG\\x1a>\\xef\\xbf\\xbd\\x08G\\xef\\xbf\\xbdvv\\xc4\\xaf\\x15\\xef\\xbf\\xbd\\xef\\xbf\\xbd{l?4w\\xef\\xbf\\xbd\\xef\\xbf\\xbd!\\xe0\\xb5\\x88g\\xef\\xbf\\xbd\\xef\\xbf\\xbd\\xef\\xbf\\xbd\\x17\\xef\\xbf\\xbd^\\xef\\xbf\\xbd\\xef\\xbf\\xbdR\\xef\\xbf\\xbd_D\\xef\\xbf\\xbd\\xcb\\xbd\\xef\\xbf\\xbd=\\x17\\xef\\xbf\\xbdb\\xef\\xbf\\xbd0\\xef\\xbf\\xbd\\xef\\xbf\\xbd{\\xdd\\xb3\\xef\\xbf\\xbdm\\xef\\xbf\\xbdT\\xef\\xbf\\xbd{\\xef\\xbf\\xbd\\x00@\\xef\\xbf\\xbd\\xef\\xbf\\xbd\\xdf\\x848\\xef\\xbf\\xbd\\xef\\xbf\\xbd=\\xef\\xbf\\xbd_N\\xef\\xbf\\xbd\\x02m\\xef\\xbf\\xbd \\x04\\x1a,\\x04\\xef\\xbf\\xbd]X\\xef\\xbf\\xbd\\xef\\xbf\\xbdUT:/\\x1a0\\xef\\xbf\\xbdI\\xef\\xbf\\xbd\\xc7\\xab\\xef\\xbf\\xbd\\xef\\xbf\\xbd\\xd4\\x9c\\x7fH~\\x1d\\x14&\\xef\\xbf\\xbd\\x1d\\x04\\xef\\xbf\\xbd\\xef\\xbf\\xbd\\xef\\xbf\\xbd,{\\x0b\\x0b?\\x0fs\\xef\\xbf\\xbd\\xef\\xbf\\xbd\\xef\\xbf\\xbd\\xef\\xbf\\xbd\\xef\\xbf\\xbdy%\\xef\\xbf\\xbd\\x02q\\xef\\xbf\\xbd}\\xe7\\x8c\\xb2\\xef\\xbf\\xbd\\x00\\xef\\xbf\\xbdMv]mK\\xef\\xbf\\xbd/\\xee\\x8f\\x8a\\xef\\xbf\\xbd_c\\xef\\xbf\\xbd\\xef\\xbf\\xbd:z\\xef\\xbf\\xbd\\xef\\xbf\\xbdMJ\\x18\\xef\\xbf\\xbd\\xef\\xbf\\xbd9\\xef\\xbf\\xbde\\x02\\xef\\xbf\\xbdM\\xef\\xbf\\xbd,\\x0eF\\xef\\xbf\\xbd\\xef\\xbf\\xbd\\x13\\xef\\xbf\\xbd#[\\xef\\xbf\\xbdX\\xef\\xbf\\xbd{P\\xef\\xbf\\xbd\\xef\\xbf\\xbdy\\xef\\xbf\\xbdU\\xef\\xbf\\xbd\\xef\\xbf\\xbd\\xef\\xbf\\xbdkW\\xef\\xbf\\xbda\\xef\\xbf\\xbdG\\x11\\xef\\xbf\\xbdj_gb^\\xef\\xbf\\xbd\\xef\\xbf\\xbd\\r\\x06\\xef\\xbf\\xbd\\xef\\xbf\\xbd\\xef\\xbf\\xbd\\x11\\xef\\xbf\\xbd\\xef\\xbf\\xbd\\xef\\xbf\\xbd\\x1d\\xef\\xbf\\xbd)\\x14\\xef\\xbf\\xbde\\xef\\xbf\\xbd\\xef\\xbf\\xbd\\xef\\xbf\\xbdJ\\x12\\xef\\xbf\\xbd\\xd9\\x9a\\xef\\xbf\\xbdX\\xef\\xbf\\xbd\\'\\xef\\xbf\\xbd\\xef\\xbf\\xbdH\\x1d\\xca\\xba\\xef\\xbf\\xbd\\x1f9M\\xef\\xbf\\xbdin\\xef\\xbf\\xbd\\xef\\xbf\\xbd\\xef\\xbf\\xbd\"z\\xef\\xbf\\xbd \\xef\\xbf\\xbd\\x1d]\\xef\\xbf\\xbdZ\\x14\\xef\\xbf\\xbdGD\\xef\\xbf\\xbd\\x0e\\x11|hk\\xef\\xbf\\xbd\\xef\\xbf\\xbd\\xef\\xbf\\xbdg\\xef\\xbf\\xbdX>\\xef\\xbf\\xbd\\xef\\xbf\\xbd{\\x12fA\\xef\\xbf\\xbd\\xef\\xbf\\xbd\\x1d~\\x0f\\xef\\xbf\\xbd\\x11\\xef\\xbf\\xbd\\xef\\xbf\\xbd`\\x12\\xef\\xbf\\xbd\\x07D\\xef\\xbf\\xbd\\xef\\xbf\\xbd\\x00G\\xef\\xbf\\xbd\\xef\\xbf\\xbdF\\x08]\\xe2\\x8f\\xbd\\xef\\xbf\\xbd\\xef\\xbf\\xbd\\xef\\xbf\\xbd\\xef\\xbf\\xbd\\x05D\\xef\\xbf\\xbd\\xef\\xbf\\xbd\\\\kE\\xef\\xbf\\xbd\\xef\\xbf\\xbd\\xef\\xbf\\xbd\\xef\\xbf\\xbd\\xef\\xbf\\xbdXR\\x0e?c\\xef\\xbf\\xbd\\xef\\xbf\\xbd\\xef\\xbf\\xbd7!\\xef\\xbf\\xbd\\xef\\xbf\\xbd\\xef\\xbf\\xbd\\x03\\x07\\x1b\\xef\\xbf\\xbdCS\\xef\\xbf\\xbd\\t\\x07\\x1c\\x15d\\xef\\xbf\\xbd\\xef\\xbf\\xbd\\x0e)Vzd\\xef\\xbf\\xbd\\xef\\xbf\\xbd\\xef\\xbf\\xbd\"\\xef\\xbf\\xbd\\xef\\xbf\\xbd\\xdd\\xb5\\xef\\xbf\\xbd\\xef\\xbf\\xbd\\x12\\xef\\xbf\\xbd%\\x1b\\xef\\xbf\\xbdMS]\\xef\\xbf\\xbd\\xef\\xbf\\xbd\\xef\\xbf\\xbd'],\n",
              "       [b'\\x00\\x0c\\x01\\x00\\x00\\x01\\x00\\x00\\x00\\x00\\x00\\x00\\x06google\\x03com\\x00\\x00\\x1c\\x00\\x01\\x1d9\\xef\\xbf\\xbd\\x15\\xc6\\xb8\\xef\\xbf\\xbd\\nc\\xef\\xbf\\xbd\\xef\\xbf\\xbd{\\x1b\\xef\\xbf\\xbd(\\xef\\xbf\\xbd\\xef\\xbf\\xbd6\\x17\\t\\x05\\xef\\xbf\\xbd\\xef\\xbf\\xbdo\\xef\\xbf\\xbd\"\\x1d\\xef\\xbf\\xbdv\\xef\\xbf\\xbdKD\\xef\\xbf\\xbd\\xef\\xbf\\xbdP\\xcb\\xa4\\xef\\xbf\\xbd\\xef\\xbf\\xbd\\x18\\x1d\\\\Q6E\\x11\\xef\\xbf\\xbd\"\\xef\\xbf\\xbdWCk\\xef\\xbf\\xbd-\\x18\\x17\\xef\\xbf\\xbd\\x1b\\xef\\xbf\\xbd\\xef\\xbf\\xbd\\xef\\xbf\\xbd\\x04 \\xef\\xbf\\xbd]]\\tTq\\xef\\xbf\\xbdx\\xd6\\xbcE\\xef\\xbf\\xbdG\\x01\\xef\\xbf\\xbd\\xef\\xbf\\xbd]\\xef\\xbf\\xbdK\\xef\\xbf\\xbd\\xef\\xbf\\xbd\\xef\\xbf\\xbd\\x02\\xef\\xbf\\xbd\\x04\\xef\\xbf\\xbd\\xef\\xbf\\xbd\\xef\\xbf\\xbd\\xef\\xbf\\xbd\\n\\xef\\xbf\\xbd\\xcc\\xa0\\xef\\xbf\\xbdl\\xef\\xbf\\xbd\\xef\\xbf\\xbd\\xef\\xbf\\xbd[\\xef\\xbf\\xbd\\xef\\xbf\\xbd`q\\x17\\n\\xef\\xbf\\xbd\\xef\\xbf\\xbd\\xef\\xbf\\xbd\\xef\\xbf\\xbdD\\xef\\xbf\\xbdx\\xef\\xbf\\xbd\\xef\\xbf\\xbd\\xef\\xbf\\xbdr\\xef\\xbf\\xbd\\xef\\xbf\\xbdy\\x0bSJ\\xef\\xbf\\xbdSPTr\\x0e\\xef\\xbf\\xbd8\\xef\\xbf\\xbdk}\\xef\\xbf\\xbd\\xef\\xbf\\xbd\\r\\xef\\xbf\\xbd\\x0b2\\xef\\xbf\\xbd^!e\\xef\\xbf\\xbd\\xef\\xbf\\xbd\\xef\\xbf\\xbd\\xef\\xbf\\xbd\\xef\\xbf\\xbd\\xef\\xbf\\xbda\\xd8\\x92\\xef\\xbf\\xbd\\xef\\xbf\\xbd\\xef\\xbf\\xbd\\x1d\\xef\\xbf\\xbdc\\x1a\\xef\\xbf\\xbd\\xef\\xbf\\xbd\\xef\\xbf\\xbd\\x18_\\xef\\xbf\\xbd7\\xce\\xaf\\xef\\xbf\\xbd\\x1b\\xdf\\x8f\\xdc\\x80M\\xef\\xbf\\xbd4\\xcd\\x90\\xef\\xbf\\xbd\\t\\xef\\xbf\\xbd!\\xef\\xbf\\xbd\\xef\\xbf\\xbdo\\xef\\xbf\\xbd\\x1e\\xef\\xbf\\xbd\\x1byA\\x7f\\xef\\xbf\\xbd\\x19\\xef\\xbf\\xbd\\xef\\xbf\\xbd\\xef\\xbf\\xbdl\\x15V\\xef\\xbf\\xbd\\xef\\xbf\\xbdu`\\xef\\xbf\\xbd\\x149\\x079^L\\\\e\\xef\\xbf\\xbd\\xef\\xbf\\xbdD}\\xef\\xbf\\xbd\\xef\\xbf\\xbd>\\xde\\xbd\\xef\\xbf\\xbd`n\\xef\\xbf\\xbdoL\\x0c\\xef\\xbf\\xbd\\xcb\\xa64\\xd7\\xae\\x1f\\xef\\xbf\\xbd\\xef\\xbf\\xbd\\xef\\xbf\\xbd\\x105*\\xef\\xbf\\xbdG\\x0f\\xef\\xbf\\xbd\\xef\\xbf\\xbdE\\xef\\xbf\\xbd\\xef\\xbf\\xbd\\xef\\xbf\\xbdu\\xef\\xbf\\xbd\\xef\\xbf\\xbd\\x13\\xef\\xbf\\xbd]e\\xef\\xbf\\xbd_wm\\xef\\xbf\\xbd\\xef\\xbf\\xbd\\xef\\xbf\\xbd\\xef\\xbf\\xbd\\x0eB\\xef\\xbf\\xbd\\xef\\xbf\\xbd9\\x18>\\xef\\xbf\\xbdn\\xef\\xbf\\xbd7!\\xef\\xbf\\xbd\\xef\\xbf\\xbdP\\xef\\xbf\\xbd\\xef\\xbf\\xbd\\xef\\xbf\\xbd]\\xef\\xbf\\xbd\\xef\\xbf\\xbd\\xc9\\xac\\xef\\xbf\\xbd\\xc4\\x82\\xef\\xbf\\xbdYB\\xef\\xbf\\xbd\\xef\\xbf\\xbd\\x0b}\\xef\\xbf\\xbd\\'gy\\x17\\xef\\xbf\\xbd\\xef\\xbf\\xbd\\xef\\xbf\\xbd1\\xef\\xbf\\xbdzD\\x08\\x06\\'\\x1e\\xef\\xbf\\xbd\\xef\\xbf\\xbd\\xef\\xbf\\xbd\\xef\\xbf\\xbd\\xef\\xbf\\xbd\\xef\\xbf\\xbd\\xef\\xbf\\xbd\\xec\\x84\\x98\\xef\\xbf\\xbd\\x10\\xef\\xbf\\xbd\\xef\\xbf\\xbdC\\xef\\xbf\\xbdpqbo\\xef\\xbf\\xbd\"\\xef\\xbf\\xbduqI\\xcf\\xb8\\xef\\xbf\\xbd\\xef\\xbf\\xbdCQ\\xc8\\xa1v\\xef\\xbf\\xbd;t\\xef\\xbf\\xbdiJ\\xef\\xbf\\xbd\\xef\\xbf\\xbd\\xef\\xbf\\xbd7\\xef\\xbf\\xbd\\xef\\xbf\\xbdV]a,\\xef\\xbf\\xbd\\xef\\xbf\\xbd\\x1d\\xef\\xbf\\xbd\\xef\\xbf\\xbd2\\xcd\\xb9\\xef\\xbf\\xbd\\x15\\xef\\xbf\\xbd\\xef\\xbf\\xbd\\xef\\xbf\\xbd\\x01\\xef\\xbf\\xbd\\x7f\\x1f\\xef\\xbf\\xbd%\\xef\\xbf\\xbd\\xef\\xbf\\xbd\\xef\\xbf\\xbd[\\xef\\xbf\\xbd\\xef\\xbf\\xbd\\xef\\xbf\\xbd\\xef\\xbf\\xbd\\'\\xef\\xbf\\xbd\\x01I\\x11m\\xef\\xbf\\xbd\\xef\\xbf\\xbd\\x1bS:\\xef\\xbf\\xbda\\xef\\xbf\\xbd\\xef\\xbf\\xbdX\\xef\\xbf\\xbd8)\\xef\\xbf\\xbdf3.\\xef\\xbf\\xbd\\xef\\xbf\\xbd{=R\\xef\\xbf\\xbd\\xef\\xbf\\xbd\\x15>d\\xef\\xbf\\xbd\\x19\\xef\\xbf\\xbd\\x1c\\xef\\xbf\\xbd)\\x06\\x07\\xef\\xbf\\xbd\\x1d_p\\xef\\xbf\\xbd\\xef\\xbf\\xbd\\xef\\xbf\\xbd(\\xef\\xbf\\xbd\\x14Q\\xef\\xbf\\xbdpS\\xef\\xbf\\xbd\\xef\\xbf\\xbd\\x1a\\xef\\xbf\\xbdX\\xef\\xbf\\xbd(`Nw7\\xef\\xbf\\xbd\\xef\\xbf\\xbd\\xef\\xbf\\xbdUK\\xef\\xbf\\xbd\"\\xef\\xbf\\xbd\\x1d\\xef\\xbf\\xbd\\xef\\xbf\\xbd\\xda\\xb5\\xef\\xbf\\xbd\\xef\\xbf\\xbd\\xef\\xbf\\xbdV\\xef\\xbf\\xbd?JD+\\xef\\xbf\\xbd\\xef\\xbf\\xbd*\\xef\\xbf\\xbd\\xef\\xbf\\xbd\\x1e\\xef\\xbf\\xbd\\xef\\xbf\\xbd\\xd3\\x85\\xef\\xbf\\xbd9\\xef\\xbf\\xbd\\x12\\xef\\xbf\\xbd\\t\\x05\\xef\\xbf\\xbd\\xef\\xbf\\xbdmo\\xef\\xbf\\xbd\\xef\\xbf\\xbd\\xef\\xbf\\xbd\\xef\\xbf\\xbdl\\xef\\xbf\\xbd\\xef\\xbf\\xbd\\xef\\xbf\\xbd\\xef\\xbf\\xbd}\\xef\\xbf\\xbd\\xef\\xbf\\xbdGK\\xef\\xbf\\xbd'],\n",
              "       [b\"\\x00\\x0c\\x01\\x00\\x00\\x01\\x00\\x00\\x00\\x00\\x00\\x00\\x06google\\x03com\\x00\\x00\\x1c\\x00\\x01O\\xef\\xbf\\xbd\\xef\\xbf\\xbd\\xef\\xbf\\xbd\\xef\\xbf\\xbd\\xc8\\x80\\xef\\xbf\\xbd\\xef\\xbf\\xbd\\xef\\xbf\\xbd\\xef\\xbf\\xbd\\x0c3\\xef\\xbf\\xbd\\x08>\\xef\\xbf\\xbdq6A\\xef\\xbf\\xbdhX\\xcd\\xaa\\xef\\xbf\\xbd]\\x0c\\xef\\xbf\\xbd\\xef\\xbf\\xbd\\xef\\xbf\\xbd\\xef\\xbf\\xbd@\\xef\\xbf\\xbd$M\\nK\\xef\\xbf\\xbdU\\xef\\xbf\\xbd\\xef\\xbf\\xbdu\\x1e\\xef\\xbf\\xbd\\x1a\\x1a\\xef\\xbf\\xbd\\xef\\xbf\\xbd\\x11\\xef\\xbf\\xbd{\\xef\\xbf\\xbd6\\xef\\xbf\\xbd\\x00\\xef\\xbf\\xbd\\xef\\xbf\\xbd:\\xef\\xbf\\xbd\\xef\\xbf\\xbd\\n}\\xef\\xbf\\xbd[\\xef\\xbf\\xbd\\xef\\xbf\\xbd\\xef\\xbf\\xbd\\xef\\xbf\\xbd\\x05IHx\\x02\\x12\\xef\\xbf\\xbd\\x01B\\x0b\\xef\\xbf\\xbd\\x7fT\\xef\\xbf\\xbd\\\\\\xef\\xbf\\xbdX\\xef\\xbf\\xbdw\\xef\\xbf\\xbd\\xef\\xbf\\xbd\\x0e\\xef\\xbf\\xbd\\xef\\xbf\\xbd\\x1b\\xef\\xbf\\xbdPtM\\xef\\xbf\\xbd3\\xef\\xbf\\xbd=\\xef\\xbf\\xbdiRV\\xc2\\x9eiZ\\xef\\xbf\\xbd\\x05\\xef\\xbf\\xbd\\xef\\xbf\\xbd\\x7f\\xef\\xbf\\xbd\\xef\\xbf\\xbd\\xef\\xbf\\xbd|\\xef\\xbf\\xbd\\xef\\xbf\\xbd\\xef\\xbf\\xbd\\xef\\xbf\\xbdf\\xef\\xbf\\xbd\\xef\\xbf\\xbd\\xef\\xbf\\xbdV\\xef\\xbf\\xbd\\xef\\xbf\\xbd\\xef\\xbf\\xbd~chU`\\xef\\xbf\\xbd_\\xef\\xbf\\xbdx N\\x1a\\xef\\xbf\\xbd\\xef\\xbf\\xbd\\xef\\xbf\\xbd\\xef\\xbf\\xbd\\xef\\xbf\\xbdP\\xef\\xbf\\xbd\\xef\\xbf\\xbdm\\\\\\xd1\\xbdU~\\xef\\xbf\\xbdS\\xef\\xbf\\xbd\\r?x9\\xef\\xbf\\xbd{(\\x13%E'E\\xef\\xbf\\xbd'\\xef\\xbf\\xbdV_*\\xd6\\x90@\\xef\\xbf\\xbd\\xef\\xbf\\xbdk}K\\x0854w\\xef\\xbf\\xbd\\xef\\xbf\\xbd\\xef\\xbf\\xbd;\\x0f\\xef\\xbf\\xbd\\xef\\xbf\\xbd\\xef\\xbf\\xbdC\\xef\\xbf\\xbd\\xef\\xbf\\xbd2X\\xef\\xbf\\xbd\\xef\\xbf\\xbd6\\xef\\xbf\\xbd\\xef\\xbf\\xbd\\xef\\xbf\\xbdox\\xef\\xbf\\xbdR\\x01\\x1b\\xef\\xbf\\xbd\\x0f\\xef\\xbf\\xbd\\xef\\xbf\\xbdb}\\xef\\xbf\\xbd\\xef\\xbf\\xbd\\xcb\\xb3g\\xef\\xbf\\xbdq\\xef\\xbf\\xbdu\\xef\\xbf\\xbd\\xef\\xbf\\xbd\\x12\\xef\\xbf\\xbd.\\xef\\xbf\\xbd\\xef\\xbf\\xbd\\x0f\\xef\\xbf\\xbdk\\xef\\xbf\\xbd\\x1d\\x19\\xef\\xbf\\xbd\\xef\\xbf\\xbd\\xef\\xbf\\xbd%\\xef\\xbf\\xbd\\x16\\xef\\xbf\\xbd\\x19\\xef\\xbf\\xbd\\x1e\\xef\\xbf\\xbd+\\xef\\xbf\\xbd\\xef\\xbf\\xbd\\xef\\xbf\\xbd\\xef\\xbf\\xbd^\\x1d\\xef\\xbf\\xbd\\xef\\xbf\\xbd\\x13\\xef\\xbf\\xbd\\xef\\xbf\\xbd\\x0f\\x13}\\xef\\xbf\\xbd2\\xef\\xbf\\xbd5\\xef\\xbf\\xbd\\xef\\xbf\\xbd@\\xef\\xbf\\xbd\\xef\\xbf\\xbd?\\xef\\xbf\\xbd\\xef\\xbf\\xbd\\xef\\xbf\\xbd_\\xef\\xbf\\xbd8\\xef\\xbf\\xbd\\xef\\xbf\\xbdg\\x1e<\\x1c\\xef\\xbf\\xbd\\x1b\\xef\\xbf\\xbd\\x15\\xef\\xbf\\xbd\\xef\\xbf\\xbdt\\xef\\xbf\\xbd\\xef\\xbf\\xbd\\xef\\xbf\\xbd\\x10\\x08\\xef\\xbf\\xbds<r\\xef\\xbf\\xbd\\x070\\xef\\xbf\\xbd\\x06\\xdb\\x98\\xcb\\x98\\xef\\xbf\\xbd\\xef\\xbf\\xbd\\xcc\\x91\\xef\\xbf\\xbdc2$\\x14\\x03ux}\\xef\\xbf\\xbd\\xef\\xbf\\xbd\\xef\\xbf\\xbdD\\xef\\xbf\\xbd\\x1f\\xef\\xbf\\xbd\\xef\\xbf\\xbdr\\xef\\xbf\\xbdETHu\\xef\\xbf\\xbd\\x0f\\xef\\xbf\\xbd\\x02.\\xef\\xbf\\xbd\\xef\\xbf\\xbd\\xef\\xbf\\xbd[j\\x03\\xef\\xbf\\xbd_\\xef\\xbf\\xbd\\xef\\xbf\\xbd\\xef\\xbf\\xbd\\xef\\xbf\\xbd5Fs(Ls\\xef\\xbf\\xbd\\x15\\xc6\\x98\\xef\\xbf\\xbd\\xef\\xbf\\xbdK\\xef\\xbf\\xbd\\x0f\\xef\\xbf\\xbd+\\xef\\xbf\\xbd\\xef\\xbf\\xbd%\\n\\xef\\xbf\\xbd\\xef\\xbf\\xbd\\xef\\xbf\\xbdy\\xef\\xbf\\xbd\\t\\x1a-\\xef\\xbf\\xbd\\x0f\\xef\\xbf\\xbd\\xef\\xbf\\xbd\\x1a\\xce\\xb2q\\xef\\xbf\\xbd\\xef\\xbf\\xbd\\xef\\xbf\\xbdV\\xdb\\xb1\\xef\\xbf\\xbd\\xef\\xbf\\xbdI\\\\\\xef\\xbf\\xbd\\xef\\xbf\\xbdL}\\xef\\xbf\\xbd\\xef\\xbf\\xbd\\xef\\xbf\\xbd\\r\\xef\\xbf\\xbd\\xef\\xbf\\xbd8\\xd6\\x8d\\xef\\xbf\\xbd\\xef\\xbf\\xbd]\\xef\\xbf\\xbd\\xef\\xbf\\xbd>\\xef\\xbf\\xbda\\\\\\x13\\xef\\xbf\\xbd\\xef\\xbf\\xbd&\\xef\\xbf\\xbd\\xc3\\xac\\xef\\xbf\\xbd\\xef\\xbf\\xbd\\xef\\xbf\\xbd\\xef\\xbf\\xbd\\xef\\xbf\\xbdE\\xe1\\xad\\x89\\xef\\xbf\\xbd\\xef\\xbf\\xbd\\xef\\xbf\\xbd6\\xef\\xbf\\xbd\\x16\\xef\\xbf\\xbd{]B\\xef\\xbf\\xbd\\x1f\\x14xK;\\xef\\xbf\\xbd\\x1a6\\xef\\xbf\\xbd\\xef\\xbf\\xbd\\xef\\xbf\\xbd\\xef\\xbf\\xbd\\xef\\xbf\\xbd\\x15\\x06VU\\xef\\xbf\\xbd\\xef\\xbf\\xbd;\\xef\\xbf\\xbd\\x1f\\xef\\xbf\\xbd#\\x05\\xef\\xbf\\xbd$^=+\\x05\\xef\\xbf\\xbdK\\xdc\\xa6\\xef\\xbf\\xbdv\\xef\\xbf\\xbdN\\xef\\xbf\\xbd?\\x08\\rn\\xef\\xbf\\xbdw!\\xef\\xbf\\xbd\\x19YK\\x0f\\x1d\\xd8\\x97C\\xef\\xbf\\xbd\\xef\\xbf\\xbd^\\xef\\xbf\\xbd\\xef\\xbf\\xbd\\xdf\\xbb\"],\n",
              "       [b'\\x00\\x0c\\x01\\x00\\x00\\x01\\x00\\x00\\x00\\x00\\x00\\x00\\x06google\\x03com\\x00\\x00\\x1c\\x00\\x01\\xef\\xbf\\xbd\\xef\\xbf\\xbdX\\xef\\xbf\\xbd\\xef\\xbf\\xbd\\t\\xef\\xbf\\xbd\\xf3\\xbc\\x89\\xb7\\xef\\xbf\\xbd9ux\\xef\\xbf\\xbd2\\xef\\xbf\\xbdL\\x1b\\xef\\xbf\\xbd\\xef\\xbf\\xbd\\x16\\xd8\\x8e\\xef\\xbf\\xbd\\xef\\xbf\\xbd\\\\\\x01H4\\xef\\xbf\\xbd#\\xef\\xbf\\xbd\\xef\\xbf\\xbd\\xef\\xbf\\xbd\\xef\\xbf\\xbd\\x08\\xef\\xbf\\xbd\\x7f\\xef\\xbf\\xbd~\\xef\\xbf\\xbd\\xdd\\x9an\\xef\\xbf\\xbd\\xef\\xbf\\xbdV^\\xd4\\xb5n[ p\\xef\\xbf\\xbd\\xef\\xbf\\xbd\\xef\\xbf\\xbd]r\\xef\\xbf\\xbdH\\xef\\xbf\\xbdiv\\xe1\\x99\\x9a\\n\\xef\\xbf\\xbd\\x7f\\x12\\x1doVQ\\xef\\xbf\\xbd\\x11\\xef\\xbf\\xbd\\xef\\xbf\\xbd6&TB\\xef\\xbf\\xbd\\xef\\xbf\\xbd.\\xef\\xbf\\xbdl#\\x014\\xef\\xbf\\xbd\\r\\xe6\\xb3\\xbc\\xd3\\xae\\xef\\xbf\\xbd\\xef\\xbf\\xbd\\xef\\xbf\\xbdA\\xef\\xbf\\xbd\\xef\\xbf\\xbd7\\xef\\xbf\\xbdX\\xef\\xbf\\xbd\\xef\\xbf\\xbdw\\xef\\xbf\\xbd\\xef\\xbf\\xbd\\xef\\xbf\\xbdzJ\\xef\\xbf\\xbd\\xef\\xbf\\xbd\\x023\\xef\\xbf\\xbd\\xef\\xbf\\xbdbrO0rM\\xef\\xbf\\xbdD}\\xef\\xbf\\xbd\\xef\\xbf\\xbdI*~\\xde\\x8b\\xef\\xbf\\xbd\\xef\\xbf\\xbd\\x02\\xef\\xbf\\xbd_\\xef\\xbf\\xbd\\xef\\xbf\\xbd\\xef\\xbf\\xbd\\xda\\xb5c-;I\\xef\\xbf\\xbdx\\xef\\xbf\\xbdR\\x13\\x7f/\\xef\\xbf\\xbd\\xef\\xbf\\xbd\\x1b\\xef\\xbf\\xbd\\xef\\xbf\\xbd\\xef\\xbf\\xbd\\xdd\\x9eg\\x15\\xef\\xbf\\xbd.\\xef\\xbf\\xbd\\xef\\xbf\\xbdt\\t\\xef\\xbf\\xbd\\xef\\xbf\\xbdoy|\\xef\\xbf\\xbd\\xef\\xbf\\xbd\\xef\\xbf\\xbd~4\\xef\\xbf\\xbd\\xdb\\x93\\x19\\xef\\xbf\\xbd\\xef\\xbf\\xbd\\xef\\xbf\\xbd\\x01#\\xef\\xbf\\xbd\\xd0\\x9a\\xd6\\xb2%XY\\xef\\xbf\\xbd\\xef\\xbf\\xbd\\xef\\xbf\\xbd\\x1f\\x1c\\xef\\xbf\\xbd>\\x14K\\xef\\xbf\\xbdin\\x17\\xef\\xbf\\xbd\\x18H\\xef\\xbf\\xbd\\xef\\xbf\\xbd\\xef\\xbf\\xbd\\x0bKs\\xef\\xbf\\xbdb\\xef\\xbf\\xbdf\\xef\\xbf\\xbd\\xef\\xbf\\xbd\\xef\\xbf\\xbd\\xef\\xbf\\xbd\\x17\\xef\\xbf\\xbd\\xef\\xbf\\xbd\\xd2\\xa7P\\xef\\xbf\\xbd\\xef\\xbf\\xbd\\xef\\xbf\\xbdT\\xef\\xbf\\xbd\\xef\\xbf\\xbd\\x13\\xef\\xbf\\xbd\\x10\\xef\\xbf\\xbd\\x15\\xef\\xbf\\xbd\\xef\\xbf\\xbdOx>\\xc4\\x88\\x15\\xef\\xbf\\xbd\\xef\\xbf\\xbd\\xef\\xbf\\xbdQh\\xef\\xbf\\xbd\\xef\\xbf\\xbd\\xef\\xbf\\xbd$\\xef\\xbf\\xbd\\x0e\\xef\\xbf\\xbd\"\\xef\\xbf\\xbd\\xef\\xbf\\xbd\\xef\\xbf\\xbd\\x00\\xef\\xbf\\xbd\\xef\\xbf\\xbd\\tVB!\\xef\\xbf\\xbd\\xef\\xbf\\xbd\\xef\\xbf\\xbdh\\x12\\xef\\xbf\\xbd\\xef\\xbf\\xbd\\xef\\xbf\\xbd\\xef\\xbf\\xbd\\xef\\xbf\\xbd\\xef\\xbf\\xbd\\x00J\\xef\\xbf\\xbd\\xef\\xbf\\xbd\\xef\\xbf\\xbdMH\\xef\\xbf\\xbd\\xef\\xbf\\xbd2\\xef\\xbf\\xbd\\xef\\xbf\\xbdy\\xef\\xbf\\xbd\\xef\\xbf\\xbd,!\\xef\\xbf\\xbd\\xef\\xbf\\xbd\\xef\\xbf\\xbd \\xef\\xbf\\xbd\\x02>\\xef\\xbf\\xbd\\xef\\xbf\\xbd]\\xef\\xbf\\xbd\\xef\\xbf\\xbd\\x05\\xef\\xbf\\xbd\\xef\\xbf\\xbd~\\xef\\xbf\\xbd%B\\xef\\xbf\\xbd\\t\\x19\\x1c\\xef\\xbf\\xbdF$\\xef\\xbf\\xbdw+rM\\xef\\xbf\\xbd\\xef\\xbf\\xbd\\x1e\\xef\\xbf\\xbd$v\\xef\\xbf\\xbde\\xef\\xbf\\xbd\\x13\\xef\\xbf\\xbd\\xef\\xbf\\xbd\\xef\\xbf\\xbd\\xef\\xbf\\xbd\\xef\\xbf\\xbd\\x15\\xef\\xbf\\xbde\\xdf\\x97\\xef\\xbf\\xbd~\\xef\\xbf\\xbdY\\xef\\xbf\\xbd&\\xef\\xbf\\xbd\\xef\\xbf\\xbd\\xef\\xbf\\xbdzU\\xef\\xbf\\xbd\\xef\\xbf\\xbd\\xef\\xbf\\xbd\\xef\\xbf\\xbd\\xef\\xbf\\xbdj\\xef\\xbf\\xbdR`Bo\\x0e\\x11OE\\xef\\xbf\\xbd\\xef\\xbf\\xbd\\xef\\xbf\\xbd\\x7fl\\xef\\xbf\\xbd9\\x1c\\xef\\xbf\\xbd\\x081\\xef\\xbf\\xbd/\\xef\\xbf\\xbd-\\xef\\xbf\\xbd\\xef\\xbf\\xbd\\xef\\xbf\\xbd\\xef\\xbf\\xbd\\xef\\xbf\\xbd\\xef\\xbf\\xbdI\\xd3\\xb67`F\\xef\\xbf\\xbd],\\xef\\xbf\\xbd\\xef\\xbf\\xbd\\xef\\xbf\\xbd\\xef\\xbf\\xbd}\\x04\\xef\\xbf\\xbdM]\\xef\\xbf\\xbd!\\xef\\xbf\\xbd\\xd0\\xa7?[\\xef\\xbf\\xbd7.\\xef\\xbf\\xbd\\xef\\xbf\\xbd\\xef\\xbf\\xbd\\xef\\xbf\\xbd\\t\\xef\\xbf\\xbd2\\x00%\\xef\\xbf\\xbd\\x1dC\\xef\\xbf\\xbd\\x17/\\x1d$T([jx\\n\\xef\\xbf\\xbd\\xef\\xbf\\xbd,@\\xef\\xbf\\xbdC\\xef\\xbf\\xbd/&u6\\x15\\xef\\xbf\\xbd\\xef\\xbf\\xbdD\\x06qv\\xef\\xbf\\xbd\\xef\\xbf\\xbdE\\x1a\\xef\\xbf\\xbd\\x11j|\\xef\\xbf\\xbd\\x13\\xef\\xbf\\xbd9s\\xef\\xbf\\xbd\\xef\\xbf\\xbd\\xef\\xbf\\xbd0uH\\xef\\xbf\\xbd(G\\xef\\xbf\\xbd)\\x00\\xef\\xbf\\xbd\\xef\\xbf\\xbd\\x7f\\x05\\xef\\xbf\\xbd\\xef\\xbf\\xbd\\xef\\xbf\\xbdk\\xef\\xbf\\xbd\\xca\\xb2\\xef\\xbf\\xbdEr\\xef\\xbf\\xbd%\\xef\\xbf\\xbd\\x0c\\x01\\xef\\xbf\\xbdl\\x01'],\n",
              "       [b'\\x00\\x0c\\x01\\x00\\x00\\x01\\x00\\x00\\x00\\x00\\x00\\x00\\x06google\\x03com\\x00\\x00\\x1c\\x00\\x01t\\x03\\n9J\\xef\\xbf\\xbd\\xc4\\x89\\xef\\xbf\\xbd\\t\\xef\\xbf\\xbd\\xef\\xbf\\xbdw\\xef\\xbf\\xbd\\xef\\xbf\\xbdE\\xef\\xbf\\xbdb\\xef\\xbf\\xbd-\\xef\\xbf\\xbdN\\xef\\xbf\\xbdf\\xef\\xbf\\xbd]2\\x10\\xef\\xbf\\xbdD\\xef\\xbf\\xbdX\\n\\xef\\xbf\\xbd\\xef\\xbf\\xbd\\xef\\xbf\\xbd\\xef\\xbf\\xbdyA\\xca\\xb2\\xef\\xbf\\xbd\\xef\\xbf\\xbd\\x05\\xef\\xbf\\xbd=P\\xef\\xbf\\xbd\\x11\\x19\\xef\\xbf\\xbd,]\\xef\\xbf\\xbd.\\xef\\xbf\\xbd\\xef\\xbf\\xbd\\xef\\xbf\\xbdF\\xef\\xbf\\xbd(c\\xef\\xbf\\xbd\\xef\\xbf\\xbd\\x10!\\xef\\xbf\\xbd\\xef\\xbf\\xbdc\\x03@\\xef\\xbf\\xbd\\xef\\xbf\\xbd\\xef\\xbf\\xbd\\xef\\xbf\\xbdG\\r\\x02$\\xef\\xbf\\xbd-G\\xef\\xbf\\xbd\\xef\\xbf\\xbd\\xdc\\x9c\\xef\\xbf\\xbd\\x006t\\xef\\xbf\\xbd/\\xef\\xbf\\xbdMB\\xef\\xbf\\xbdg\\xef\\xbf\\xbdf\\xef\\xbf\\xbd\\xef\\xbf\\xbd\\xcc\\x96\\xef\\xbf\\xbd\\xef\\xbf\\xbdr\\xef\\xbf\\xbd~\\xef\\xbf\\xbd\\xef\\xbf\\xbd\\xef\\xbf\\xbdR\\xef\\xbf\\xbd\\xef\\xbf\\xbd\\xef\\xbf\\xbdJU\\xef\\xbf\\xbd(\\x14\\xef\\xbf\\xbd;\\x1e\\x1e\\xef\\xbf\\xbd\\xef\\xbf\\xbd\\xef\\xbf\\xbd\\r\\xef\\xbf\\xbdc\\xef\\xbf\\xbd\\x07\\xef\\xbf\\xbd\\xef\\xbf\\xbd;\\x00p\\xef\\x80\\xb0\\xef\\xbf\\xbd\\xef\\xbf\\xbd\\x12\\xef\\xbf\\xbd\\xef\\xbf\\xbd\\xef\\xbf\\xbdFip\\xef\\xbf\\xbd1\\xef\\xbf\\xbd\\xef\\xbf\\xbd\\xef\\xbf\\xbdM\\xef\\xbf\\xbd5\\xef\\xbf\\xbdr\\xef\\xbf\\xbdF+l\\n[h\\x027\\xef\\xbf\\xbd\\xef\\xbf\\xbd\\xef\\xbf\\xbd\\xc9\\xa9\\xef\\xbf\\xbdZ\\t\\xef\\xbf\\xbd\\xef\\xbf\\xbd\\x1a\\xef\\xbf\\xbd\\xef\\xbf\\xbdE\\n\"\\x1c\\xef\\xbf\\xbdr\\xef\\xbf\\xbd*\\xef\\xbf\\xbd\\xef\\xbf\\xbd\\xef\\xbf\\xbd\\\\\\xef\\xbf\\xbd8\\xef\\xbf\\xbd\\xef\\xbf\\xbd<\\x1e\\xef\\xbf\\xbd\\x17\\xef\\xbf\\xbd6\\xef\\xbf\\xbd\\xef\\xbf\\xbdS\\xef\\xbf\\xbd5J\\x05\\xef\\xbf\\xbdQ\\xef\\xbf\\xbd\\xef\\xbf\\xbd?\\xd5\\xae\\xef\\xbf\\xbd$\\xef\\xbf\\xbd\\xe7\\x9d\\x84\\xef\\xbb\\x85\\xef\\xbf\\xbd\\t%\\xef\\xbf\\xbd\\xef\\xbf\\xbd\\xef\\xbf\\xbd\\xef\\xbf\\xbd#\\xef\\xbf\\xbd\\x1d\\xef\\xbf\\xbd8*\\xef\\xbf\\xbdP\\xef\\xbf\\xbd\\xef\\xbf\\xbd\\xcd\\xaf\\'\\xcb\\xa2V\\x1f0\\xef\\xbf\\xbdR\\xef\\xbf\\xbd\\xef\\xbf\\xbdlb\\xef\\xbf\\xbd8i\\xef\\xbf\\xbd\\x02g\\xef\\xbf\\xbdj\\xef\\xbf\\xbd&p\\xef\\xbf\\xbd~\\xef\\xbf\\xbdX\\xef\\xbf\\xbd0Y2\\xef\\xbf\\xbd\\xef\\xbf\\xbd\\x19T\\xef\\xbf\\xbdd\\xef\\xbf\\xbdi\\x1f\\xef\\xbf\\xbd}\\x07\\xef\\xbf\\xbdv\\xef\\xbf\\xbd]\\xef\\xbf\\xbd\\xef\\xbf\\xbdbl\\xef\\xbf\\xbdW[sR`S\\xef\\xbf\\xbd\\x06V\\xef\\xbf\\xbd.\\xef\\xbf\\xbdC\\xef\\xbf\\xbd\\xef\\xbf\\xbd?\\x17\\xef\\xbf\\xbd`O_m\\\\\\xef\\xbf\\xbd?O\\xef\\xbf\\xbdBo\\xef\\xbf\\xbdp\\xef\\xbf\\xbd\\xef\\xbf\\xbd\\xef\\xbf\\xbd9`B\\x13v\\xef\\xbf\\xbd\\x1c\\xef\\xbf\\xbd\\x1b\\xef\\xbf\\xbd\\xef\\xbf\\xbdN\\xef\\xbf\\xbdW\\xef\\xbf\\xbdMm\\xef\\xbf\\xbd>\\xef\\xbf\\xbdf^]:7N\\x0f\\x11\\xef\\xbf\\xbd\\xef\\xbf\\xbd\\x08\\x0f\\x06\\x0f\\xef\\xbf\\xbd\\xcb\\x82x\\xef\\xbf\\xbd\\x14\\xef\\xbf\\xbd\\xef\\xbf\\xbd.\\xef\\xbf\\xbd\\xef\\xbf\\xbd\\xef\\xbf\\xbd\\xef\\xbf\\xbdx\\xef\\xbf\\xbdJ\\xef\\xbf\\xbd\\x1d\\xef\\xbf\\xbd\\xef\\xbf\\xbd\\xef\\xbf\\xbd\\x1fR\\xd6\\x9b\\x1d\\xef\\xbf\\xbd!\\x1a\\xef\\xbf\\xbd\\xef\\xbf\\xbd\\xef\\xbf\\xbdI\\xef\\xbf\\xbd\\xef\\xbf\\xbdX,E\\xef\\xbf\\xbdU\\xef\\xbf\\xbd\\\\\\xef\\xbf\\xbd\\xef\\xbf\\xbd\\xef\\xbf\\xbd\\xef\\xbf\\xbd\\t\\x1eH\\x1c\\xef\\xbf\\xbdT0h\\xd0\\xb0.KN\\xef\\xbf\\xbd^\\xef\\xbf\\xbdh\\xef\\xbf\\xbd\\x14r|\\xef\\xbf\\xbdc\\xef\\xbf\\xbd\\xd5\\x95\\xef\\xbf\\xbd#6\\'\\xef\\xbf\\xbdI\\xef\\xbf\\xbdBs2Q\\x17y^\\xef\\xbf\\xbdi\\xef\\xbf\\xbdgY\\xef\\xbf\\xbdQ}\\xef\\xbf\\xbdwn\\xef\\xbf\\xbd{\\xef\\xbf\\xbd\\n^\\xef\\xbf\\xbd\\xef\\xbf\\xbd;\\xef\\xbf\\xbd\\x04\\xef\\xbf\\xbde9\\xef\\xbf\\xbd(\\xef\\xbf\\xbd\\r\\xef\\xbf\\xbd\\x1a6t\\xef\\xbf\\xbd\\xef\\xbf\\xbd}\\xef\\xbf\\xbd\\xef\\xbf\\xbdFh\\xef\\xbf\\xbd\\xef\\xbf\\xbd\\xef\\xbf\\xbd\\xef\\xbf\\xbdO\\x0e\\xef\\xbf\\xbd/*9\\xef\\xbf\\xbd\\x0f\\xef\\xbf\\xbd\\xef\\xbf\\xbd+\\xef\\xbf\\xbd\\xef\\xbf\\xbd\\x0b\\xef\\xbf\\xbd\\x0bOO\\xef\\xbf\\xbd\\xef\\xbf\\xbd:\\x1eU\\xef\\xbf\\xbd'],\n",
              "       [b'\\x00\\x0c\\x01\\x00\\x00\\x01\\x00\\x00\\x00\\x00\\x00\\x00\\x06google\\x03com\\x00\\x00\\x1c\\x00\\x01\\xef\\xbf\\xbd\\xef\\xbf\\xbd\\xef\\xbf\\xbd\\xef\\xbf\\xbd\\t\\xef\\xbf\\xbd\\xef\\xbf\\xbd\"\\xef\\xbf\\xbdR\\xef\\xbf\\xbdk\\xef\\xbf\\xbdJt\\x06QJ\\xef\\xbf\\xbd2\\xef\\xbf\\xbd7\\xef\\xbf\\xbd\\xef\\xbf\\xbd\\xef\\xbf\\xbd$h\\xef\\xbf\\xbd\\xef\\xbf\\xbd\\x136&\\xef\\xbf\\xbd\\xef\\xbf\\xbdrsGD\\xef\\xbf\\xbd)IX\\xef\\xbf\\xbd\\xef\\xbf\\xbd\\xcb\\x8a\\xef\\xbf\\xbd\\xef\\xbf\\xbd\\xef\\xbf\\xbd\\x04\\x14n:\\xef\\xbf\\xbd0\\xef\\xbf\\xbd\\xef\\xbf\\xbd\\xef\\xbf\\xbd\\xef\\xbf\\xbdn\\xef\\xbf\\xbd\\xef\\xbf\\xbd\\t\\xef\\xbf\\xbd\\xef\\xbf\\xbdK\\xef\\xbf\\xbd>+$vq\\r\\xef\\xbf\\xbd]\\xce\\x85\\xef\\xbf\\xbdY\\xef\\xbf\\xbde\\xef\\xbf\\xbd>\\xef\\xbf\\xbd\\xef\\xbf\\xbd\\xef\\xbf\\xbd^If(\\x14x\\xef\\xbf\\xbd\\xef\\xbf\\xbd\\x1ew*\\x15\\xef\\xbf\\xbd\\xef\\xbf\\xbdB}\\xef\\xbf\\xbd\\xef\\xbf\\xbd\\x03\\xef\\xbf\\xbd\\xef\\xbf\\xbdv+(K\\xef\\xbf\\xbd\\xef\\xbf\\xbd\\xef\\xbf\\xbd}\\xda\\x98MD\\xef\\xbf\\xbdHGO\\xef\\xbf\\xbd\\xef\\xbf\\xbd\\x1deE\\xef\\xbf\\xbd\\xef\\xbf\\xbd\\x14\\xef\\xbf\\xbd\\xef\\xbf\\xbd\\xef\\xbf\\xbd\\xef\\xbf\\xbd\\xef\\xbf\\xbd\\xdc\\xa5\\xef\\xbf\\xbdz\\x7f\\x05k4\\xef\\xbf\\xbd\\xef\\xbf\\xbd\\xef\\xbf\\xbdq\\xef\\xbf\\xbd\\t\\xef\\xbf\\xbd\\xef\\xbf\\xbd\\xef\\xbf\\xbd\\xef\\xbf\\xbd9P\\xef\\xbf\\xbd\\xef\\xbf\\xbdv\\r\\xef\\xbf\\xbdz\\xef\\xbf\\xbd\\xef\\xbf\\xbd\\xef\\xbf\\xbd\\xef\\xbf\\xbd\\xef\\xbf\\xbd\\xef\\xbf\\xbd\\x06\\x15\\xef\\xbf\\xbd\\xef\\xbf\\xbd\\xef\\xbf\\xbd\\xef\\xbf\\xbd\\xef\\xbf\\xbd\\xef\\xbf\\xbd\\xef\\xbf\\xbdBvf\\xef\\xbf\\xbd\\xef\\xbf\\xbd\\xef\\xbf\\xbd\\x01\\xef\\xbf\\xbd\\xef\\xbf\\xbd\\xef\\xbf\\xbd\\xef\\xbf\\xbdN\\xef\\xbf\\xbd4+^\\xef\\xbf\\xbd\\xef\\xbf\\xbd@<L\\x11\\xd1\\xbba\\xd3\\x9c[UQ\\xef\\xbf\\xbd\\xef\\xbf\\xbd$-\\xe6\\xb0\\x8d\\xef\\xbf\\xbdd\\x1dw*<G\\xd7\\x84\\xef\\xbf\\xbd\\xef\\xbf\\xbdJ\\xef\\xbf\\xbd\\x15\\xef\\xbf\\xbd\\xef\\xbf\\xbd\\xef\\xbf\\xbdV \\xef\\xbf\\xbd\\x03Dtop;d\\xef\\xbf\\xbd\\xef\\xbf\\xbd\\xef\\xbf\\xbdCi-jY\\xef\\xbf\\xbd_\\xef\\xbf\\xbd\\x11\\xef\\xbf\\xbdJ\\xef\\xbf\\xbd5=\\n1t\\xef\\xbf\\xbdew\\xef\\xbf\\xbd\\xef\\xbf\\xbddz\\xef\\xbf\\xbd\\xef\\xbf\\xbd\\xef\\xbf\\xbdV\\x044no\\xef\\xbf\\xbd\\xef\\xbf\\xbdm\\xef\\xbf\\xbd#\\xef\\xbf\\xbdk\\n\\x02\\xef\\xbf\\xbd\\xef\\xbf\\xbd\\xef\\xbf\\xbdN\\xef\\xbf\\xbdqc\\xef\\xbf\\xbd\\xef\\xbf\\xbd445\\xef\\xbf\\xbd\\xef\\xbf\\xbd\\x0f\\xef\\xbf\\xbd\\xef\\xbf\\xbdAI,\\x16\\xdb\\x99PA\\xef\\xbf\\xbd\\xef\\xbf\\xbd=\\xef\\xbf\\xbdl\\xef\\xbf\\xbdNDi/t\\x11\\xef\\xbf\\xbd\\xef\\xbf\\xbd=\\xef\\xbf\\xbde\\xef\\xbf\\xbd\\xef\\xbf\\xbd\\x04+\\xef\\xbf\\xbd?\\x1c\\xef\\xbf\\xbdh\\xef\\xbf\\xbd!\\x11\\xef\\xbf\\xbd\\x10\\xef\\xbf\\xbd\\xdb\\xa9\\xef\\xbf\\xbd\\xef\\xbf\\xbd\\xef\\xbf\\xbd$U\\xef\\xbf\\xbd\\xef\\xbf\\xbd\\x17]8\\xef\\xbf\\xbd\\xef\\xbf\\xbdG\\xef\\xbf\\xbdZN\\'%\\xef\\xbf\\xbd\\x05\\xef\\xbf\\xbd\\xef\\xbf\\xbd,\\xef\\xbf\\xbd0,G\\x03\\xef\\xbf\\xbd\\xef\\xbf\\xbd4,\\xef\\xbf\\xbd\\xef\\xbf\\xbd\\xef\\xbf\\xbd\\xef\\xbf\\xbd: &N\\xef\\xbf\\xbd\\xef\\xbf\\xbdbH\\xef\\xbf\\xbd\\xef\\xbf\\xbd\\xef\\xbf\\xbd\\xef\\xbf\\xbd\\xef\\xbf\\xbdQ\\xef\\xbf\\xbd\\x02?\\x00\\x00;\\xef\\xbf\\xbd\\xef\\xbf\\xbd)TjUp\\xef\\xbf\\xbd\\xef\\xbf\\xbdI}g\\x07jJ4\\xef\\xbf\\xbdK\\xef\\xbf\\xbd\\x0b\\xef\\xbf\\xbd7\\x1d.8\\x05\\xca\\x92\\xef\\xbf\\xbd*T\\n*\\xef\\xbf\\xbd\\xef\\xbf\\xbd\\xef\\xbf\\xbd\\xef\\xbf\\xbd=\\xdd\\xa0Pt\\xd6\\x8c\\xef\\xbf\\xbd\\xed\\x84\\xb0I)\\xef\\xbf\\xbd\\xef\\xbf\\xbd\\xef\\xbf\\xbd\\xef\\xbf\\xbd\\xef\\xbf\\xbd5\\x1f\\xef\\xbf\\xbdp\\xef\\xbf\\xbd\\x12\"z\\r\\x11\\xef\\xbf\\xbd\\xef\\xbf\\xbdH\\xef\\xbf\\xbd\\xef\\xbf\\xbd\\xef\\xbf\\xbd;\\x01\\xef\\xbf\\xbd\\x07\\xd0\\xba\\x02\\xef\\xbf\\xbd{\\x18g\\xef\\xbf\\xbd\\xef\\xbf\\xbdR\\xef\\xbf\\xbd\\xce\\x8d\\xef\\xbf\\xbd>x\\xd8\\xb6}V\\x1a/y|:\\xef\\xbf\\xbdM\\xef\\xbf\\xbdC\\t\\xef\\xbf\\xbd\\x00\\xef\\xbf\\xbd\\xef\\xbf\\xbd\\xef\\xbf\\xbd\\xef\\xbf\\xbd\\xef\\xbf\\xbd\\xc8\\xa0x\\x1b\\xef\\xbf\\xbdL\\xef\\xbf\\xbd\\''],\n",
              "       [b'\\x00\\x0c\\x01\\x00\\x00\\x01\\x00\\x00\\x00\\x00\\x00\\x00\\x06google\\x03com\\x00\\x00\\x1c\\x00\\x01e5l|\\xef\\xbf\\xbd\\xef\\xbf\\xbd-\\xef\\xbf\\xbd\\xef\\xbf\\xbd2\\xef\\xbf\\xbd\\xef\\xbf\\xbd\\xef\\xbf\\xbd\\xef\\xbf\\xbd\\th\\x14f\\xef\\xbf\\xbdT\\xef\\xbf\\xbd\\xd5\\x81\\xef\\xbf\\xbd\\xef\\xbf\\xbd\\x01\\xef\\xbf\\xbdY\\xef\\xbf\\xbd\\xdf\\x99\\xef\\xbf\\xbd\\xef\\xbf\\xbds\\xef\\xbf\\xbd@\\xef\\xbf\\xbd+S\\x1e\\x06\\x04\\\\\\xef\\xbf\\xbd\\x7f\\xef\\xbf\\xbd>\\xef\\xbf\\xbd\\xef\\xbf\\xbd)\\xef\\xbf\\xbd\\xdd\\x8c\\xef\\xbf\\xbd\\xef\\xbf\\xbdr\\xef\\xbf\\xbd\\xef\\xbf\\xbd;\\xef\\xbf\\xbd\\xef\\xbf\\xbd\\x1c\\x05hU\\xef\\xbf\\xbd\\xef\\xbf\\xbd\\xef\\xbf\\xbd\\xda\\x9f\\xef\\xbf\\xbd\\xef\\xbf\\xbd\\xef\\xbf\\xbdt\\x01J|$\\xef\\xbf\\xbd\\x10\\x0bW\\xef\\xbf\\xbdwQ^}k9\\xef\\xbf\\xbd\\xef\\xbf\\xbd\\x10\\xef\\xbf\\xbd\\x12\\xef\\xbf\\xbd\\xef\\xbf\\xbd \\xef\\xbf\\xbd\\x045\\x05\\x00\\xef\\xbf\\xbd\\xef\\xbf\\xbd\\n\\x0b\\x10l\\x14\\x08\\xef\\xbf\\xbd\\xef\\xbf\\xbd\\xef\\xbf\\xbdu{\\xef\\xbf\\xbd\\xef\\xbf\\xbdn\\x130\\xef\\xbf\\xbd\\xef\\xbf\\xbd\\xcb\\x88K\\x1d\\\\adx\\xef\\xbf\\xbdg\\xef\\xbf\\xbd\\xef\\xbf\\xbdM\\xef\\xbf\\xbd\\x12t\\x12\\xef\\xbf\\xbdu\\xef\\xbf\\xbd\\t\\xef\\xbf\\xbd\\x7fI}\\xef\\xbf\\xbd\\xef\\xbf\\xbd\\xef\\xbf\\xbd$\\xef\\xbf\\xbdk\\xef\\xbf\\xbd\\xef\\xbf\\xbd*\\xef\\xbf\\xbdXl7\\x11\\x1f\\xef\\xbf\\xbd\\xef\\xbf\\xbdC{\\xef\\xbf\\xbd,\\xef\\xbf\\xbd\\x1a\\x16\\xef\\xbf\\xbdm\\xef\\xbf\\xbd\\xef\\xbf\\xbdgF\\x7f\\nV\\x18\\xef\\xbf\\xbd\\xef\\xbf\\xbd\\xef\\xbf\\xbd=(\\xef\\xbf\\xbdGDD\\xef\\xbf\\xbd\\x138FB\\xef\\xbf\\xbd\\xef\\xbf\\xbd\\xef\\xbf\\xbdB,%,\\xef\\xbf\\xbd\\xef\\xbf\\xbd\\x1d\\x0eA\\xef\\xbf\\xbdy\\xef\\xbf\\xbd#\\x16\\xef\\xbf\\xbd\\xef\\xbf\\xbdD\\xef\\xbf\\xbd5 :\\xef\\xbf\\xbdJn\\xef\\xbf\\xbd\\xef\\xbf\\xbd\\\\\\xef\\xbf\\xbd\\xef\\xbf\\xbd\\xef\\xbf\\xbd\\xef\\xbf\\xbdK\\xef\\xbf\\xbd)_x\\xef\\xbf\\xbd\\xef\\xbf\\xbd\\xef\\xbf\\xbd\\xef\\xbf\\xbd2-z\\xef\\xbf\\xbdo\\xef\\xbf\\xbdU\\xef\\xbf\\xbd,;SoS\\xe0\\xbe\\x943\\xef\\xbf\\xbd\\xef\\xbf\\xbd>\\x11\\xef\\xbf\\xbd\\x12\\xef\\xbf\\xbdIs\\x17\\xef\\xbf\\xbd\\x06\\xef\\xbf\\xbd\\x0e_\\xef\\xbf\\xbd\\xef\\xbf\\xbd\\xef\\xbf\\xbd\\x00\\xef\\xbf\\xbd\\xef\\xbf\\xbddV\\xef\\xbf\\xbdp\\xef\\xbf\\xbd\\xcd\\x90\\xef\\xbf\\xbd\\xef\\xbf\\xbd^\\xef\\xbf\\xbd\\xc4\\x97\\x16\\xef\\xbf\\xbd2\\xef\\xbf\\xbd\\x03\\xef\\xbf\\xbd\\xef\\xbf\\xbdu\\xef\\xbf\\xbd\\xef\\xbf\\xbd\\xef\\xbf\\xbd\\xef\\xbf\\xbd\\x0e\\x7f$\\xef\\xbf\\xbdK\\x02\\x178\\xef\\xbf\\xbd\\x03\\xef\\xbf\\xbd{z=4!E\\xef\\xbf\\xbdi;\\xd1\\x84\\xef\\xbf\\xbd0\\xef\\xbf\\xbd\\x1b\\xef\\xbf\\xbd\\xef\\xbf\\xbdJb\\xef\\xbf\\xbdl\\xef\\xbf\\xbdS\\xef\\xbf\\xbdU\\t\\xef\\xbf\\xbd\\x0b\\xef\\xbf\\xbd\\xef\\xbf\\xbd~\\xef\\xbf\\xbdi\\xef\\xbf\\xbd\\xef\\xbf\\xbdi\\xef\\xbf\\xbd\\xef\\xbf\\xbd\\xef\\xbf\\xbd\\xd0\\xaa\\xef\\xbf\\xbd\\x10\\xef\\xbf\\xbdlYr|\\xef\\xbf\\xbd\\xc2\\xba\\xef\\xbf\\xbd\\xef\\xbf\\xbds\\xd7\\x83\\xef\\xbf\\xbd\\\\\\xef\\xbf\\xbdh\\xef\\xbf\\xbd\\x0f\\xef\\xbf\\xbd\\x7f\\xef\\xbf\\xbd\\xef\\xbf\\xbdB\\xd7\\x99 \\xef\\xbf\\xbd\\xef\\xbf\\xbd\\xef\\xbf\\xbd\\xef\\xbf\\xbdD\\xef\\xbf\\xbd\\xef\\xbf\\xbd[\\xef\\xbf\\xbd\\x0e\\xef\\xbf\\xbddR{M\\xef\\xbf\\xbd\\xef\\xbf\\xbdR\\xef\\xbf\\xbd\\xef\\xbf\\xbd\\x13B\\xef\\xbf\\xbd\\xef\\xbf\\xbdy^\\xdd\\x99\\xef\\xbf\\xbd\\xef\\xbf\\xbd\\xef\\xbf\\xbd D19\\xef\\xbf\\xbdE\\xef\\xbf\\xbd\\xef\\xbf\\xbd\\xd4\\x94R\\xef\\xbf\\xbdQ\\x0b\\xef\\xbf\\xbd[`\\xef\\xbf\\xbd\\xef\\xbf\\xbdE\\xef\\xbf\\xbd\\xef\\xbf\\xbd\\xef\\xbf\\xbdG\\xdd\\xb9\\xef\\xbf\\xbdY\\x17\\xdd\\x99\\xef\\xbf\\xbd\\x02oIf&\\xc2\\x81\\xef\\xbf\\xbd\\x1f\\xef\\xbf\\xbdI\\xef\\xbf\\xbd\\xef\\xbf\\xbd\\xef\\xbf\\xbd[c)3\\xef\\xbf\\xbd\\x17\\xef\\xbf\\xbd\\\\\\x13\\x00m\\xef\\xbf\\xbd\\n\\xef\\xbf\\xbd*\\xef\\xbf\\xbd;\\xef\\xbf\\xbd\\xef\\xbf\\xbd\\xef\\xbf\\xbd\\t\\r\\xef\\xbf\\xbdM\\x13\\xef\\xbf\\xbdM\\xc6\\xb7h\\x1b\\x12xMF\\xef\\xbf\\xbd\\xef\\xbf\\xbd\\xef\\xbf\\xbd\\xef\\xbf\\xbdo\\xef\\xbf\\xbdwh0b\\x04\\xef\\xbf\\xbd\\xef\\xbf\\xbd\\xef\\xbf\\xbdl]\\xef\\xbf\\xbd\\x03J\\xef\\xbf\\xbdwl\\xef\\xbf\\xbdQ\\xef\\xbf\\xbd\\xef\\xbf\\xbd'],\n",
              "       [b'\\x00\\x0c\\x01\\x00\\x00\\x01\\x00\\x00\\x00\\x00\\x00\\x00\\x06google\\x03com\\x00\\x00\\x1c\\x00\\x01\\x7f0\\xef\\xbf\\xbd6r\\xef\\xbf\\xbd\\x16\\xef\\xbf\\xbd\\x1eaB\\xef\\xbf\\xbd\\xef\\xbf\\xbd0LOb1\\xef\\xbf\\xbd\\xef\\xbf\\xbd\\xef\\xbf\\xbdE\\xef\\xbf\\xbd\\xef\\xbf\\xbdv\\xef\\xbf\\xbd\\xef\\xbf\\xbd\\x1cN\\xef\\xbf\\xbdzF\\x1d6\\x05\\xef\\xbf\\xbd\\xef\\xbf\\xbd\\x16\\xef\\xbf\\xbd\\xef\\xbf\\xbd+\\xef\\xbf\\xbd\\x07\\x11.,R\\xef\\xbf\\xbdE\\xef\\xbf\\xbd!\\xc9\\x92\\xef\\xbf\\xbd\\x13B\\xef\\xbf\\xbd\\xef\\xbf\\xbd\\xef\\xbf\\xbd\\xef\\xbf\\xbd\\xef\\xbf\\xbd\\x1cjJd\\x1dR\\xef\\xbf\\xbd\\xef\\xbf\\xbd7\\xef\\xbf\\xbd\\x1a\\xef\\xbf\\xbd\\'l:4X\\xef\\xbf\\xbd\\xef\\xbf\\xbdq\\x0e\\x189\\'\\xef\\xbf\\xbd\\xef\\xbf\\xbdO@\\xef\\xbf\\xbd\\xef\\xbf\\xbd\\xd8\\x87%\\xef\\xbf\\xbd\\xef\\xbf\\xbd\\xef\\xbf\\xbd\\xef\\xbf\\xbd\\xef\\xbf\\xbd\\xef\\xbf\\xbd\\xef\\xbf\\xbdjH\\xef\\xbf\\xbd~\\xef\\xbf\\xbd\\xef\\xbf\\xbd)\\n\\xef\\xbf\\xbd\\xef\\xbf\\xbdO\\xef\\xbf\\xbdv/\\xef\\xbf\\xbd\\xef\\xbf\\xbd<\\xef\\xbf\\xbdIf\\x00\\xef\\xbf\\xbdem\\xef\\xbf\\xbd\\xc4\\x86\\xef\\xbf\\xbd\\xef\\xbf\\xbd\\xef\\xbf\\xbd\\xef\\xbf\\xbd\\xef\\xbf\\xbd\\xef\\xbf\\xbd\\x11\\xef\\xbf\\xbd;q\\xef\\xbf\\xbd\\xef\\xbf\\xbd\\xef\\xbf\\xbdR\\x0b\\xef\\xbf\\xbd\\xef\\xbf\\xbdZ~\\xef\\xbf\\xbd\\xef\\xbf\\xbd/\\xef\\xbf\\xbd\\xef\\xbf\\xbd\\xef\\xbf\\xbd\\xef\\xbf\\xbd\\xef\\xbf\\xbd\\xef\\xbf\\xbd\\xef\\xbf\\xbd\\xef\\xbf\\xbdO?\\xef\\xbf\\xbd\\xef\\xbf\\xbd9l\\xef\\xbf\\xbd\\xef\\xbf\\xbdmS\\xef\\xbf\\xbd\\xef\\xbf\\xbd4\\xef\\xbf\\xbd\\xef\\xbf\\xbd\\x04\\x0b\\xef\\xbf\\xbdD\\xef\\xbf\\xbd\\x02\\x0e\\xef\\xbf\\xbdn%mR\\x16<h?v\\xef\\xbf\\xbd\\xef\\xbf\\xbdj\\xef\\xbf\\xbd^\\x17b\\x02\\xef\\xbf\\xbd+\\xef\\xbf\\xbd*\\xef\\xbf\\xbd6\\xef\\xbf\\xbd\\x1d\\xdd\\xb2\\xef\\xbf\\xbd\\xef\\xbf\\xbd\\xef\\xbf\\xbd.\\xef\\xbf\\xbdN\\xef\\xbf\\xbd\\xef\\xbf\\xbd%]\\x1e\\xef\\xbf\\xbdT\\x05\\xef\\xbf\\xbd?\\xef\\xbf\\xbdh\\xef\\xbf\\xbdL\\xef\\xbf\\xbdV/wuG\\x10\\n|\\xef\\xbf\\xbd\\xef\\xbf\\xbdq\\xdd\\xacUK\\xef\\xbf\\xbdl\\xef\\xbf\\xbd1\\'\\xef\\xbf\\xbd\\xc2\\x87\\x15z\\xef\\xbf\\xbd\\xef\\xbf\\xbd\\xd2\\x8d\\r\\xef\\xbf\\xbd\\xef\\xbf\\xbd5SO\\xef\\xbf\\xbdy\\xef\\xbf\\xbd~\\xef\\xbf\\xbd\\xef\\xbf\\xbd\\x07\\xef\\xbf\\xbd\\xef\\xbf\\xbd\\xef\\xbf\\xbd_O\\xef\\xbf\\xbd\\xef\\xbf\\xbd\\xef\\xbf\\xbd7k*\\xef\\xbf\\xbd-6\\x1d\\xef\\xbf\\xbdi;Q*(\\xd6\\x9fH\\xef\\xbf\\xbd\\xef\\xbf\\xbd&\\xef\\xbf\\xbd]\\xef\\xbf\\xbd;c\\xef\\xbf\\xbd=\\xef\\xbf\\xbd\\xef\\xbf\\xbd\\xef\\xbf\\xbdN\\xef\\xbf\\xbd\\xef\\xbf\\xbd,\\xef\\xbf\\xbd\\xcb\\xa0\\xef\\xbf\\xbd\\xef\\xbf\\xbdr/\\xef\\xbf\\xbd\\x12\\x7f\\xdd\\xb5\\x13\"(\\xef\\xbf\\xbd\\x16\\xef\\xbf\\xbd\\xef\\xbf\\xbd\\x11\\xef\\xbf\\xbdT\\xef\\xbf\\xbd\\xef\\xbf\\xbdk#\\xef\\xbf\\xbd\\xef\\xbf\\xbd\\xef\\xbf\\xbd\\xef\\xbf\\xbdY\\xef\\xbf\\xbd[\\xef\\xbf\\xbd\\xef\\xbf\\xbd\\xef\\xbf\\xbd\\xef\\xbf\\xbd\\x02oLZ\\x1f&\\\\\\xef\\xbf\\xbd\\x17m\\xef\\xbf\\xbd%\\xef\\xbf\\xbd2\\xef\\xbf\\xbd\\x7f@\\x08\\xef\\xbf\\xbd\\xef\\xbf\\xbd\\xef\\xbf\\xbd\\xef\\xbf\\xbdLo\\xef\\xbf\\xbd\\xef\\xbf\\xbdB\\xef\\xbf\\xbd\\x1e\\xef\\xbf\\xbd\\xef\\xbf\\xbd\\x06M8\\xef\\xbf\\xbd\\xef\\xbf\\xbdI\\xef\\xbf\\xbd\\xef\\xbf\\xbdp\\xef\\xbf\\xbdU\\xef\\xbf\\xbd\\xef\\xbf\\xbdSD\\x7f\\xef\\xbf\\xbd\\xef\\xbf\\xbd\\xef\\xbf\\xbd2\\xef\\xbf\\xbdzp\\xef\\xbf\\xbd\\x1c\\r\\xef\\xbf\\xbd\\xef\\xbf\\xbd\\xef\\xbf\\xbd#\\xef\\xbf\\xbd\\xef\\xbf\\xbd6w\\xde\\xb1;U\\x0e\\xef\\xbf\\xbd\\x06\\xef\\xbf\\xbdmR~\\xef\\xbf\\xbdHj\\xef\\xbf\\xbdX\\x1fX\\xef\\xbf\\xbd\\xef\\xbf\\xbd\\'\\xef\\xbf\\xbd\\x0b\\xef\\xbf\\xbd_\\xef\\xbf\\xbd\\xef\\xbf\\xbd\\xef\\xbf\\xbd\\xef\\xbf\\xbd\\xef\\xbf\\xbd7;\".\\xef\\xbf\\xbd\\x10\\xef\\xbf\\xbdU\\xef\\xbf\\xbd\\x06\\x0e\\xef\\xbf\\xbdU\\xef\\xbf\\xbd\\xef\\xbf\\xbd\\x04\\xef\\xbf\\xbd\\xef\\xbf\\xbd/\\x12ZfJQ\\xef\\xbf\\xbdO\\x7f*\\xef\\xbf\\xbd\\n\\xd3\\xb5\\xef\\xbf\\xbd\"\\xef\\xbf\\xbdNMj\\xdf\\x9b|\\xef\\xbf\\xbd\\x1d#\\xef\\xbf\\xbdO\\xef\\xbf\\xbdr[\\xef\\xbf\\xbdJ\\xef\\xbf\\xbd\\'\\xef\\xbf\\xbd\\xef\\xbf\\xbdZj\\xef\\xbf\\xbd<g]y\\xef\\xbf\\xbdh\\xef\\xbf\\xbd\\xef\\xbf\\xbd/\\xef\\xbf\\xbd?'],\n",
              "       [b'\\x00\\x0c\\x01\\x00\\x00\\x01\\x00\\x00\\x00\\x00\\x00\\x00\\x06google\\x03com\\x00\\x00\\x1c\\x00\\x01L\\x0c>\\xef\\xbf\\xbd7++\\xef\\xbf\\xbdr}\\xef\\xbf\\xbd\\xef\\xbf\\xbdX\\x7f\\xef\\xbf\\xbd\\xef\\xbf\\xbd\\xef\\xbf\\xbd\\xef\\xbf\\xbd\\x08\\xef\\xbf\\xbd$q\\xef\\xbf\\xbd\\xef\\xbf\\xbd\\x07k\\xef\\xbf\\xbd?i\\xef\\xbf\\xbd\\xef\\xbf\\xbd\\xef\\xbf\\xbdg>9\\xef\\xbf\\xbd\\xef\\xbf\\xbd=\\xef\\xbf\\xbdF\\xef\\xbf\\xbdi\\xef\\xbf\\xbd\\xef\\xbf\\xbd\\xef\\xbf\\xbd\\xef\\xbf\\xbd\\xef\\xbf\\xbd3S\\xef\\xbf\\xbd\\xef\\xbf\\xbd\\xef\\xbf\\xbd\\xef\\xbf\\xbdK>\\xef\\xbf\\xbd;d\\xef\\xbf\\xbd\\x16\\xef\\xbf\\xbd\\xef\\xbf\\xbdL+\\xef\\xbf\\xbd\\xeb\\xba\\xa7\\xef\\xbf\\xbd\\xef\\xbf\\xbd\\xef\\xbf\\xbd\\x0f\\xef\\xbf\\xbd\\xef\\xbf\\xbd\\xef\\xbf\\xbd\\xef\\xbf\\xbd-[\\xef\\xbf\\xbd\\xef\\xbf\\xbd\\xef\\xbf\\xbdJ\\xef\\xbf\\xbd\\xee\\xad\\x8f\\xef\\xbf\\xbd\\x15\\n\\t\\xef\\xbf\\xbd?G@\\xef\\xbf\\xbdV1\\xef\\xbf\\xbd\"\\xef\\xbf\\xbdC\\xef\\xbf\\xbd{Z\\xef\\xbf\\xbd^C[\\xcf\\xa4X7\\x04\\xef\\xbf\\xbdE\\xef\\xbf\\xbd=1z\\xef\\xbf\\xbdz\\xef\\xbf\\xbd\\xef\\xbf\\xbdZ\\xef\\xbf\\xbd\\x0f\\xd4\\xbe%WK!\\xef\\xbf\\xbdd\\xef\\xbf\\xbd2\\\\[vt\\xc9\\xbd|\\xef\\xbf\\xbd\\x1c\\xef\\xbf\\xbd=\\xef\\xbf\\xbd\\xef\\xbf\\xbdt\\xef\\xbf\\xbd\\xef\\xbf\\xbdX\\xef\\xbf\\xbd\\xef\\xbf\\xbdr:\\xef\\xbf\\xbd\\x16\\xef\\xbf\\xbd\\xef\\xbf\\xbd\\xd8\\x963\\x03\\x11\\xef\\xbf\\xbdL\\xef\\xbf\\xbdp\\xef\\xbf\\xbd\\x04\\x1d&\\xef\\xbf\\xbd\\xef\\xbf\\xbd\\x12\\xd8\\x9fx\\xef\\xbf\\xbdZ|v\\xef\\xbf\\xbd\\xef\\xbf\\xbd\\xef\\xbf\\xbd?\\x14\\xef\\xbf\\xbd\\xef\\xbf\\xbd:\\xef\\xbf\\xbd\\xef\\xbf\\xbd\\xef\\xbf\\xbd\\xef\\xbf\\xbd\\xef\\xbf\\xbd\\'I\\xef\\xbf\\xbd\\xef\\xbf\\xbd7\\xef\\xbf\\xbd\\xef\\xbf\\xbd\\xef\\xbf\\xbd\\x12\\xd5\\x84E\\xef\\xbf\\xbd\\xef\\xbf\\xbd\\xef\\xbf\\xbdWD\\xef\\xbf\\xbd\\xef\\xbf\\xbd2\\xef\\xbf\\xbdv~>\"\\xef\\xbf\\xbd\\xde\\x9bu\\xef\\xbf\\xbd\\xef\\xbf\\xbd\\xef\\xbf\\xbd\\xef\\xbf\\xbd\\x04\\x03\\xef\\xbf\\xbd\\xef\\xbf\\xbd\\xef\\xbf\\xbd\\xd3\\xb7\\x11\\xef\\xbf\\xbd\\x1b@\\xef\\xbf\\xbd\\xef\\xbf\\xbd4\\xef\\xbf\\xbd\\xdf\\xb4dV\\xef\\xbf\\xbd\\xef\\xbf\\xbd\\xef\\xbf\\xbd\\x0e\\xef\\xbf\\xbdl\\xef\\xbf\\xbdC\\xef\\xbf\\xbd\\nP\\xef\\xbf\\xbd\\xef\\xbf\\xbd\\xef\\xbf\\xbdx\\xef\\xbf\\xbd\\xef\\xbf\\xbd\\xef\\xbf\\xbd,H\\xef\\xbf\\xbd\\xef\\xbf\\xbd\\x06\\xef\\xbf\\xbd.Qz\\xef\\xbf\\xbd\\xef\\xbf\\xbd[\\x0f\\xef\\xbf\\xbd5zB\\xee\\xb7\\xb1u\\xef\\xbf\\xbd\\xef\\xbf\\xbdx\\xef\\xbf\\xbd\\xef\\xbf\\xbde\\x1e\\xef\\xbf\\xbd~\\xef\\xbf\\xbd\\xef\\xbf\\xbd\\xcc\\x8b\\xef\\xbf\\xbd9E\\x13\\xef\\xbf\\xbdbQ\\xe9\\xa5\\x9a@?\"d\\xef\\xbf\\xbd\\xef\\xbf\\xbd \\'g\\xef\\xbf\\xbd\\x1d\\x00]\\'\\x7fWW\\x1a\\x0f\\xcf\\x9e_\\xef\\xbf\\xbdP\\xef\\xbf\\xbdH08\\xd7\\xb1-\\xef\\xbf\\xbdH\\xef\\xbf\\xbd\\xef\\xbf\\xbd\\xef\\xbf\\xbd\\xd2\\x88\\xef\\xbf\\xbd\\xef\\xbf\\xbdf\\xd6\\xa5K&\\xef\\xbf\\xbdl\\xef\\xbf\\xbd\\xef\\xbf\\xbd\\x10\\xef\\xbf\\xbd\\x1b\\xef\\xbf\\xbdD\\x14a!\\x00\\xef\\xbf\\xbdh/\\xef\\xbf\\xbd$m\\xef\\xbf\\xbd5\\xef\\xbf\\xbd+\\xef\\xbf\\xbd\\xef\\xbf\\xbd\\n#\\xef\\xbf\\xbd)\\xef\\xbf\\xbd\\x08P3H\\xef\\xbf\\xbd\\xef\\xbf\\xbd\\xef\\xbf\\xbd\\xef\\xbf\\xbd\\xef\\xbf\\xbd(\\xef\\xbf\\xbdE7\\xef\\xbf\\xbd\\xef\\xbf\\xbd\\xef\\xbf\\xbd\\x14\\x16V \\x1c1\\xc3\\x93v%q\\xef\\xbf\\xbd?|\\xef\\xbf\\xbd\\xef\\xbf\\xbd\\xef\\xbf\\xbd\\xc3\\x8bJ\\x16K)\\xef\\xbf\\xbd\\xef\\xbf\\xbdw\\xef\\xbf\\xbd,\\xd2\\xb2\\xef\\xbf\\xbd\\x07\\xef\\xbf\\xbd\\xef\\xbf\\xbdz\\xef\\xbf\\xbd\\xef\\xbf\\xbd\\xef\\xbf\\xbd}\\xef\\xbf\\xbdo\\xef\\xbf\\xbd\\x14\\x7fn\\xef\\xbf\\xbd\\xef\\xbf\\xbd+\\x16\\xef\\xbf\\xbdp\\xef\\xbf\\xbd\\xef\\xbf\\xbd\\xef\\xbf\\xbd\\xef\\xbf\\xbd\\x10E\\x11\\xef\\xbf\\xbdA\\xef\\xbf\\xbd&j\\xef\\xbf\\xbd#\\xef\\xbf\\xbd\\xef\\xbf\\xbdh(\"\\xef\\xbf\\xbdeD\\xef\\xbf\\xbd \\xef\\xbf\\xbd\\xef\\xbf\\xbd\"\\xef\\xbf\\xbd[\\xef\\xbf\\xbd\\xef\\xbf\\xbd\\nX\\xef\\xbf\\xbd-\\xef\\xbf\\xbd\\xef\\xbf\\xbd\\xc3\\x90\\xef\\xbf\\xbd5\\x18\\xef\\xbf\\xbd&\\x11\\xef\\xbf\\xbd\\xef\\xbf\\xbd?\\xe8\\x99\\xaf/\"\\xef\\xbf\\xbd\\xd5\\xa6\\xef\\xbf\\xbd~f5\\xef\\xbf\\xbd=\\xef\\xbf\\xbd\\x0b\\x14ij\\xef\\xbf\\xbd&\\xef\\xbf\\xbd\\x1d(\\xef\\xbf\\xbdJLe'],\n",
              "       [b'\\x00\\x0c\\x01\\x00\\x00\\x01\\x00\\x00\\x00\\x00\\x00\\x00\\x06google\\x03com\\x00\\x00\\x1c\\x00\\x01P$\\x08\\x05+\\xef\\xbf\\xbd\\x0b2\\x13\\xef\\xbf\\xbdM<?\\xef\\xbf\\xbd\\xef\\xbf\\xbd\\xef\\xbf\\xbdt\\xef\\xbf\\xbdDq\\xef\\xbf\\xbd\\xef\\xbf\\xbd\\xef\\xbf\\xbdsE\\xef\\xbf\\xbd\\xef\\xbf\\xbd\\xef\\xbf\\xbd\\xef\\xbf\\xbd\\x0e\\xef\\xbf\\xbd\\x05E\\xef\\xbf\\xbd\\xef\\xbf\\xbd\\xef\\xbf\\xbd\\xef\\xbf\\xbd\\xef\\xbf\\xbd\\x10Et\\xcf\\xb9x\\xef\\xbf\\xbdp\\x06\\x0fwE\\xea\\xb3\\xb4\\xef\\xbf\\xbdqP\\\\\\xef\\xbf\\xbdXHq~\\xef\\xbf\\xbd\\xef\\xbf\\xbd]\\n\\xd4\\xaa\\x04\\xef\\xbf\\xbd\\xef\\xbf\\xbd*\\xef\\xbf\\xbd\\xef\\xbf\\xbd*\\xef\\xbf\\xbd\\xef\\xbf\\xbd\\xef\\xbf\\xbd\\xe8\\xa6\\xb134\\xef\\xbf\\xbd\\xef\\xbf\\xbd1\\xef\\xbf\\xbd\\xef\\xbf\\xbd\\xef\\xbf\\xbd\\xef\\xbf\\xbd\\xef\\xbf\\xbdrie\\\\+\\x7f\\xef\\xbf\\xbd\\xef\\xbf\\xbd\\xef\\xbf\\xbd\\xef\\xbf\\xbd!\\xef\\xbf\\xbd\\x06c\\x14\\xef\\xbf\\xbd`6\\xef\\xbf\\xbd=\\xef\\xbf\\xbd\\xef\\xbf\\xbd\\x11<\\xef\\xbf\\xbd\\x08W\\xef\\xbf\\xbd\\x14\\xef\\xbf\\xbd\\xef\\xbf\\xbd\\xef\\xbf\\xbdH\\xef\\xbf\\xbd\\xef\\xbf\\xbd\\xef\\xbf\\xbd\\xef\\xbf\\xbdx)U\\x037\\xef\\xbf\\xbd*\\xef\\xbf\\xbd\\xef\\xbf\\xbdq\\xef\\xbf\\xbd\\xef\\xbf\\xbdK)\\xef\\xbf\\xbdN\\xef\\xbf\\xbd\\x18\\xef\\xbf\\xbd>\\xef\\xbf\\xbdu\\xef\\xbf\\xbd\\xef\\xbf\\xbdVI\\xef\\xbf\\xbd\\xef\\xbf\\xbd\\x08H\\xef\\xbf\\xbd\\xef\\xbf\\xbdPDMU~#\\xef\\xbf\\xbd\\xef\\xbf\\xbd3\\xef\\xbf\\xbd\\xef\\xbf\\xbd\\xef\\xbf\\xbd\\xef\\xbf\\xbd(\\xc5\\x95v\\xef\\xbf\\xbd\\xef\\xbf\\xbd\\x10\\x12\\x15Y{\\x15\\xef\\xbf\\xbdO\\xef\\xbf\\xbd\\x12u\\xef\\xbf\\xbd\\xef\\xbf\\xbd \\x1a\\xef\\xbf\\xbd\":\\xef\\xbf\\xbd\\xef\\xbf\\xbd\\x08\\xef\\xbf\\xbd<\\xef\\xbf\\xbdb\\x1a!)\\xef\\xbf\\xbd6XQ\\x1e7CX~q\\xe9\\xbd\\x9aH\\x1c\\xef\\xbf\\xbdo\\xef\\xbf\\xbd\\xef\\xbf\\xbd\\x08\\x15\\xef\\xbf\\xbd\\xef\\xbf\\xbd\\n\\xef\\xbf\\xbd\\xe7\\xa0\\xa0\\x1a\\xef\\xbf\\xbd\\xef\\xbf\\xbdB\\xef\\xbf\\xbdS\\x01\\xef\\xbf\\xbdUR\\xef\\xbf\\xbd\\xce\\x8b-\\xef\\xbf\\xbdx3<\\xef\\xbf\\xbd\\\\v\\xef\\xbf\\xbd`\\xef\\xbf\\xbd;\\xef\\xbf\\xbdP\"\\\\+\\x10.A!\\xef\\xbf\\xbd\\x01%yFrt\\xef\\xbf\\xbdS\\xef\\xbf\\xbdV\\xef\\xbf\\xbd\\xef\\xbf\\xbd\\xd6\\xbd\\xef\\xbf\\xbd\\xef\\xbf\\xbdj\\xef\\xbf\\xbd\\xef\\xbf\\xbd\\x14C\\t\\xef\\xbf\\xbd\\xef\\xbf\\xbd!#\\xef\\xbf\\xbd &\\xef\\xbf\\xbd=\\x12\\xef\\xbf\\xbd\\xef\\xbf\\xbd\\xef\\xbf\\xbd%\\x05\\xd6\\xaf\\xef\\xbf\\xbd\\xef\\xbf\\xbdO$\\xef\\xbf\\xbdPD#\\x04\\xef\\xbf\\xbd\\xef\\xbf\\xbd\\xef\\xbf\\xbd\\xef\\xbf\\xbd\\xef\\xbf\\xbd\\xef\\xbf\\xbd\\xef\\xbf\\xbd\\x0cz\\x11+\\xef\\xbf\\xbd1thl} \\xef\\xbf\\xbdy\\xef\\xbf\\xbd\\xef\\xbf\\xbd^\\xef\\xbf\\xbdfM\\xef\\xbf\\xbd_\\xef\\xbf\\xbds\\xef\\xbf\\xbdf(\\xef\\xbf\\xbd\\xc5\\x9aU\\xef\\xbf\\xbd\\xef\\xbf\\xbd\\xef\\xbf\\xbd-\\x0f\\xef\\xbf\\xbd\\xef\\xbf\\xbd\\xef\\xbf\\xbdfM\\xc8\\x94\\xef\\xbf\\xbd\\x17\\xef\\xbf\\xbd\\xef\\xbf\\xbd\\xef\\xbf\\xbdG\\xef\\xbf\\xbdH\\x01\\xef\\xbf\\xbdJ\\xef\\xbf\\xbd\\xef\\xbf\\xbdS\\xef\\xbf\\xbd\\xd8\\xbf\\xef\\xbf\\xbd\\xef\\xbf\\xbd\\xef\\xbf\\xbd|E\\xef\\xbf\\xbd\\xef\\xbf\\xbd\\xef\\xbf\\xbd\\xef\\xbf\\xbd\\xef\\xbf\\xbd\\xef\\xbf\\xbdv\\xef\\xbf\\xbd\\xef\\xbf\\xbd\\x08\\xef\\xbf\\xbdUd\\xef\\xbf\\xbd\\x08\\x08\\xef\\xbf\\xbd+\\xef\\xbf\\xbdf\\x14t\\xef\\xbf\\xbdD\\xef\\xbf\\xbd+\\xef\\xbf\\xbdb\\xef\\xbf\\xbd1q\\xef\\xbf\\xbd\\xef\\xbf\\xbd\\xef\\xbf\\xbd=MC;?\\xef\\xbf\\xbd\\xef\\xbf\\xbdq\\xef\\xbf\\xbd\\xef\\xbf\\xbd\\xef\\xbf\\xbdl\\xc7\\x87I\\xef\\xbf\\xbd\\xef\\xbf\\xbdR\\xef\\xbf\\xbd\\x06$\\xef\\xbf\\xbd%\\x10\\xdd\\x840_\\x08qC\\xef\\xbf\\xbdY,\\xef\\xbf\\xbd\\xef\\xbf\\xbd\\xef\\xbf\\xbd\\xd6\\xb9\\xef\\xbf\\xbd\\x02K_\\xef\\xbf\\xbd\\xef\\xbf\\xbd\\xef\\xbf\\xbd\\xef\\xbf\\xbd\\xef\\xbf\\xbdP\\xef\\xbf\\xbdO\\xef\\xbf\\xbd\\xef\\xbf\\xbd\\x07\\xef\\xbf\\xbdp\\xef\\xbf\\xbdHC\\xee\\xb1\\x98\\xef\\xbf\\xbd.\\xef\\xbf\\xbd^\\x11\\x1a\\xef\\xbf\\xbdv:o\\x14\\x02\\x1e\\xef\\xbf\\xbdw\\x1a\"\\n\\xef\\xbf\\xbd-k\\xef\\xbf\\xbd\\x08\\xef\\xbf\\xbd]a\\'4\\xef\\xbf\\xbd\\x07\\xef\\xbf\\xbdP\\xef\\xbf\\xbdU:\\xf3\\x9a\\xbb\\x87\\xef\\xbf\\xbd'],\n",
              "       [b'\\x00\\x0c\\x01\\x00\\x00\\x01\\x00\\x00\\x00\\x00\\x00\\x00\\x06google\\x03com\\x00\\x00\\x1c\\x00\\x01r\\xcc\\x90 ~\\x16\\xef\\xbf\\xbd\\x00\\xef\\xbf\\xbd\\xef\\xbf\\xbd\\x7f\\xef\\xbf\\xbd\\x02\\xef\\xbf\\xbdv\\xef\\xbf\\xbd\\x0ex+f\\xef\\xbf\\xbd\\xef\\xbf\\xbd\\xef\\xbf\\xbd\\xef\\xbf\\xbd\\xef\\xbf\\xbd\\xcf\\x95\\x08^\\x144WH\\xef\\xbf\\xbdY\\xef\\xbf\\xbdv\\xef\\xbf\\xbd\\xef\\xbf\\xbdzc\\x04\\xef\\xbf\\xbd\\x16\\xef\\xbf\\xbd?+K\\x05\\xef\\xbf\\xbdR\\xef\\xbf\\xbdo\\x15\\xef\\xbf\\xbd\\xeb\\x96\\x91]\\x1a\\xca\\x9eB\\xef\\xbf\\xbd\\xef\\xbf\\xbd\\xd5\\xb8od\\xef\\xbf\\xbd\\xef\\xbf\\xbd?;\\xef\\xbf\\xbd4\\xef\\xbf\\xbd[\\\\\\xef\\xbf\\xbd\\x14\\xef\\xbf\\xbdT\\x1awl\\xef\\xbf\\xbd\\'j\\x0c\\x04\\x14\\x0e\\xef\\xbf\\xbd0\\xef\\xbf\\xbd\\xef\\xbf\\xbd\\xdd\\xa3\\xef\\xbf\\xbd\\xef\\xbf\\xbd\\x05\\xef\\xbf\\xbd\\xc4\\x8c\\x18*(\\xef\\xbf\\xbd\\xef\\xbf\\xbdCV\\xce\\x8eg\\xef\\xbf\\xbd\\xef\\xbf\\xbd\\xef\\xbf\\xbd\\x07\\xef\\xbf\\xbd.\\xef\\xbf\\xbdEs\\xef\\xbf\\xbd_Ezbo\\xef\\xbf\\xbd\\xef\\xbf\\xbdo\\xef\\xbf\\xbd\\xc9\\xa4\\xef\\xbf\\xbd\\xef\\xbf\\xbd\\x07\\xef\\xbf\\xbd\\xef\\xbf\\xbd\\xef\\xbf\\xbdrg\\xef\\xbf\\xbd%\\xef\\xbf\\xbd\\xef\\xbf\\xbd\\xef\\xbf\\xbd|;\\xef\\xbf\\xbd\\xef\\xbf\\xbd\\xef\\xbf\\xbd\\xef\\xbf\\xbd\\xef\\xbf\\xbd\\xef\\xbf\\xbd\\ncA:\\xef\\xbf\\xbdi\\xef\\xbf\\xbd\\xef\\xbf\\xbd\\xef\\xbf\\xbd\\x19\\xef\\xbf\\xbdkm\\xef\\xbf\\xbd6\\xef\\xbf\\xbd\\xef\\xbf\\xbdnq\\xef\\xbf\\xbd\\xef\\xbf\\xbdB\\xef\\xbf\\xbd;z/?0\\xef\\xbf\\xbd\\xef\\xbf\\xbd\\xef\\xbf\\xbd%5\\x15\\xef\\xbf\\xbd\\xef\\xbf\\xbd\\xef\\xbf\\xbd+\\x07{!N\\xef\\xbf\\xbdO\\xef\\xbf\\xbd\\x13\\xef\\xbf\\xbdp\\xef\\xbf\\xbd\\xef\\xbf\\xbdY\\xef\\xbf\\xbd\\xef\\xbf\\xbd\\xef\\xbf\\xbd.\\xef\\xbf\\xbd\\xef\\xbf\\xbd3|\\xef\\xbf\\xbd\\xef\\xbf\\xbd.!^\\xef\\xbf\\xbd\\xef\\xbf\\xbd\\xef\\xbf\\xbd\\x1f\\xef\\xbf\\xbd\\xef\\xbf\\xbd\\xef\\xbf\\xbdb\\xef\\xbf\\xbd\\xef\\xbf\\xbd\\x1d\\xef\\xbf\\xbd\\x1b]\\x16\\xef\\xbf\\xbdy\\xef\\xbf\\xbd\\xef\\xbf\\xbd\\xdb\\x81\\xef\\xbf\\xbd\\x14\\xef\\xbf\\xbd\\xef\\xbf\\xbd\\x08\\xef\\xbf\\xbd\\r\\xef\\xbf\\xbd\\xef\\xbf\\xbd\\x16\\xef\\xbf\\xbd\\xef\\xbf\\xbd.\\xef\\xbf\\xbd\\xe2\\x90\\xb2F\\x08\\xef\\xbf\\xbdJe\\xd0\\x8b\\xef\\xbf\\xbd?\\x15\\xef\\xbf\\xbd\\x1c\\xef\\xbf\\xbd\\xee\\x88\\xb3\\x17\\xef\\xbf\\xbd\\xef\\xbf\\xbd\\xef\\xbf\\xbd\\xef\\xbf\\xbd\\x02\\xcb\\xba\\xef\\xbf\\xbdBg^\\xef\\xbf\\xbdOt8a%DS\\xef\\xbf\\xbdJw\\xef\\xbf\\xbdJI\\xef\\xbf\\xbdg\\xef\\xbf\\xbdg\"\\x7f74\\xef\\xbf\\xbdi\\x1b\\xef\\xbf\\xbd1\\xef\\xbf\\xbd\\xef\\xbf\\xbd\\x0c\\xcf\\xb9\\xef\\xbf\\xbd^Rf\\xef\\xbf\\xbd\\x07\\xef\\xbf\\xbd\\x08J\\xef\\xbf\\xbd\\xef\\xbf\\xbdy\\xef\\xbf\\xbd0(\\xef\\xbf\\xbd\\xd4\\xb7R\\x11\\xef\\xbf\\xbdh\\xc8\\xa0b\\xef\\xbf\\xbd\\xef\\xbf\\xbdD\\xef\\xbf\\xbd?y\\xef\\xbf\\xbdwvO\\xef\\xbf\\xbd\\x17\\xef\\xbf\\xbd@\\xef\\xbf\\xbd\\xef\\xbf\\xbd\\xef\\xbf\\xbd\\xef\\xbf\\xbd\\xef\\xbf\\xbd%:N\\xef\\xbf\\xbd\\x7f\\xef\\xbf\\xbdd\"\\xda\\x97\\xef\\xbf\\xbd{%\\x05#\\xef\\xbf\\xbd\\xef\\xbf\\xbd9\\xef\\xbf\\xbd\\xef\\xbf\\xbd\\xef\\xbf\\xbd\\x11_\\xc4\\x887\\xef\\xbf\\xbd\\x07\"L\\x04\\xef\\xbf\\xbda\\xd3\\x9c\\xef\\xbf\\xbd\\xef\\xbf\\xbd\\x08C4?\\xef\\xbf\\xbd\\xd2\\xb5!\\xef\\xbf\\xbd.\\xca\\xb0\\x06})\\xdd\\xaf(\\xef\\xbf\\xbd\\xef\\xbf\\xbd\\xef\\xbf\\xbdq\\xef\\xbf\\xbd\\xef\\xbf\\xbd\\xef\\xbf\\xbd\\xef\\xbf\\xbd\\x12\\xef\\xbf\\xbd*\\xef\\xbf\\xbd\\xef\\xbf\\xbd4\\xef\\xbf\\xbd*\\xef\\xbf\\xbd\\xef\\xbf\\xbd\\x00KYw\\xef\\xbf\\xbd+\\xef\\xbf\\xbd\\xef\\xbf\\xbd7\\x04\\xef\\xbf\\xbd$}R\\xef\\xbf\\xbdD\"\\x1c\\xef\\xbf\\xbd\\xef\\xbf\\xbd\\xef\\xbf\\xbd\\xef\\xbf\\xbd\\xef\\xbf\\xbd,K\\xef\\xbf\\xbd%\\xd1\\xac\\xef\\xbf\\xbdT\\xef\\xbf\\xbd\\\\{\\xef\\xbf\\xbd7\\xef\\xbf\\xbd\\xef\\xbf\\xbd\\xef\\xbf\\xbd\\x13\\xef\\xbf\\xbdB\\xef\\xbf\\xbd\\xef\\xbf\\xbd\\xef\\xbf\\xbd\\xef\\xbf\\xbd@\\xef\\xbf\\xbd\\xef\\xbf\\xbd:\\xef\\xbf\\xbd\\xef\\xbf\\xbd\\xef\\xbf\\xbd\\x11\\xef\\xbf\\xbd+u\\xef\\xbf\\xbdC\\xef\\xbf\\xbdm\\xef\\xbf\\xbd\\x0c\\xef\\xbf\\xbd\\x11\\xef\\xbf\\xbdl\\x049*\\xef\\xbf\\xbd}\\xef\\xbf\\xbdS1\\x1a\\xef\\xbf\\xbdFw\\xef\\xbf\\xbdU\\xef\\xbf\\xbdJ\\xef\\xbf\\xbd<\\xef\\xbf\\xbduNH\\xef\\xbf\\xbd\\xef\\xbf\\xbd:'],\n",
              "       [b'\\x00\\x0c\\x01\\x00\\x00\\x01\\x00\\x00\\x00\\x00\\x00\\x00\\x06google\\x03com\\x00\\x00\\x1c\\x00\\x01\\xef\\xbf\\xbdK\\xef\\xbf\\xbde\\xef\\xbf\\xbd4\\xef\\xbf\\xbdP$M\\x11q\\xef\\xbf\\xbd\\xef\\xbf\\xbde\\xef\\xbf\\xbd\\xef\\xbf\\xbd\\x08\\xef\\xbf\\xbdV\\xef\\xbf\\xbdq\\xef\\xbf\\xbd\\xef\\xbf\\xbd\\xef\\xbf\\xbd\\n\\xef\\xbf\\xbd7\\xef\\xbf\\xbd|/\\xef\\xbf\\xbd7\\xef\\xbf\\xbd\\xef\\xbf\\xbdR\\x0fe\\xef\\xbf\\xbd\\x1a\\xc2\\xa6\\xef\\xbf\\xbdH\\xef\\xbf\\xbd\\xef\\xbf\\xbd\\xca\\xaf\\xef\\xbf\\xbd\\x15\\xef\\xbf\\xbd\\x1b#\\x14Q\\xef\\xbf\\xbdw\\xef\\xbf\\xbdP\\x00\\xef\\xbf\\xbd\\xef\\xbf\\xbdIu\\xc8\\x85[\\x1f06%\\xef\\xbf\\xbd#+\\x03\\xef\\xbf\\xbdlY\\xef\\xbf\\xbd\\xef\\xbf\\xbd\\'\\xef\\xbf\\xbd/\\xcb\\xa9\\xef\\xbf\\xbd\\xef\\xbf\\xbd\\xef\\xbf\\xbdMu\\xef\\xbf\\xbd\\xef\\xbf\\xbd\\x0b\\xef\\xbf\\xbd\\x19\\xef\\xbf\\xbd\\x0c\\x11\\xef\\xbf\\xbd\\xef\\xbf\\xbd\\x08\\xef\\xbf\\xbd\\xef\\xbf\\xbd\\xef\\xbf\\xbdPS\\xef\\xbf\\xbdS~BG\\xef\\xbf\\xbdoI%\\xef\\xbf\\xbd\\x08\\n\\r\\xc2\\xa1\\xef\\xbf\\xbd+3Q~5\\x15\\xef\\xbf\\xbd\\x1e6\\xef\\xbf\\xbd\\xef\\xbf\\xbdk\\xce\\x9c\\x08\\xef\\xbf\\xbd\\xef\\xbf\\xbdaE\\xef\\xbf\\xbd\\xef\\xbf\\xbd\\xef\\xbf\\xbd(\\x7f\\x08\\x06\\x00\\xef\\xbf\\xbdR\\xef\\xbf\\xbd\\xef\\xbf\\xbdKA\\xef\\xbf\\xbd\\xef\\xbf\\xbd\\x102.S\\xef\\xbf\\xbd\\xef\\xbf\\xbdz8\\x005\\xef\\xbf\\xbdZ\\xef\\xbf\\xbd\\xef\\xbf\\xbdwV-{/\\xef\\xbf\\xbdq\\xef\\xbf\\xbd^\\xef\\xbf\\xbd\\xef\\xbf\\xbd{\\xef\\xbf\\xbd\\xef\\xbf\\xbdH2v\\x12\\xef\\xbf\\xbd\\x01\\xef\\xbf\\xbd\\xef\\xbf\\xbd+\\x1a\\xef\\xbf\\xbd\\r\\x1c\\xef\\xbf\\xbd?M\\nz\\xef\\xbf\\xbdIR\\xef\\xbf\\xbdh\\xef\\xbf\\xbd\\x16\\xc9\\xad\\xef\\xbf\\xbdz\\xef\\xbf\\xbdu\\xef\\xbf\\xbdtP=l\\xef\\xbf\\xbd\\xef\\xbf\\xbdj\\x05\\xef\\xbf\\xbd\\xef\\xbf\\xbd\\xef\\xbf\\xbd\\x15\\xc6\\x99\\xef\\xbf\\xbdZ\\xef\\xbf\\xbd]\\xc4\\xb8\\xef\\xbf\\xbd\\xef\\xbf\\xbd.\\xef\\xbf\\xbd\\xef\\xbf\\xbd\\xef\\xbf\\xbdD\\x10\\xef\\xbf\\xbd\\xef\\xbf\\xbd5P8l\\xef\\xbf\\xbd\\xef\\xbf\\xbd\\xef\\xbf\\xbdT\\x1a\\xef\\xbf\\xbdO\\xef\\xbf\\xbd2\\xef\\xbf\\xbd\\x1b\\xef\\xbf\\xbd\\xef\\xbf\\xbd,\\xef\\xbf\\xbd\\xef\\xbf\\xbd\\xef\\xbf\\xbd\\xef\\xbf\\xbd\\xef\\xbf\\xbd\\xef\\xbf\\xbdu\\xef\\xbf\\xbdD8`\\xef\\xbf\\xbd=2.\\xef\\xbf\\xbd\\xef\\xbf\\xbd+3|8\\xef\\xbf\\xbd\\xef\\xbf\\xbdV\\xef\\xbf\\xbd\\xef\\xbf\\xbd\\xef\\xbf\\xbdR\\xef\\xbf\\xbd\\xef\\xbf\\xbd\\xef\\xbf\\xbd\\xef\\xbf\\xbd\\xef\\xbf\\xbd\\xef\\xbf\\xbd\\xef\\xbf\\xbd\\xef\\xbf\\xbd\\xef\\xbf\\xbd\\xef\\xbf\\xbd2\"J\\xef\\xbf\\xbd\\xef\\xbf\\xbdo\\x05\\xef\\xbf\\xbde\\xef\\xbf\\xbdTt\\xef\\xbf\\xbd\\xef\\xbf\\xbdn\\xef\\xbf\\xbdEk\\xce\\x8f\\rA\\xef\\xbf\\xbd1\\xef\\xbf\\xbdn\\xef\\xbf\\xbd\\xef\\xbf\\xbd\\xef\\xbf\\xbd\\xef\\xbf\\xbd\\xef\\xbf\\xbd~\\xef\\xbf\\xbda\\xef\\xbf\\xbdv\\xef\\xbf\\xbd\\xef\\xbf\\xbd\\x03\\xef\\xbf\\xbd\\xef\\xbf\\xbd\\xef\\xbf\\xbd{b7v\\xef\\xbf\\xbd)\\xef\\xbf\\xbd\\x01\\xe3\\x95\\xa0\\xef\\xbf\\xbd8\\xef\\xbf\\xbd\\xef\\xbf\\xbd\\xef\\xbf\\xbd\\xd9\\x9d\\xef\\xbf\\xbd\\xef\\xbf\\xbd:x\\xef\\xbf\\xbdD\\xef\\xbf\\xbd\\xef\\xbf\\xbd\\xef\\xbf\\xbd\\x7f\\xef\\xbf\\xbd\\xef\\xbf\\xbdF\\x7f\\n\\x06\\xef\\xbf\\xbd\\xef\\xbf\\xbdTj\\xef\\xbf\\xbd\\xcc\\xaf\\xef\\xbf\\xbdT\\xef\\xbf\\xbd\\xef\\xbf\\xbd\\xef\\xbf\\xbd\\xef\\xbf\\xbd0\\xe2\\x95\\x96\\xef\\xbf\\xbd!\\xef\\xbf\\xbdCD-\\xef\\xbf\\xbd~\\xef\\xbf\\xbd\\xef\\xbf\\xbd\\xef\\xbf\\xbdl\\xd1\\x84\\xef\\xbf\\xbd\\xef\\xbf\\xbdF\\xc2\\xba\\x0f\\xef\\xbf\\xbd\\xef\\xbf\\xbdw\\x13\\xef\\xbf\\xbdq\\xef\\xbf\\xbd1\\xef\\xbf\\xbd\\x1a\\xd1\\xa2\\xef\\xbf\\xbd\\xef\\xbf\\xbd&\\xc4\\xad\\x11\\x04\\xef\\xbf\\xbdb~}\\xef\\xbf\\xbd\\xef\\xbf\\xbd\\xef\\xbf\\xbd\\x14\\xef\\xbf\\xbd\\xef\\xbf\\xbd\\xef\\xbf\\xbd\\xef\\xbf\\xbdk\\x05\\xef\\xbf\\xbd\\xef\\xbf\\xbdyB\\xef\\xbf\\xbd\\x17@|\\x1e\\xef\\xbf\\xbd\\xef\\xbf\\xbd\"\\xef\\xbf\\xbd3\\x05\\xef\\xbf\\xbdl?\\x11\\xef\\xbf\\xbd\\xef\\xbf\\xbd\\nV\\x06+\\xef\\xbf\\xbd\\xef\\xbf\\xbdL\\xef\\xbf\\xbd\\xef\\xbf\\xbd\\xef\\xbf\\xbd\\xef\\xbf\\xbd%Wi(\\x17E\\xef\\xbf\\xbdiw-\\xef\\xbf\\xbd\\xef\\xbf\\xbd[\\xef\\xbf\\xbd<e\\x11\\xef\\xbf\\xbd\\xef\\xbf\\xbd\\xef\\xbf\\xbd\"\\xef\\xbf\\xbd\\x0bf\\xc7\\xa4\\xef\\xbf\\xbd\\x0b\\\\9\\xef\\xbf\\xbdCo\\xef\\xbf\\xbdB.\\x04\\xef\\xbf\\xbd\\t\\xef\\xbf\\xbd'],\n",
              "       [b'\\x00\\x0c\\x01\\x00\\x00\\x01\\x00\\x00\\x00\\x00\\x00\\x00\\x06google\\x03com\\x00\\x00\\x1c\\x00\\x01\\xef\\xbf\\xbdXH\\x04j\\x17\\x00\\xef\\xbf\\xbdU55\\x1b56\\xef\\xbf\\xbd\\x03\\n}\\xef\\xbf\\xbd\\xef\\xbf\\xbd\\n\\xc4\\xb9=\\x14\\xde\\x83\\x00\\xef\\xbf\\xbd\\x1f\\x08^!\\x12o\\xef\\xbf\\xbd\\xef\\xbf\\xbdZ*\\xef\\xbf\\xbd\\xef\\xbf\\xbd\\xef\\xbf\\xbd\\xef\\xbf\\xbd]\\xef\\xbf\\xbd\\xef\\xbf\\xbd\\xef\\xbf\\xbd&z\\x17\\x0e\\x19\"\\xef\\xbf\\xbd%\\xef\\xbf\\xbdp\\x03\"\\xef\\xbf\\xbd\\xef\\xbf\\xbd\\xef\\xbf\\xbd\\xef\\xbf\\xbd\\xef\\xbf\\xbdG\\xef\\xbf\\xbd\\xef\\xbf\\xbd\\x05TYc\\xef\\xbf\\xbd\\xef\\xbf\\xbd+\\x08\\x04z\\xef\\xbf\\xbd\\xef\\xbf\\xbd[\\xef\\xbf\\xbdO\\x7fU \\xef\\xbf\\xbdN\\x05\\x0c\\xef\\xbf\\xbd\\xef\\xbf\\xbd\\xef\\xbf\\xbd\\xef\\xbf\\xbd+\\xef\\xbf\\xbd\\xef\\xbf\\xbd{\\xef\\xbf\\xbd\\xef\\xbf\\xbd\\x0b|\\xef\\xbf\\xbd5\\x08p+\"\\xef\\xbf\\xbd\\xef\\xbf\\xbd$\\xef\\xbf\\xbd1[\\x1f\\xef\\xbf\\xbd\\xef\\xbf\\xbd\\xef\\xbf\\xbdD\\xd6\\x8a\\xef\\xbf\\xbd\\xef\\xbf\\xbd\\xef\\xbf\\xbd\\xef\\xbf\\xbd\\x7f&\\xef\\xbf\\xbd.F\\xef\\xbf\\xbdBl\\xef\\xbf\\xbd\\xef\\xbf\\xbd\\x00\\xef\\xbf\\xbd\\x02R\\xcb\\xaa*z\\xef\\xbf\\xbd\\xef\\xbf\\xbd\\xef\\xbf\\xbd\\xef\\xbf\\xbdH\\xef\\xbf\\xbd,\\t4\\x10\\xef\\xbf\\xbds\\xef\\xbf\\xbd88\\xef\\xbf\\xbd\\xef\\xbf\\xbd\\xef\\xbf\\xbd\\x10\\xef\\xbf\\xbdJR\\xef\\xbf\\xbd\\xef\\xbf\\xbd\\xef\\xbf\\xbd\\xef\\xbf\\xbd\\xef\\xbf\\xbdq\\xef\\xbf\\xbd\\xef\\xbf\\xbd.\\xef\\xbf\\xbd\\xef\\xbf\\xbd\\xef\\xbf\\xbd\\x1ck\\x10\\xef\\xbf\\xbde\\x00$\\xef\\xbf\\xbdm\\xef\\xbf\\xbd\\x0e|2iSL\\xef\\xbf\\xbdD\\xef\\xbf\\xbd|}\\x13\\x02~\\xef\\xbf\\xbd{\\xef\\xbf\\xbd0}>2\\xef\\xbf\\xbdv\\xd1\\x93y%\\xef\\xbf\\xbdw8\\xef\\xbf\\xbdK=\\x10\\xef\\xbf\\xbdC\\xef\\xbf\\xbd\\x15eC\\xef\\xbf\\xbd\\xef\\xbf\\xbdK\\xef\\xbf\\xbd\\xef\\xbf\\xbd4M<\\xef\\xbf\\xbdmO\\xef\\xbf\\xbd\\xef\\xbf\\xbdPJq\\xef\\xbf\\xbd<\\xef\\xbf\\xbd~\\xef\\xbf\\xbd\\x0b\\xef\\xbf\\xbd\\x1ch\\xdd\\x9fl$\\x01e!A3\\tz\\xef\\xbf\\xbd\\x00j[\\xef\\xbf\\xbd\\xef\\xbf\\xbdolx*\\xef\\xbf\\xbdu\\xef\\xbf\\xbd\\xef\\xbf\\xbd\\xef\\xbf\\xbd+\\x0b\\xef\\xbf\\xbd&\\xef\\xbf\\xbdG(/F\\xef\\xbf\\xbd\\xef\\xbf\\xbd@p\\x00\\x11\\xef\\xbf\\xbd+E5\\xef\\xbf\\xbdlx\\xef\\xbf\\xbd\\xef\\xbf\\xbd\\xc9\\x873\\xef\\xbf\\xbdu\\xef\\xbf\\xbd\\xef\\xbf\\xbdK\\xef\\xbf\\xbdl3\\x1b.\\x16\\x02.&\\x05\\xef\\xbf\\xbd\\x10\\xef\\xbf\\xbd\\x05\\xef\\xbf\\xbd\\x0e\\xef\\xbf\\xbd\\xef\\xbf\\xbd\\xef\\xbf\\xbd6\\xef\\xbf\\xbd\\xef\\xbf\\xbd\\xef\\xbf\\xbd\\xef\\xbf\\xbd`}2f\\\\z\\xef\\xbf\\xbd\\x18\\xef\\xbf\\xbd\\xef\\xbf\\xbd\\x18\\xd5\\x8d\\xef\\xbf\\xbdJ\\xef\\xbf\\xbd2e\\xef\\xbf\\xbd\\xef\\xbf\\xbd\\xef\\xbf\\xbd\\xef\\xbf\\xbd\\xef\\xbf\\xbd[\\xef\\xbf\\xbd1E+\\xef\\xbf\\xbdL\\xef\\xbf\\xbd\\xef\\xbf\\xbdn\\xef\\xbf\\xbd\\xef\\xbf\\xbd\\x12\\xef\\xbf\\xbd(\\x00\\xef\\xbf\\xbd9 \\xef\\xbf\\xbdO~7\\x10\\xef\\xbf\\xbd\\xef\\xbf\\xbd\\xef\\xbf\\xbd+\\xef\\xbf\\xbd\\xef\\xbf\\xbdL\\xef\\xbf\\xbd\\xef\\xbf\\xbd\\x10\\xdd\\x86I@b\\xef\\xbf\\xbdW\\n\\xef\\xbf\\xbd\\xef\\xbf\\xbdwmX\\xef\\xbf\\xbdi\\nV\\xef\\xbf\\xbd\\xef\\xbf\\xbd\\xef\\xbf\\xbd%g\\xef\\xbf\\xbd\\xef\\xbf\\xbd\\xef\\xbf\\xbd\\x08\\x01\\xef\\xbf\\xbd\\xef\\xbf\\xbd6 \\x11\\xef\\xbf\\xbd.\\x05\\xef\\xbf\\xbd^)\\xef\\xbf\\xbdv\\xef\\xbf\\xbd\\x07B\\xef\\xbf\\xbd+\\xef\\xbf\\xbdpd\\xef\\xbf\\xbdh>}x\\xef\\xbf\\xbdy!J\\xef\\xbf\\xbd\\x0c \\xef\\xbf\\xbd\\x05\\xef\\xbf\\xbd\\x06E\\xef\\xbf\\xbdm\\xef\\xbf\\xbd\\xc2\\xaf\\xef\\xbf\\xbd\\x05\\xef\\xbf\\xbd\\xef\\xbf\\xbd\\xef\\xbf\\xbdF9\\xef\\xbf\\xbd\\xef\\xbf\\xbd+\\xef\\xbf\\xbd\\xef\\xbf\\xbd\\x12#\\xef\\xbf\\xbd\\xd0\\x94h\\xef\\xbf\\xbd.R\\x1b\\x10\\xef\\xbf\\xbdu\\xef\\xbf\\xbd\\x05Cv\\xef\\xbf\\xbd\\xef\\xbf\\xbd=k\\xef\\xbf\\xbd\\xef\\xbf\\xbd\\xef\\xbf\\xbd\\x06\\x01~\\x06\\xef\\xbf\\xbd^\\xef\\xbf\\xbd\\xef\\xbf\\xbd\\x1b\\xef\\xbf\\xbd\\xef\\xbf\\xbd<Mh\\xef\\xbf\\xbd'],\n",
              "       [b'\\x00\\x0c\\x01\\x00\\x00\\x01\\x00\\x00\\x00\\x00\\x00\\x00\\x06google\\x03com\\x00\\x00\\x1c\\x00\\x01w\\xef\\xbf\\xbd\\x04\\x10\\xef\\xbf\\xbd[y\\xef\\xbf\\xbd\\xef\\xbf\\xbd4\\xef\\xbf\\xbd\\xef\\xbf\\xbd\\xef\\xbf\\xbd\\x07\\xef\\xbf\\xbd\\xed\\x8c\\xbd\\xef\\xbf\\xbd\\xef\\xbf\\xbd\\xef\\xbf\\xbdQ9c\\xef\\xbf\\xbd\\xef\\xbf\\xbd\\xef\\xbf\\xbd\\xef\\xbf\\xbd\\xef\\xbf\\xbd\\x15\\xef\\xbf\\xbd\\xef\\xbf\\xbd\\xef\\xbf\\xbd\\xef\\xbf\\xbd}\\x0c\\x17\\xef\\xbf\\xbd\\xef\\xbf\\xbd\\xef\\xbf\\xbd\\xef\\xbf\\xbd\\xef\\xbf\\xbd\\x02u\\xef\\xbf\\xbde\\x1ac\\xef\\xbf\\xbd\\xef\\xbf\\xbd\\xef\\xbf\\xbddB\\x1c\\xef\\xbf\\xbd\\xef\\xbf\\xbd\\r\\xef\\xbf\\xbdR:q\\x10\\\\\\x04\\x0c\\xef\\xbf\\xbd0,\\xef\\xbf\\xbd\\x0c\\xef\\xbf\\xbd0,\\xef\\xbf\\xbd\\x0c\\xef\\xbf\\xbd0\\x0c\\x0b1\\xef\\xbf\\xbd0\\x0c\\x0b1\\xef\\xbf\\xbd0\\x0c\\xef\\xbf\\xbdB\\xef\\xbf\\xbd0\\x0c\\xef\\xbf\\xbdB\\xef\\xbf\\xbd0\\x0c\\xc3\\xb0\\x103\\x0c\\xc3\\xb0\\x103\\x0c\\xef\\xbf\\xbd0}\\xef\\xbf\\xbd\\xef\\xbf\\xbdE\\xef\\xbf\\xbd0\\xef\\xbf\\xbd\\x19\\x08\\xda\\x8cy\\xef\\xbf\\xbdT\\xef\\xbf\\xbdh\\xde\\xb16\\xef\\xbf\\xbd>\\xef\\xbf\\xbd\\xef\\xbf\\xbd\\xef\\xbf\\xbd\\xef\\xbf\\xbdL\\x7fU)\\xef\\xbf\\xbd0\\x03\\x03\\xef\\xbf\\xbdW\\xef\\xbf\\xbd\\xef\\xbf\\xbd\\xef\\xbf\\xbd\\xef\\xbf\\xbdn\\xef\\xbf\\xbdX\\x00H\\xef\\xbf\\xbd&\\xcb\\x91\\x1bM\\xef\\xbf\\xbd\\xef\\xbf\\xbdT\\x08\\x006\\x10\\xef\\xbf\\xbd[\\xef\\xbf\\xbdhU\\x0b\\xef\\xbf\\xbd[\\xef\\xbf\\xbd\\x01c\\x1f\\x17&\\x0b1\\xef\\xbf\\xbd0\\xef\\xbf\\xbd\\xef\\xbf\\xbd\\xef\\xbf\\xbd\\xef\\xbf\\xbd\\x0f\\xef\\xbf\\xbd\\x10\\xef\\xbf\\xbd@)\\xef\\xbf\\xbd\\xef\\xbf\\xbd7\\x12\\xef\\xbf\\xbdh6E\\x14\\x12h\\xef\\xbf\\xbdG\\xce\\xbeJ\\xef\\xbf\\xbd\\xef\\xbf\\xbdd\\x06\\xef\\xbf\\xbd\\x113\\xef\\xbf\\xbd@\\xef\\xbf\\xbd\\xef\\xbf\\xbd\\xef\\xbf\\xbdv=\\xef\\xbf\\xbdM\\xd5\\xb6G\\xef\\xbf\\xbd\\x05k\\xef\\xbf\\xbd$Y\\xef\\xbf\\xbd\\x19\\xef\\xbf\\xbd\\xef\\xbf\\xbd\\x0e\\x03\\xef\\xbf\\xbd\\xef\\xbf\\xbd\\xef\\xbf\\xbd\\xef\\xbf\\xbdB\\xef\\xbf\\xbd0L?\\xef\\xbf\\xbd\\xd8\\x94\\xef\\xbf\\xbd\\xef\\xbf\\xbd=\\xef\\xbf\\xbd\\x16Fw\\xef\\xbf\\xbdY;\\xef\\xbf\\xbd\\xef\\xbf\\xbd\\xef\\xbf\\xbd<\\xef\\xbf\\xbd\\xef\\xbf\\xbd\\xef\\xbf\\xbd\\x01\\x00\\x00\\xef\\xbf\\xbd\\xef\\xbf\\xbd\\xef\\xbf\\xbd\\xef\\xbf\\xbd;\\xef\\xbf\\xbd\\xef\\xbf\\xbd}\\xef\\xbf\\xbd4\\x00\\x00\\x00\\x00IEND\\xef\\xbf\\xbdB`\\xef\\xbf\\xbd']],\n",
              "      dtype=object)"
            ]
          },
          "metadata": {},
          "execution_count": 144
        }
      ]
    },
    {
      "cell_type": "markdown",
      "source": [
        "### g. Examine los primeros bytes del contenido, ¿encuentra algún dato que no haga sentido que se envie a través del puerto explicado en el inciso f? "
      ],
      "metadata": {
        "id": "ihcaziij7amu"
      }
    },
    {
      "cell_type": "markdown",
      "source": [
        "SI. Se supone que el puerto 53 se usa para resolucion de puertos DNS. Pero en la primer entrada del payload, se ecuentra en la direccion la palabra \"PNG\". La cual indica que un archivo se esta mandando por este puerto. Al igual se pueden econtrar palabras clave dentro del contenido"
      ],
      "metadata": {
        "id": "ypvXYdfLMjjg"
      }
    },
    {
      "cell_type": "markdown",
      "source": [
        "## Parte 2"
      ],
      "metadata": {
        "id": "ihzJtIf67pRk"
      }
    },
    {
      "cell_type": "code",
      "source": [
        "import pandas as pd"
      ],
      "metadata": {
        "id": "B_ohydWR8Loc"
      },
      "execution_count": 25,
      "outputs": []
    },
    {
      "cell_type": "code",
      "source": [
        "# import file\n",
        "df = pd.read_csv('/content/drive/MyDrive/UVG /2022/SECURITY DATA SCIENCE/LAb5/Train_data.csv')\n",
        "df.head(10)"
      ],
      "metadata": {
        "colab": {
          "base_uri": "https://localhost:8080/",
          "height": 452
        },
        "id": "YSzoaE--7qzs",
        "outputId": "4cdc5582-006e-418d-9eb9-5571b79f411c"
      },
      "execution_count": 26,
      "outputs": [
        {
          "output_type": "execute_result",
          "data": {
            "text/plain": [
              "   duration protocol_type     service flag  src_bytes  dst_bytes  land  \\\n",
              "0         0           tcp    ftp_data   SF        491          0     0   \n",
              "1         0           udp       other   SF        146          0     0   \n",
              "2         0           tcp     private   S0          0          0     0   \n",
              "3         0           tcp        http   SF        232       8153     0   \n",
              "4         0           tcp        http   SF        199        420     0   \n",
              "5         0           tcp     private  REJ          0          0     0   \n",
              "6         0           tcp     private   S0          0          0     0   \n",
              "7         0           tcp     private   S0          0          0     0   \n",
              "8         0           tcp  remote_job   S0          0          0     0   \n",
              "9         0           tcp     private   S0          0          0     0   \n",
              "\n",
              "   wrong_fragment  urgent  hot  ...  dst_host_srv_count  \\\n",
              "0               0       0    0  ...                  25   \n",
              "1               0       0    0  ...                   1   \n",
              "2               0       0    0  ...                  26   \n",
              "3               0       0    0  ...                 255   \n",
              "4               0       0    0  ...                 255   \n",
              "5               0       0    0  ...                  19   \n",
              "6               0       0    0  ...                   9   \n",
              "7               0       0    0  ...                  15   \n",
              "8               0       0    0  ...                  23   \n",
              "9               0       0    0  ...                  13   \n",
              "\n",
              "   dst_host_same_srv_rate  dst_host_diff_srv_rate  \\\n",
              "0                    0.17                    0.03   \n",
              "1                    0.00                    0.60   \n",
              "2                    0.10                    0.05   \n",
              "3                    1.00                    0.00   \n",
              "4                    1.00                    0.00   \n",
              "5                    0.07                    0.07   \n",
              "6                    0.04                    0.05   \n",
              "7                    0.06                    0.07   \n",
              "8                    0.09                    0.05   \n",
              "9                    0.05                    0.06   \n",
              "\n",
              "   dst_host_same_src_port_rate  dst_host_srv_diff_host_rate  \\\n",
              "0                         0.17                         0.00   \n",
              "1                         0.88                         0.00   \n",
              "2                         0.00                         0.00   \n",
              "3                         0.03                         0.04   \n",
              "4                         0.00                         0.00   \n",
              "5                         0.00                         0.00   \n",
              "6                         0.00                         0.00   \n",
              "7                         0.00                         0.00   \n",
              "8                         0.00                         0.00   \n",
              "9                         0.00                         0.00   \n",
              "\n",
              "   dst_host_serror_rate  dst_host_srv_serror_rate  dst_host_rerror_rate  \\\n",
              "0                  0.00                      0.00                  0.05   \n",
              "1                  0.00                      0.00                  0.00   \n",
              "2                  1.00                      1.00                  0.00   \n",
              "3                  0.03                      0.01                  0.00   \n",
              "4                  0.00                      0.00                  0.00   \n",
              "5                  0.00                      0.00                  1.00   \n",
              "6                  1.00                      1.00                  0.00   \n",
              "7                  1.00                      1.00                  0.00   \n",
              "8                  1.00                      1.00                  0.00   \n",
              "9                  1.00                      1.00                  0.00   \n",
              "\n",
              "   dst_host_srv_rerror_rate    class  \n",
              "0                      0.00   normal  \n",
              "1                      0.00   normal  \n",
              "2                      0.00  anomaly  \n",
              "3                      0.01   normal  \n",
              "4                      0.00   normal  \n",
              "5                      1.00  anomaly  \n",
              "6                      0.00  anomaly  \n",
              "7                      0.00  anomaly  \n",
              "8                      0.00  anomaly  \n",
              "9                      0.00  anomaly  \n",
              "\n",
              "[10 rows x 42 columns]"
            ],
            "text/html": [
              "\n",
              "  <div id=\"df-25965613-8ab4-4c68-8d7c-93666a500bf3\">\n",
              "    <div class=\"colab-df-container\">\n",
              "      <div>\n",
              "<style scoped>\n",
              "    .dataframe tbody tr th:only-of-type {\n",
              "        vertical-align: middle;\n",
              "    }\n",
              "\n",
              "    .dataframe tbody tr th {\n",
              "        vertical-align: top;\n",
              "    }\n",
              "\n",
              "    .dataframe thead th {\n",
              "        text-align: right;\n",
              "    }\n",
              "</style>\n",
              "<table border=\"1\" class=\"dataframe\">\n",
              "  <thead>\n",
              "    <tr style=\"text-align: right;\">\n",
              "      <th></th>\n",
              "      <th>duration</th>\n",
              "      <th>protocol_type</th>\n",
              "      <th>service</th>\n",
              "      <th>flag</th>\n",
              "      <th>src_bytes</th>\n",
              "      <th>dst_bytes</th>\n",
              "      <th>land</th>\n",
              "      <th>wrong_fragment</th>\n",
              "      <th>urgent</th>\n",
              "      <th>hot</th>\n",
              "      <th>...</th>\n",
              "      <th>dst_host_srv_count</th>\n",
              "      <th>dst_host_same_srv_rate</th>\n",
              "      <th>dst_host_diff_srv_rate</th>\n",
              "      <th>dst_host_same_src_port_rate</th>\n",
              "      <th>dst_host_srv_diff_host_rate</th>\n",
              "      <th>dst_host_serror_rate</th>\n",
              "      <th>dst_host_srv_serror_rate</th>\n",
              "      <th>dst_host_rerror_rate</th>\n",
              "      <th>dst_host_srv_rerror_rate</th>\n",
              "      <th>class</th>\n",
              "    </tr>\n",
              "  </thead>\n",
              "  <tbody>\n",
              "    <tr>\n",
              "      <th>0</th>\n",
              "      <td>0</td>\n",
              "      <td>tcp</td>\n",
              "      <td>ftp_data</td>\n",
              "      <td>SF</td>\n",
              "      <td>491</td>\n",
              "      <td>0</td>\n",
              "      <td>0</td>\n",
              "      <td>0</td>\n",
              "      <td>0</td>\n",
              "      <td>0</td>\n",
              "      <td>...</td>\n",
              "      <td>25</td>\n",
              "      <td>0.17</td>\n",
              "      <td>0.03</td>\n",
              "      <td>0.17</td>\n",
              "      <td>0.00</td>\n",
              "      <td>0.00</td>\n",
              "      <td>0.00</td>\n",
              "      <td>0.05</td>\n",
              "      <td>0.00</td>\n",
              "      <td>normal</td>\n",
              "    </tr>\n",
              "    <tr>\n",
              "      <th>1</th>\n",
              "      <td>0</td>\n",
              "      <td>udp</td>\n",
              "      <td>other</td>\n",
              "      <td>SF</td>\n",
              "      <td>146</td>\n",
              "      <td>0</td>\n",
              "      <td>0</td>\n",
              "      <td>0</td>\n",
              "      <td>0</td>\n",
              "      <td>0</td>\n",
              "      <td>...</td>\n",
              "      <td>1</td>\n",
              "      <td>0.00</td>\n",
              "      <td>0.60</td>\n",
              "      <td>0.88</td>\n",
              "      <td>0.00</td>\n",
              "      <td>0.00</td>\n",
              "      <td>0.00</td>\n",
              "      <td>0.00</td>\n",
              "      <td>0.00</td>\n",
              "      <td>normal</td>\n",
              "    </tr>\n",
              "    <tr>\n",
              "      <th>2</th>\n",
              "      <td>0</td>\n",
              "      <td>tcp</td>\n",
              "      <td>private</td>\n",
              "      <td>S0</td>\n",
              "      <td>0</td>\n",
              "      <td>0</td>\n",
              "      <td>0</td>\n",
              "      <td>0</td>\n",
              "      <td>0</td>\n",
              "      <td>0</td>\n",
              "      <td>...</td>\n",
              "      <td>26</td>\n",
              "      <td>0.10</td>\n",
              "      <td>0.05</td>\n",
              "      <td>0.00</td>\n",
              "      <td>0.00</td>\n",
              "      <td>1.00</td>\n",
              "      <td>1.00</td>\n",
              "      <td>0.00</td>\n",
              "      <td>0.00</td>\n",
              "      <td>anomaly</td>\n",
              "    </tr>\n",
              "    <tr>\n",
              "      <th>3</th>\n",
              "      <td>0</td>\n",
              "      <td>tcp</td>\n",
              "      <td>http</td>\n",
              "      <td>SF</td>\n",
              "      <td>232</td>\n",
              "      <td>8153</td>\n",
              "      <td>0</td>\n",
              "      <td>0</td>\n",
              "      <td>0</td>\n",
              "      <td>0</td>\n",
              "      <td>...</td>\n",
              "      <td>255</td>\n",
              "      <td>1.00</td>\n",
              "      <td>0.00</td>\n",
              "      <td>0.03</td>\n",
              "      <td>0.04</td>\n",
              "      <td>0.03</td>\n",
              "      <td>0.01</td>\n",
              "      <td>0.00</td>\n",
              "      <td>0.01</td>\n",
              "      <td>normal</td>\n",
              "    </tr>\n",
              "    <tr>\n",
              "      <th>4</th>\n",
              "      <td>0</td>\n",
              "      <td>tcp</td>\n",
              "      <td>http</td>\n",
              "      <td>SF</td>\n",
              "      <td>199</td>\n",
              "      <td>420</td>\n",
              "      <td>0</td>\n",
              "      <td>0</td>\n",
              "      <td>0</td>\n",
              "      <td>0</td>\n",
              "      <td>...</td>\n",
              "      <td>255</td>\n",
              "      <td>1.00</td>\n",
              "      <td>0.00</td>\n",
              "      <td>0.00</td>\n",
              "      <td>0.00</td>\n",
              "      <td>0.00</td>\n",
              "      <td>0.00</td>\n",
              "      <td>0.00</td>\n",
              "      <td>0.00</td>\n",
              "      <td>normal</td>\n",
              "    </tr>\n",
              "    <tr>\n",
              "      <th>5</th>\n",
              "      <td>0</td>\n",
              "      <td>tcp</td>\n",
              "      <td>private</td>\n",
              "      <td>REJ</td>\n",
              "      <td>0</td>\n",
              "      <td>0</td>\n",
              "      <td>0</td>\n",
              "      <td>0</td>\n",
              "      <td>0</td>\n",
              "      <td>0</td>\n",
              "      <td>...</td>\n",
              "      <td>19</td>\n",
              "      <td>0.07</td>\n",
              "      <td>0.07</td>\n",
              "      <td>0.00</td>\n",
              "      <td>0.00</td>\n",
              "      <td>0.00</td>\n",
              "      <td>0.00</td>\n",
              "      <td>1.00</td>\n",
              "      <td>1.00</td>\n",
              "      <td>anomaly</td>\n",
              "    </tr>\n",
              "    <tr>\n",
              "      <th>6</th>\n",
              "      <td>0</td>\n",
              "      <td>tcp</td>\n",
              "      <td>private</td>\n",
              "      <td>S0</td>\n",
              "      <td>0</td>\n",
              "      <td>0</td>\n",
              "      <td>0</td>\n",
              "      <td>0</td>\n",
              "      <td>0</td>\n",
              "      <td>0</td>\n",
              "      <td>...</td>\n",
              "      <td>9</td>\n",
              "      <td>0.04</td>\n",
              "      <td>0.05</td>\n",
              "      <td>0.00</td>\n",
              "      <td>0.00</td>\n",
              "      <td>1.00</td>\n",
              "      <td>1.00</td>\n",
              "      <td>0.00</td>\n",
              "      <td>0.00</td>\n",
              "      <td>anomaly</td>\n",
              "    </tr>\n",
              "    <tr>\n",
              "      <th>7</th>\n",
              "      <td>0</td>\n",
              "      <td>tcp</td>\n",
              "      <td>private</td>\n",
              "      <td>S0</td>\n",
              "      <td>0</td>\n",
              "      <td>0</td>\n",
              "      <td>0</td>\n",
              "      <td>0</td>\n",
              "      <td>0</td>\n",
              "      <td>0</td>\n",
              "      <td>...</td>\n",
              "      <td>15</td>\n",
              "      <td>0.06</td>\n",
              "      <td>0.07</td>\n",
              "      <td>0.00</td>\n",
              "      <td>0.00</td>\n",
              "      <td>1.00</td>\n",
              "      <td>1.00</td>\n",
              "      <td>0.00</td>\n",
              "      <td>0.00</td>\n",
              "      <td>anomaly</td>\n",
              "    </tr>\n",
              "    <tr>\n",
              "      <th>8</th>\n",
              "      <td>0</td>\n",
              "      <td>tcp</td>\n",
              "      <td>remote_job</td>\n",
              "      <td>S0</td>\n",
              "      <td>0</td>\n",
              "      <td>0</td>\n",
              "      <td>0</td>\n",
              "      <td>0</td>\n",
              "      <td>0</td>\n",
              "      <td>0</td>\n",
              "      <td>...</td>\n",
              "      <td>23</td>\n",
              "      <td>0.09</td>\n",
              "      <td>0.05</td>\n",
              "      <td>0.00</td>\n",
              "      <td>0.00</td>\n",
              "      <td>1.00</td>\n",
              "      <td>1.00</td>\n",
              "      <td>0.00</td>\n",
              "      <td>0.00</td>\n",
              "      <td>anomaly</td>\n",
              "    </tr>\n",
              "    <tr>\n",
              "      <th>9</th>\n",
              "      <td>0</td>\n",
              "      <td>tcp</td>\n",
              "      <td>private</td>\n",
              "      <td>S0</td>\n",
              "      <td>0</td>\n",
              "      <td>0</td>\n",
              "      <td>0</td>\n",
              "      <td>0</td>\n",
              "      <td>0</td>\n",
              "      <td>0</td>\n",
              "      <td>...</td>\n",
              "      <td>13</td>\n",
              "      <td>0.05</td>\n",
              "      <td>0.06</td>\n",
              "      <td>0.00</td>\n",
              "      <td>0.00</td>\n",
              "      <td>1.00</td>\n",
              "      <td>1.00</td>\n",
              "      <td>0.00</td>\n",
              "      <td>0.00</td>\n",
              "      <td>anomaly</td>\n",
              "    </tr>\n",
              "  </tbody>\n",
              "</table>\n",
              "<p>10 rows × 42 columns</p>\n",
              "</div>\n",
              "      <button class=\"colab-df-convert\" onclick=\"convertToInteractive('df-25965613-8ab4-4c68-8d7c-93666a500bf3')\"\n",
              "              title=\"Convert this dataframe to an interactive table.\"\n",
              "              style=\"display:none;\">\n",
              "        \n",
              "  <svg xmlns=\"http://www.w3.org/2000/svg\" height=\"24px\"viewBox=\"0 0 24 24\"\n",
              "       width=\"24px\">\n",
              "    <path d=\"M0 0h24v24H0V0z\" fill=\"none\"/>\n",
              "    <path d=\"M18.56 5.44l.94 2.06.94-2.06 2.06-.94-2.06-.94-.94-2.06-.94 2.06-2.06.94zm-11 1L8.5 8.5l.94-2.06 2.06-.94-2.06-.94L8.5 2.5l-.94 2.06-2.06.94zm10 10l.94 2.06.94-2.06 2.06-.94-2.06-.94-.94-2.06-.94 2.06-2.06.94z\"/><path d=\"M17.41 7.96l-1.37-1.37c-.4-.4-.92-.59-1.43-.59-.52 0-1.04.2-1.43.59L10.3 9.45l-7.72 7.72c-.78.78-.78 2.05 0 2.83L4 21.41c.39.39.9.59 1.41.59.51 0 1.02-.2 1.41-.59l7.78-7.78 2.81-2.81c.8-.78.8-2.07 0-2.86zM5.41 20L4 18.59l7.72-7.72 1.47 1.35L5.41 20z\"/>\n",
              "  </svg>\n",
              "      </button>\n",
              "      \n",
              "  <style>\n",
              "    .colab-df-container {\n",
              "      display:flex;\n",
              "      flex-wrap:wrap;\n",
              "      gap: 12px;\n",
              "    }\n",
              "\n",
              "    .colab-df-convert {\n",
              "      background-color: #E8F0FE;\n",
              "      border: none;\n",
              "      border-radius: 50%;\n",
              "      cursor: pointer;\n",
              "      display: none;\n",
              "      fill: #1967D2;\n",
              "      height: 32px;\n",
              "      padding: 0 0 0 0;\n",
              "      width: 32px;\n",
              "    }\n",
              "\n",
              "    .colab-df-convert:hover {\n",
              "      background-color: #E2EBFA;\n",
              "      box-shadow: 0px 1px 2px rgba(60, 64, 67, 0.3), 0px 1px 3px 1px rgba(60, 64, 67, 0.15);\n",
              "      fill: #174EA6;\n",
              "    }\n",
              "\n",
              "    [theme=dark] .colab-df-convert {\n",
              "      background-color: #3B4455;\n",
              "      fill: #D2E3FC;\n",
              "    }\n",
              "\n",
              "    [theme=dark] .colab-df-convert:hover {\n",
              "      background-color: #434B5C;\n",
              "      box-shadow: 0px 1px 3px 1px rgba(0, 0, 0, 0.15);\n",
              "      filter: drop-shadow(0px 1px 2px rgba(0, 0, 0, 0.3));\n",
              "      fill: #FFFFFF;\n",
              "    }\n",
              "  </style>\n",
              "\n",
              "      <script>\n",
              "        const buttonEl =\n",
              "          document.querySelector('#df-25965613-8ab4-4c68-8d7c-93666a500bf3 button.colab-df-convert');\n",
              "        buttonEl.style.display =\n",
              "          google.colab.kernel.accessAllowed ? 'block' : 'none';\n",
              "\n",
              "        async function convertToInteractive(key) {\n",
              "          const element = document.querySelector('#df-25965613-8ab4-4c68-8d7c-93666a500bf3');\n",
              "          const dataTable =\n",
              "            await google.colab.kernel.invokeFunction('convertToInteractive',\n",
              "                                                     [key], {});\n",
              "          if (!dataTable) return;\n",
              "\n",
              "          const docLinkHtml = 'Like what you see? Visit the ' +\n",
              "            '<a target=\"_blank\" href=https://colab.research.google.com/notebooks/data_table.ipynb>data table notebook</a>'\n",
              "            + ' to learn more about interactive tables.';\n",
              "          element.innerHTML = '';\n",
              "          dataTable['output_type'] = 'display_data';\n",
              "          await google.colab.output.renderOutput(dataTable, element);\n",
              "          const docLink = document.createElement('div');\n",
              "          docLink.innerHTML = docLinkHtml;\n",
              "          element.appendChild(docLink);\n",
              "        }\n",
              "      </script>\n",
              "    </div>\n",
              "  </div>\n",
              "  "
            ]
          },
          "metadata": {},
          "execution_count": 26
        }
      ]
    },
    {
      "cell_type": "code",
      "source": [
        "# info of the df\n",
        "df.info()"
      ],
      "metadata": {
        "colab": {
          "base_uri": "https://localhost:8080/"
        },
        "id": "13AbBP-I8fDS",
        "outputId": "a69e98e7-e842-48ab-9927-edce6d5d8256"
      },
      "execution_count": 27,
      "outputs": [
        {
          "output_type": "stream",
          "name": "stdout",
          "text": [
            "<class 'pandas.core.frame.DataFrame'>\n",
            "RangeIndex: 25192 entries, 0 to 25191\n",
            "Data columns (total 42 columns):\n",
            " #   Column                       Non-Null Count  Dtype  \n",
            "---  ------                       --------------  -----  \n",
            " 0   duration                     25192 non-null  int64  \n",
            " 1   protocol_type                25192 non-null  object \n",
            " 2   service                      25192 non-null  object \n",
            " 3   flag                         25192 non-null  object \n",
            " 4   src_bytes                    25192 non-null  int64  \n",
            " 5   dst_bytes                    25192 non-null  int64  \n",
            " 6   land                         25192 non-null  int64  \n",
            " 7   wrong_fragment               25192 non-null  int64  \n",
            " 8   urgent                       25192 non-null  int64  \n",
            " 9   hot                          25192 non-null  int64  \n",
            " 10  num_failed_logins            25192 non-null  int64  \n",
            " 11  logged_in                    25192 non-null  int64  \n",
            " 12  num_compromised              25192 non-null  int64  \n",
            " 13  root_shell                   25192 non-null  int64  \n",
            " 14  su_attempted                 25192 non-null  int64  \n",
            " 15  num_root                     25192 non-null  int64  \n",
            " 16  num_file_creations           25192 non-null  int64  \n",
            " 17  num_shells                   25192 non-null  int64  \n",
            " 18  num_access_files             25192 non-null  int64  \n",
            " 19  num_outbound_cmds            25192 non-null  int64  \n",
            " 20  is_host_login                25192 non-null  int64  \n",
            " 21  is_guest_login               25192 non-null  int64  \n",
            " 22  count                        25192 non-null  int64  \n",
            " 23  srv_count                    25192 non-null  int64  \n",
            " 24  serror_rate                  25192 non-null  float64\n",
            " 25  srv_serror_rate              25192 non-null  float64\n",
            " 26  rerror_rate                  25192 non-null  float64\n",
            " 27  srv_rerror_rate              25192 non-null  float64\n",
            " 28  same_srv_rate                25192 non-null  float64\n",
            " 29  diff_srv_rate                25192 non-null  float64\n",
            " 30  srv_diff_host_rate           25192 non-null  float64\n",
            " 31  dst_host_count               25192 non-null  int64  \n",
            " 32  dst_host_srv_count           25192 non-null  int64  \n",
            " 33  dst_host_same_srv_rate       25192 non-null  float64\n",
            " 34  dst_host_diff_srv_rate       25192 non-null  float64\n",
            " 35  dst_host_same_src_port_rate  25192 non-null  float64\n",
            " 36  dst_host_srv_diff_host_rate  25192 non-null  float64\n",
            " 37  dst_host_serror_rate         25192 non-null  float64\n",
            " 38  dst_host_srv_serror_rate     25192 non-null  float64\n",
            " 39  dst_host_rerror_rate         25192 non-null  float64\n",
            " 40  dst_host_srv_rerror_rate     25192 non-null  float64\n",
            " 41  class                        25192 non-null  object \n",
            "dtypes: float64(15), int64(23), object(4)\n",
            "memory usage: 8.1+ MB\n"
          ]
        }
      ]
    },
    {
      "cell_type": "code",
      "source": [
        "# to numeric: \n",
        "  # protocol_type\n",
        "  # service\n",
        "  # flag\n",
        "  # class"
      ],
      "metadata": {
        "id": "6VWHA49t8wQp"
      },
      "execution_count": 28,
      "outputs": []
    },
    {
      "cell_type": "code",
      "source": [
        "df.protocol_type.value_counts()"
      ],
      "metadata": {
        "colab": {
          "base_uri": "https://localhost:8080/"
        },
        "id": "XJx3Bp-R9CIh",
        "outputId": "2a3023d8-f82f-4b19-d047-e10890196cce"
      },
      "execution_count": 29,
      "outputs": [
        {
          "output_type": "execute_result",
          "data": {
            "text/plain": [
              "tcp     20526\n",
              "udp      3011\n",
              "icmp     1655\n",
              "Name: protocol_type, dtype: int64"
            ]
          },
          "metadata": {},
          "execution_count": 29
        }
      ]
    },
    {
      "cell_type": "code",
      "source": [
        "# econding protocol type\n",
        "labels, unique = df.protocol_type.factorize()\n",
        "df.protocol_type = labels\n",
        "df.protocol_type"
      ],
      "metadata": {
        "colab": {
          "base_uri": "https://localhost:8080/"
        },
        "id": "0jImHeh09Hun",
        "outputId": "a05e48b2-cb03-4dd7-df55-341c95259e6e"
      },
      "execution_count": 30,
      "outputs": [
        {
          "output_type": "execute_result",
          "data": {
            "text/plain": [
              "0        0\n",
              "1        1\n",
              "2        0\n",
              "3        0\n",
              "4        0\n",
              "        ..\n",
              "25187    0\n",
              "25188    0\n",
              "25189    0\n",
              "25190    0\n",
              "25191    0\n",
              "Name: protocol_type, Length: 25192, dtype: int64"
            ]
          },
          "metadata": {},
          "execution_count": 30
        }
      ]
    },
    {
      "cell_type": "code",
      "source": [
        "df.service.value_counts()"
      ],
      "metadata": {
        "colab": {
          "base_uri": "https://localhost:8080/"
        },
        "id": "undt18qx_TPy",
        "outputId": "d4794941-7065-49cc-e2b7-ca5eaad289b8"
      },
      "execution_count": 31,
      "outputs": [
        {
          "output_type": "execute_result",
          "data": {
            "text/plain": [
              "http         8003\n",
              "private      4351\n",
              "domain_u     1820\n",
              "smtp         1449\n",
              "ftp_data     1396\n",
              "             ... \n",
              "urh_i           4\n",
              "red_i           3\n",
              "pm_dump         3\n",
              "tim_i           2\n",
              "http_8001       1\n",
              "Name: service, Length: 66, dtype: int64"
            ]
          },
          "metadata": {},
          "execution_count": 31
        }
      ]
    },
    {
      "cell_type": "code",
      "source": [
        "# econding service\n",
        "labels, unique = df.service.factorize()\n",
        "df.service = labels\n",
        "df.service"
      ],
      "metadata": {
        "colab": {
          "base_uri": "https://localhost:8080/"
        },
        "id": "p5VzkbEm_r-k",
        "outputId": "f3f81af1-0d4d-4cfa-a821-003f7bdafdca"
      },
      "execution_count": 32,
      "outputs": [
        {
          "output_type": "execute_result",
          "data": {
            "text/plain": [
              "0         0\n",
              "1         1\n",
              "2         2\n",
              "3         3\n",
              "4         3\n",
              "         ..\n",
              "25187    43\n",
              "25188     0\n",
              "25189     2\n",
              "25190    54\n",
              "25191    10\n",
              "Name: service, Length: 25192, dtype: int64"
            ]
          },
          "metadata": {},
          "execution_count": 32
        }
      ]
    },
    {
      "cell_type": "code",
      "source": [
        "df.flag.value_counts()"
      ],
      "metadata": {
        "colab": {
          "base_uri": "https://localhost:8080/"
        },
        "id": "VnMQ_q_C_222",
        "outputId": "125d008d-b0bc-4d35-f588-197d31fba9fa"
      },
      "execution_count": 33,
      "outputs": [
        {
          "output_type": "execute_result",
          "data": {
            "text/plain": [
              "SF        14973\n",
              "S0         7009\n",
              "REJ        2216\n",
              "RSTR        497\n",
              "RSTO        304\n",
              "S1           88\n",
              "SH           43\n",
              "RSTOS0       21\n",
              "S2           21\n",
              "S3           15\n",
              "OTH           5\n",
              "Name: flag, dtype: int64"
            ]
          },
          "metadata": {},
          "execution_count": 33
        }
      ]
    },
    {
      "cell_type": "code",
      "source": [
        "# econding flag\n",
        "labels, unique = df.flag.factorize()\n",
        "df.flag = labels\n",
        "df.flag"
      ],
      "metadata": {
        "colab": {
          "base_uri": "https://localhost:8080/"
        },
        "id": "5X8czPPp_5VV",
        "outputId": "7b614c90-a628-4ca2-ea4d-d2180ec73c37"
      },
      "execution_count": 34,
      "outputs": [
        {
          "output_type": "execute_result",
          "data": {
            "text/plain": [
              "0        0\n",
              "1        0\n",
              "2        1\n",
              "3        0\n",
              "4        0\n",
              "        ..\n",
              "25187    5\n",
              "25188    0\n",
              "25189    2\n",
              "25190    1\n",
              "25191    1\n",
              "Name: flag, Length: 25192, dtype: int64"
            ]
          },
          "metadata": {},
          "execution_count": 34
        }
      ]
    },
    {
      "cell_type": "code",
      "source": [
        "df['class'].value_counts()"
      ],
      "metadata": {
        "colab": {
          "base_uri": "https://localhost:8080/"
        },
        "id": "j_6I5eZqASx6",
        "outputId": "e387c47a-a441-48db-a9cf-e52603271f77"
      },
      "execution_count": 35,
      "outputs": [
        {
          "output_type": "execute_result",
          "data": {
            "text/plain": [
              "normal     13449\n",
              "anomaly    11743\n",
              "Name: class, dtype: int64"
            ]
          },
          "metadata": {},
          "execution_count": 35
        }
      ]
    },
    {
      "cell_type": "code",
      "source": [
        "# econding class\n",
        "labels, unique = df['class'].factorize()\n",
        "df['class'] = labels\n",
        "df['class']"
      ],
      "metadata": {
        "colab": {
          "base_uri": "https://localhost:8080/"
        },
        "id": "oT5WaTkIAx_6",
        "outputId": "67088cc2-cb0d-48a3-b245-bff26b304a1b"
      },
      "execution_count": 36,
      "outputs": [
        {
          "output_type": "execute_result",
          "data": {
            "text/plain": [
              "0        0\n",
              "1        0\n",
              "2        1\n",
              "3        0\n",
              "4        0\n",
              "        ..\n",
              "25187    1\n",
              "25188    1\n",
              "25189    1\n",
              "25190    1\n",
              "25191    1\n",
              "Name: class, Length: 25192, dtype: int64"
            ]
          },
          "metadata": {},
          "execution_count": 36
        }
      ]
    },
    {
      "cell_type": "code",
      "source": [
        "df.info()\n",
        "print('\\nready to PCA!')"
      ],
      "metadata": {
        "colab": {
          "base_uri": "https://localhost:8080/"
        },
        "id": "kCeStefEBDn3",
        "outputId": "db47f1ab-b1e9-42c7-8b64-bb30c516a030"
      },
      "execution_count": 37,
      "outputs": [
        {
          "output_type": "stream",
          "name": "stdout",
          "text": [
            "<class 'pandas.core.frame.DataFrame'>\n",
            "RangeIndex: 25192 entries, 0 to 25191\n",
            "Data columns (total 42 columns):\n",
            " #   Column                       Non-Null Count  Dtype  \n",
            "---  ------                       --------------  -----  \n",
            " 0   duration                     25192 non-null  int64  \n",
            " 1   protocol_type                25192 non-null  int64  \n",
            " 2   service                      25192 non-null  int64  \n",
            " 3   flag                         25192 non-null  int64  \n",
            " 4   src_bytes                    25192 non-null  int64  \n",
            " 5   dst_bytes                    25192 non-null  int64  \n",
            " 6   land                         25192 non-null  int64  \n",
            " 7   wrong_fragment               25192 non-null  int64  \n",
            " 8   urgent                       25192 non-null  int64  \n",
            " 9   hot                          25192 non-null  int64  \n",
            " 10  num_failed_logins            25192 non-null  int64  \n",
            " 11  logged_in                    25192 non-null  int64  \n",
            " 12  num_compromised              25192 non-null  int64  \n",
            " 13  root_shell                   25192 non-null  int64  \n",
            " 14  su_attempted                 25192 non-null  int64  \n",
            " 15  num_root                     25192 non-null  int64  \n",
            " 16  num_file_creations           25192 non-null  int64  \n",
            " 17  num_shells                   25192 non-null  int64  \n",
            " 18  num_access_files             25192 non-null  int64  \n",
            " 19  num_outbound_cmds            25192 non-null  int64  \n",
            " 20  is_host_login                25192 non-null  int64  \n",
            " 21  is_guest_login               25192 non-null  int64  \n",
            " 22  count                        25192 non-null  int64  \n",
            " 23  srv_count                    25192 non-null  int64  \n",
            " 24  serror_rate                  25192 non-null  float64\n",
            " 25  srv_serror_rate              25192 non-null  float64\n",
            " 26  rerror_rate                  25192 non-null  float64\n",
            " 27  srv_rerror_rate              25192 non-null  float64\n",
            " 28  same_srv_rate                25192 non-null  float64\n",
            " 29  diff_srv_rate                25192 non-null  float64\n",
            " 30  srv_diff_host_rate           25192 non-null  float64\n",
            " 31  dst_host_count               25192 non-null  int64  \n",
            " 32  dst_host_srv_count           25192 non-null  int64  \n",
            " 33  dst_host_same_srv_rate       25192 non-null  float64\n",
            " 34  dst_host_diff_srv_rate       25192 non-null  float64\n",
            " 35  dst_host_same_src_port_rate  25192 non-null  float64\n",
            " 36  dst_host_srv_diff_host_rate  25192 non-null  float64\n",
            " 37  dst_host_serror_rate         25192 non-null  float64\n",
            " 38  dst_host_srv_serror_rate     25192 non-null  float64\n",
            " 39  dst_host_rerror_rate         25192 non-null  float64\n",
            " 40  dst_host_srv_rerror_rate     25192 non-null  float64\n",
            " 41  class                        25192 non-null  int64  \n",
            "dtypes: float64(15), int64(27)\n",
            "memory usage: 8.1 MB\n",
            "\n",
            "ready to PCA!\n"
          ]
        }
      ]
    },
    {
      "cell_type": "code",
      "source": [
        "# View scatterplot\n",
        "def scatterPlot(xDF, yDF, algoName):\n",
        "    tempDF = pd.DataFrame(data=xDF.loc[:,0:1], index=xDF.index)\n",
        "    tempDF = pd.concat((tempDF,yDF), axis=1, join=\"inner\")\n",
        "    tempDF.columns = [\"First Vector\", \"Second Vector\", \"Label\"]\n",
        "    sns.lmplot(x=\"First Vector\", y=\"Second Vector\", hue=\"Label\", \\\n",
        "               data=tempDF, fit_reg=False)\n",
        "    ax = plt.gca()\n",
        "    ax.set_title(\"Separation of Observations using \"+algoName)"
      ],
      "metadata": {
        "id": "uruCuI17J9X7"
      },
      "execution_count": 38,
      "outputs": []
    },
    {
      "cell_type": "code",
      "source": [
        "# Plot results\n",
        "def plotResults(trueLabels, anomalyScores, returnPreds = False):\n",
        "    preds = pd.concat([trueLabels, anomalyScores], axis=1)\n",
        "    preds.columns = ['trueLabel', 'anomalyScore']\n",
        "    precision, recall, thresholds = \\\n",
        "        precision_recall_curve(preds['trueLabel'],preds['anomalyScore'])\n",
        "    average_precision = \\\n",
        "        average_precision_score(preds['trueLabel'],preds['anomalyScore'])\n",
        "    \n",
        "    plt.step(recall, precision, color='k', alpha=0.7, where='post')\n",
        "    plt.fill_between(recall, precision, step='post', alpha=0.3, color='k')\n",
        "\n",
        "    plt.xlabel('Recall')\n",
        "    plt.ylabel('Precision')\n",
        "    plt.ylim([0.0, 1.05])\n",
        "    plt.xlim([0.0, 1.0])\n",
        "    \n",
        "    plt.title('Precision-Recall curve: Average Precision = \\\n",
        "    {0:0.2f}'.format(average_precision))\n",
        "\n",
        "    fpr, tpr, thresholds = roc_curve(preds['trueLabel'], \\\n",
        "                                     preds['anomalyScore'])\n",
        "    areaUnderROC = auc(fpr, tpr)\n",
        "\n",
        "    plt.figure()\n",
        "    plt.plot(fpr, tpr, color='r', lw=2, label='ROC curve')\n",
        "    plt.plot([0, 1], [0, 1], color='k', lw=2, linestyle='--')\n",
        "    plt.xlim([0.0, 1.0])\n",
        "    plt.ylim([0.0, 1.05])\n",
        "    plt.xlabel('False Positive Rate')\n",
        "    plt.ylabel('True Positive Rate')\n",
        "    plt.title('Receiver operating characteristic: \\\n",
        "    Area under the curve = {0:0.2f}'.format(areaUnderROC))\n",
        "    plt.legend(loc=\"lower right\")\n",
        "    plt.show()\n",
        "    \n",
        "    if returnPreds==True:\n",
        "        return preds"
      ],
      "metadata": {
        "id": "ECKkSDvzKaZK"
      },
      "execution_count": 39,
      "outputs": []
    },
    {
      "cell_type": "code",
      "source": [
        "# Calculate reconstruction error\n",
        "def anomalyScores(originalDF, reducedDF):\n",
        "    loss = np.sum((np.array(originalDF)-np.array(reducedDF))**2, axis=1)\n",
        "    loss = pd.Series(data=loss,index=originalDF.index)\n",
        "    loss = (loss-np.min(loss))/(np.max(loss)-np.min(loss))\n",
        "    return loss"
      ],
      "metadata": {
        "id": "c-5Z8p2VKjuG"
      },
      "execution_count": 40,
      "outputs": []
    },
    {
      "cell_type": "markdown",
      "source": [
        "data separation "
      ],
      "metadata": {
        "id": "vT5jhCAhFa9K"
      }
    },
    {
      "cell_type": "code",
      "source": [
        "from sklearn.preprocessing import StandardScaler\n",
        "from sklearn.model_selection import train_test_split \n",
        "from sklearn import preprocessing as pp\n",
        "from sklearn.metrics import precision_recall_curve, average_precision_score\n",
        "from sklearn.metrics import roc_curve, auc, roc_auc_score\n",
        "from sklearn.decomposition import PCA"
      ],
      "metadata": {
        "id": "XzF6jbmnBGaV"
      },
      "execution_count": 41,
      "outputs": []
    },
    {
      "cell_type": "code",
      "source": [
        "# Separating out the features\n",
        "datax = df.drop(['class'],axis=1)\n",
        "# Separating out the target\n",
        "datay = df.loc[:,'class'].copy()\n",
        "# Standardizing the features\n",
        "#datax = StandardScaler().fit_transform(datax)"
      ],
      "metadata": {
        "id": "7TJo4TUvF5XL"
      },
      "execution_count": 42,
      "outputs": []
    },
    {
      "cell_type": "code",
      "source": [
        "# TRAIN - TEST SPLIT\n",
        "x_train,x_test,y_train, y_test = train_test_split(datax, datay, test_size=0.30,random_state=111)"
      ],
      "metadata": {
        "id": "k91FswcaHq1b"
      },
      "execution_count": 43,
      "outputs": []
    },
    {
      "cell_type": "code",
      "source": [
        "# SCALER\n",
        "featuresToScale = x_train.columns\n",
        "sX = pp.StandardScaler(copy=True)\n",
        "x_train.loc[:,featuresToScale] = sX.fit_transform(x_train.loc[:,featuresToScale])\n",
        "x_test.loc[:,featuresToScale] = sX.transform(x_test.loc[:,featuresToScale])"
      ],
      "metadata": {
        "id": "KKKeRxbrIKbF"
      },
      "execution_count": 44,
      "outputs": []
    },
    {
      "cell_type": "code",
      "source": [
        "# PCA\n",
        "random_state = 123\n",
        "\n",
        "pca = PCA(35, whiten=False,random_state=random_state)\n",
        "\n",
        "x_train_PCA = pca.fit_transform(x_train)\n",
        "x_train_PCA = pd.DataFrame(data=x_train_PCA, index=x_train.index)\n",
        "\n",
        "x_train_PCA_inverse = pca.inverse_transform(x_train_PCA)\n",
        "x_train_PCA_inverse = pd.DataFrame(data=x_train_PCA_inverse,index=x_train.index)"
      ],
      "metadata": {
        "id": "Kj6nOCBKHQTI"
      },
      "execution_count": 45,
      "outputs": []
    },
    {
      "cell_type": "code",
      "source": [
        "scatterPlot(x_train_PCA, y_train, \"PCA\")"
      ],
      "metadata": {
        "colab": {
          "base_uri": "https://localhost:8080/",
          "height": 385
        },
        "id": "9yk1o7WrJjzR",
        "outputId": "5b879e8a-74c3-4e93-a717-bc6c7822779c"
      },
      "execution_count": 46,
      "outputs": [
        {
          "output_type": "display_data",
          "data": {
            "text/plain": [
              "<Figure size 402.375x360 with 1 Axes>"
            ],
            "image/png": "[encoded data removed]"
          },
          "metadata": {
            "needs_background": "light"
          }
        }
      ]
    },
    {
      "cell_type": "code",
      "source": [
        "# View plot\n",
        "anomalyScoresPCA = anomalyScores(x_train, x_train_PCA_inverse)\n",
        "preds = plotResults(y_train, anomalyScoresPCA, True)"
      ],
      "metadata": {
        "colab": {
          "base_uri": "https://localhost:8080/",
          "height": 573
        },
        "id": "2UZeWr6tJyU0",
        "outputId": "0a13b393-2dc3-46fd-8305-0422b174b6d0"
      },
      "execution_count": 47,
      "outputs": [
        {
          "output_type": "display_data",
          "data": {
            "text/plain": [
              "<Figure size 432x288 with 1 Axes>"
            ],
            "image/png": "[encoded data removed]"
          },
          "metadata": {
            "needs_background": "light"
          }
        },
        {
          "output_type": "display_data",
          "data": {
            "text/plain": [
              "<Figure size 432x288 with 1 Axes>"
            ],
            "image/png": "[encoded data removed]"
          },
          "metadata": {
            "needs_background": "light"
          }
        }
      ]
    },
    {
      "cell_type": "code",
      "source": [
        "x_train.shape, x_train_PCA.shape"
      ],
      "metadata": {
        "colab": {
          "base_uri": "https://localhost:8080/"
        },
        "id": "8Ju0ZifZKfr6",
        "outputId": "86800a91-d6f7-41cd-aa59-fb4c38cf47a4"
      },
      "execution_count": 48,
      "outputs": [
        {
          "output_type": "execute_result",
          "data": {
            "text/plain": [
              "((17634, 41), (17634, 35))"
            ]
          },
          "metadata": {},
          "execution_count": 48
        }
      ]
    },
    {
      "cell_type": "code",
      "source": [
        "y_train.shape"
      ],
      "metadata": {
        "colab": {
          "base_uri": "https://localhost:8080/"
        },
        "id": "6qUrwYmhLlNT",
        "outputId": "199c25fb-1ed8-4223-8a7e-0e0dffbbf6aa"
      },
      "execution_count": 49,
      "outputs": [
        {
          "output_type": "execute_result",
          "data": {
            "text/plain": [
              "(17634,)"
            ]
          },
          "metadata": {},
          "execution_count": 49
        }
      ]
    },
    {
      "cell_type": "code",
      "source": [
        "x_test.shape"
      ],
      "metadata": {
        "colab": {
          "base_uri": "https://localhost:8080/"
        },
        "id": "DtH19AuyLoIA",
        "outputId": "fb3bf9aa-8d27-4b56-9997-0a9291b01d27"
      },
      "execution_count": 50,
      "outputs": [
        {
          "output_type": "execute_result",
          "data": {
            "text/plain": [
              "(7558, 41)"
            ]
          },
          "metadata": {},
          "execution_count": 50
        }
      ]
    },
    {
      "cell_type": "code",
      "source": [
        "y_test.shape"
      ],
      "metadata": {
        "colab": {
          "base_uri": "https://localhost:8080/"
        },
        "id": "sf3mfXe9L7p-",
        "outputId": "62caef32-4635-4752-cbc8-29e3e0192c50"
      },
      "execution_count": 51,
      "outputs": [
        {
          "output_type": "execute_result",
          "data": {
            "text/plain": [
              "(7558,)"
            ]
          },
          "metadata": {},
          "execution_count": 51
        }
      ]
    },
    {
      "cell_type": "code",
      "source": [
        "# Percentage of Variance Captured by X principal components\n",
        "importanceOfPrincipalComponents = pd.DataFrame(data=pca.explained_variance_ratio_)\n",
        "importanceOfPrincipalComponents = importanceOfPrincipalComponents.T\n",
        "\n",
        "print('Variance Captured by First 5 Principal Components: ',\n",
        "      importanceOfPrincipalComponents.loc[:,0:4].sum(axis=1).values)\n",
        "print('Variance Captured by First 10 Principal Components: ',\n",
        "      importanceOfPrincipalComponents.loc[:,0:9].sum(axis=1).values)\n",
        "print('Variance Captured by First 15 Principal Components: ',\n",
        "      importanceOfPrincipalComponents.loc[:,0:14].sum(axis=1).values)\n",
        "print('Variance Captured by First 20 Principal Components: ',\n",
        "      importanceOfPrincipalComponents.loc[:,0:19].sum(axis=1).values)\n",
        "print('Variance Captured by First 25 Principal Components: ',\n",
        "      importanceOfPrincipalComponents.loc[:,0:24].sum(axis=1).values)\n",
        "print('Variance Captured by First 30 Principal Components: ',\n",
        "      importanceOfPrincipalComponents.loc[:,0:29].sum(axis=1).values)\n",
        "print('Variance Captured by First 35 Principal Components: ',\n",
        "      importanceOfPrincipalComponents.loc[:,0:34].sum(axis=1).values)\n",
        "print('Variance Captured by First 40 Principal Components: ',\n",
        "      importanceOfPrincipalComponents.loc[:,0:39].sum(axis=1).values)"
      ],
      "metadata": {
        "colab": {
          "base_uri": "https://localhost:8080/"
        },
        "id": "cDOiVCUtMEDN",
        "outputId": "0d6d0c2a-acac-42a7-b260-6ec728b3aa4f"
      },
      "execution_count": 52,
      "outputs": [
        {
          "output_type": "stream",
          "name": "stdout",
          "text": [
            "Variance Captured by First 5 Principal Components:  [0.52555469]\n",
            "Variance Captured by First 10 Principal Components:  [0.69433996]\n",
            "Variance Captured by First 15 Principal Components:  [0.82230334]\n",
            "Variance Captured by First 20 Principal Components:  [0.91518158]\n",
            "Variance Captured by First 25 Principal Components:  [0.96822606]\n",
            "Variance Captured by First 30 Principal Components:  [0.99278642]\n",
            "Variance Captured by First 35 Principal Components:  [0.99915138]\n",
            "Variance Captured by First 40 Principal Components:  [0.99915138]\n"
          ]
        }
      ]
    },
    {
      "cell_type": "markdown",
      "source": [
        "# REGRESION LOGISTICA SIN PCA"
      ],
      "metadata": {
        "id": "OVx0F3PNQclZ"
      }
    },
    {
      "cell_type": "code",
      "source": [
        "from sklearn.linear_model import LogisticRegression"
      ],
      "metadata": {
        "id": "-t8G5CEfNRHJ"
      },
      "execution_count": 53,
      "outputs": []
    },
    {
      "cell_type": "code",
      "source": [
        "# all parameters not specified are set to their defaults\n",
        "# default solver is incredibly slow which is why it was changed to 'lbfgs'\n",
        "logisticRegr = LogisticRegression(solver = 'lbfgs')"
      ],
      "metadata": {
        "id": "WNrIdIeTPu71"
      },
      "execution_count": 54,
      "outputs": []
    },
    {
      "cell_type": "code",
      "source": [
        "# SIN PCA \n",
        "\n",
        "logisticRegr.fit(x_train, y_train)"
      ],
      "metadata": {
        "colab": {
          "base_uri": "https://localhost:8080/"
        },
        "id": "7gjxa15LP2OC",
        "outputId": "3fa2711e-c146-40e6-f73d-d6c7292e6f04"
      },
      "execution_count": 55,
      "outputs": [
        {
          "output_type": "stream",
          "name": "stderr",
          "text": [
            "/usr/local/lib/python3.7/dist-packages/sklearn/linear_model/_logistic.py:818: ConvergenceWarning: lbfgs failed to converge (status=1):\n",
            "STOP: TOTAL NO. of ITERATIONS REACHED LIMIT.\n",
            "\n",
            "Increase the number of iterations (max_iter) or scale the data as shown in:\n",
            "    https://scikit-learn.org/stable/modules/preprocessing.html\n",
            "Please also refer to the documentation for alternative solver options:\n",
            "    https://scikit-learn.org/stable/modules/linear_model.html#logistic-regression\n",
            "  extra_warning_msg=_LOGISTIC_SOLVER_CONVERGENCE_MSG,\n"
          ]
        },
        {
          "output_type": "execute_result",
          "data": {
            "text/plain": [
              "LogisticRegression()"
            ]
          },
          "metadata": {},
          "execution_count": 55
        }
      ]
    },
    {
      "cell_type": "code",
      "source": [
        "# Predict\n",
        "y_pred = logisticRegr.predict(x_test)"
      ],
      "metadata": {
        "id": "9N3mfNQkQA6n"
      },
      "execution_count": 56,
      "outputs": []
    },
    {
      "cell_type": "code",
      "source": [
        "from sklearn import metrics\n",
        "# scores\n",
        "print('N of components: ', x_train.shape[1])\n",
        "print('Accuracy: ', metrics.accuracy_score(y_test, y_pred))\n",
        "print('Matriz de confusion: \\n',metrics.confusion_matrix(y_test, y_pred))\n",
        "print(metrics.classification_report(y_test, y_pred, target_names=['normal', 'anomaly']))"
      ],
      "metadata": {
        "colab": {
          "base_uri": "https://localhost:8080/"
        },
        "id": "C248spVfRo38",
        "outputId": "dda8e8cc-e2b1-4e7d-c829-92a819d52030"
      },
      "execution_count": 57,
      "outputs": [
        {
          "output_type": "stream",
          "name": "stdout",
          "text": [
            "N of components:  41\n",
            "Accuracy:  0.950648319661286\n",
            "Matriz de confusion: \n",
            " [[3844  178]\n",
            " [ 195 3341]]\n",
            "              precision    recall  f1-score   support\n",
            "\n",
            "      normal       0.95      0.96      0.95      4022\n",
            "     anomaly       0.95      0.94      0.95      3536\n",
            "\n",
            "    accuracy                           0.95      7558\n",
            "   macro avg       0.95      0.95      0.95      7558\n",
            "weighted avg       0.95      0.95      0.95      7558\n",
            "\n"
          ]
        }
      ]
    },
    {
      "cell_type": "markdown",
      "source": [
        "# REGRESION LOGISTICA CON PCA"
      ],
      "metadata": {
        "id": "XwiiDdjgSeZz"
      }
    },
    {
      "cell_type": "code",
      "source": [
        "# CON PCA\n",
        "logisticRegr.fit(x_train_PCA, y_train)"
      ],
      "metadata": {
        "colab": {
          "base_uri": "https://localhost:8080/"
        },
        "id": "v7OF1uP3RLpo",
        "outputId": "9510f48e-adbc-4cb9-fb27-15acc0f73565"
      },
      "execution_count": 58,
      "outputs": [
        {
          "output_type": "stream",
          "name": "stderr",
          "text": [
            "/usr/local/lib/python3.7/dist-packages/sklearn/linear_model/_logistic.py:818: ConvergenceWarning: lbfgs failed to converge (status=1):\n",
            "STOP: TOTAL NO. of ITERATIONS REACHED LIMIT.\n",
            "\n",
            "Increase the number of iterations (max_iter) or scale the data as shown in:\n",
            "    https://scikit-learn.org/stable/modules/preprocessing.html\n",
            "Please also refer to the documentation for alternative solver options:\n",
            "    https://scikit-learn.org/stable/modules/linear_model.html#logistic-regression\n",
            "  extra_warning_msg=_LOGISTIC_SOLVER_CONVERGENCE_MSG,\n"
          ]
        },
        {
          "output_type": "execute_result",
          "data": {
            "text/plain": [
              "LogisticRegression()"
            ]
          },
          "metadata": {},
          "execution_count": 58
        }
      ]
    },
    {
      "cell_type": "code",
      "source": [
        "x_test_PCA = pca.fit_transform(x_test)"
      ],
      "metadata": {
        "id": "nDh7m7c-UBjt"
      },
      "execution_count": 59,
      "outputs": []
    },
    {
      "cell_type": "code",
      "source": [
        "# Predict for One Observation (image)\n",
        "y_pred = logisticRegr.predict(x_test_PCA)"
      ],
      "metadata": {
        "id": "oCsMm5gUSuje"
      },
      "execution_count": 60,
      "outputs": []
    },
    {
      "cell_type": "code",
      "source": [
        "# scores\n",
        "print('N of components: ', x_train_PCA.shape[1])\n",
        "print('Accuracy: ', metrics.accuracy_score(y_test, y_pred))\n",
        "print('Matriz de confusion: \\n',metrics.confusion_matrix(y_test, y_pred))\n",
        "print(metrics.classification_report(y_test, y_pred, target_names=['normal', 'anomaly']))"
      ],
      "metadata": {
        "colab": {
          "base_uri": "https://localhost:8080/"
        },
        "id": "rnknmpDpS0GE",
        "outputId": "d6ff05fc-30fe-4092-8628-7feb63fced39"
      },
      "execution_count": 61,
      "outputs": [
        {
          "output_type": "stream",
          "name": "stdout",
          "text": [
            "N of components:  35\n",
            "Accuracy:  0.44112198994442975\n",
            "Matriz de confusion: \n",
            " [[1025 2997]\n",
            " [1227 2309]]\n",
            "              precision    recall  f1-score   support\n",
            "\n",
            "      normal       0.46      0.25      0.33      4022\n",
            "     anomaly       0.44      0.65      0.52      3536\n",
            "\n",
            "    accuracy                           0.44      7558\n",
            "   macro avg       0.45      0.45      0.42      7558\n",
            "weighted avg       0.45      0.44      0.42      7558\n",
            "\n"
          ]
        }
      ]
    },
    {
      "cell_type": "markdown",
      "source": [
        "Conlusion: \n",
        "\n",
        "Como se puede observar el modelo con menor numero de feautures (el PCA) tiene una precision muy baja comparada con el modelo sin ninguna reduccion de dimensionalidad. El modelo con PCA tiene una precision de 44% y el modelo sin PCA tiene 95%. \n",
        "* Los valores de precision del modelo con PCA estan por 45% mientras que el modelo sin PCA tiene valores de precision de 95%. \n",
        "* Los valores de recall del modelo con PCA para clasificar trafico normal es de 25% y para anomalias el 65%, por lo que es un poco mejor. El modelo sin PCA tiene 95% en promedio para ambos casos.\n",
        "* El modelo con PCA tiene un valor de f1 para trafico normal de 33% y un 52% de deteccion de anomalias, por lo que aproximadamente clasifica 1/2 anomalias de forma correcta. Mientras que el modelo sin PCA tiene 95% de f1-score. \n",
        "\n",
        "En conclusion, para este modelo de regresion logistica, el PCA no ayudó si no perjudicó al modelo y no se recomienda. "
      ],
      "metadata": {
        "id": "7ZE-wHU6VhO1"
      }
    },
    {
      "cell_type": "code",
      "source": [
        ""
      ],
      "metadata": {
        "id": "Z0dZuddcTLON"
      },
      "execution_count": 61,
      "outputs": []
    },
    {
      "cell_type": "code",
      "source": [
        ""
      ],
      "metadata": {
        "id": "s1F5hZh0UmbE"
      },
      "execution_count": 61,
      "outputs": []
    }
  ]
}